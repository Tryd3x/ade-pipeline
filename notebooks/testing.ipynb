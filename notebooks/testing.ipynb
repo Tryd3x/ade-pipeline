{
 "cells": [
  {
   "cell_type": "code",
   "execution_count": null,
   "id": "b3568dea",
   "metadata": {},
   "outputs": [],
   "source": [
    "# import subprocess\n",
    "\n",
    "# # Say this runs for 5 seconds long, it moves on to the next line in this cell regardless (does not block execution)\n",
    "# process = subprocess.Popen(\"sleep 3; ls -la\", stdout=subprocess.PIPE, text=True, shell=True) \n",
    "\n",
    "# print(\"is this blocked?\")\n",
    "# # This is actively reading from process.stdout as process is still executing in the background, kind of like async operation\n",
    "# for line in process.stdout:\n",
    "#     print(\"I have control between each output :D\")\n",
    "#     print(line.strip())\n",
    "\n",
    "# print(\"Am I here?\")"
   ]
  },
  {
   "cell_type": "code",
   "execution_count": null,
   "id": "33d8c259",
   "metadata": {},
   "outputs": [
    {
     "name": "stdout",
     "output_type": "stream",
     "text": [
      "\n",
      "\u001b[33m\u001b[33mno tests ran\u001b[0m\u001b[33m in 0.00s\u001b[0m\u001b[0m\n"
     ]
    },
    {
     "data": {
      "text/plain": [
       "<ExitCode.NO_TESTS_COLLECTED: 5>"
      ]
     },
     "execution_count": 16,
     "metadata": {},
     "output_type": "execute_result"
    }
   ],
   "source": [
    "import pytest\n",
    "\n",
    "# Define the function and the test\n",
    "def add(*args):\n",
    "    return sum(args)\n",
    "\n",
    "@pytest.fixture(autouse=True)\n",
    "def setup():\n",
    "    print(\"Initial Setup of Test..\")\n",
    "\n",
    "def test_add():\n",
    "    assert add(1, 2) == 3"
   ]
  },
  {
   "cell_type": "code",
   "execution_count": 306,
   "id": "7b8bc5f6",
   "metadata": {},
   "outputs": [],
   "source": [
    "from faker import Faker\n",
    "import random\n",
    "from datetime import date"
   ]
  },
  {
   "cell_type": "code",
   "execution_count": 307,
   "id": "60cb8dd0",
   "metadata": {},
   "outputs": [],
   "source": [
    "f = Faker()"
   ]
  },
  {
   "cell_type": "code",
   "execution_count": null,
   "id": "63e5c874",
   "metadata": {},
   "outputs": [
    {
     "data": {
      "text/plain": [
       "{'partition_id': '2012',\n",
       " 'count': 36,\n",
       " 'size_mb': 2802.77,\n",
       " 'files': ['https://download.open.fda.gov/drug/event/2012q4/drug-event-0001-of-0010.json.zip',\n",
       "  'https://download.open.fda.gov/drug/event/2012q4/drug-event-0002-of-0010.json.zip',\n",
       "  'https://download.open.fda.gov/drug/event/2012q4/drug-event-0003-of-0010.json.zip',\n",
       "  'https://download.open.fda.gov/drug/event/2012q4/drug-event-0004-of-0010.json.zip',\n",
       "  'https://download.open.fda.gov/drug/event/2012q4/drug-event-0005-of-0010.json.zip',\n",
       "  'https://download.open.fda.gov/drug/event/2012q4/drug-event-0006-of-0010.json.zip',\n",
       "  'https://download.open.fda.gov/drug/event/2012q4/drug-event-0007-of-0010.json.zip',\n",
       "  'https://download.open.fda.gov/drug/event/2012q4/drug-event-0008-of-0010.json.zip',\n",
       "  'https://download.open.fda.gov/drug/event/2012q4/drug-event-0009-of-0010.json.zip',\n",
       "  'https://download.open.fda.gov/drug/event/2012q4/drug-event-0010-of-0010.json.zip']}"
      ]
     },
     "execution_count": 517,
     "metadata": {},
     "output_type": "execute_result"
    }
   ],
   "source": [
    "def generate_openfda_urls(year) -> list:\n",
    "    quarter = random.randint(1,4)\n",
    "    total_files = random.randint(1,20)\n",
    "    files = [f'https://download.open.fda.gov/drug/event/{year}q{quarter}/drug-event-{i:04d}-of-{total_files:04d}.json.zip'\n",
    "             for i in range(1,total_files+1)]\n",
    "    return files\n",
    "\n",
    "def generate_openfda_partition():\n",
    "    start_year = 2004\n",
    "    end_year = 2024\n",
    "    \n",
    "    partition_id = random.randint(start_year,end_year)\n",
    "    count = random.randint(1,200)\n",
    "    size_mb = round(random.uniform(50.0,3000.0),2)\n",
    "    files = generate_openfda_urls(partition_id)\n",
    "\n",
    "    return {\n",
    "        'partition_id' : str(partition_id),\n",
    "        'count' : count,\n",
    "        'size_mb' : size_mb,\n",
    "        'files' : files\n",
    "    }"
   ]
  },
  {
   "cell_type": "code",
   "execution_count": 2,
   "id": "387ec193",
   "metadata": {},
   "outputs": [],
   "source": [
    "import pytest\n",
    "\n",
    "@pytest.fixture\n",
    "def setup():\n",
    "    print(\"Setup phase\")\n",
    "    yield 1\n",
    "    print(\"Cleanup phase\")\n",
    "\n",
    "def test_something(setup):\n",
    "    assert setup == 1"
   ]
  }
 ],
 "metadata": {
  "kernelspec": {
   "display_name": "py3.10-env",
   "language": "python",
   "name": "python3"
  },
  "language_info": {
   "codemirror_mode": {
    "name": "ipython",
    "version": 3
   },
   "file_extension": ".py",
   "mimetype": "text/x-python",
   "name": "python",
   "nbconvert_exporter": "python",
   "pygments_lexer": "ipython3",
   "version": "3.10.16"
  }
 },
 "nbformat": 4,
 "nbformat_minor": 5
}
