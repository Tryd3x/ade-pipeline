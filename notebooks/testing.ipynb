{
 "cells": [
  {
   "cell_type": "code",
   "execution_count": 1,
   "id": "b3568dea",
   "metadata": {},
   "outputs": [],
   "source": [
    "# import subprocess\n",
    "\n",
    "# # Say this runs for 5 seconds long, it moves on to the next line in this cell regardless (does not block execution)\n",
    "# process = subprocess.Popen(\"sleep 3; ls -la\", stdout=subprocess.PIPE, text=True, shell=True) \n",
    "\n",
    "# print(\"is this blocked?\")\n",
    "# # This is actively reading from process.stdout as process is still executing in the background, kind of like async operation\n",
    "# for line in process.stdout:\n",
    "#     print(\"I have control between each output :D\")\n",
    "#     print(line.strip())\n",
    "\n",
    "# print(\"Am I here?\")"
   ]
  },
  {
   "cell_type": "code",
   "execution_count": 2,
   "id": "33d8c259",
   "metadata": {},
   "outputs": [],
   "source": [
    "import pytest\n",
    "\n",
    "# Define the function and the test\n",
    "def add(*args):\n",
    "    return sum(args)\n",
    "\n",
    "@pytest.fixture(autouse=True)\n",
    "def setup():\n",
    "    print(\"Initial Setup of Test..\")\n",
    "\n",
    "def test_add():\n",
    "    assert add(1, 2) == 3"
   ]
  },
  {
   "cell_type": "code",
   "execution_count": 3,
   "id": "63e5c874",
   "metadata": {},
   "outputs": [],
   "source": [
    "# import random\n",
    "\n",
    "# def generate_openfda_urls(year, total_files) -> list:\n",
    "#     \"\"\"Generate file urls for a partition\"\"\"\n",
    "#     quarter = random.randint(1,4)\n",
    "#     files = [f'https://download.open.fda.gov/drug/event/{year}q{quarter}/drug-event-{i:04d}-of-{total_files:04d}.json.zip'\n",
    "#              for i in range(1,total_files+1)]\n",
    "#     return files\n",
    "\n",
    "# def generate_openfda_partition(start_year, end_year):\n",
    "#     \"\"\" Sample data generator for drug event json for batch handling\"\"\"\n",
    "#     partition_id = random.randint(start_year,end_year)\n",
    "#     count = random.randint(2,100)\n",
    "#     size_mb = round(random.uniform(50.0,3000.0),2)\n",
    "#     files = generate_openfda_urls(partition_id, count)\n",
    "\n",
    "#     return {\n",
    "#         'partition_id' : str(partition_id),\n",
    "#         'count' : count,\n",
    "#         'size_mb' : size_mb,\n",
    "#         'files' : files\n",
    "#     }\n",
    "\n",
    "# def create_drug_events_json(start_year=2007, end_year=2024, num_partitions= 20):\n",
    "#     return {\n",
    "#         'total_records' : random.randint(500000,1500000),\n",
    "#         'partitions' : [generate_openfda_partition(start_year,end_year) for _ in range(random.randint(2,num_partitions))]\n",
    "#     }"
   ]
  },
  {
   "cell_type": "code",
   "execution_count": 4,
   "id": "387ec193",
   "metadata": {},
   "outputs": [],
   "source": [
    "# import pytest\n",
    "\n",
    "# @pytest.fixture\n",
    "# def setup():\n",
    "#     print(\"Setup phase\")\n",
    "#     yield 1\n",
    "#     print(\"Cleanup phase\")\n",
    "\n",
    "# def test_something(setup):\n",
    "#     assert setup == 1"
   ]
  },
  {
   "cell_type": "code",
   "execution_count": 5,
   "id": "70b693dc",
   "metadata": {},
   "outputs": [],
   "source": [
    "# t = create_drug_events_json()\n",
    "# len(t['partitions'])"
   ]
  },
  {
   "cell_type": "code",
   "execution_count": 6,
   "id": "ae5308d1",
   "metadata": {},
   "outputs": [],
   "source": [
    "def generate_openfda_urls(year, total_files) -> list:\n",
    "    \"\"\"Generate file urls for a partition\"\"\"\n",
    "    quarter = 1\n",
    "    files = [f'https://download.open.fda.gov/drug/event/{year}q{quarter}/drug-event-{i:04d}-of-{total_files:04d}.json.zip'\n",
    "             for i in range(1,total_files+1)]\n",
    "    return files\n",
    "\n",
    "# Configure so you know expected results\n",
    "def generate_openfda_partition(year, count, size_mb):\n",
    "    \"\"\" Sample data generator for drug event json for batch handling\"\"\"\n",
    "    return {\n",
    "        'partition_id' : str(year),\n",
    "        'count' : count,\n",
    "        'size_mb' : round(size_mb,2),\n",
    "        'files' : generate_openfda_urls(year, count)\n",
    "    }"
   ]
  },
  {
   "cell_type": "code",
   "execution_count": 7,
   "id": "5bf60872",
   "metadata": {},
   "outputs": [],
   "source": [
    "def create_drug_events_json(total_records=65000, partition_config=None):\n",
    "    \"\"\"\n",
    "    Generate a mock OpenFDA drug events JSON structure for testing.\n",
    "\n",
    "    Args: \n",
    "        total_records (int) : Total number of records to report in the JSON\n",
    "        partitions_config (list of dict): List of partition configuration dicts.\n",
    "            Each dict should contain:\n",
    "                - partition_id (str): Year of the partition, e.g., '2012'.\n",
    "                - count (int): Number of files in this partition.\n",
    "                - size_mb (float): Total size of all files in this partition.\n",
    "\n",
    "    Returns:\n",
    "        dict: A JSON-like dictionary with nested structure under 'results.drug.event'.\n",
    "\n",
    "    Example:\n",
    "        >>> create_drug_events_json(\n",
    "        ...     total_records=5,\n",
    "        ...     partitions_config=[\n",
    "        ...         {'partition_id': '2020', 'count': 2, 'size_mb': 100.0},\n",
    "        ...         {'partition_id': '2021', 'count': 3, 'size_mb': 150.0}\n",
    "        ...     ]\n",
    "        ... )\n",
    "    \"\"\"\n",
    "\n",
    "    # Default partition config\n",
    "    if not partition_config:\n",
    "        partition_config = [{\n",
    "            'partition_id' : '2012',\n",
    "            'count' : 2,\n",
    "            'size_mb' : 85.0,\n",
    "        }]\n",
    "\n",
    "    partitions = [\n",
    "        generate_openfda_partition(year=p['partition_id'],count=p['count'],size_mb=p['size_mb']) \n",
    "        for p in partition_config\n",
    "        ]\n",
    "\n",
    "    return {\n",
    "        'total_records' : total_records,\n",
    "        'partitions' : partitions\n",
    "    }\n",
    "    "
   ]
  },
  {
   "cell_type": "code",
   "execution_count": 8,
   "id": "9756601a",
   "metadata": {},
   "outputs": [
    {
     "data": {
      "text/plain": [
       "{'total_records': 15000,\n",
       " 'partitions': [{'partition_id': '2020',\n",
       "   'count': 5,\n",
       "   'size_mb': 100.0,\n",
       "   'files': ['https://download.open.fda.gov/drug/event/2020q1/drug-event-0001-of-0005.json.zip',\n",
       "    'https://download.open.fda.gov/drug/event/2020q1/drug-event-0002-of-0005.json.zip',\n",
       "    'https://download.open.fda.gov/drug/event/2020q1/drug-event-0003-of-0005.json.zip',\n",
       "    'https://download.open.fda.gov/drug/event/2020q1/drug-event-0004-of-0005.json.zip',\n",
       "    'https://download.open.fda.gov/drug/event/2020q1/drug-event-0005-of-0005.json.zip']},\n",
       "  {'partition_id': '2021',\n",
       "   'count': 8,\n",
       "   'size_mb': 150.0,\n",
       "   'files': ['https://download.open.fda.gov/drug/event/2021q1/drug-event-0001-of-0008.json.zip',\n",
       "    'https://download.open.fda.gov/drug/event/2021q1/drug-event-0002-of-0008.json.zip',\n",
       "    'https://download.open.fda.gov/drug/event/2021q1/drug-event-0003-of-0008.json.zip',\n",
       "    'https://download.open.fda.gov/drug/event/2021q1/drug-event-0004-of-0008.json.zip',\n",
       "    'https://download.open.fda.gov/drug/event/2021q1/drug-event-0005-of-0008.json.zip',\n",
       "    'https://download.open.fda.gov/drug/event/2021q1/drug-event-0006-of-0008.json.zip',\n",
       "    'https://download.open.fda.gov/drug/event/2021q1/drug-event-0007-of-0008.json.zip',\n",
       "    'https://download.open.fda.gov/drug/event/2021q1/drug-event-0008-of-0008.json.zip']}]}"
      ]
     },
     "execution_count": 8,
     "metadata": {},
     "output_type": "execute_result"
    }
   ],
   "source": [
    "partition_params = [\n",
    "    {'partition_id': '2020', 'count': 5, 'size_mb': 100.0},\n",
    "    {'partition_id': '2021', 'count': 8, 'size_mb': 150.0}\n",
    "    ]\n",
    "\n",
    "create_drug_events_json(total_records=15000,partition_config=partition_params)"
   ]
  },
  {
   "cell_type": "code",
   "execution_count": 9,
   "id": "a456b6b6",
   "metadata": {},
   "outputs": [],
   "source": [
    "def partition_id_by_year(p):\n",
    "    \"\"\"Extract partition id as YYYY\"\"\"\n",
    "    return p.get('display_name','').strip().split(\" \")[0]\n",
    "\n",
    "def generate_openfda_urls(year, total_files) -> list:\n",
    "    \"\"\"Generate file urls for a partition\"\"\"\n",
    "    quarter = 1\n",
    "    files = [f'https://download.open.fda.gov/drug/event/{year}q{quarter}/drug-event-{i:04d}-of-{total_files:04d}.json.zip'\n",
    "             for i in range(1,total_files+1)]\n",
    "    return files\n",
    "\n",
    "def generate_mock_download_json(total_records=12000,partition_config=None):\n",
    "    if not partition_config:\n",
    "        partition_config = [{'display_name' : '2012 Q1 (part 1 of 5)', 'size_mb' : '5.0'}]\n",
    "    \n",
    "    # {\n",
    "    #     'total_records' : 12000,\n",
    "    #     'partitions' : {'display_name': '2016 Q4 (part 11 of 23)',\n",
    "    #                     'file': 'https://download.open.fda.gov/drug/event/2016q4/drug-event-0011-of-0023.json.zip',\n",
    "    #                     'size_mb': '9.78'\n",
    "    #                     }\n",
    "    # }\n",
    "\n",
    "    partitions = [\n",
    "        {\n",
    "            'display_name' : p['display_name'],\n",
    "            'size_mb' : p['size_mb'],\n",
    "            'file' : generate_openfda_urls(partition_id_by_year(p),total_files=1)[0]\n",
    "        }\n",
    "        for p in partition_config\n",
    "    ]\n",
    "\n",
    "    return {\n",
    "        'results' : {\n",
    "            'drug' : {\n",
    "                'event' : {\n",
    "                    'total_records' : total_records,\n",
    "                    'partitions' : partitions\n",
    "                }\n",
    "            }\n",
    "        }\n",
    "    }"
   ]
  },
  {
   "cell_type": "code",
   "execution_count": 10,
   "id": "e5b82848",
   "metadata": {},
   "outputs": [
    {
     "data": {
      "text/plain": [
       "{'results': {'drug': {'event': {'total_records': 12000,\n",
       "    'partitions': [{'display_name': '2012 Q1 (part 1 of 3)',\n",
       "      'size_mb': '5.0',\n",
       "      'file': 'https://download.open.fda.gov/drug/event/2012q1/drug-event-0001-of-0001.json.zip'},\n",
       "     {'display_name': '2012 Q1 (part 2 of 3)',\n",
       "      'size_mb': '10.0',\n",
       "      'file': 'https://download.open.fda.gov/drug/event/2012q1/drug-event-0001-of-0001.json.zip'},\n",
       "     {'display_name': '2012 Q1 (part 3 of 3)',\n",
       "      'size_mb': '25.0',\n",
       "      'file': 'https://download.open.fda.gov/drug/event/2012q1/drug-event-0001-of-0001.json.zip'}]}}}}"
      ]
     },
     "execution_count": 10,
     "metadata": {},
     "output_type": "execute_result"
    }
   ],
   "source": [
    "params = [\n",
    "    {'display_name' : '2012 Q1 (part 1 of 3)', 'size_mb' : '5.0'},\n",
    "    {'display_name' : '2012 Q1 (part 2 of 3)', 'size_mb' : '10.0'},\n",
    "    {'display_name' : '2012 Q1 (part 3 of 3)', 'size_mb' : '25.0'},\n",
    "    ]\n",
    "\n",
    "generate_mock_download_json(partition_config=params)"
   ]
  }
 ],
 "metadata": {
  "kernelspec": {
   "display_name": "Python 3",
   "language": "python",
   "name": "python3"
  },
  "language_info": {
   "codemirror_mode": {
    "name": "ipython",
    "version": 3
   },
   "file_extension": ".py",
   "mimetype": "text/x-python",
   "name": "python",
   "nbconvert_exporter": "python",
   "pygments_lexer": "ipython3",
   "version": "3.10.16"
  }
 },
 "nbformat": 4,
 "nbformat_minor": 5
}
