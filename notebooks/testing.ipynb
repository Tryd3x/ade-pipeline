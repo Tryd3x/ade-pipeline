{
 "cells": [
  {
   "cell_type": "code",
   "execution_count": null,
   "id": "b3568dea",
   "metadata": {},
   "outputs": [],
   "source": [
    "# import subprocess\n",
    "\n",
    "# # Say this runs for 5 seconds long, it moves on to the next line in this cell regardless (does not block execution)\n",
    "# process = subprocess.Popen(\"sleep 3; ls -la\", stdout=subprocess.PIPE, text=True, shell=True) \n",
    "\n",
    "# print(\"is this blocked?\")\n",
    "# # This is actively reading from process.stdout as process is still executing in the background, kind of like async operation\n",
    "# for line in process.stdout:\n",
    "#     print(\"I have control between each output :D\")\n",
    "#     print(line.strip())\n",
    "\n",
    "# print(\"Am I here?\")"
   ]
  },
  {
   "cell_type": "code",
   "execution_count": null,
   "id": "33d8c259",
   "metadata": {},
   "outputs": [
    {
     "name": "stdout",
     "output_type": "stream",
     "text": [
      "\n",
      "\u001b[33m\u001b[33mno tests ran\u001b[0m\u001b[33m in 0.00s\u001b[0m\u001b[0m\n"
     ]
    },
    {
     "data": {
      "text/plain": [
       "<ExitCode.NO_TESTS_COLLECTED: 5>"
      ]
     },
     "execution_count": 16,
     "metadata": {},
     "output_type": "execute_result"
    }
   ],
   "source": [
    "import pytest\n",
    "\n",
    "# Define the function and the test\n",
    "def add(*args):\n",
    "    return sum(args)\n",
    "\n",
    "@pytest.fixture(autouse=True)\n",
    "def setup():\n",
    "    print(\"Initial Setup of Test..\")\n",
    "\n",
    "def test_add():\n",
    "    assert add(1, 2) == 3"
   ]
  },
  {
   "cell_type": "code",
   "execution_count": 146,
   "id": "63e5c874",
   "metadata": {},
   "outputs": [],
   "source": [
    "import random\n",
    "\n",
    "def generate_openfda_urls(year, total_files) -> list:\n",
    "    \"\"\"Generate file urls for a partition\"\"\"\n",
    "    quarter = random.randint(1,4)\n",
    "    files = [f'https://download.open.fda.gov/drug/event/{year}q{quarter}/drug-event-{i:04d}-of-{total_files:04d}.json.zip'\n",
    "             for i in range(1,total_files+1)]\n",
    "    return files\n",
    "\n",
    "def generate_openfda_partition(start_year, end_year):\n",
    "    \"\"\" Sample data generator for drug event json for batch handling\"\"\"\n",
    "    partition_id = random.randint(start_year,end_year)\n",
    "    count = random.randint(2,100)\n",
    "    size_mb = round(random.uniform(50.0,3000.0),2)\n",
    "    files = generate_openfda_urls(partition_id, count)\n",
    "\n",
    "    return {\n",
    "        'partition_id' : str(partition_id),\n",
    "        'count' : count,\n",
    "        'size_mb' : size_mb,\n",
    "        'files' : files\n",
    "    }\n",
    "\n",
    "def create_drug_events_json(start_year=2007, end_year=2024, num_partitions= 20):\n",
    "    return {\n",
    "        'total_records' : random.randint(500000,1500000),\n",
    "        'partitions' : [generate_openfda_partition(start_year,end_year) for _ in range(random.randint(2,num_partitions))]\n",
    "    }"
   ]
  },
  {
   "cell_type": "code",
   "execution_count": 147,
   "id": "387ec193",
   "metadata": {},
   "outputs": [],
   "source": [
    "# import pytest\n",
    "\n",
    "# @pytest.fixture\n",
    "# def setup():\n",
    "#     print(\"Setup phase\")\n",
    "#     yield 1\n",
    "#     print(\"Cleanup phase\")\n",
    "\n",
    "# def test_something(setup):\n",
    "#     assert setup == 1"
   ]
  },
  {
   "cell_type": "code",
   "execution_count": 148,
   "id": "70b693dc",
   "metadata": {},
   "outputs": [
    {
     "data": {
      "text/plain": [
       "2"
      ]
     },
     "execution_count": 148,
     "metadata": {},
     "output_type": "execute_result"
    }
   ],
   "source": [
    "t = create_drug_events_json()\n",
    "len(t['partitions'])"
   ]
  },
  {
   "cell_type": "code",
   "execution_count": 149,
   "id": "30e352c8",
   "metadata": {},
   "outputs": [
    {
     "data": {
      "text/plain": [
       "{'total_records': 771238,\n",
       " 'partitions': [{'partition_id': '2021',\n",
       "   'count': 14,\n",
       "   'size_mb': 329.92,\n",
       "   'files': ['https://download.open.fda.gov/drug/event/2021q3/drug-event-0001-of-0014.json.zip',\n",
       "    'https://download.open.fda.gov/drug/event/2021q3/drug-event-0002-of-0014.json.zip',\n",
       "    'https://download.open.fda.gov/drug/event/2021q3/drug-event-0003-of-0014.json.zip',\n",
       "    'https://download.open.fda.gov/drug/event/2021q3/drug-event-0004-of-0014.json.zip',\n",
       "    'https://download.open.fda.gov/drug/event/2021q3/drug-event-0005-of-0014.json.zip',\n",
       "    'https://download.open.fda.gov/drug/event/2021q3/drug-event-0006-of-0014.json.zip',\n",
       "    'https://download.open.fda.gov/drug/event/2021q3/drug-event-0007-of-0014.json.zip',\n",
       "    'https://download.open.fda.gov/drug/event/2021q3/drug-event-0008-of-0014.json.zip',\n",
       "    'https://download.open.fda.gov/drug/event/2021q3/drug-event-0009-of-0014.json.zip',\n",
       "    'https://download.open.fda.gov/drug/event/2021q3/drug-event-0010-of-0014.json.zip',\n",
       "    'https://download.open.fda.gov/drug/event/2021q3/drug-event-0011-of-0014.json.zip',\n",
       "    'https://download.open.fda.gov/drug/event/2021q3/drug-event-0012-of-0014.json.zip',\n",
       "    'https://download.open.fda.gov/drug/event/2021q3/drug-event-0013-of-0014.json.zip',\n",
       "    'https://download.open.fda.gov/drug/event/2021q3/drug-event-0014-of-0014.json.zip']},\n",
       "  {'partition_id': '2010',\n",
       "   'count': 42,\n",
       "   'size_mb': 238.16,\n",
       "   'files': ['https://download.open.fda.gov/drug/event/2010q3/drug-event-0001-of-0042.json.zip',\n",
       "    'https://download.open.fda.gov/drug/event/2010q3/drug-event-0002-of-0042.json.zip',\n",
       "    'https://download.open.fda.gov/drug/event/2010q3/drug-event-0003-of-0042.json.zip',\n",
       "    'https://download.open.fda.gov/drug/event/2010q3/drug-event-0004-of-0042.json.zip',\n",
       "    'https://download.open.fda.gov/drug/event/2010q3/drug-event-0005-of-0042.json.zip',\n",
       "    'https://download.open.fda.gov/drug/event/2010q3/drug-event-0006-of-0042.json.zip',\n",
       "    'https://download.open.fda.gov/drug/event/2010q3/drug-event-0007-of-0042.json.zip',\n",
       "    'https://download.open.fda.gov/drug/event/2010q3/drug-event-0008-of-0042.json.zip',\n",
       "    'https://download.open.fda.gov/drug/event/2010q3/drug-event-0009-of-0042.json.zip',\n",
       "    'https://download.open.fda.gov/drug/event/2010q3/drug-event-0010-of-0042.json.zip',\n",
       "    'https://download.open.fda.gov/drug/event/2010q3/drug-event-0011-of-0042.json.zip',\n",
       "    'https://download.open.fda.gov/drug/event/2010q3/drug-event-0012-of-0042.json.zip',\n",
       "    'https://download.open.fda.gov/drug/event/2010q3/drug-event-0013-of-0042.json.zip',\n",
       "    'https://download.open.fda.gov/drug/event/2010q3/drug-event-0014-of-0042.json.zip',\n",
       "    'https://download.open.fda.gov/drug/event/2010q3/drug-event-0015-of-0042.json.zip',\n",
       "    'https://download.open.fda.gov/drug/event/2010q3/drug-event-0016-of-0042.json.zip',\n",
       "    'https://download.open.fda.gov/drug/event/2010q3/drug-event-0017-of-0042.json.zip',\n",
       "    'https://download.open.fda.gov/drug/event/2010q3/drug-event-0018-of-0042.json.zip',\n",
       "    'https://download.open.fda.gov/drug/event/2010q3/drug-event-0019-of-0042.json.zip',\n",
       "    'https://download.open.fda.gov/drug/event/2010q3/drug-event-0020-of-0042.json.zip',\n",
       "    'https://download.open.fda.gov/drug/event/2010q3/drug-event-0021-of-0042.json.zip',\n",
       "    'https://download.open.fda.gov/drug/event/2010q3/drug-event-0022-of-0042.json.zip',\n",
       "    'https://download.open.fda.gov/drug/event/2010q3/drug-event-0023-of-0042.json.zip',\n",
       "    'https://download.open.fda.gov/drug/event/2010q3/drug-event-0024-of-0042.json.zip',\n",
       "    'https://download.open.fda.gov/drug/event/2010q3/drug-event-0025-of-0042.json.zip',\n",
       "    'https://download.open.fda.gov/drug/event/2010q3/drug-event-0026-of-0042.json.zip',\n",
       "    'https://download.open.fda.gov/drug/event/2010q3/drug-event-0027-of-0042.json.zip',\n",
       "    'https://download.open.fda.gov/drug/event/2010q3/drug-event-0028-of-0042.json.zip',\n",
       "    'https://download.open.fda.gov/drug/event/2010q3/drug-event-0029-of-0042.json.zip',\n",
       "    'https://download.open.fda.gov/drug/event/2010q3/drug-event-0030-of-0042.json.zip',\n",
       "    'https://download.open.fda.gov/drug/event/2010q3/drug-event-0031-of-0042.json.zip',\n",
       "    'https://download.open.fda.gov/drug/event/2010q3/drug-event-0032-of-0042.json.zip',\n",
       "    'https://download.open.fda.gov/drug/event/2010q3/drug-event-0033-of-0042.json.zip',\n",
       "    'https://download.open.fda.gov/drug/event/2010q3/drug-event-0034-of-0042.json.zip',\n",
       "    'https://download.open.fda.gov/drug/event/2010q3/drug-event-0035-of-0042.json.zip',\n",
       "    'https://download.open.fda.gov/drug/event/2010q3/drug-event-0036-of-0042.json.zip',\n",
       "    'https://download.open.fda.gov/drug/event/2010q3/drug-event-0037-of-0042.json.zip',\n",
       "    'https://download.open.fda.gov/drug/event/2010q3/drug-event-0038-of-0042.json.zip',\n",
       "    'https://download.open.fda.gov/drug/event/2010q3/drug-event-0039-of-0042.json.zip',\n",
       "    'https://download.open.fda.gov/drug/event/2010q3/drug-event-0040-of-0042.json.zip',\n",
       "    'https://download.open.fda.gov/drug/event/2010q3/drug-event-0041-of-0042.json.zip',\n",
       "    'https://download.open.fda.gov/drug/event/2010q3/drug-event-0042-of-0042.json.zip']}]}"
      ]
     },
     "execution_count": 149,
     "metadata": {},
     "output_type": "execute_result"
    }
   ],
   "source": [
    "t"
   ]
  },
  {
   "cell_type": "code",
   "execution_count": 159,
   "id": "1c4d09cc",
   "metadata": {},
   "outputs": [
    {
     "data": {
      "text/plain": [
       "'2025'"
      ]
     },
     "execution_count": 159,
     "metadata": {},
     "output_type": "execute_result"
    }
   ],
   "source": [
    "\"2025 Q1 part 1 of 5\".strip().split(\" \")[0]"
   ]
  }
 ],
 "metadata": {
  "kernelspec": {
   "display_name": "py3.10-env",
   "language": "python",
   "name": "python3"
  },
  "language_info": {
   "codemirror_mode": {
    "name": "ipython",
    "version": 3
   },
   "file_extension": ".py",
   "mimetype": "text/x-python",
   "name": "python",
   "nbconvert_exporter": "python",
   "pygments_lexer": "ipython3",
   "version": "3.10.16"
  }
 },
 "nbformat": 4,
 "nbformat_minor": 5
}
