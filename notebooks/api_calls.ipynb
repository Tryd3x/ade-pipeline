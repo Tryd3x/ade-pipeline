{
 "cells": [
  {
   "cell_type": "code",
   "execution_count": 336,
   "id": "54869dba",
   "metadata": {},
   "outputs": [
    {
     "data": {
      "text/plain": [
       "True"
      ]
     },
     "execution_count": 336,
     "metadata": {},
     "output_type": "execute_result"
    }
   ],
   "source": [
    "from dotenv import load_dotenv\n",
    "import requests\n",
    "import os\n",
    "import uuid\n",
    "import csv\n",
    "from datetime import datetime\n",
    "import pandas as pd\n",
    "\n",
    "load_dotenv()"
   ]
  },
  {
   "cell_type": "code",
   "execution_count": 85,
   "id": "1c85095b",
   "metadata": {},
   "outputs": [],
   "source": [
    "BASE_URL = \"https://api.fda.gov/drug/event.json\""
   ]
  },
  {
   "cell_type": "code",
   "execution_count": 329,
   "id": "b158d547",
   "metadata": {},
   "outputs": [],
   "source": [
    "# Patient information\n",
    "patient_header = [\n",
    "    \"patientid\",\n",
    "    # Patient demographics\n",
    "    \"patientagegroup\",\n",
    "    \"patientonsetage\",\n",
    "    \"patientonsetageunit\",\n",
    "    \"patientsex\",\n",
    "    \"patientweight\",\n",
    "\n",
    "    # Seriousness and outcomes\n",
    "    \"serious\",\n",
    "    \"seriousnessdeath\",\n",
    "    \"seriousnesshospitalization\",\n",
    "    \"seriousnessdisabling\",\n",
    "    \"seriousnesslifethreatening\",\n",
    "    \"seriousnessother\",\n",
    "\n",
    "    # Dates for timeline analysis\n",
    "    \"receivedate\",\n",
    "    \"receiptdate\",\n",
    "    \n",
    "    # Metadata\n",
    "    \"safetyreportid\"\n",
    "]\n",
    "\n",
    "# Drug information\n",
    "drug_header = [\n",
    "    \"patientid\",\n",
    "    \"medicinalproduct\",\n",
    "    \"activesubstancename\",\n",
    "    \"drugindication\",\n",
    "    \"drugadministrationroute\",\n",
    "    \"drugstartdate\",\n",
    "    \"drugenddate\",\n",
    "    \"drugdosagetext\",\n",
    "    \"drugstructuredosagenumb\",\n",
    "    \"drugstructuredosageunit\",\n",
    "    \"drugtreatmentduration\",\n",
    "    \"drugtreatmentdurationunit\",\n",
    "    \"drugrecurreadministration\",\n",
    "]\n",
    "\n",
    "# Reaction information\n",
    "reaction_header = [\n",
    "    \"patientid\",\n",
    "    \"reactionmeddrapt\",\n",
    "    \"reactionoutcome\",\n",
    "]\n"
   ]
  },
  {
   "cell_type": "markdown",
   "id": "9ab91013",
   "metadata": {},
   "source": [
    "- Need to handle pagination logic and scheduled batch processing here\n",
    "- Also need to decide what part of the script goes into the dag"
   ]
  },
  {
   "cell_type": "code",
   "execution_count": 330,
   "id": "8414c30d",
   "metadata": {},
   "outputs": [
    {
     "data": {
      "text/plain": [
       "20"
      ]
     },
     "execution_count": 330,
     "metadata": {},
     "output_type": "execute_result"
    }
   ],
   "source": [
    "# Fetch data from the FDA API\n",
    "params = {\n",
    "    \"api_key\": os.getenv(\"OPENFDA_API_KEY\"),\n",
    "    \"limit\": 20\n",
    "}\n",
    "\n",
    "response = requests.get(BASE_URL, params=params)\n",
    "data = response.json()[\"results\"]\n",
    "len(data)"
   ]
  },
  {
   "cell_type": "code",
   "execution_count": null,
   "id": "e86ba45e",
   "metadata": {},
   "outputs": [],
   "source": [
    "# Map json to list\n",
    "patient_list = []\n",
    "drugs_list = []\n",
    "reactions_list = []\n",
    "\n",
    "# data = batch data\n",
    "for item in data:\n",
    "    patientid = str(uuid.uuid4())\n",
    "    patient = item.get(\"patient\",{})\n",
    "\n",
    "    patient_list.append((\n",
    "        patientid,\n",
    "        patient.get(\"patientagegroup\"),\n",
    "        patient.get(\"patientonsetage\"),\n",
    "        patient.get(\"patientonsetageunit\"),\n",
    "        patient.get(\"patientsex\"),\n",
    "        patient.get(\"patientweight\"),\n",
    "        patient.get(\"serious\"),\n",
    "        patient.get(\"seriousnessdeath\"),\n",
    "        patient.get(\"seriousnesshospitalization\"),\n",
    "        patient.get(\"seriousnessdisabling\"),\n",
    "        patient.get(\"seriousnesslifethreatening\"),\n",
    "        patient.get(\"seriousnessother\"),\n",
    "        patient.get(\"receivedate\"),\n",
    "        patient.get(\"receiptdate\"),\n",
    "        patient.get(\"safetyreportid\"),\n",
    "    ))\n",
    "\n",
    "    drugs = patient.get('drug',[])\n",
    "    for drug in drugs:\n",
    "        drugs_list.append((\n",
    "            patientid,\n",
    "            drug.get(\"medicinalproduct\"),\n",
    "            drug.get(\"activesubstance\",{}).get(\"activesubstancename\"),\n",
    "            drug.get(\"drugindication\"),    \n",
    "            drug.get(\"drugadministrationroute\"),    \n",
    "            drug.get(\"drugstartdate\"),\n",
    "            drug.get(\"drugenddate\"),\n",
    "            drug.get(\"drugdosagetext\"),\n",
    "            drug.get(\"drugstructuredosagenumb\"),\n",
    "            drug.get(\"drugstructuredosageunit\"),\n",
    "            drug.get(\"drugtreatmentduration\"),\n",
    "            drug.get(\"drugtreatmentdurationunit\"),\n",
    "            drug.get(\"drugrecurreadministration\"),\n",
    "        ))\n",
    "\n",
    "    reactions = patient.get(\"reaction\",[])\n",
    "    for reaction in reactions:\n",
    "        reactions_list.append((\n",
    "            patientid,\n",
    "            reaction.get(\"reactionmeddrapt\"),\n",
    "            reaction.get(\"reactionoutcome\"),\n",
    "        ))"
   ]
  },
  {
   "cell_type": "code",
   "execution_count": 353,
   "id": "f2e695f7",
   "metadata": {},
   "outputs": [],
   "source": [
    "# purge data folder\n",
    "!rm -r ../data/*"
   ]
  },
  {
   "cell_type": "code",
   "execution_count": 349,
   "id": "e4b7060e",
   "metadata": {},
   "outputs": [],
   "source": [
    "def save_batch_as_csv(path, filename, data, header):\n",
    "    if not os.path.exists(path):\n",
    "        os.makedirs(path,exist_ok=True)\n",
    "\n",
    "    with open(os.path.join(path,f\"{filename}.csv\"), \"w\") as f:\n",
    "        writer = csv.writer(f)\n",
    "        writer.writerow(header)\n",
    "        writer.writerows(data)"
   ]
  },
  {
   "cell_type": "code",
   "execution_count": 350,
   "id": "c7e2c8e7",
   "metadata": {},
   "outputs": [],
   "source": [
    "def save_batch_as_parquet(path, filename, data, header):\n",
    "    df = pd.DataFrame(data, columns=header)\n",
    "    if not os.path.exists(path):\n",
    "        os.makedirs(path, exist_ok=True)\n",
    "\n",
    "    df.to_parquet(os.path.join(path,f\"{filename}.parquet\"))"
   ]
  },
  {
   "cell_type": "code",
   "execution_count": null,
   "id": "2203864f",
   "metadata": {},
   "outputs": [],
   "source": [
    "# File name\n",
    "current_time = datetime.now().strftime(\"%m-%d-%Y_%H%M%S\")\n",
    "\n",
    "patient_filename = f\"patient_{current_time}\"\n",
    "drug_filename = f\"drug_{current_time}\"\n",
    "reaction_filename = f\"reaction_{current_time}\"\n",
    "\n",
    "\n",
    "# Save batch as csv or parquet files\n",
    "save_batch_as_csv(\"../data/patients\",patient_filename, patient_list, patient_header)\n",
    "save_batch_as_csv(\"../data/drugs\",drug_filename, drugs_list, drug_header)\n",
    "save_batch_as_csv(\"../data/reactions\",reaction_filename, reactions_list, reaction_header)\n",
    "\n",
    "save_batch_as_parquet(\"../data/pq/patients\",patient_filename, patient_list, patient_header)\n",
    "save_batch_as_parquet(\"../data/pq/drugs\",drug_filename, drugs_list, drug_header)\n",
    "save_batch_as_parquet(\"../data/pq/reactions\",reaction_filename, reactions_list, reaction_header)"
   ]
  },
  {
   "cell_type": "code",
   "execution_count": null,
   "id": "159bde92",
   "metadata": {},
   "outputs": [],
   "source": []
  }
 ],
 "metadata": {
  "kernelspec": {
   "display_name": "py3.10-env",
   "language": "python",
   "name": "python3"
  },
  "language_info": {
   "codemirror_mode": {
    "name": "ipython",
    "version": 3
   },
   "file_extension": ".py",
   "mimetype": "text/x-python",
   "name": "python",
   "nbconvert_exporter": "python",
   "pygments_lexer": "ipython3",
   "version": "3.10.16"
  }
 },
 "nbformat": 4,
 "nbformat_minor": 5
}
