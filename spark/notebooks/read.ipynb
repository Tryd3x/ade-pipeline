{
 "cells": [
  {
   "cell_type": "code",
   "execution_count": 1,
   "id": "892ff323",
   "metadata": {},
   "outputs": [],
   "source": [
    "from pyspark.sql import SparkSession, functions as F\n",
    "import os"
   ]
  },
  {
   "cell_type": "code",
   "execution_count": 2,
   "id": "50518511",
   "metadata": {},
   "outputs": [
    {
     "name": "stderr",
     "output_type": "stream",
     "text": [
      "Setting default log level to \"WARN\".\n",
      "To adjust logging level use sc.setLogLevel(newLevel). For SparkR, use setLogLevel(newLevel).\n",
      "25/05/04 10:39:27 WARN NativeCodeLoader: Unable to load native-hadoop library for your platform... using builtin-java classes where applicable\n"
     ]
    },
    {
     "data": {
      "text/html": [
       "\n",
       "            <div>\n",
       "                <p><b>SparkSession - in-memory</b></p>\n",
       "                \n",
       "        <div>\n",
       "            <p><b>SparkContext</b></p>\n",
       "\n",
       "            <p><a href=\"http://5db09a4869d4:4040\">Spark UI</a></p>\n",
       "\n",
       "            <dl>\n",
       "              <dt>Version</dt>\n",
       "                <dd><code>v3.4.4</code></dd>\n",
       "              <dt>Master</dt>\n",
       "                <dd><code>local[*]</code></dd>\n",
       "              <dt>AppName</dt>\n",
       "                <dd><code>Loading cleaned files</code></dd>\n",
       "            </dl>\n",
       "        </div>\n",
       "        \n",
       "            </div>\n",
       "        "
      ],
      "text/plain": [
       "<pyspark.sql.session.SparkSession at 0x7fd9984d9fa0>"
      ]
     },
     "execution_count": 2,
     "metadata": {},
     "output_type": "execute_result"
    }
   ],
   "source": [
    "spark = (\n",
    "    SparkSession\n",
    "    .builder\n",
    "    # .master(\"spark://spark-master:7077\")\n",
    "    .appName(\"Loading cleaned files\")\n",
    "    .config(\"spark.jars\", \"https://storage.googleapis.com/hadoop-lib/gcs/gcs-connector-hadoop3-2.2.14.jar\") # GCS Connector\n",
    "    .getOrCreate()\n",
    ")\n",
    "\n",
    "# Google Cloud Service Account Credentials\n",
    "spark._jsc.hadoopConfiguration().set(\"google.cloud.auth.service.account.json.keyfile\",os.environ.get(\"GOOGLE_APPLICATION_CREDENTIALS\"))\n",
    "\n",
    "spark"
   ]
  },
  {
   "cell_type": "code",
   "execution_count": 3,
   "id": "30d36982",
   "metadata": {},
   "outputs": [],
   "source": [
    "bucket='gs://zoomcamp-454219-ade-pipeline/data/pq/'"
   ]
  },
  {
   "cell_type": "code",
   "execution_count": 4,
   "id": "bbdf146a",
   "metadata": {},
   "outputs": [
    {
     "name": "stderr",
     "output_type": "stream",
     "text": [
      "                                                                                \r"
     ]
    },
    {
     "name": "stdout",
     "output_type": "stream",
     "text": [
      "root\n",
      " |-- patientid: string (nullable = true)\n",
      " |-- medicinalproduct: string (nullable = true)\n",
      " |-- activesubstancename: string (nullable = true)\n",
      " |-- drugindication: string (nullable = true)\n",
      " |-- drugadministrationroute: string (nullable = true)\n",
      " |-- drugstartdate: string (nullable = true)\n",
      " |-- drugenddate: string (nullable = true)\n",
      " |-- drugdosagetext: string (nullable = true)\n",
      " |-- drugstructuredosagenumb: string (nullable = true)\n",
      " |-- drugstructuredosageunit: string (nullable = true)\n",
      " |-- drugtreatmentduration: string (nullable = true)\n",
      " |-- drugtreatmentdurationunit: string (nullable = true)\n",
      " |-- drugrecurreadministration: string (nullable = true)\n",
      "\n"
     ]
    }
   ],
   "source": [
    "df = (spark.read.parquet(bucket+\"drug/2005/drug-event-part-15-of-21.parquet\"))\n",
    "df.printSchema()"
   ]
  },
  {
   "cell_type": "code",
   "execution_count": 5,
   "id": "6a239dfc",
   "metadata": {},
   "outputs": [
    {
     "name": "stderr",
     "output_type": "stream",
     "text": [
      "[Stage 1:>                                                          (0 + 1) / 1]\r"
     ]
    },
    {
     "name": "stdout",
     "output_type": "stream",
     "text": [
      "+----+\n",
      "|YEAR|\n",
      "+----+\n",
      "|1004|\n",
      "|1945|\n",
      "|1955|\n",
      "|1958|\n",
      "|1960|\n",
      "|1961|\n",
      "|1962|\n",
      "|1964|\n",
      "|1967|\n",
      "|1969|\n",
      "|1970|\n",
      "|1971|\n",
      "|1972|\n",
      "|1973|\n",
      "|1974|\n",
      "|1975|\n",
      "|1976|\n",
      "|1978|\n",
      "|1979|\n",
      "|1980|\n",
      "+----+\n",
      "only showing top 20 rows\n",
      "\n"
     ]
    },
    {
     "name": "stderr",
     "output_type": "stream",
     "text": [
      "                                                                                \r"
     ]
    }
   ],
   "source": [
    "(\n",
    "    df\n",
    "    .select('drugstartdate')\n",
    "    .filter((F.col('drugstartdate').isNotNull()))\n",
    "    .groupby(\n",
    "        F\n",
    "        .year(F.col('drugstartdate').substr(0,4))\n",
    "        .alias(\"YEAR\")\n",
    "    )\n",
    "    .count()\n",
    "    .select(\"YEAR\")\n",
    "    .distinct()\n",
    "    .orderBy(F.asc(\"YEAR\"))\n",
    "    .show()\n",
    ")"
   ]
  },
  {
   "cell_type": "code",
   "execution_count": 6,
   "id": "c60bff87",
   "metadata": {},
   "outputs": [
    {
     "name": "stderr",
     "output_type": "stream",
     "text": [
      "[Stage 4:>                                                          (0 + 1) / 1]\r"
     ]
    },
    {
     "name": "stdout",
     "output_type": "stream",
     "text": [
      "+--------------------+----------------+-------------------+------------------+-----------------------+-------------+-----------+--------------+-----------------------+-----------------------+---------------------+-------------------------+-------------------------+\n",
      "|           patientid|medicinalproduct|activesubstancename|    drugindication|drugadministrationroute|drugstartdate|drugenddate|drugdosagetext|drugstructuredosagenumb|drugstructuredosageunit|drugtreatmentduration|drugtreatmentdurationunit|drugrecurreadministration|\n",
      "+--------------------+----------------+-------------------+------------------+-----------------------+-------------+-----------+--------------+-----------------------+-----------------------+---------------------+-------------------------+-------------------------+\n",
      "|d3ae45d3-9a40-4e5...|         ABILIFY|               null|BIPOLAR I DISORDER|                    048|     10041227|       null|          null|                   null|                   null|                 null|                     null|                     null|\n",
      "+--------------------+----------------+-------------------+------------------+-----------------------+-------------+-----------+--------------+-----------------------+-----------------------+---------------------+-------------------------+-------------------------+\n",
      "\n"
     ]
    },
    {
     "name": "stderr",
     "output_type": "stream",
     "text": [
      "                                                                                \r"
     ]
    }
   ],
   "source": [
    "df.filter((F.col('drugstartdate').isNotNull()) & (F.col('drugstartdate')==10041227)).show()"
   ]
  },
  {
   "cell_type": "code",
   "execution_count": 8,
   "id": "2a5b4986",
   "metadata": {},
   "outputs": [
    {
     "name": "stderr",
     "output_type": "stream",
     "text": [
      "[Stage 9:======================================================>  (19 + 1) / 20]\r"
     ]
    },
    {
     "name": "stdout",
     "output_type": "stream",
     "text": [
      "+-----------+\n",
      "|receivedate|\n",
      "+-----------+\n",
      "|       null|\n",
      "+-----------+\n",
      "\n"
     ]
    },
    {
     "name": "stderr",
     "output_type": "stream",
     "text": [
      "                                                                                \r"
     ]
    }
   ],
   "source": [
    "df1 = spark.read.parquet(bucket+\"patient/*/*\")\n",
    "df1.select('receivedate').distinct().show()"
   ]
  }
 ],
 "metadata": {
  "kernelspec": {
   "display_name": "Python 3 (ipykernel)",
   "language": "python",
   "name": "python3"
  },
  "language_info": {
   "codemirror_mode": {
    "name": "ipython",
    "version": 3
   },
   "file_extension": ".py",
   "mimetype": "text/x-python",
   "name": "python",
   "nbconvert_exporter": "python",
   "pygments_lexer": "ipython3",
   "version": "3.9.2"
  }
 },
 "nbformat": 4,
 "nbformat_minor": 5
}
