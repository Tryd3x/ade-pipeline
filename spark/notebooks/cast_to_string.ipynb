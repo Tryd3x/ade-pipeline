{
 "cells": [
  {
   "cell_type": "markdown",
   "id": "82b40c88",
   "metadata": {},
   "source": [
    "TODO\n",
    "\n",
    "- Handle type mismatch and cast to proper type and not just to string\n",
    "- metadata columns: (ingestion_timestamp, source_file_path, batch_id)\n",
    "- [Optional] Dump corrupted or invalid rows (bad casts, missing columns) into quarantine bucket like error_records"
   ]
  },
  {
   "cell_type": "code",
   "execution_count": 1,
   "id": "c7c06c35",
   "metadata": {},
   "outputs": [],
   "source": [
    "# spark.stop()"
   ]
  },
  {
   "cell_type": "code",
   "execution_count": 3,
   "id": "a2911de1",
   "metadata": {},
   "outputs": [],
   "source": [
    "import os\n",
    "import pyspark\n",
    "from pyspark.sql import SparkSession, functions as F\n",
    "from pyspark.sql.types import StructType, StructField, IntegerType, StringType, FloatType, BooleanType\n",
    "from google.cloud import storage"
   ]
  },
  {
   "cell_type": "code",
   "execution_count": 4,
   "id": "36930502",
   "metadata": {},
   "outputs": [
    {
     "name": "stderr",
     "output_type": "stream",
     "text": [
      "/usr/local/lib/python3.9/dist-packages/pyspark/bin/load-spark-env.sh: line 68: ps: command not found\n",
      "Setting default log level to \"WARN\".\n",
      "To adjust logging level use sc.setLogLevel(newLevel). For SparkR, use setLogLevel(newLevel).\n",
      "25/04/30 14:33:24 WARN NativeCodeLoader: Unable to load native-hadoop library for your platform... using builtin-java classes where applicable\n"
     ]
    },
    {
     "data": {
      "text/html": [
       "\n",
       "            <div>\n",
       "                <p><b>SparkSession - in-memory</b></p>\n",
       "                \n",
       "        <div>\n",
       "            <p><b>SparkContext</b></p>\n",
       "\n",
       "            <p><a href=\"http://c7e619f15b56:4040\">Spark UI</a></p>\n",
       "\n",
       "            <dl>\n",
       "              <dt>Version</dt>\n",
       "                <dd><code>v3.4.4</code></dd>\n",
       "              <dt>Master</dt>\n",
       "                <dd><code>local[*]</code></dd>\n",
       "              <dt>AppName</dt>\n",
       "                <dd><code>process_type_mismatch</code></dd>\n",
       "            </dl>\n",
       "        </div>\n",
       "        \n",
       "            </div>\n",
       "        "
      ],
      "text/plain": [
       "<pyspark.sql.session.SparkSession at 0x7f950d3c3f40>"
      ]
     },
     "execution_count": 4,
     "metadata": {},
     "output_type": "execute_result"
    }
   ],
   "source": [
    "SPARK_MASTER = \"spark://spark-master:7077\"\n",
    "\n",
    "spark = (\n",
    "    SparkSession\n",
    "    .builder\n",
    "    # .master(SPARK_MASTER)\n",
    "    .appName(\"process_type_mismatch\")\n",
    "    .config(\"spark.jars\", \"https://storage.googleapis.com/hadoop-lib/gcs/gcs-connector-hadoop3-2.2.14.jar\") # GCS Connector\n",
    "    .getOrCreate()\n",
    ")\n",
    "\n",
    "# Google Cloud Service Account Credentials\n",
    "spark._jsc.hadoopConfiguration().set(\"google.cloud.auth.service.account.json.keyfile\",os.environ.get(\"GOOGLE_APPLICATION_CREDENTIALS\"))\n",
    "\n",
    "spark"
   ]
  },
  {
   "cell_type": "code",
   "execution_count": null,
   "id": "513323ad",
   "metadata": {},
   "outputs": [
    {
     "data": {
      "text/plain": [
       "['patientid',\n",
       " 'patientagegroup',\n",
       " 'patientonsetage',\n",
       " 'patientonsetageunit',\n",
       " 'patientsex',\n",
       " 'patientweight',\n",
       " 'serious',\n",
       " 'seriousnessdeath',\n",
       " 'seriousnesshospitalization',\n",
       " 'seriousnessdisabling',\n",
       " 'seriousnesslifethreatening',\n",
       " 'seriousnessother',\n",
       " 'receivedate',\n",
       " 'receiptdate',\n",
       " 'safetyreportid']"
      ]
     },
     "execution_count": 4,
     "metadata": {},
     "output_type": "execute_result"
    }
   ],
   "source": [
    "[\n",
    "    ('patientid', 'string'),\n",
    "    ('patientagegroup', 'string'),\n",
    "    ('patientonsetage', 'integer'),\n",
    "    ('patientonsetageunit', 'integer'),\n",
    "    ('patientsex', 'integer'),\n",
    "    ('patientweight', 'float'),\n",
    "    ('serious', 'int'),\n",
    "    ('seriousnessdeath', 'int'),\n",
    "    ('seriousnesshospitalization', 'int'),\n",
    "    ('seriousnessdisabling', 'int'),\n",
    "    ('seriousnesslifethreatening', 'int'),\n",
    "    ('seriousnessother', 'int'),\n",
    "    ('receivedate', 'int'),\n",
    "    ('receiptdate', 'int'),\n",
    "    ('safetyreportid', 'int')\n",
    "]"
   ]
  },
  {
   "cell_type": "code",
   "execution_count": null,
   "id": "9fa57fe7",
   "metadata": {},
   "outputs": [],
   "source": [
    "def get_year(blob):\n",
    "    return blob.name.split(\"/\")[3]\n",
    "\n",
    "def get_filename(blob):\n",
    "    return blob.name.split('/')[-1].split('.')[0]\n",
    "\n",
    "def scan_years(blobs): \n",
    "    return list({get_year(blob) for blob in blobs})\n",
    "\n",
    "def process_parquet(bucket, dir, year):\n",
    "    blobs = list(bucket.list_blobs(prefix=f\"{dir}/{year}\"))\n",
    "    for blob in blobs:\n",
    "        source_blob = f\"gs://{bucket.name}/{blob.name}\"\n",
    "        destination_blob = f\"gs://{bucket.name}/cleaned/pq/{dir.split('/')[-1]}/{year}/{get_filename(blob)}\"\n",
    "\n",
    "        print(f\"Reading file {source_blob}\")\n",
    "        # Read parquet\n",
    "        df = spark.read.parquet(source_blob)\n",
    "        \n",
    "        # Use the transformation package\n",
    "        # Cast to right types\n",
    "\n",
    "        # Transform\n",
    "\n",
    "        # Write to Destination\n",
    "        df.repartition(4).write.mode(\"overwrite\").parquet(destination_blob)\n",
    "        print(f\"Saved to {destination_blob}\")"
   ]
  },
  {
   "cell_type": "code",
   "execution_count": null,
   "id": "5028d20c",
   "metadata": {},
   "outputs": [
    {
     "name": "stdout",
     "output_type": "stream",
     "text": [
      "2004\n",
      "2005\n",
      "2006\n"
     ]
    }
   ],
   "source": [
    "# client = storage.Client()\n",
    "# bucket = client.get_bucket(\"zoomcamp-454219-ade-pipeline\")\n",
    "# dir = \"data/pq/patient\"\n",
    "# year = '2004'\n",
    "\n",
    "# test = '2004,2005,2006'\n",
    "\n",
    "# if not test:\n",
    "#     years = scan_years(list(test =bucket.list_blobs(prefix=dir)))\n",
    "# else:\n",
    "#     years = [s for s in test.split(',')]\n",
    "\n",
    "# for year in years:\n",
    "#     print(year)\n",
    "#     # process_parquet(bucket, dir, year)\n",
    "\n",
    "# # process_parquet(bucket,dir,year)"
   ]
  },
  {
   "cell_type": "code",
   "execution_count": null,
   "id": "6b262904",
   "metadata": {},
   "outputs": [],
   "source": [
    "client = storage.Client()\n",
    "bucket = client.get_bucket(\"zoomcamp-454219-ade-pipeline\")\n",
    "dirs = [\"data/pq/patient\", \"data/pq/drug\", \"data/pq/reaction\"]\n",
    "\n",
    "# Iterate through each source directory and each year over n parquet files\n",
    "for dir in dirs:\n",
    "    # years = scan_years(bucket.list_blobs(prefix=dir))\n",
    "    years = ['2004']\n",
    "    for year in years:\n",
    "        process_parquet(bucket, dir, year)"
   ]
  },
  {
   "cell_type": "code",
   "execution_count": null,
   "id": "c4bb800e",
   "metadata": {},
   "outputs": [],
   "source": []
  }
 ],
 "metadata": {
  "kernelspec": {
   "display_name": "Python 3 (ipykernel)",
   "language": "python",
   "name": "python3"
  },
  "language_info": {
   "codemirror_mode": {
    "name": "ipython",
    "version": 3
   },
   "file_extension": ".py",
   "mimetype": "text/x-python",
   "name": "python",
   "nbconvert_exporter": "python",
   "pygments_lexer": "ipython3",
   "version": "3.9.2"
  }
 },
 "nbformat": 4,
 "nbformat_minor": 5
}
