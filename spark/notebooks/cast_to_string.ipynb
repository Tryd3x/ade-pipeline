{
 "cells": [
  {
   "cell_type": "code",
   "execution_count": 2,
   "id": "c7c06c35",
   "metadata": {},
   "outputs": [],
   "source": [
    "# spark.stop()"
   ]
  },
  {
   "cell_type": "code",
   "execution_count": 3,
   "id": "a2911de1",
   "metadata": {},
   "outputs": [],
   "source": [
    "import os\n",
    "from pyspark.sql import SparkSession, functions as F\n",
    "from pyspark.sql.types import StructType, StructField, IntegerType, StringType, FloatType, BooleanType"
   ]
  },
  {
   "cell_type": "code",
   "execution_count": 4,
   "id": "36930502",
   "metadata": {},
   "outputs": [
    {
     "name": "stderr",
     "output_type": "stream",
     "text": [
      "/usr/local/lib/python3.9/dist-packages/pyspark/bin/load-spark-env.sh: line 68: ps: command not found\n",
      "Setting default log level to \"WARN\".\n",
      "To adjust logging level use sc.setLogLevel(newLevel). For SparkR, use setLogLevel(newLevel).\n",
      "25/04/28 22:06:29 WARN NativeCodeLoader: Unable to load native-hadoop library for your platform... using builtin-java classes where applicable\n"
     ]
    },
    {
     "data": {
      "text/html": [
       "\n",
       "            <div>\n",
       "                <p><b>SparkSession - in-memory</b></p>\n",
       "                \n",
       "        <div>\n",
       "            <p><b>SparkContext</b></p>\n",
       "\n",
       "            <p><a href=\"http://6711471e435a:4040\">Spark UI</a></p>\n",
       "\n",
       "            <dl>\n",
       "              <dt>Version</dt>\n",
       "                <dd><code>v3.4.4</code></dd>\n",
       "              <dt>Master</dt>\n",
       "                <dd><code>local[*]</code></dd>\n",
       "              <dt>AppName</dt>\n",
       "                <dd><code>process_type_mismatch</code></dd>\n",
       "            </dl>\n",
       "        </div>\n",
       "        \n",
       "            </div>\n",
       "        "
      ],
      "text/plain": [
       "<pyspark.sql.session.SparkSession at 0x7ffa500b1f10>"
      ]
     },
     "execution_count": 4,
     "metadata": {},
     "output_type": "execute_result"
    }
   ],
   "source": [
    "SPARK_MASTER = \"spark://spark-master:7077\"\n",
    "\n",
    "spark = (\n",
    "    SparkSession\n",
    "    .builder\n",
    "    # .master(SPARK_MASTER)\n",
    "    .appName(\"process_type_mismatch\")\n",
    "    .config(\"spark.jars\", \"https://storage.googleapis.com/hadoop-lib/gcs/gcs-connector-hadoop3-2.2.14.jar\") # GCS Connector\n",
    "    .getOrCreate()\n",
    ")\n",
    "\n",
    "# Google Cloud Service Account Credentials\n",
    "spark._jsc.hadoopConfiguration().set(\"google.cloud.auth.service.account.json.keyfile\",os.environ.get(\"GOOGLE_APPLICATION_CREDENTIALS\"))\n",
    "\n",
    "spark"
   ]
  },
  {
   "cell_type": "code",
   "execution_count": 18,
   "id": "6b262904",
   "metadata": {},
   "outputs": [
    {
     "name": "stdout",
     "output_type": "stream",
     "text": [
      "Reading file gs://zoomcamp-454219-ade-pipeline/data/pq/patient/2004/drug-event-part-1-of-20.parquet\n"
     ]
    },
    {
     "name": "stderr",
     "output_type": "stream",
     "text": [
      "                                                                                \r"
     ]
    },
    {
     "name": "stdout",
     "output_type": "stream",
     "text": [
      "Saved to gs://zoomcamp-454219-ade-pipeline/processed/pq/patient/2004/drug-event-part-1-of-20\n",
      "Reading file gs://zoomcamp-454219-ade-pipeline/data/pq/patient/2004/drug-event-part-10-of-20.parquet\n"
     ]
    },
    {
     "name": "stderr",
     "output_type": "stream",
     "text": [
      "                                                                                \r"
     ]
    },
    {
     "name": "stdout",
     "output_type": "stream",
     "text": [
      "Saved to gs://zoomcamp-454219-ade-pipeline/processed/pq/patient/2004/drug-event-part-10-of-20\n",
      "Reading file gs://zoomcamp-454219-ade-pipeline/data/pq/patient/2004/drug-event-part-11-of-20.parquet\n"
     ]
    },
    {
     "name": "stderr",
     "output_type": "stream",
     "text": [
      "                                                                                \r"
     ]
    },
    {
     "name": "stdout",
     "output_type": "stream",
     "text": [
      "Saved to gs://zoomcamp-454219-ade-pipeline/processed/pq/patient/2004/drug-event-part-11-of-20\n",
      "Reading file gs://zoomcamp-454219-ade-pipeline/data/pq/patient/2004/drug-event-part-12-of-20.parquet\n"
     ]
    },
    {
     "name": "stderr",
     "output_type": "stream",
     "text": [
      "                                                                                \r"
     ]
    },
    {
     "name": "stdout",
     "output_type": "stream",
     "text": [
      "Saved to gs://zoomcamp-454219-ade-pipeline/processed/pq/patient/2004/drug-event-part-12-of-20\n",
      "Reading file gs://zoomcamp-454219-ade-pipeline/data/pq/patient/2004/drug-event-part-13-of-20.parquet\n"
     ]
    },
    {
     "name": "stderr",
     "output_type": "stream",
     "text": [
      "                                                                                \r"
     ]
    },
    {
     "name": "stdout",
     "output_type": "stream",
     "text": [
      "Saved to gs://zoomcamp-454219-ade-pipeline/processed/pq/patient/2004/drug-event-part-13-of-20\n",
      "Reading file gs://zoomcamp-454219-ade-pipeline/data/pq/patient/2004/drug-event-part-14-of-20.parquet\n"
     ]
    },
    {
     "name": "stderr",
     "output_type": "stream",
     "text": [
      "                                                                                \r"
     ]
    },
    {
     "name": "stdout",
     "output_type": "stream",
     "text": [
      "Saved to gs://zoomcamp-454219-ade-pipeline/processed/pq/patient/2004/drug-event-part-14-of-20\n",
      "Reading file gs://zoomcamp-454219-ade-pipeline/data/pq/patient/2004/drug-event-part-15-of-20.parquet\n"
     ]
    },
    {
     "name": "stderr",
     "output_type": "stream",
     "text": [
      "                                                                                \r"
     ]
    },
    {
     "name": "stdout",
     "output_type": "stream",
     "text": [
      "Saved to gs://zoomcamp-454219-ade-pipeline/processed/pq/patient/2004/drug-event-part-15-of-20\n",
      "Reading file gs://zoomcamp-454219-ade-pipeline/data/pq/patient/2004/drug-event-part-16-of-20.parquet\n"
     ]
    },
    {
     "name": "stderr",
     "output_type": "stream",
     "text": [
      "                                                                                \r"
     ]
    },
    {
     "name": "stdout",
     "output_type": "stream",
     "text": [
      "Saved to gs://zoomcamp-454219-ade-pipeline/processed/pq/patient/2004/drug-event-part-16-of-20\n",
      "Reading file gs://zoomcamp-454219-ade-pipeline/data/pq/patient/2004/drug-event-part-17-of-20.parquet\n"
     ]
    },
    {
     "name": "stderr",
     "output_type": "stream",
     "text": [
      "                                                                                \r"
     ]
    },
    {
     "name": "stdout",
     "output_type": "stream",
     "text": [
      "Saved to gs://zoomcamp-454219-ade-pipeline/processed/pq/patient/2004/drug-event-part-17-of-20\n",
      "Reading file gs://zoomcamp-454219-ade-pipeline/data/pq/patient/2004/drug-event-part-18-of-20.parquet\n"
     ]
    },
    {
     "name": "stderr",
     "output_type": "stream",
     "text": [
      "                                                                                \r"
     ]
    },
    {
     "name": "stdout",
     "output_type": "stream",
     "text": [
      "Saved to gs://zoomcamp-454219-ade-pipeline/processed/pq/patient/2004/drug-event-part-18-of-20\n",
      "Reading file gs://zoomcamp-454219-ade-pipeline/data/pq/patient/2004/drug-event-part-19-of-20.parquet\n"
     ]
    },
    {
     "name": "stderr",
     "output_type": "stream",
     "text": [
      "                                                                                \r"
     ]
    },
    {
     "name": "stdout",
     "output_type": "stream",
     "text": [
      "Saved to gs://zoomcamp-454219-ade-pipeline/processed/pq/patient/2004/drug-event-part-19-of-20\n",
      "Reading file gs://zoomcamp-454219-ade-pipeline/data/pq/patient/2004/drug-event-part-2-of-20.parquet\n"
     ]
    },
    {
     "name": "stderr",
     "output_type": "stream",
     "text": [
      "                                                                                \r"
     ]
    },
    {
     "name": "stdout",
     "output_type": "stream",
     "text": [
      "Saved to gs://zoomcamp-454219-ade-pipeline/processed/pq/patient/2004/drug-event-part-2-of-20\n",
      "Reading file gs://zoomcamp-454219-ade-pipeline/data/pq/patient/2004/drug-event-part-20-of-20.parquet\n"
     ]
    },
    {
     "name": "stderr",
     "output_type": "stream",
     "text": [
      "                                                                                \r"
     ]
    },
    {
     "name": "stdout",
     "output_type": "stream",
     "text": [
      "Saved to gs://zoomcamp-454219-ade-pipeline/processed/pq/patient/2004/drug-event-part-20-of-20\n",
      "Reading file gs://zoomcamp-454219-ade-pipeline/data/pq/patient/2004/drug-event-part-3-of-20.parquet\n"
     ]
    },
    {
     "name": "stderr",
     "output_type": "stream",
     "text": [
      "                                                                                \r"
     ]
    },
    {
     "name": "stdout",
     "output_type": "stream",
     "text": [
      "Saved to gs://zoomcamp-454219-ade-pipeline/processed/pq/patient/2004/drug-event-part-3-of-20\n",
      "Reading file gs://zoomcamp-454219-ade-pipeline/data/pq/patient/2004/drug-event-part-4-of-20.parquet\n"
     ]
    },
    {
     "name": "stderr",
     "output_type": "stream",
     "text": [
      "                                                                                \r"
     ]
    },
    {
     "name": "stdout",
     "output_type": "stream",
     "text": [
      "Saved to gs://zoomcamp-454219-ade-pipeline/processed/pq/patient/2004/drug-event-part-4-of-20\n",
      "Reading file gs://zoomcamp-454219-ade-pipeline/data/pq/patient/2004/drug-event-part-5-of-20.parquet\n"
     ]
    },
    {
     "name": "stderr",
     "output_type": "stream",
     "text": [
      "                                                                                \r"
     ]
    },
    {
     "name": "stdout",
     "output_type": "stream",
     "text": [
      "Saved to gs://zoomcamp-454219-ade-pipeline/processed/pq/patient/2004/drug-event-part-5-of-20\n",
      "Reading file gs://zoomcamp-454219-ade-pipeline/data/pq/patient/2004/drug-event-part-6-of-20.parquet\n"
     ]
    },
    {
     "name": "stderr",
     "output_type": "stream",
     "text": [
      "                                                                                \r"
     ]
    },
    {
     "name": "stdout",
     "output_type": "stream",
     "text": [
      "Saved to gs://zoomcamp-454219-ade-pipeline/processed/pq/patient/2004/drug-event-part-6-of-20\n",
      "Reading file gs://zoomcamp-454219-ade-pipeline/data/pq/patient/2004/drug-event-part-7-of-20.parquet\n"
     ]
    },
    {
     "name": "stderr",
     "output_type": "stream",
     "text": [
      "                                                                                \r"
     ]
    },
    {
     "name": "stdout",
     "output_type": "stream",
     "text": [
      "Saved to gs://zoomcamp-454219-ade-pipeline/processed/pq/patient/2004/drug-event-part-7-of-20\n",
      "Reading file gs://zoomcamp-454219-ade-pipeline/data/pq/patient/2004/drug-event-part-8-of-20.parquet\n"
     ]
    },
    {
     "name": "stderr",
     "output_type": "stream",
     "text": [
      "                                                                                \r"
     ]
    },
    {
     "name": "stdout",
     "output_type": "stream",
     "text": [
      "Saved to gs://zoomcamp-454219-ade-pipeline/processed/pq/patient/2004/drug-event-part-8-of-20\n",
      "Reading file gs://zoomcamp-454219-ade-pipeline/data/pq/patient/2004/drug-event-part-9-of-20.parquet\n"
     ]
    },
    {
     "name": "stderr",
     "output_type": "stream",
     "text": [
      "                                                                                \r"
     ]
    },
    {
     "name": "stdout",
     "output_type": "stream",
     "text": [
      "Saved to gs://zoomcamp-454219-ade-pipeline/processed/pq/patient/2004/drug-event-part-9-of-20\n"
     ]
    }
   ],
   "source": [
    "from google.cloud import storage\n",
    "\n",
    "def get_year(blob):\n",
    "    return blob.name.split(\"/\")[3]\n",
    "\n",
    "def get_filename(blob):\n",
    "    return blob.name.split('/')[-1].split('.')[0]\n",
    "\n",
    "def scan_years(blobs): \n",
    "    return list({get_year(blob) for blob in blobs})\n",
    "\n",
    "def process_parquet(bucket, dir, year):\n",
    "    blobs = list(bucket.list_blobs(prefix=f\"{dir}/{year}\"))\n",
    "    for blob in blobs:\n",
    "        source_blob = f\"gs://{bucket.name}/{blob.name}\"\n",
    "        destination_blob = f\"gs://{bucket.name}/processed/pq/{dir.split('/')[-1]}/{year}/{get_filename(blob)}\"\n",
    "\n",
    "        print(f\"Reading file {source_blob}\")\n",
    "        # Read parquet\n",
    "        df = spark.read.parquet(source_blob)\n",
    "\n",
    "        # Castnig to String\n",
    "        for col in df.columns:\n",
    "            df = df.withColumn(col, F.col(col).cast(StringType()))\n",
    "\n",
    "        # Write to Destination\n",
    "        df.repartition(4).write.mode(\"overwrite\").parquet(destination_blob) \n",
    "        print(f\"Saved to {destination_blob}\")\n",
    "\n",
    "client = storage.Client()\n",
    "bucket = client.get_bucket(\"zoomcamp-454219-ade-pipeline\")\n",
    "dirs = [\"data/pq/patient\", \"data/pq/drug\", \"data/pq/reaction\"]\n",
    "\n",
    "# Iterate through each source directory and each year over n parquet files\n",
    "for dir in dirs:\n",
    "    # years = scan_years(bucket.list_blobs(prefix=dir))\n",
    "    years = ['2004']\n",
    "    for year in years:\n",
    "        process_parquet(bucket, dir, year)\n",
    "    break"
   ]
  },
  {
   "cell_type": "code",
   "execution_count": null,
   "id": "3f05b526",
   "metadata": {},
   "outputs": [],
   "source": []
  }
 ],
 "metadata": {
  "kernelspec": {
   "display_name": "Python 3 (ipykernel)",
   "language": "python",
   "name": "python3"
  }
 },
 "nbformat": 4,
 "nbformat_minor": 5
}
