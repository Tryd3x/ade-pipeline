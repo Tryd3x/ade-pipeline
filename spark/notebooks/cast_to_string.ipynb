{
 "cells": [
  {
   "cell_type": "code",
   "execution_count": 43,
   "id": "c7c06c35",
   "metadata": {},
   "outputs": [],
   "source": [
    "# spark.stop()"
   ]
  },
  {
   "cell_type": "code",
   "execution_count": 44,
   "id": "a2911de1",
   "metadata": {},
   "outputs": [],
   "source": [
    "import os\n",
    "from pyspark.sql import SparkSession, functions as F\n",
    "from pyspark.sql.types import StructType, StructField, IntegerType, StringType, FloatType, BooleanType"
   ]
  },
  {
   "cell_type": "code",
   "execution_count": 45,
   "id": "36930502",
   "metadata": {},
   "outputs": [
    {
     "name": "stderr",
     "output_type": "stream",
     "text": [
      "25/04/28 12:30:37 WARN Utils: Service 'SparkUI' could not bind on port 4040. Attempting port 4041.\n"
     ]
    },
    {
     "data": {
      "text/html": [
       "\n",
       "            <div>\n",
       "                <p><b>SparkSession - in-memory</b></p>\n",
       "                \n",
       "        <div>\n",
       "            <p><b>SparkContext</b></p>\n",
       "\n",
       "            <p><a href=\"http://daab181d6ec6:4041\">Spark UI</a></p>\n",
       "\n",
       "            <dl>\n",
       "              <dt>Version</dt>\n",
       "                <dd><code>v3.4.4</code></dd>\n",
       "              <dt>Master</dt>\n",
       "                <dd><code>local[*]</code></dd>\n",
       "              <dt>AppName</dt>\n",
       "                <dd><code>Beginner</code></dd>\n",
       "            </dl>\n",
       "        </div>\n",
       "        \n",
       "            </div>\n",
       "        "
      ],
      "text/plain": [
       "<pyspark.sql.session.SparkSession at 0x7fc3b01a0ac0>"
      ]
     },
     "execution_count": 45,
     "metadata": {},
     "output_type": "execute_result"
    }
   ],
   "source": [
    "spark = (\n",
    "    SparkSession\n",
    "    .builder\n",
    "    .appName(\"Beginner\")\n",
    "    .config(\"spark.jars\", \"https://storage.googleapis.com/hadoop-lib/gcs/gcs-connector-hadoop3-2.2.14.jar\") # GCS Connector\n",
    "    .getOrCreate()\n",
    ")\n",
    "\n",
    "# Google Cloud Service Account Credentials\n",
    "spark._jsc.hadoopConfiguration().set(\"google.cloud.auth.service.account.json.keyfile\",os.environ.get(\"GOOGLE_APPLICATION_CREDENTIALS\"))\n",
    "\n",
    "spark"
   ]
  },
  {
   "cell_type": "code",
   "execution_count": 42,
   "id": "d60b1af3",
   "metadata": {},
   "outputs": [],
   "source": [
    "def get_year(blob):\n",
    "    return blob.name.split(\"/\")[3]\n",
    "\n",
    "def get_filename(blob):\n",
    "    return blob.name.split('/')[-1].split('.')[0]\n",
    "\n",
    "def scan_years(blobs): \n",
    "    return list({get_year(blob) for blob in blobs})\n",
    "\n",
    "def process_parquet(bucket, dir, year):\n",
    "    blobs = bucket.list_blobs(prefix=f\"{dir}/{year}\")\n",
    "    for blob in blobs:\n",
    "        source_blob = f\"gs://{bucket.name}/{blob.name}\"\n",
    "        destination_blob = f\"gs://{bucket.name}/processed/pq/{dir}/{year}/{get_filename(blob)}\"\n",
    "\n",
    "        print(f\"Reading file {source_blob}\")\n",
    "        # Read parquet\n",
    "        df = spark.read.parquet(source_blob)\n",
    "\n",
    "        # Castnig to String\n",
    "        for col in df.columns:\n",
    "            df = df.withColumn(col, F.col(col).cast(StringType()))\n",
    "\n",
    "        # Write to Destination\n",
    "        df.repartition(4).write.mode(\"overwrite\").parquet(destination_blob) \n",
    "        print(f\"Saved to {destination_blob}\")"
   ]
  },
  {
   "cell_type": "code",
   "execution_count": null,
   "id": "6b262904",
   "metadata": {},
   "outputs": [],
   "source": [
    "from google.cloud import storage\n",
    "\n",
    "client = storage.Client()\n",
    "bucket = client.get_bucket(\"zoomcamp-454219-ade-pipeline\")\n",
    "dirs = [\"data/pq/patient\", \"data/pq/drug\", \"data/pq/reaction\"]\n",
    "\n",
    "# Iterate through each source directory and each year over n parquet files\n",
    "for dir in dirs:\n",
    "    years = scan_years(bucket.list_blobs(prefix=dir))\n",
    "    for year in years:\n",
    "        process_parquet(bucket, dir, year)"
   ]
  }
 ],
 "metadata": {
  "kernelspec": {
   "display_name": "Python 3 (ipykernel)",
   "language": "python",
   "name": "python3"
  },
  "language_info": {
   "codemirror_mode": {
    "name": "ipython",
    "version": 3
   },
   "file_extension": ".py",
   "mimetype": "text/x-python",
   "name": "python",
   "nbconvert_exporter": "python",
   "pygments_lexer": "ipython3",
   "version": "3.9.2"
  }
 },
 "nbformat": 4,
 "nbformat_minor": 5
}
