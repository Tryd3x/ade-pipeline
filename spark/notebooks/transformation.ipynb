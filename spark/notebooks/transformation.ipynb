{
 "cells": [
  {
   "cell_type": "code",
   "execution_count": 1,
   "id": "592fbdbb",
   "metadata": {},
   "outputs": [],
   "source": [
    "# spark.stop()"
   ]
  },
  {
   "cell_type": "code",
   "execution_count": 2,
   "id": "ee0abf56",
   "metadata": {},
   "outputs": [],
   "source": [
    "import os\n",
    "from pyspark.sql import SparkSession, types as t, functions as F"
   ]
  },
  {
   "cell_type": "code",
   "execution_count": 3,
   "id": "56be99cc",
   "metadata": {},
   "outputs": [
    {
     "name": "stderr",
     "output_type": "stream",
     "text": [
      "/usr/local/lib/python3.9/dist-packages/pyspark/bin/load-spark-env.sh: line 68: ps: command not found\n",
      "Setting default log level to \"WARN\".\n",
      "To adjust logging level use sc.setLogLevel(newLevel). For SparkR, use setLogLevel(newLevel).\n",
      "25/04/30 13:45:09 WARN NativeCodeLoader: Unable to load native-hadoop library for your platform... using builtin-java classes where applicable\n"
     ]
    },
    {
     "data": {
      "text/html": [
       "\n",
       "            <div>\n",
       "                <p><b>SparkSession - in-memory</b></p>\n",
       "                \n",
       "        <div>\n",
       "            <p><b>SparkContext</b></p>\n",
       "\n",
       "            <p><a href=\"http://c18afd726dd1:4040\">Spark UI</a></p>\n",
       "\n",
       "            <dl>\n",
       "              <dt>Version</dt>\n",
       "                <dd><code>v3.4.4</code></dd>\n",
       "              <dt>Master</dt>\n",
       "                <dd><code>local[*]</code></dd>\n",
       "              <dt>AppName</dt>\n",
       "                <dd><code>Testing Transformations</code></dd>\n",
       "            </dl>\n",
       "        </div>\n",
       "        \n",
       "            </div>\n",
       "        "
      ],
      "text/plain": [
       "<pyspark.sql.session.SparkSession at 0x7f7bc0054400>"
      ]
     },
     "execution_count": 3,
     "metadata": {},
     "output_type": "execute_result"
    }
   ],
   "source": [
    "# https://storage.googleapis.com/hadoop-lib/gcs/gcs-connector-hadoop3-2.2.14.jar\n",
    "\n",
    "spark = (\n",
    "    SparkSession\n",
    "    .builder\n",
    "    # .master(\"spark://spark-master:7077\")\n",
    "    .appName(\"Testing Transformations\")\n",
    "    .config(\"spark.jars\", \"https://storage.googleapis.com/hadoop-lib/gcs/gcs-connector-hadoop3-2.2.14.jar\") # GCS Connector\n",
    "    .getOrCreate()\n",
    ")\n",
    "\n",
    "# Google Cloud Service Account Credentials\n",
    "spark._jsc.hadoopConfiguration().set(\"google.cloud.auth.service.account.json.keyfile\",os.environ.get(\"GOOGLE_APPLICATION_CREDENTIALS\"))\n",
    "\n",
    "spark"
   ]
  },
  {
   "cell_type": "code",
   "execution_count": 4,
   "id": "697ec698",
   "metadata": {},
   "outputs": [],
   "source": [
    "bucket='gs://zoomcamp-454219-ade-pipeline/data/pq/'"
   ]
  },
  {
   "cell_type": "markdown",
   "id": "608ce347",
   "metadata": {},
   "source": [
    "# Patient"
   ]
  },
  {
   "cell_type": "markdown",
   "id": "52249037",
   "metadata": {},
   "source": [
    "### Load patient"
   ]
  },
  {
   "cell_type": "code",
   "execution_count": 15,
   "id": "e68e331e",
   "metadata": {},
   "outputs": [
    {
     "name": "stderr",
     "output_type": "stream",
     "text": [
      "                                                                                \r"
     ]
    },
    {
     "name": "stdout",
     "output_type": "stream",
     "text": [
      "Count: 1643038\n",
      "root\n",
      " |-- patientid: string (nullable = true)\n",
      " |-- patientagegroup: string (nullable = true)\n",
      " |-- patientonsetage: string (nullable = true)\n",
      " |-- patientonsetageunit: string (nullable = true)\n",
      " |-- patientsex: string (nullable = true)\n",
      " |-- patientweight: string (nullable = true)\n",
      " |-- serious: integer (nullable = true)\n",
      " |-- seriousnessdeath: integer (nullable = true)\n",
      " |-- seriousnesshospitalization: integer (nullable = true)\n",
      " |-- seriousnessdisabling: integer (nullable = true)\n",
      " |-- seriousnesslifethreatening: integer (nullable = true)\n",
      " |-- seriousnessother: integer (nullable = true)\n",
      " |-- receivedate: integer (nullable = true)\n",
      " |-- receiptdate: integer (nullable = true)\n",
      " |-- safetyreportid: integer (nullable = true)\n",
      "\n",
      "None\n",
      "+--------------------+---------------+---------------+-------------------+----------+-------------+-------+----------------+--------------------------+--------------------+--------------------------+----------------+-----------+-----------+--------------+\n",
      "|           patientid|patientagegroup|patientonsetage|patientonsetageunit|patientsex|patientweight|serious|seriousnessdeath|seriousnesshospitalization|seriousnessdisabling|seriousnesslifethreatening|seriousnessother|receivedate|receiptdate|safetyreportid|\n",
      "+--------------------+---------------+---------------+-------------------+----------+-------------+-------+----------------+--------------------------+--------------------+--------------------------+----------------+-----------+-----------+--------------+\n",
      "|c03ef5e8-17e8-4b0...|           null|           null|               null|         2|         null|   null|            null|                      null|                null|                      null|            null|       null|       null|          null|\n",
      "|be397b97-b8c8-42a...|           null|             24|                801|         1|         null|   null|            null|                      null|                null|                      null|            null|       null|       null|          null|\n",
      "|6677299a-53fb-4fb...|           null|             70|                801|         1|        99.88|   null|            null|                      null|                null|                      null|            null|       null|       null|          null|\n",
      "|5e3b557d-99cc-47f...|           null|           null|               null|         2|         null|   null|            null|                      null|                null|                      null|            null|       null|       null|          null|\n",
      "|796e8764-4d53-40f...|           null|             30|                801|         2|         null|   null|            null|                      null|                null|                      null|            null|       null|       null|          null|\n",
      "|74c636e6-c276-487...|           null|             36|                801|         2|         null|   null|            null|                      null|                null|                      null|            null|       null|       null|          null|\n",
      "|c2444bf5-8fe5-44b...|           null|             63|                801|         1|         null|   null|            null|                      null|                null|                      null|            null|       null|       null|          null|\n",
      "|31ea0f9f-0ed2-426...|              6|             92|                801|         2|         null|   null|            null|                      null|                null|                      null|            null|       null|       null|          null|\n",
      "|6a4fb232-08a9-455...|           null|             57|                801|         2|         null|   null|            null|                      null|                null|                      null|            null|       null|       null|          null|\n",
      "|b4bb967f-a395-4a3...|           null|             55|                801|         1|         null|   null|            null|                      null|                null|                      null|            null|       null|       null|          null|\n",
      "|81e2ff2c-5b7c-4fb...|           null|             80|                801|         2|         null|   null|            null|                      null|                null|                      null|            null|       null|       null|          null|\n",
      "|a677d8b6-c5af-41f...|           null|           null|               null|      null|         null|   null|            null|                      null|                null|                      null|            null|       null|       null|          null|\n",
      "|e92c1e60-7407-41c...|           null|           null|               null|      null|         null|   null|            null|                      null|                null|                      null|            null|       null|       null|          null|\n",
      "|2b61a694-42c7-4c5...|           null|             64|                801|         2|           72|   null|            null|                      null|                null|                      null|            null|       null|       null|          null|\n",
      "|fab6123f-ac03-481...|           null|             46|                801|         1|         null|   null|            null|                      null|                null|                      null|            null|       null|       null|          null|\n",
      "|b6741aef-f2cf-48e...|           null|             72|                801|         1|         null|   null|            null|                      null|                null|                      null|            null|       null|       null|          null|\n",
      "|811ee04d-fbf1-452...|           null|             54|                801|         2|         73.6|   null|            null|                      null|                null|                      null|            null|       null|       null|          null|\n",
      "|ca3a2a9a-06d4-413...|           null|             48|                801|         1|         null|   null|            null|                      null|                null|                      null|            null|       null|       null|          null|\n",
      "|55c7408b-0f7f-468...|           null|             76|                801|         2|           63|   null|            null|                      null|                null|                      null|            null|       null|       null|          null|\n",
      "|6acc9f37-e396-4c6...|           null|           null|               null|         2|         86.2|   null|            null|                      null|                null|                      null|            null|       null|       null|          null|\n",
      "+--------------------+---------------+---------------+-------------------+----------+-------------+-------+----------------+--------------------------+--------------------+--------------------------+----------------+-----------+-----------+--------------+\n",
      "only showing top 20 rows\n",
      "\n"
     ]
    }
   ],
   "source": [
    "# patient_schema = t.StructType(\n",
    "#     [\n",
    "#         t.StructField('patientid', t.StringType(),True),\n",
    "#         t.StructField('patientagegroup', t.StringType(),True),\n",
    "#         t.StructField('patientonsetage', t.StringType(),True),\n",
    "#         t.StructField('patientonsetageunit', t.StringType(),True),\n",
    "#         t.StructField('patientsex', t.StringType(),True),\n",
    "#         t.StructField('patientweight', t.StringType(),True),\n",
    "#         t.StructField('serious', t.IntegerType(), True),\n",
    "#         t.StructField('seriousnessdeath', t.IntegerType(), True),\n",
    "#         t.StructField('seriousnesshospitalization', t.IntegerType(), True),\n",
    "#         t.StructField('seriousnessdisabling', t.IntegerType(), True),\n",
    "#         t.StructField('seriousnesslifethreatening', t.IntegerType(), True),\n",
    "#         t.StructField('seriousnessother', t.IntegerType(), True),\n",
    "#         t.StructField('receivedate', t.IntegerType(), True),\n",
    "#         t.StructField('receiptdate', t.IntegerType(), True),\n",
    "#         t.StructField('safetyreportid', t.IntegerType(), True)\n",
    "#     ]\n",
    "# )\n",
    "\n",
    "patient = (\n",
    "    spark\n",
    "    .read\n",
    "    .parquet(bucket+'patient/*/*')\n",
    "    )\n",
    "print(f\"Count: {patient.count()}\")\n",
    "print(patient.printSchema())\n",
    "patient.show()"
   ]
  },
  {
   "cell_type": "markdown",
   "id": "9f227bde",
   "metadata": {},
   "source": [
    "### Perform Transformation"
   ]
  },
  {
   "cell_type": "code",
   "execution_count": 16,
   "id": "4eb666ac",
   "metadata": {},
   "outputs": [
    {
     "name": "stdout",
     "output_type": "stream",
     "text": [
      "root\n",
      " |-- patientid: string (nullable = true)\n",
      " |-- patientagegroup: string (nullable = true)\n",
      " |-- patientonsetage: string (nullable = true)\n",
      " |-- patientonsetageunit: string (nullable = true)\n",
      " |-- patientsex: string (nullable = true)\n",
      " |-- patientweight: string (nullable = true)\n",
      " |-- serious: integer (nullable = true)\n",
      " |-- seriousnessdeath: integer (nullable = true)\n",
      " |-- seriousnesshospitalization: integer (nullable = true)\n",
      " |-- seriousnessdisabling: integer (nullable = true)\n",
      " |-- seriousnesslifethreatening: integer (nullable = true)\n",
      " |-- seriousnessother: integer (nullable = true)\n",
      " |-- receivedate: integer (nullable = true)\n",
      " |-- receiptdate: integer (nullable = true)\n",
      " |-- safetyreportid: integer (nullable = true)\n",
      "\n"
     ]
    }
   ],
   "source": [
    "patient.printSchema()"
   ]
  },
  {
   "cell_type": "code",
   "execution_count": null,
   "id": "ae0a8691",
   "metadata": {},
   "outputs": [],
   "source": [
    "# Patient Column transformations\n",
    "\n",
    "patient = patient.withColumn(\n",
    "    \"patientagegroup\",\n",
    "    (\n",
    "        F\n",
    "        .when(F.col(\"patientagegroup\") == '1', \"Neonate\")\n",
    "        .when(F.col(\"patientagegroup\") == '2', \"Infant\")\n",
    "        .when(F.col(\"patientagegroup\") == '3', \"Child\")\n",
    "        .when(F.col(\"patientagegroup\") == '4', \"Adolescent\")\n",
    "        .when(F.col(\"patientagegroup\") == '5', \"Adult\")\n",
    "        .when(F.col(\"patientagegroup\") == '6', \"Elderly\")\n",
    "        .otherwise(None)\n",
    "     )\n",
    ")\n",
    "\n",
    "# Normalize patientage\n",
    "patient = patient.withColumn(\n",
    "    \"patientage(yrs)\",\n",
    "    (\n",
    "        F\n",
    "        .when(F.col(\"patientonsetageunit\") == 800, F.col(\"patientonsetage\") * 10)\n",
    "        .when(F.col(\"patientonsetageunit\") == 801, F.col(\"patientonsetage\") * 1)\n",
    "        .when(F.col(\"patientonsetageunit\") == 802, F.col(\"patientonsetage\") / 12)\n",
    "        .when(F.col(\"patientonsetageunit\") == 803, F.col(\"patientonsetage\") / 52.143)\n",
    "        .when(F.col(\"patientonsetageunit\") == 804, F.col(\"patientonsetage\") / 365.25)\n",
    "        .when(F.col(\"patientonsetageunit\") == 805, F.col(\"patientonsetage\") / 8766)\n",
    "        .otherwise(None)\n",
    "    ).cast(t.FloatType())\n",
    ").drop(\"patientonsetageunit\", \"patientonsetage\")\n",
    "\n",
    "patient = patient.withColumn(\n",
    "    \"patientsex\",\n",
    "    (\n",
    "        F\n",
    "        .when(F.col(\"patientsex\") == 1, \"Male\")\n",
    "        .when(F.col(\"patientsex\") == 2, \"Female\")\n",
    "        .otherwise(None)\n",
    "    ).cast(t.StringType())\n",
    ")\n",
    "\n",
    "patient = patient.withColumn(\n",
    "    \"patientweight\",\n",
    "    (\n",
    "        F\n",
    "        .when(\n",
    "            F.col(\"patientweight\").rlike(r\"^\\d+(\\.\\d+)?$\"),\n",
    "            F.col(\"patientweight\").cast(t.FloatType()))\n",
    "        .otherwise(None)\n",
    "     )\n",
    ")\n",
    "\n",
    "patient = patient.withColumn(\n",
    "    \"serious\",\n",
    "    (\n",
    "        F\n",
    "        .when(F.col(\"serious\") == 1, True)\n",
    "        .when(F.col(\"serious\") == 2, False)\n",
    "        .otherwise(None)\n",
    "     )\n",
    ")\n",
    "\n",
    "patient = patient.withColumn(\n",
    "    \"seriousnessdeath\",\n",
    "    (\n",
    "        F\n",
    "        .when(F.col(\"seriousnessdeath\") == 1, True)\n",
    "        .otherwise(False)\n",
    "     )\n",
    ")\n",
    "\n",
    "patient = patient.withColumn(\n",
    "    \"seriousnesshospitalization\",\n",
    "    (\n",
    "        F\n",
    "        .when(F.col(\"seriousnesshospitalization\") == 1, True)\n",
    "        .otherwise(False)\n",
    "     )\n",
    ")\n",
    "\n",
    "patient = patient.withColumn(\n",
    "    \"seriousnessdisabling\",\n",
    "    (\n",
    "        F\n",
    "        .when(F.col(\"seriousnessdisabling\") == 1, True)\n",
    "        .otherwise(False)\n",
    "     )\n",
    ")\n",
    "\n",
    "patient = patient.withColumn(\n",
    "    \"seriousnesslifethreatening\",\n",
    "    (\n",
    "        F\n",
    "        .when(F.col(\"seriousnesslifethreatening\") == 1, True)\n",
    "        .otherwise(False)\n",
    "     )\n",
    ")\n",
    "\n",
    "patient = patient.withColumn(\n",
    "    \"seriousnessother\",\n",
    "    (\n",
    "        F\n",
    "        .when(F.col(\"seriousnessother\") == 1, True)\n",
    "        .otherwise(False)\n",
    "     )\n",
    ")"
   ]
  },
  {
   "cell_type": "code",
   "execution_count": 18,
   "id": "4af28eba",
   "metadata": {},
   "outputs": [
    {
     "name": "stdout",
     "output_type": "stream",
     "text": [
      "root\n",
      " |-- patientid: string (nullable = true)\n",
      " |-- patientagegroup: string (nullable = true)\n",
      " |-- patientsex: string (nullable = true)\n",
      " |-- patientweight: float (nullable = true)\n",
      " |-- serious: boolean (nullable = true)\n",
      " |-- seriousnessdeath: boolean (nullable = false)\n",
      " |-- seriousnesshospitalization: boolean (nullable = false)\n",
      " |-- seriousnessdisabling: boolean (nullable = false)\n",
      " |-- seriousnesslifethreatening: boolean (nullable = false)\n",
      " |-- seriousnessother: boolean (nullable = false)\n",
      " |-- receivedate: integer (nullable = true)\n",
      " |-- receiptdate: integer (nullable = true)\n",
      " |-- safetyreportid: integer (nullable = true)\n",
      " |-- patientage: float (nullable = true)\n",
      "\n"
     ]
    }
   ],
   "source": [
    "patient.printSchema()"
   ]
  },
  {
   "cell_type": "markdown",
   "id": "797ddfe8",
   "metadata": {},
   "source": [
    "### Display rows"
   ]
  },
  {
   "cell_type": "code",
   "execution_count": 19,
   "id": "d325ad94",
   "metadata": {},
   "outputs": [
    {
     "name": "stdout",
     "output_type": "stream",
     "text": [
      "+--------------------+---------------+----------+-------------+-------+----------------+--------------------------+--------------------+--------------------------+----------------+-----------+-----------+--------------+----------+\n",
      "|           patientid|patientagegroup|patientsex|patientweight|serious|seriousnessdeath|seriousnesshospitalization|seriousnessdisabling|seriousnesslifethreatening|seriousnessother|receivedate|receiptdate|safetyreportid|patientage|\n",
      "+--------------------+---------------+----------+-------------+-------+----------------+--------------------------+--------------------+--------------------------+----------------+-----------+-----------+--------------+----------+\n",
      "|c03ef5e8-17e8-4b0...|           null|    Female|         null|   null|           false|                     false|               false|                     false|           false|       null|       null|          null|      null|\n",
      "|be397b97-b8c8-42a...|           null|      Male|         null|   null|           false|                     false|               false|                     false|           false|       null|       null|          null|      24.0|\n",
      "|6677299a-53fb-4fb...|           null|      Male|        99.88|   null|           false|                     false|               false|                     false|           false|       null|       null|          null|      70.0|\n",
      "|5e3b557d-99cc-47f...|           null|    Female|         null|   null|           false|                     false|               false|                     false|           false|       null|       null|          null|      null|\n",
      "|796e8764-4d53-40f...|           null|    Female|         null|   null|           false|                     false|               false|                     false|           false|       null|       null|          null|      30.0|\n",
      "|74c636e6-c276-487...|           null|    Female|         null|   null|           false|                     false|               false|                     false|           false|       null|       null|          null|      36.0|\n",
      "|c2444bf5-8fe5-44b...|           null|      Male|         null|   null|           false|                     false|               false|                     false|           false|       null|       null|          null|      63.0|\n",
      "|31ea0f9f-0ed2-426...|        Elderly|    Female|         null|   null|           false|                     false|               false|                     false|           false|       null|       null|          null|      92.0|\n",
      "|6a4fb232-08a9-455...|           null|    Female|         null|   null|           false|                     false|               false|                     false|           false|       null|       null|          null|      57.0|\n",
      "|b4bb967f-a395-4a3...|           null|      Male|         null|   null|           false|                     false|               false|                     false|           false|       null|       null|          null|      55.0|\n",
      "|81e2ff2c-5b7c-4fb...|           null|    Female|         null|   null|           false|                     false|               false|                     false|           false|       null|       null|          null|      80.0|\n",
      "|a677d8b6-c5af-41f...|           null|      null|         null|   null|           false|                     false|               false|                     false|           false|       null|       null|          null|      null|\n",
      "|e92c1e60-7407-41c...|           null|      null|         null|   null|           false|                     false|               false|                     false|           false|       null|       null|          null|      null|\n",
      "|2b61a694-42c7-4c5...|           null|    Female|         72.0|   null|           false|                     false|               false|                     false|           false|       null|       null|          null|      64.0|\n",
      "|fab6123f-ac03-481...|           null|      Male|         null|   null|           false|                     false|               false|                     false|           false|       null|       null|          null|      46.0|\n",
      "|b6741aef-f2cf-48e...|           null|      Male|         null|   null|           false|                     false|               false|                     false|           false|       null|       null|          null|      72.0|\n",
      "|811ee04d-fbf1-452...|           null|    Female|         73.6|   null|           false|                     false|               false|                     false|           false|       null|       null|          null|      54.0|\n",
      "|ca3a2a9a-06d4-413...|           null|      Male|         null|   null|           false|                     false|               false|                     false|           false|       null|       null|          null|      48.0|\n",
      "|55c7408b-0f7f-468...|           null|    Female|         63.0|   null|           false|                     false|               false|                     false|           false|       null|       null|          null|      76.0|\n",
      "|6acc9f37-e396-4c6...|           null|    Female|         86.2|   null|           false|                     false|               false|                     false|           false|       null|       null|          null|      null|\n",
      "+--------------------+---------------+----------+-------------+-------+----------------+--------------------------+--------------------+--------------------------+----------------+-----------+-----------+--------------+----------+\n",
      "only showing top 20 rows\n",
      "\n"
     ]
    }
   ],
   "source": [
    "patient.show()"
   ]
  },
  {
   "cell_type": "code",
   "execution_count": 20,
   "id": "963b3483",
   "metadata": {},
   "outputs": [
    {
     "name": "stderr",
     "output_type": "stream",
     "text": [
      "25/04/30 13:53:24 ERROR Executor: Exception in task 3.0 in stage 19.0 (TID 618)]\n",
      "org.apache.spark.SparkException: Parquet column cannot be converted in file gs://zoomcamp-454219-ade-pipeline/data/pq/patient/2004/drug-event-part-8-of-20.parquet. Column: [patientagegroup], Expected: string, Found: INT32.\n",
      "\tat org.apache.spark.sql.errors.QueryExecutionErrors$.unsupportedSchemaColumnConvertError(QueryExecutionErrors.scala:868)\n",
      "\tat org.apache.spark.sql.execution.datasources.FileScanRDD$$anon$1.nextIterator(FileScanRDD.scala:301)\n",
      "\tat org.apache.spark.sql.execution.datasources.FileScanRDD$$anon$1.hasNext(FileScanRDD.scala:125)\n",
      "\tat org.apache.spark.sql.execution.FileSourceScanExec$$anon$1.hasNext(DataSourceScanExec.scala:594)\n",
      "\tat org.apache.spark.sql.catalyst.expressions.GeneratedClass$GeneratedIteratorForCodegenStage1.columnartorow_nextBatch_0$(Unknown Source)\n",
      "\tat org.apache.spark.sql.catalyst.expressions.GeneratedClass$GeneratedIteratorForCodegenStage1.hashAgg_doAggregateWithKeys_0$(Unknown Source)\n",
      "\tat org.apache.spark.sql.catalyst.expressions.GeneratedClass$GeneratedIteratorForCodegenStage1.processNext(Unknown Source)\n",
      "\tat org.apache.spark.sql.execution.BufferedRowIterator.hasNext(BufferedRowIterator.java:43)\n",
      "\tat org.apache.spark.sql.execution.WholeStageCodegenExec$$anon$1.hasNext(WholeStageCodegenExec.scala:760)\n",
      "\tat scala.collection.Iterator$$anon$10.hasNext(Iterator.scala:460)\n",
      "\tat org.apache.spark.shuffle.sort.BypassMergeSortShuffleWriter.write(BypassMergeSortShuffleWriter.java:140)\n",
      "\tat org.apache.spark.shuffle.ShuffleWriteProcessor.write(ShuffleWriteProcessor.scala:59)\n",
      "\tat org.apache.spark.scheduler.ShuffleMapTask.runTask(ShuffleMapTask.scala:101)\n",
      "\tat org.apache.spark.scheduler.ShuffleMapTask.runTask(ShuffleMapTask.scala:53)\n",
      "\tat org.apache.spark.TaskContext.runTaskWithListeners(TaskContext.scala:161)\n",
      "\tat org.apache.spark.scheduler.Task.run(Task.scala:139)\n",
      "\tat org.apache.spark.executor.Executor$TaskRunner.$anonfun$run$3(Executor.scala:554)\n",
      "\tat org.apache.spark.util.Utils$.tryWithSafeFinally(Utils.scala:1529)\n",
      "\tat org.apache.spark.executor.Executor$TaskRunner.run(Executor.scala:557)\n",
      "\tat java.base/java.util.concurrent.ThreadPoolExecutor.runWorker(ThreadPoolExecutor.java:1128)\n",
      "\tat java.base/java.util.concurrent.ThreadPoolExecutor$Worker.run(ThreadPoolExecutor.java:628)\n",
      "\tat java.base/java.lang.Thread.run(Thread.java:829)\n",
      "Caused by: org.apache.spark.sql.execution.datasources.SchemaColumnConvertNotSupportedException: column: [patientagegroup], physicalType: INT32, logicalType: string\n",
      "\tat org.apache.spark.sql.execution.datasources.parquet.ParquetVectorUpdaterFactory.constructConvertNotSupportedException(ParquetVectorUpdaterFactory.java:1136)\n",
      "\tat org.apache.spark.sql.execution.datasources.parquet.ParquetVectorUpdaterFactory.getUpdater(ParquetVectorUpdaterFactory.java:199)\n",
      "\tat org.apache.spark.sql.execution.datasources.parquet.VectorizedColumnReader.readBatch(VectorizedColumnReader.java:175)\n",
      "\tat org.apache.spark.sql.execution.datasources.parquet.VectorizedParquetRecordReader.nextBatch(VectorizedParquetRecordReader.java:328)\n",
      "\tat org.apache.spark.sql.execution.datasources.parquet.VectorizedParquetRecordReader.nextKeyValue(VectorizedParquetRecordReader.java:219)\n",
      "\tat org.apache.spark.sql.execution.datasources.RecordReaderIterator.hasNext(RecordReaderIterator.scala:39)\n",
      "\tat org.apache.spark.sql.execution.datasources.FileScanRDD$$anon$1.hasNext(FileScanRDD.scala:125)\n",
      "\tat org.apache.spark.sql.execution.datasources.FileScanRDD$$anon$1.nextIterator(FileScanRDD.scala:297)\n",
      "\t... 20 more\n",
      "25/04/30 13:53:24 WARN TaskSetManager: Lost task 3.0 in stage 19.0 (TID 618) (c18afd726dd1 executor driver): org.apache.spark.SparkException: Parquet column cannot be converted in file gs://zoomcamp-454219-ade-pipeline/data/pq/patient/2004/drug-event-part-8-of-20.parquet. Column: [patientagegroup], Expected: string, Found: INT32.\n",
      "\tat org.apache.spark.sql.errors.QueryExecutionErrors$.unsupportedSchemaColumnConvertError(QueryExecutionErrors.scala:868)\n",
      "\tat org.apache.spark.sql.execution.datasources.FileScanRDD$$anon$1.nextIterator(FileScanRDD.scala:301)\n",
      "\tat org.apache.spark.sql.execution.datasources.FileScanRDD$$anon$1.hasNext(FileScanRDD.scala:125)\n",
      "\tat org.apache.spark.sql.execution.FileSourceScanExec$$anon$1.hasNext(DataSourceScanExec.scala:594)\n",
      "\tat org.apache.spark.sql.catalyst.expressions.GeneratedClass$GeneratedIteratorForCodegenStage1.columnartorow_nextBatch_0$(Unknown Source)\n",
      "\tat org.apache.spark.sql.catalyst.expressions.GeneratedClass$GeneratedIteratorForCodegenStage1.hashAgg_doAggregateWithKeys_0$(Unknown Source)\n",
      "\tat org.apache.spark.sql.catalyst.expressions.GeneratedClass$GeneratedIteratorForCodegenStage1.processNext(Unknown Source)\n",
      "\tat org.apache.spark.sql.execution.BufferedRowIterator.hasNext(BufferedRowIterator.java:43)\n",
      "\tat org.apache.spark.sql.execution.WholeStageCodegenExec$$anon$1.hasNext(WholeStageCodegenExec.scala:760)\n",
      "\tat scala.collection.Iterator$$anon$10.hasNext(Iterator.scala:460)\n",
      "\tat org.apache.spark.shuffle.sort.BypassMergeSortShuffleWriter.write(BypassMergeSortShuffleWriter.java:140)\n",
      "\tat org.apache.spark.shuffle.ShuffleWriteProcessor.write(ShuffleWriteProcessor.scala:59)\n",
      "\tat org.apache.spark.scheduler.ShuffleMapTask.runTask(ShuffleMapTask.scala:101)\n",
      "\tat org.apache.spark.scheduler.ShuffleMapTask.runTask(ShuffleMapTask.scala:53)\n",
      "\tat org.apache.spark.TaskContext.runTaskWithListeners(TaskContext.scala:161)\n",
      "\tat org.apache.spark.scheduler.Task.run(Task.scala:139)\n",
      "\tat org.apache.spark.executor.Executor$TaskRunner.$anonfun$run$3(Executor.scala:554)\n",
      "\tat org.apache.spark.util.Utils$.tryWithSafeFinally(Utils.scala:1529)\n",
      "\tat org.apache.spark.executor.Executor$TaskRunner.run(Executor.scala:557)\n",
      "\tat java.base/java.util.concurrent.ThreadPoolExecutor.runWorker(ThreadPoolExecutor.java:1128)\n",
      "\tat java.base/java.util.concurrent.ThreadPoolExecutor$Worker.run(ThreadPoolExecutor.java:628)\n",
      "\tat java.base/java.lang.Thread.run(Thread.java:829)\n",
      "Caused by: org.apache.spark.sql.execution.datasources.SchemaColumnConvertNotSupportedException: column: [patientagegroup], physicalType: INT32, logicalType: string\n",
      "\tat org.apache.spark.sql.execution.datasources.parquet.ParquetVectorUpdaterFactory.constructConvertNotSupportedException(ParquetVectorUpdaterFactory.java:1136)\n",
      "\tat org.apache.spark.sql.execution.datasources.parquet.ParquetVectorUpdaterFactory.getUpdater(ParquetVectorUpdaterFactory.java:199)\n",
      "\tat org.apache.spark.sql.execution.datasources.parquet.VectorizedColumnReader.readBatch(VectorizedColumnReader.java:175)\n",
      "\tat org.apache.spark.sql.execution.datasources.parquet.VectorizedParquetRecordReader.nextBatch(VectorizedParquetRecordReader.java:328)\n",
      "\tat org.apache.spark.sql.execution.datasources.parquet.VectorizedParquetRecordReader.nextKeyValue(VectorizedParquetRecordReader.java:219)\n",
      "\tat org.apache.spark.sql.execution.datasources.RecordReaderIterator.hasNext(RecordReaderIterator.scala:39)\n",
      "\tat org.apache.spark.sql.execution.datasources.FileScanRDD$$anon$1.hasNext(FileScanRDD.scala:125)\n",
      "\tat org.apache.spark.sql.execution.datasources.FileScanRDD$$anon$1.nextIterator(FileScanRDD.scala:297)\n",
      "\t... 20 more\n",
      "\n",
      "25/04/30 13:53:24 ERROR TaskSetManager: Task 3 in stage 19.0 failed 1 times; aborting job\n",
      "25/04/30 13:53:24 WARN TaskSetManager: Lost task 15.0 in stage 19.0 (TID 630) (c18afd726dd1 executor driver): TaskKilled (Stage cancelled)\n",
      "25/04/30 13:53:24 WARN TaskSetManager: Lost task 2.0 in stage 19.0 (TID 617) (c18afd726dd1 executor driver): TaskKilled (Stage cancelled)\n",
      "25/04/30 13:53:24 WARN TaskSetManager: Lost task 1.0 in stage 19.0 (TID 616) (c18afd726dd1 executor driver): TaskKilled (Stage cancelled)\n",
      "25/04/30 13:53:24 WARN TaskSetManager: Lost task 17.0 in stage 19.0 (TID 632) (c18afd726dd1 executor driver): TaskKilled (Stage cancelled)\n",
      "25/04/30 13:53:24 WARN TaskSetManager: Lost task 13.0 in stage 19.0 (TID 628) (c18afd726dd1 executor driver): TaskKilled (Stage cancelled)\n",
      "25/04/30 13:53:24 WARN TaskSetManager: Lost task 11.0 in stage 19.0 (TID 626) (c18afd726dd1 executor driver): TaskKilled (Stage cancelled)\n",
      "25/04/30 13:53:24 WARN TaskSetManager: Lost task 4.0 in stage 19.0 (TID 619) (c18afd726dd1 executor driver): TaskKilled (Stage cancelled)\n",
      "25/04/30 13:53:24 WARN TaskSetManager: Lost task 10.0 in stage 19.0 (TID 625) (c18afd726dd1 executor driver): TaskKilled (Stage cancelled)\n",
      "25/04/30 13:53:24 WARN TaskSetManager: Lost task 6.0 in stage 19.0 (TID 621) (c18afd726dd1 executor driver): TaskKilled (Stage cancelled)\n",
      "25/04/30 13:53:24 WARN TaskSetManager: Lost task 16.0 in stage 19.0 (TID 631) (c18afd726dd1 executor driver): TaskKilled (Stage cancelled)\n",
      "25/04/30 13:53:24 WARN TaskSetManager: Lost task 9.0 in stage 19.0 (TID 624) (c18afd726dd1 executor driver): TaskKilled (Stage cancelled)\n",
      "25/04/30 13:53:24 WARN TaskSetManager: Lost task 8.0 in stage 19.0 (TID 623) (c18afd726dd1 executor driver): TaskKilled (Stage cancelled)\n",
      "25/04/30 13:53:24 WARN TaskSetManager: Lost task 0.0 in stage 19.0 (TID 615) (c18afd726dd1 executor driver): TaskKilled (Stage cancelled)\n",
      "25/04/30 13:53:24 WARN TaskSetManager: Lost task 18.0 in stage 19.0 (TID 633) (c18afd726dd1 executor driver): TaskKilled (Stage cancelled)\n"
     ]
    },
    {
     "ename": "Py4JJavaError",
     "evalue": "An error occurred while calling o241.showString.\n: org.apache.spark.SparkException: Job aborted due to stage failure: Task 3 in stage 19.0 failed 1 times, most recent failure: Lost task 3.0 in stage 19.0 (TID 618) (c18afd726dd1 executor driver): org.apache.spark.SparkException: Parquet column cannot be converted in file gs://zoomcamp-454219-ade-pipeline/data/pq/patient/2004/drug-event-part-8-of-20.parquet. Column: [patientagegroup], Expected: string, Found: INT32.\n\tat org.apache.spark.sql.errors.QueryExecutionErrors$.unsupportedSchemaColumnConvertError(QueryExecutionErrors.scala:868)\n\tat org.apache.spark.sql.execution.datasources.FileScanRDD$$anon$1.nextIterator(FileScanRDD.scala:301)\n\tat org.apache.spark.sql.execution.datasources.FileScanRDD$$anon$1.hasNext(FileScanRDD.scala:125)\n\tat org.apache.spark.sql.execution.FileSourceScanExec$$anon$1.hasNext(DataSourceScanExec.scala:594)\n\tat org.apache.spark.sql.catalyst.expressions.GeneratedClass$GeneratedIteratorForCodegenStage1.columnartorow_nextBatch_0$(Unknown Source)\n\tat org.apache.spark.sql.catalyst.expressions.GeneratedClass$GeneratedIteratorForCodegenStage1.hashAgg_doAggregateWithKeys_0$(Unknown Source)\n\tat org.apache.spark.sql.catalyst.expressions.GeneratedClass$GeneratedIteratorForCodegenStage1.processNext(Unknown Source)\n\tat org.apache.spark.sql.execution.BufferedRowIterator.hasNext(BufferedRowIterator.java:43)\n\tat org.apache.spark.sql.execution.WholeStageCodegenExec$$anon$1.hasNext(WholeStageCodegenExec.scala:760)\n\tat scala.collection.Iterator$$anon$10.hasNext(Iterator.scala:460)\n\tat org.apache.spark.shuffle.sort.BypassMergeSortShuffleWriter.write(BypassMergeSortShuffleWriter.java:140)\n\tat org.apache.spark.shuffle.ShuffleWriteProcessor.write(ShuffleWriteProcessor.scala:59)\n\tat org.apache.spark.scheduler.ShuffleMapTask.runTask(ShuffleMapTask.scala:101)\n\tat org.apache.spark.scheduler.ShuffleMapTask.runTask(ShuffleMapTask.scala:53)\n\tat org.apache.spark.TaskContext.runTaskWithListeners(TaskContext.scala:161)\n\tat org.apache.spark.scheduler.Task.run(Task.scala:139)\n\tat org.apache.spark.executor.Executor$TaskRunner.$anonfun$run$3(Executor.scala:554)\n\tat org.apache.spark.util.Utils$.tryWithSafeFinally(Utils.scala:1529)\n\tat org.apache.spark.executor.Executor$TaskRunner.run(Executor.scala:557)\n\tat java.base/java.util.concurrent.ThreadPoolExecutor.runWorker(ThreadPoolExecutor.java:1128)\n\tat java.base/java.util.concurrent.ThreadPoolExecutor$Worker.run(ThreadPoolExecutor.java:628)\n\tat java.base/java.lang.Thread.run(Thread.java:829)\nCaused by: org.apache.spark.sql.execution.datasources.SchemaColumnConvertNotSupportedException: column: [patientagegroup], physicalType: INT32, logicalType: string\n\tat org.apache.spark.sql.execution.datasources.parquet.ParquetVectorUpdaterFactory.constructConvertNotSupportedException(ParquetVectorUpdaterFactory.java:1136)\n\tat org.apache.spark.sql.execution.datasources.parquet.ParquetVectorUpdaterFactory.getUpdater(ParquetVectorUpdaterFactory.java:199)\n\tat org.apache.spark.sql.execution.datasources.parquet.VectorizedColumnReader.readBatch(VectorizedColumnReader.java:175)\n\tat org.apache.spark.sql.execution.datasources.parquet.VectorizedParquetRecordReader.nextBatch(VectorizedParquetRecordReader.java:328)\n\tat org.apache.spark.sql.execution.datasources.parquet.VectorizedParquetRecordReader.nextKeyValue(VectorizedParquetRecordReader.java:219)\n\tat org.apache.spark.sql.execution.datasources.RecordReaderIterator.hasNext(RecordReaderIterator.scala:39)\n\tat org.apache.spark.sql.execution.datasources.FileScanRDD$$anon$1.hasNext(FileScanRDD.scala:125)\n\tat org.apache.spark.sql.execution.datasources.FileScanRDD$$anon$1.nextIterator(FileScanRDD.scala:297)\n\t... 20 more\n\nDriver stacktrace:\n\tat org.apache.spark.scheduler.DAGScheduler.failJobAndIndependentStages(DAGScheduler.scala:2790)\n\tat org.apache.spark.scheduler.DAGScheduler.$anonfun$abortStage$2(DAGScheduler.scala:2726)\n\tat org.apache.spark.scheduler.DAGScheduler.$anonfun$abortStage$2$adapted(DAGScheduler.scala:2725)\n\tat scala.collection.mutable.ResizableArray.foreach(ResizableArray.scala:62)\n\tat scala.collection.mutable.ResizableArray.foreach$(ResizableArray.scala:55)\n\tat scala.collection.mutable.ArrayBuffer.foreach(ArrayBuffer.scala:49)\n\tat org.apache.spark.scheduler.DAGScheduler.abortStage(DAGScheduler.scala:2725)\n\tat org.apache.spark.scheduler.DAGScheduler.$anonfun$handleTaskSetFailed$1(DAGScheduler.scala:1211)\n\tat org.apache.spark.scheduler.DAGScheduler.$anonfun$handleTaskSetFailed$1$adapted(DAGScheduler.scala:1211)\n\tat scala.Option.foreach(Option.scala:407)\n\tat org.apache.spark.scheduler.DAGScheduler.handleTaskSetFailed(DAGScheduler.scala:1211)\n\tat org.apache.spark.scheduler.DAGSchedulerEventProcessLoop.doOnReceive(DAGScheduler.scala:2989)\n\tat org.apache.spark.scheduler.DAGSchedulerEventProcessLoop.onReceive(DAGScheduler.scala:2928)\n\tat org.apache.spark.scheduler.DAGSchedulerEventProcessLoop.onReceive(DAGScheduler.scala:2917)\n\tat org.apache.spark.util.EventLoop$$anon$1.run(EventLoop.scala:49)\nCaused by: org.apache.spark.SparkException: Parquet column cannot be converted in file gs://zoomcamp-454219-ade-pipeline/data/pq/patient/2004/drug-event-part-8-of-20.parquet. Column: [patientagegroup], Expected: string, Found: INT32.\n\tat org.apache.spark.sql.errors.QueryExecutionErrors$.unsupportedSchemaColumnConvertError(QueryExecutionErrors.scala:868)\n\tat org.apache.spark.sql.execution.datasources.FileScanRDD$$anon$1.nextIterator(FileScanRDD.scala:301)\n\tat org.apache.spark.sql.execution.datasources.FileScanRDD$$anon$1.hasNext(FileScanRDD.scala:125)\n\tat org.apache.spark.sql.execution.FileSourceScanExec$$anon$1.hasNext(DataSourceScanExec.scala:594)\n\tat org.apache.spark.sql.catalyst.expressions.GeneratedClass$GeneratedIteratorForCodegenStage1.columnartorow_nextBatch_0$(Unknown Source)\n\tat org.apache.spark.sql.catalyst.expressions.GeneratedClass$GeneratedIteratorForCodegenStage1.hashAgg_doAggregateWithKeys_0$(Unknown Source)\n\tat org.apache.spark.sql.catalyst.expressions.GeneratedClass$GeneratedIteratorForCodegenStage1.processNext(Unknown Source)\n\tat org.apache.spark.sql.execution.BufferedRowIterator.hasNext(BufferedRowIterator.java:43)\n\tat org.apache.spark.sql.execution.WholeStageCodegenExec$$anon$1.hasNext(WholeStageCodegenExec.scala:760)\n\tat scala.collection.Iterator$$anon$10.hasNext(Iterator.scala:460)\n\tat org.apache.spark.shuffle.sort.BypassMergeSortShuffleWriter.write(BypassMergeSortShuffleWriter.java:140)\n\tat org.apache.spark.shuffle.ShuffleWriteProcessor.write(ShuffleWriteProcessor.scala:59)\n\tat org.apache.spark.scheduler.ShuffleMapTask.runTask(ShuffleMapTask.scala:101)\n\tat org.apache.spark.scheduler.ShuffleMapTask.runTask(ShuffleMapTask.scala:53)\n\tat org.apache.spark.TaskContext.runTaskWithListeners(TaskContext.scala:161)\n\tat org.apache.spark.scheduler.Task.run(Task.scala:139)\n\tat org.apache.spark.executor.Executor$TaskRunner.$anonfun$run$3(Executor.scala:554)\n\tat org.apache.spark.util.Utils$.tryWithSafeFinally(Utils.scala:1529)\n\tat org.apache.spark.executor.Executor$TaskRunner.run(Executor.scala:557)\n\tat java.base/java.util.concurrent.ThreadPoolExecutor.runWorker(ThreadPoolExecutor.java:1128)\n\tat java.base/java.util.concurrent.ThreadPoolExecutor$Worker.run(ThreadPoolExecutor.java:628)\n\tat java.base/java.lang.Thread.run(Thread.java:829)\nCaused by: org.apache.spark.sql.execution.datasources.SchemaColumnConvertNotSupportedException: column: [patientagegroup], physicalType: INT32, logicalType: string\n\tat org.apache.spark.sql.execution.datasources.parquet.ParquetVectorUpdaterFactory.constructConvertNotSupportedException(ParquetVectorUpdaterFactory.java:1136)\n\tat org.apache.spark.sql.execution.datasources.parquet.ParquetVectorUpdaterFactory.getUpdater(ParquetVectorUpdaterFactory.java:199)\n\tat org.apache.spark.sql.execution.datasources.parquet.VectorizedColumnReader.readBatch(VectorizedColumnReader.java:175)\n\tat org.apache.spark.sql.execution.datasources.parquet.VectorizedParquetRecordReader.nextBatch(VectorizedParquetRecordReader.java:328)\n\tat org.apache.spark.sql.execution.datasources.parquet.VectorizedParquetRecordReader.nextKeyValue(VectorizedParquetRecordReader.java:219)\n\tat org.apache.spark.sql.execution.datasources.RecordReaderIterator.hasNext(RecordReaderIterator.scala:39)\n\tat org.apache.spark.sql.execution.datasources.FileScanRDD$$anon$1.hasNext(FileScanRDD.scala:125)\n\tat org.apache.spark.sql.execution.datasources.FileScanRDD$$anon$1.nextIterator(FileScanRDD.scala:297)\n\t... 20 more\n",
     "output_type": "error",
     "traceback": [
      "\u001b[0;31m---------------------------------------------------------------------------\u001b[0m",
      "\u001b[0;31mPy4JJavaError\u001b[0m                             Traceback (most recent call last)",
      "Cell \u001b[0;32mIn[20], line 1\u001b[0m\n\u001b[0;32m----> 1\u001b[0m \u001b[43mpatient\u001b[49m\u001b[38;5;241;43m.\u001b[39;49m\u001b[43mgroupBy\u001b[49m\u001b[43m(\u001b[49m\u001b[38;5;124;43m\"\u001b[39;49m\u001b[38;5;124;43mpatientagegroup\u001b[39;49m\u001b[38;5;124;43m\"\u001b[39;49m\u001b[43m)\u001b[49m\u001b[38;5;241;43m.\u001b[39;49m\u001b[43mcount\u001b[49m\u001b[43m(\u001b[49m\u001b[43m)\u001b[49m\u001b[38;5;241;43m.\u001b[39;49m\u001b[43mshow\u001b[49m\u001b[43m(\u001b[49m\u001b[43m)\u001b[49m\n",
      "File \u001b[0;32m/usr/local/lib/python3.9/dist-packages/pyspark/sql/dataframe.py:901\u001b[0m, in \u001b[0;36mDataFrame.show\u001b[0;34m(self, n, truncate, vertical)\u001b[0m\n\u001b[1;32m    895\u001b[0m     \u001b[38;5;28;01mraise\u001b[39;00m PySparkTypeError(\n\u001b[1;32m    896\u001b[0m         error_class\u001b[38;5;241m=\u001b[39m\u001b[38;5;124m\"\u001b[39m\u001b[38;5;124mNOT_BOOL\u001b[39m\u001b[38;5;124m\"\u001b[39m,\n\u001b[1;32m    897\u001b[0m         message_parameters\u001b[38;5;241m=\u001b[39m{\u001b[38;5;124m\"\u001b[39m\u001b[38;5;124marg_name\u001b[39m\u001b[38;5;124m\"\u001b[39m: \u001b[38;5;124m\"\u001b[39m\u001b[38;5;124mvertical\u001b[39m\u001b[38;5;124m\"\u001b[39m, \u001b[38;5;124m\"\u001b[39m\u001b[38;5;124marg_type\u001b[39m\u001b[38;5;124m\"\u001b[39m: \u001b[38;5;28mtype\u001b[39m(vertical)\u001b[38;5;241m.\u001b[39m\u001b[38;5;18m__name__\u001b[39m},\n\u001b[1;32m    898\u001b[0m     )\n\u001b[1;32m    900\u001b[0m \u001b[38;5;28;01mif\u001b[39;00m \u001b[38;5;28misinstance\u001b[39m(truncate, \u001b[38;5;28mbool\u001b[39m) \u001b[38;5;129;01mand\u001b[39;00m truncate:\n\u001b[0;32m--> 901\u001b[0m     \u001b[38;5;28mprint\u001b[39m(\u001b[38;5;28;43mself\u001b[39;49m\u001b[38;5;241;43m.\u001b[39;49m\u001b[43m_jdf\u001b[49m\u001b[38;5;241;43m.\u001b[39;49m\u001b[43mshowString\u001b[49m\u001b[43m(\u001b[49m\u001b[43mn\u001b[49m\u001b[43m,\u001b[49m\u001b[43m \u001b[49m\u001b[38;5;241;43m20\u001b[39;49m\u001b[43m,\u001b[49m\u001b[43m \u001b[49m\u001b[43mvertical\u001b[49m\u001b[43m)\u001b[49m)\n\u001b[1;32m    902\u001b[0m \u001b[38;5;28;01melse\u001b[39;00m:\n\u001b[1;32m    903\u001b[0m     \u001b[38;5;28;01mtry\u001b[39;00m:\n",
      "File \u001b[0;32m/usr/local/lib/python3.9/dist-packages/py4j/java_gateway.py:1322\u001b[0m, in \u001b[0;36mJavaMember.__call__\u001b[0;34m(self, *args)\u001b[0m\n\u001b[1;32m   1316\u001b[0m command \u001b[38;5;241m=\u001b[39m proto\u001b[38;5;241m.\u001b[39mCALL_COMMAND_NAME \u001b[38;5;241m+\u001b[39m\\\n\u001b[1;32m   1317\u001b[0m     \u001b[38;5;28mself\u001b[39m\u001b[38;5;241m.\u001b[39mcommand_header \u001b[38;5;241m+\u001b[39m\\\n\u001b[1;32m   1318\u001b[0m     args_command \u001b[38;5;241m+\u001b[39m\\\n\u001b[1;32m   1319\u001b[0m     proto\u001b[38;5;241m.\u001b[39mEND_COMMAND_PART\n\u001b[1;32m   1321\u001b[0m answer \u001b[38;5;241m=\u001b[39m \u001b[38;5;28mself\u001b[39m\u001b[38;5;241m.\u001b[39mgateway_client\u001b[38;5;241m.\u001b[39msend_command(command)\n\u001b[0;32m-> 1322\u001b[0m return_value \u001b[38;5;241m=\u001b[39m \u001b[43mget_return_value\u001b[49m\u001b[43m(\u001b[49m\n\u001b[1;32m   1323\u001b[0m \u001b[43m    \u001b[49m\u001b[43manswer\u001b[49m\u001b[43m,\u001b[49m\u001b[43m \u001b[49m\u001b[38;5;28;43mself\u001b[39;49m\u001b[38;5;241;43m.\u001b[39;49m\u001b[43mgateway_client\u001b[49m\u001b[43m,\u001b[49m\u001b[43m \u001b[49m\u001b[38;5;28;43mself\u001b[39;49m\u001b[38;5;241;43m.\u001b[39;49m\u001b[43mtarget_id\u001b[49m\u001b[43m,\u001b[49m\u001b[43m \u001b[49m\u001b[38;5;28;43mself\u001b[39;49m\u001b[38;5;241;43m.\u001b[39;49m\u001b[43mname\u001b[49m\u001b[43m)\u001b[49m\n\u001b[1;32m   1325\u001b[0m \u001b[38;5;28;01mfor\u001b[39;00m temp_arg \u001b[38;5;129;01min\u001b[39;00m temp_args:\n\u001b[1;32m   1326\u001b[0m     \u001b[38;5;28;01mif\u001b[39;00m \u001b[38;5;28mhasattr\u001b[39m(temp_arg, \u001b[38;5;124m\"\u001b[39m\u001b[38;5;124m_detach\u001b[39m\u001b[38;5;124m\"\u001b[39m):\n",
      "File \u001b[0;32m/usr/local/lib/python3.9/dist-packages/pyspark/errors/exceptions/captured.py:169\u001b[0m, in \u001b[0;36mcapture_sql_exception.<locals>.deco\u001b[0;34m(*a, **kw)\u001b[0m\n\u001b[1;32m    167\u001b[0m \u001b[38;5;28;01mdef\u001b[39;00m\u001b[38;5;250m \u001b[39m\u001b[38;5;21mdeco\u001b[39m(\u001b[38;5;241m*\u001b[39ma: Any, \u001b[38;5;241m*\u001b[39m\u001b[38;5;241m*\u001b[39mkw: Any) \u001b[38;5;241m-\u001b[39m\u001b[38;5;241m>\u001b[39m Any:\n\u001b[1;32m    168\u001b[0m     \u001b[38;5;28;01mtry\u001b[39;00m:\n\u001b[0;32m--> 169\u001b[0m         \u001b[38;5;28;01mreturn\u001b[39;00m \u001b[43mf\u001b[49m\u001b[43m(\u001b[49m\u001b[38;5;241;43m*\u001b[39;49m\u001b[43ma\u001b[49m\u001b[43m,\u001b[49m\u001b[43m \u001b[49m\u001b[38;5;241;43m*\u001b[39;49m\u001b[38;5;241;43m*\u001b[39;49m\u001b[43mkw\u001b[49m\u001b[43m)\u001b[49m\n\u001b[1;32m    170\u001b[0m     \u001b[38;5;28;01mexcept\u001b[39;00m Py4JJavaError \u001b[38;5;28;01mas\u001b[39;00m e:\n\u001b[1;32m    171\u001b[0m         converted \u001b[38;5;241m=\u001b[39m convert_exception(e\u001b[38;5;241m.\u001b[39mjava_exception)\n",
      "File \u001b[0;32m/usr/local/lib/python3.9/dist-packages/py4j/protocol.py:326\u001b[0m, in \u001b[0;36mget_return_value\u001b[0;34m(answer, gateway_client, target_id, name)\u001b[0m\n\u001b[1;32m    324\u001b[0m value \u001b[38;5;241m=\u001b[39m OUTPUT_CONVERTER[\u001b[38;5;28mtype\u001b[39m](answer[\u001b[38;5;241m2\u001b[39m:], gateway_client)\n\u001b[1;32m    325\u001b[0m \u001b[38;5;28;01mif\u001b[39;00m answer[\u001b[38;5;241m1\u001b[39m] \u001b[38;5;241m==\u001b[39m REFERENCE_TYPE:\n\u001b[0;32m--> 326\u001b[0m     \u001b[38;5;28;01mraise\u001b[39;00m Py4JJavaError(\n\u001b[1;32m    327\u001b[0m         \u001b[38;5;124m\"\u001b[39m\u001b[38;5;124mAn error occurred while calling \u001b[39m\u001b[38;5;132;01m{0}\u001b[39;00m\u001b[38;5;132;01m{1}\u001b[39;00m\u001b[38;5;132;01m{2}\u001b[39;00m\u001b[38;5;124m.\u001b[39m\u001b[38;5;130;01m\\n\u001b[39;00m\u001b[38;5;124m\"\u001b[39m\u001b[38;5;241m.\u001b[39m\n\u001b[1;32m    328\u001b[0m         \u001b[38;5;28mformat\u001b[39m(target_id, \u001b[38;5;124m\"\u001b[39m\u001b[38;5;124m.\u001b[39m\u001b[38;5;124m\"\u001b[39m, name), value)\n\u001b[1;32m    329\u001b[0m \u001b[38;5;28;01melse\u001b[39;00m:\n\u001b[1;32m    330\u001b[0m     \u001b[38;5;28;01mraise\u001b[39;00m Py4JError(\n\u001b[1;32m    331\u001b[0m         \u001b[38;5;124m\"\u001b[39m\u001b[38;5;124mAn error occurred while calling \u001b[39m\u001b[38;5;132;01m{0}\u001b[39;00m\u001b[38;5;132;01m{1}\u001b[39;00m\u001b[38;5;132;01m{2}\u001b[39;00m\u001b[38;5;124m. Trace:\u001b[39m\u001b[38;5;130;01m\\n\u001b[39;00m\u001b[38;5;132;01m{3}\u001b[39;00m\u001b[38;5;130;01m\\n\u001b[39;00m\u001b[38;5;124m\"\u001b[39m\u001b[38;5;241m.\u001b[39m\n\u001b[1;32m    332\u001b[0m         \u001b[38;5;28mformat\u001b[39m(target_id, \u001b[38;5;124m\"\u001b[39m\u001b[38;5;124m.\u001b[39m\u001b[38;5;124m\"\u001b[39m, name, value))\n",
      "\u001b[0;31mPy4JJavaError\u001b[0m: An error occurred while calling o241.showString.\n: org.apache.spark.SparkException: Job aborted due to stage failure: Task 3 in stage 19.0 failed 1 times, most recent failure: Lost task 3.0 in stage 19.0 (TID 618) (c18afd726dd1 executor driver): org.apache.spark.SparkException: Parquet column cannot be converted in file gs://zoomcamp-454219-ade-pipeline/data/pq/patient/2004/drug-event-part-8-of-20.parquet. Column: [patientagegroup], Expected: string, Found: INT32.\n\tat org.apache.spark.sql.errors.QueryExecutionErrors$.unsupportedSchemaColumnConvertError(QueryExecutionErrors.scala:868)\n\tat org.apache.spark.sql.execution.datasources.FileScanRDD$$anon$1.nextIterator(FileScanRDD.scala:301)\n\tat org.apache.spark.sql.execution.datasources.FileScanRDD$$anon$1.hasNext(FileScanRDD.scala:125)\n\tat org.apache.spark.sql.execution.FileSourceScanExec$$anon$1.hasNext(DataSourceScanExec.scala:594)\n\tat org.apache.spark.sql.catalyst.expressions.GeneratedClass$GeneratedIteratorForCodegenStage1.columnartorow_nextBatch_0$(Unknown Source)\n\tat org.apache.spark.sql.catalyst.expressions.GeneratedClass$GeneratedIteratorForCodegenStage1.hashAgg_doAggregateWithKeys_0$(Unknown Source)\n\tat org.apache.spark.sql.catalyst.expressions.GeneratedClass$GeneratedIteratorForCodegenStage1.processNext(Unknown Source)\n\tat org.apache.spark.sql.execution.BufferedRowIterator.hasNext(BufferedRowIterator.java:43)\n\tat org.apache.spark.sql.execution.WholeStageCodegenExec$$anon$1.hasNext(WholeStageCodegenExec.scala:760)\n\tat scala.collection.Iterator$$anon$10.hasNext(Iterator.scala:460)\n\tat org.apache.spark.shuffle.sort.BypassMergeSortShuffleWriter.write(BypassMergeSortShuffleWriter.java:140)\n\tat org.apache.spark.shuffle.ShuffleWriteProcessor.write(ShuffleWriteProcessor.scala:59)\n\tat org.apache.spark.scheduler.ShuffleMapTask.runTask(ShuffleMapTask.scala:101)\n\tat org.apache.spark.scheduler.ShuffleMapTask.runTask(ShuffleMapTask.scala:53)\n\tat org.apache.spark.TaskContext.runTaskWithListeners(TaskContext.scala:161)\n\tat org.apache.spark.scheduler.Task.run(Task.scala:139)\n\tat org.apache.spark.executor.Executor$TaskRunner.$anonfun$run$3(Executor.scala:554)\n\tat org.apache.spark.util.Utils$.tryWithSafeFinally(Utils.scala:1529)\n\tat org.apache.spark.executor.Executor$TaskRunner.run(Executor.scala:557)\n\tat java.base/java.util.concurrent.ThreadPoolExecutor.runWorker(ThreadPoolExecutor.java:1128)\n\tat java.base/java.util.concurrent.ThreadPoolExecutor$Worker.run(ThreadPoolExecutor.java:628)\n\tat java.base/java.lang.Thread.run(Thread.java:829)\nCaused by: org.apache.spark.sql.execution.datasources.SchemaColumnConvertNotSupportedException: column: [patientagegroup], physicalType: INT32, logicalType: string\n\tat org.apache.spark.sql.execution.datasources.parquet.ParquetVectorUpdaterFactory.constructConvertNotSupportedException(ParquetVectorUpdaterFactory.java:1136)\n\tat org.apache.spark.sql.execution.datasources.parquet.ParquetVectorUpdaterFactory.getUpdater(ParquetVectorUpdaterFactory.java:199)\n\tat org.apache.spark.sql.execution.datasources.parquet.VectorizedColumnReader.readBatch(VectorizedColumnReader.java:175)\n\tat org.apache.spark.sql.execution.datasources.parquet.VectorizedParquetRecordReader.nextBatch(VectorizedParquetRecordReader.java:328)\n\tat org.apache.spark.sql.execution.datasources.parquet.VectorizedParquetRecordReader.nextKeyValue(VectorizedParquetRecordReader.java:219)\n\tat org.apache.spark.sql.execution.datasources.RecordReaderIterator.hasNext(RecordReaderIterator.scala:39)\n\tat org.apache.spark.sql.execution.datasources.FileScanRDD$$anon$1.hasNext(FileScanRDD.scala:125)\n\tat org.apache.spark.sql.execution.datasources.FileScanRDD$$anon$1.nextIterator(FileScanRDD.scala:297)\n\t... 20 more\n\nDriver stacktrace:\n\tat org.apache.spark.scheduler.DAGScheduler.failJobAndIndependentStages(DAGScheduler.scala:2790)\n\tat org.apache.spark.scheduler.DAGScheduler.$anonfun$abortStage$2(DAGScheduler.scala:2726)\n\tat org.apache.spark.scheduler.DAGScheduler.$anonfun$abortStage$2$adapted(DAGScheduler.scala:2725)\n\tat scala.collection.mutable.ResizableArray.foreach(ResizableArray.scala:62)\n\tat scala.collection.mutable.ResizableArray.foreach$(ResizableArray.scala:55)\n\tat scala.collection.mutable.ArrayBuffer.foreach(ArrayBuffer.scala:49)\n\tat org.apache.spark.scheduler.DAGScheduler.abortStage(DAGScheduler.scala:2725)\n\tat org.apache.spark.scheduler.DAGScheduler.$anonfun$handleTaskSetFailed$1(DAGScheduler.scala:1211)\n\tat org.apache.spark.scheduler.DAGScheduler.$anonfun$handleTaskSetFailed$1$adapted(DAGScheduler.scala:1211)\n\tat scala.Option.foreach(Option.scala:407)\n\tat org.apache.spark.scheduler.DAGScheduler.handleTaskSetFailed(DAGScheduler.scala:1211)\n\tat org.apache.spark.scheduler.DAGSchedulerEventProcessLoop.doOnReceive(DAGScheduler.scala:2989)\n\tat org.apache.spark.scheduler.DAGSchedulerEventProcessLoop.onReceive(DAGScheduler.scala:2928)\n\tat org.apache.spark.scheduler.DAGSchedulerEventProcessLoop.onReceive(DAGScheduler.scala:2917)\n\tat org.apache.spark.util.EventLoop$$anon$1.run(EventLoop.scala:49)\nCaused by: org.apache.spark.SparkException: Parquet column cannot be converted in file gs://zoomcamp-454219-ade-pipeline/data/pq/patient/2004/drug-event-part-8-of-20.parquet. Column: [patientagegroup], Expected: string, Found: INT32.\n\tat org.apache.spark.sql.errors.QueryExecutionErrors$.unsupportedSchemaColumnConvertError(QueryExecutionErrors.scala:868)\n\tat org.apache.spark.sql.execution.datasources.FileScanRDD$$anon$1.nextIterator(FileScanRDD.scala:301)\n\tat org.apache.spark.sql.execution.datasources.FileScanRDD$$anon$1.hasNext(FileScanRDD.scala:125)\n\tat org.apache.spark.sql.execution.FileSourceScanExec$$anon$1.hasNext(DataSourceScanExec.scala:594)\n\tat org.apache.spark.sql.catalyst.expressions.GeneratedClass$GeneratedIteratorForCodegenStage1.columnartorow_nextBatch_0$(Unknown Source)\n\tat org.apache.spark.sql.catalyst.expressions.GeneratedClass$GeneratedIteratorForCodegenStage1.hashAgg_doAggregateWithKeys_0$(Unknown Source)\n\tat org.apache.spark.sql.catalyst.expressions.GeneratedClass$GeneratedIteratorForCodegenStage1.processNext(Unknown Source)\n\tat org.apache.spark.sql.execution.BufferedRowIterator.hasNext(BufferedRowIterator.java:43)\n\tat org.apache.spark.sql.execution.WholeStageCodegenExec$$anon$1.hasNext(WholeStageCodegenExec.scala:760)\n\tat scala.collection.Iterator$$anon$10.hasNext(Iterator.scala:460)\n\tat org.apache.spark.shuffle.sort.BypassMergeSortShuffleWriter.write(BypassMergeSortShuffleWriter.java:140)\n\tat org.apache.spark.shuffle.ShuffleWriteProcessor.write(ShuffleWriteProcessor.scala:59)\n\tat org.apache.spark.scheduler.ShuffleMapTask.runTask(ShuffleMapTask.scala:101)\n\tat org.apache.spark.scheduler.ShuffleMapTask.runTask(ShuffleMapTask.scala:53)\n\tat org.apache.spark.TaskContext.runTaskWithListeners(TaskContext.scala:161)\n\tat org.apache.spark.scheduler.Task.run(Task.scala:139)\n\tat org.apache.spark.executor.Executor$TaskRunner.$anonfun$run$3(Executor.scala:554)\n\tat org.apache.spark.util.Utils$.tryWithSafeFinally(Utils.scala:1529)\n\tat org.apache.spark.executor.Executor$TaskRunner.run(Executor.scala:557)\n\tat java.base/java.util.concurrent.ThreadPoolExecutor.runWorker(ThreadPoolExecutor.java:1128)\n\tat java.base/java.util.concurrent.ThreadPoolExecutor$Worker.run(ThreadPoolExecutor.java:628)\n\tat java.base/java.lang.Thread.run(Thread.java:829)\nCaused by: org.apache.spark.sql.execution.datasources.SchemaColumnConvertNotSupportedException: column: [patientagegroup], physicalType: INT32, logicalType: string\n\tat org.apache.spark.sql.execution.datasources.parquet.ParquetVectorUpdaterFactory.constructConvertNotSupportedException(ParquetVectorUpdaterFactory.java:1136)\n\tat org.apache.spark.sql.execution.datasources.parquet.ParquetVectorUpdaterFactory.getUpdater(ParquetVectorUpdaterFactory.java:199)\n\tat org.apache.spark.sql.execution.datasources.parquet.VectorizedColumnReader.readBatch(VectorizedColumnReader.java:175)\n\tat org.apache.spark.sql.execution.datasources.parquet.VectorizedParquetRecordReader.nextBatch(VectorizedParquetRecordReader.java:328)\n\tat org.apache.spark.sql.execution.datasources.parquet.VectorizedParquetRecordReader.nextKeyValue(VectorizedParquetRecordReader.java:219)\n\tat org.apache.spark.sql.execution.datasources.RecordReaderIterator.hasNext(RecordReaderIterator.scala:39)\n\tat org.apache.spark.sql.execution.datasources.FileScanRDD$$anon$1.hasNext(FileScanRDD.scala:125)\n\tat org.apache.spark.sql.execution.datasources.FileScanRDD$$anon$1.nextIterator(FileScanRDD.scala:297)\n\t... 20 more\n"
     ]
    },
    {
     "name": "stderr",
     "output_type": "stream",
     "text": [
      "[Stage 19:>                                                        (0 + 5) / 20]\r"
     ]
    },
    {
     "name": "stderr",
     "output_type": "stream",
     "text": [
      "25/04/30 13:53:25 WARN TaskSetManager: Lost task 14.0 in stage 19.0 (TID 629) (c18afd726dd1 executor driver): TaskKilled (Stage cancelled)\n",
      "25/04/30 13:53:25 WARN TaskSetManager: Lost task 5.0 in stage 19.0 (TID 620) (c18afd726dd1 executor driver): TaskKilled (Stage cancelled)\n",
      "25/04/30 13:53:25 WARN TaskSetManager: Lost task 12.0 in stage 19.0 (TID 627) (c18afd726dd1 executor driver): TaskKilled (Stage cancelled)\n",
      "25/04/30 13:53:25 WARN TaskSetManager: Lost task 19.0 in stage 19.0 (TID 634) (c18afd726dd1 executor driver): TaskKilled (Stage cancelled)\n",
      "25/04/30 13:53:25 WARN TaskSetManager: Lost task 7.0 in stage 19.0 (TID 622) (c18afd726dd1 executor driver): TaskKilled (Stage cancelled)\n"
     ]
    }
   ],
   "source": [
    "patient.groupBy(\"patientagegroup\").count().show()"
   ]
  },
  {
   "cell_type": "markdown",
   "id": "f09b01b0",
   "metadata": {},
   "source": [
    "# Drug"
   ]
  },
  {
   "cell_type": "markdown",
   "id": "4f208e32",
   "metadata": {},
   "source": [
    "### Load Drug"
   ]
  },
  {
   "cell_type": "code",
   "execution_count": 46,
   "id": "ffa071bb",
   "metadata": {},
   "outputs": [
    {
     "name": "stderr",
     "output_type": "stream",
     "text": [
      "                                                                                \r"
     ]
    },
    {
     "name": "stdout",
     "output_type": "stream",
     "text": [
      "root\n",
      " |-- patientid: string (nullable = true)\n",
      " |-- medicinalproduct: string (nullable = true)\n",
      " |-- activesubstancename: string (nullable = true)\n",
      " |-- drugindication: string (nullable = true)\n",
      " |-- drugadministrationroute: string (nullable = true)\n",
      " |-- drugstartdate: string (nullable = true)\n",
      " |-- drugenddate: string (nullable = true)\n",
      " |-- drugdosagetext: string (nullable = true)\n",
      " |-- drugstructuredosagenumb: string (nullable = true)\n",
      " |-- drugstructuredosageunit: string (nullable = true)\n",
      " |-- drugtreatmentduration: string (nullable = true)\n",
      " |-- drugtreatmentdurationunit: string (nullable = true)\n",
      " |-- drugrecurreadministration: string (nullable = true)\n",
      "\n"
     ]
    }
   ],
   "source": [
    "drug_schema = t.StructType(\n",
    "    [\n",
    "        t.StructField('patientid',t.StringType(),True),\n",
    "        t.StructField('medicinalproduct',t.StringType(),True),\n",
    "        t.StructField('activesubstancename',t.StringType(),True),\n",
    "        t.StructField('drugadministrationroute',t.StringType(),True),\n",
    "        t.StructField('drugstartdate',t.StringType(),True),\n",
    "        t.StructField('drugenddate',t.StringType(),True),\n",
    "        t.StructField('drugdosagetext',t.StringType(),True),\n",
    "        t.StructField('drugstructuredosagenumb',t.StringType(),True),\n",
    "        t.StructField('drugstructuredosageunit',t.StringType(),True),\n",
    "        t.StructField('drugtreatmentduration',t.StringType(),True),\n",
    "        t.StructField('drugtreatmentdurationunit',t.StringType(),True),\n",
    "        t.StructField('drugrecurreadministration',t.StringType(),True),\n",
    "    ]\n",
    ")\n",
    "\n",
    "drug = (\n",
    "    spark\n",
    "    .read\n",
    "    .parquet(bucket+'drug/*/*')\n",
    "    )\n",
    "\n",
    "drug.printSchema()"
   ]
  },
  {
   "cell_type": "markdown",
   "id": "4b924604",
   "metadata": {},
   "source": [
    "### Perform Cast"
   ]
  },
  {
   "cell_type": "code",
   "execution_count": 47,
   "id": "76a79ecf",
   "metadata": {},
   "outputs": [],
   "source": [
    "# Cast\n",
    "drug = (\n",
    "    drug\n",
    "    .withColumn(\"drugstructuredosagenumb\", F.col(\"drugstructuredosagenumb\").cast(t.FloatType()))\n",
    "    .withColumn(\"drugstructuredosageunit\", F.col(\"drugstructuredosageunit\").cast(t.StringType()))\n",
    "    .withColumn(\"drugtreatmentduration\", F.col(\"drugtreatmentduration\").cast(t.IntegerType()))\n",
    "    .withColumnRenamed(\"drugtreatmentduration\", \"drugtreatmentdurationnumb\")\n",
    "    .withColumn(\"drugtreatmentdurationunit\", F.col(\"drugtreatmentdurationunit\").cast(t.StringType()))\n",
    "    .withColumn(\"drugrecurreadministration\", F.col(\"drugrecurreadministration\").cast(t.IntegerType()))\n",
    ")"
   ]
  },
  {
   "cell_type": "code",
   "execution_count": 48,
   "id": "c5ebe330",
   "metadata": {},
   "outputs": [
    {
     "name": "stdout",
     "output_type": "stream",
     "text": [
      "root\n",
      " |-- patientid: string (nullable = true)\n",
      " |-- medicinalproduct: string (nullable = true)\n",
      " |-- activesubstancename: string (nullable = true)\n",
      " |-- drugindication: string (nullable = true)\n",
      " |-- drugadministrationroute: string (nullable = true)\n",
      " |-- drugstartdate: string (nullable = true)\n",
      " |-- drugenddate: string (nullable = true)\n",
      " |-- drugdosagetext: string (nullable = true)\n",
      " |-- drugstructuredosagenumb: float (nullable = true)\n",
      " |-- drugstructuredosageunit: string (nullable = true)\n",
      " |-- drugtreatmentdurationnumb: integer (nullable = true)\n",
      " |-- drugtreatmentdurationunit: string (nullable = true)\n",
      " |-- drugrecurreadministration: integer (nullable = true)\n",
      "\n"
     ]
    }
   ],
   "source": [
    "drug.printSchema()"
   ]
  },
  {
   "cell_type": "markdown",
   "id": "60aea32b",
   "metadata": {},
   "source": [
    "### Perform Transformation"
   ]
  },
  {
   "cell_type": "code",
   "execution_count": 49,
   "id": "d67c4180",
   "metadata": {},
   "outputs": [],
   "source": [
    "route_mapping = {\n",
    "    \"001\": \"Auricular (otic)\",\n",
    "    \"002\": \"Buccal\",\n",
    "    \"003\": \"Cutaneous\",\n",
    "    \"004\": \"Dental\",\n",
    "    \"005\": \"Endocervical\",\n",
    "    \"006\": \"Endosinusial\",\n",
    "    \"007\": \"Endotracheal\",\n",
    "    \"008\": \"Epidural\",\n",
    "    \"009\": \"Extra-amniotic\",\n",
    "    \"010\": \"Hemodialysis\",\n",
    "    \"011\": \"Intra corpus cavernosum\",\n",
    "    \"012\": \"Intra-amniotic\",\n",
    "    \"013\": \"Intra-arterial\",\n",
    "    \"014\": \"Intra-articular\",\n",
    "    \"015\": \"Intra-uterine\",\n",
    "    \"016\": \"Intracardiac\",\n",
    "    \"017\": \"Intracavernous\",\n",
    "    \"018\": \"Intracerebral\",\n",
    "    \"019\": \"Intracervical\",\n",
    "    \"020\": \"Intracisternal\",\n",
    "    \"021\": \"Intracorneal\",\n",
    "    \"022\": \"Intracoronary\",\n",
    "    \"023\": \"Intradermal\",\n",
    "    \"024\": \"Intradiscal (intraspinal)\",\n",
    "    \"025\": \"Intrahepatic\",\n",
    "    \"026\": \"Intralesional\",\n",
    "    \"027\": \"Intralymphatic\",\n",
    "    \"028\": \"Intramedullar (bone marrow)\",\n",
    "    \"029\": \"Intrameningeal\",\n",
    "    \"030\": \"Intramuscular\",\n",
    "    \"031\": \"Intraocular\",\n",
    "    \"032\": \"Intrapericardial\",\n",
    "    \"033\": \"Intraperitoneal\",\n",
    "    \"034\": \"Intrapleural\",\n",
    "    \"035\": \"Intrasynovial\",\n",
    "    \"036\": \"Intratumor\",\n",
    "    \"037\": \"Intrathecal\",\n",
    "    \"038\": \"Intrathoracic\",\n",
    "    \"039\": \"Intratracheal\",\n",
    "    \"040\": \"Intravenous bolus\",\n",
    "    \"041\": \"Intravenous drip\",\n",
    "    \"042\": \"Intravenous (not otherwise specified)\",\n",
    "    \"043\": \"Intravesical\",\n",
    "    \"044\": \"Iontophoresis\",\n",
    "    \"045\": \"Nasal\",\n",
    "    \"046\": \"Occlusive dressing technique\",\n",
    "    \"047\": \"Ophthalmic\",\n",
    "    \"048\": \"Oral\",\n",
    "    \"049\": \"Oropharingeal\",\n",
    "    \"050\": \"Other\",\n",
    "    \"051\": \"Parenteral\",\n",
    "    \"052\": \"Periarticular\",\n",
    "    \"053\": \"Perineural\",\n",
    "    \"054\": \"Rectal\",\n",
    "    \"055\": \"Respiratory (inhalation)\",\n",
    "    \"056\": \"Retrobulbar\",\n",
    "    \"057\": \"Sunconjunctival\",\n",
    "    \"058\": \"Subcutaneous\",\n",
    "    \"059\": \"Subdermal\",\n",
    "    \"060\": \"Sublingual\",\n",
    "    \"061\": \"Topical\",\n",
    "    \"062\": \"Transdermal\",\n",
    "    \"063\": \"Transmammary\",\n",
    "    \"064\": \"Transplacental\",\n",
    "    \"065\": \"Unknown\",\n",
    "    \"066\": \"Urethral\",\n",
    "    \"067\": \"Vaginal\"\n",
    "}\n",
    "\n",
    "# Fix missing parts of the date\n",
    "drug = (\n",
    "    drug\n",
    "    .withColumn(\n",
    "        \"drugstartdate\",\n",
    "        (\n",
    "            F\n",
    "            .when(F.length(\"drugstartdate\") == 4, F.concat(\"drugstartdate\",F.lit(\"0101\")))\n",
    "            .when(F.length(\"drugstartdate\") == 6, F.concat(\"drugstartdate\",F.lit(\"01\")))\n",
    "            .otherwise(F.col(\"drugstartdate\"))\n",
    "        )\n",
    "    )\n",
    "    .withColumn(\"drugstartdate\",(F.to_date(\"drugstartdate\",\"yyyyMMdd\")))\n",
    ")\n",
    "\n",
    "drug = (\n",
    "    drug\n",
    "    .withColumn(\n",
    "        \"drugenddate\",\n",
    "        (\n",
    "            F\n",
    "            .when(F.length(\"drugenddate\") == 4, F.concat(\"drugenddate\",F.lit(\"0101\")))\n",
    "            .when(F.length(\"drugenddate\") == 6, F.concat(\"drugenddate\",F.lit(\"01\")))\n",
    "            .otherwise(F.col(\"drugenddate\"))\n",
    "        )\n",
    "    )\n",
    "    .withColumn(\"drugenddate\",(F.to_date(\"drugenddate\",\"yyyyMMdd\")))\n",
    ")\n",
    "\n",
    "map_expr = F.create_map([F.lit(i) for i in sum(route_mapping.items(),())])\n",
    "\n",
    "drug = (\n",
    "    drug\n",
    "    .withColumn(\n",
    "        \"drugadministrationroute\",\n",
    "        map_expr[F.col(\"drugadministrationroute\")]\n",
    "    )\n",
    ")\n",
    "\n",
    "# Create drugstructuredosage and normalize to (mg) based on numb and unit\n",
    "drug = (\n",
    "    drug\n",
    "    .withColumn(\n",
    "        \"drugstructuredosage(mg)\",\n",
    "        (\n",
    "            F\n",
    "            .when(F.col(\"drugstructuredosageunit\") == \"001\", F.col(\"drugstructuredosagenumb\") * 1e-6)\n",
    "            .when(F.col(\"drugstructuredosageunit\") == \"002\", F.col(\"drugstructuredosagenumb\") * 1e-3)\n",
    "            .when(F.col(\"drugstructuredosageunit\") == \"003\", F.col(\"drugstructuredosagenumb\") * 1)\n",
    "            .when(F.col(\"drugstructuredosageunit\") == \"004\", F.col(\"drugstructuredosagenumb\") * 10**3)\n",
    "            .otherwise(None)\n",
    "        )\n",
    "    )\n",
    "    .drop(\"drugstructuredosageunit\", \"drugstructuredosagenumb\")\n",
    ")\n",
    "\n",
    "# Noramlize drugtreatmentduration to days\n",
    "drug = (\n",
    "    drug\n",
    "    .withColumn(\n",
    "        \"drugtreatmentduration(days)\",\n",
    "        (\n",
    "            F\n",
    "            .when(F.col(\"drugtreatmentdurationunit\") == \"801\", F.col(\"drugtreatmentdurationnumb\") * 365.25)\n",
    "            .when(F.col(\"drugtreatmentdurationunit\") == \"802\", F.col(\"drugtreatmentdurationnumb\") * 30.46)\n",
    "            .when(F.col(\"drugtreatmentdurationunit\") == \"803\", F.col(\"drugtreatmentdurationnumb\") * 7)\n",
    "            .when(F.col(\"drugtreatmentdurationunit\") == \"804\", F.col(\"drugtreatmentdurationnumb\") * 1)\n",
    "            .when(F.col(\"drugtreatmentdurationunit\") == \"805\", F.col(\"drugtreatmentdurationnumb\") / 24)\n",
    "            .when(F.col(\"drugtreatmentdurationunit\") == \"806\", F.col(\"drugtreatmentdurationnumb\") / 1440)\n",
    "            .otherwise(None)\n",
    "        )\n",
    "    )\n",
    "    .drop(\"drugtreatmentdurationunit\", \"drugtreatmentdurationnumb\")\n",
    ")\n",
    "\n",
    "drug = (\n",
    "    drug\n",
    "    .withColumn(\n",
    "        \"drug_reaction_after_readministration\",\n",
    "        (\n",
    "            F\n",
    "            .when(F.col(\"drugrecurreadministration\") == 1, \"Yes\")\n",
    "            .when(F.col(\"drugrecurreadministration\") == 2, \"No\")\n",
    "            .when(F.col(\"drugrecurreadministration\") == 3, \"Unknown\")\n",
    "            .otherwise(None)\n",
    "        )\n",
    "    ).drop(\"drugrecurreadministration\")\n",
    ")"
   ]
  },
  {
   "cell_type": "code",
   "execution_count": 50,
   "id": "932056d2",
   "metadata": {},
   "outputs": [
    {
     "name": "stderr",
     "output_type": "stream",
     "text": [
      "[Stage 35:>                                                         (0 + 1) / 1]\r"
     ]
    },
    {
     "name": "stdout",
     "output_type": "stream",
     "text": [
      "+--------------------+--------------------+--------------------+--------------------+-----------------------+-------------+-----------+--------------------+-----------------------+---------------------------+------------------------------------+\n",
      "|           patientid|    medicinalproduct| activesubstancename|      drugindication|drugadministrationroute|drugstartdate|drugenddate|      drugdosagetext|drugstructuredosage(mg)|drugtreatmentduration(days)|drug_reaction_after_readministration|\n",
      "+--------------------+--------------------+--------------------+--------------------+-----------------------+-------------+-----------+--------------------+-----------------------+---------------------------+------------------------------------+\n",
      "|070ec3d6-9b34-412...|            ENTRESTO|SACUBITRIL\\VALSARTAN|                null|                   Oral|         null|       null|50 MG, BID (24/26...|                   50.0|                       null|                             Unknown|\n",
      "|070ec3d6-9b34-412...|            ENTRESTO|SACUBITRIL\\VALSARTAN|     CARDIAC FAILURE|                   Oral|   2019-10-01|       null|1 DF (24 MG SACUB...|                   null|                       null|                             Unknown|\n",
      "|f4e47a4e-8e8f-438...|             GILENYA|FINGOLIMOD HYDROC...|                null|                   Oral|         null|       null|          0.5 MG, QD|                    0.5|                       null|                             Unknown|\n",
      "|f4e47a4e-8e8f-438...|             GILENYA|FINGOLIMOD HYDROC...|  MULTIPLE SCLEROSIS|                   Oral|   2018-02-28| 2019-11-22|          0.5 MG, QD|                    0.5|                       null|                             Unknown|\n",
      "|f4e47a4e-8e8f-438...|             GILENYA|FINGOLIMOD HYDROC...|                null|                   Oral|   2020-05-12|       null|          0.5 MG, QD|                    0.5|                       null|                             Unknown|\n",
      "|cec841d3-d560-41d...|               EYLEA|         AFLIBERCEPT|PRODUCT USED FOR ...|                   null|         null|       null|                 UNK|                   null|                       null|                             Unknown|\n",
      "|f18303e8-7582-410...|           ABATACEPT|           ABATACEPT|RHEUMATOID ARTHRITIS|           Subcutaneous|         null|       null|  125 MILLIGRAM, QWK|                  125.0|                       null|                                null|\n",
      "|f18303e8-7582-410...|           ABATACEPT|           ABATACEPT|RHEUMATOID ARTHRITIS|           Subcutaneous|         null|       null|  125 MILLIGRAM, QWK|                  125.0|                       null|                                null|\n",
      "|95b1f63a-ee06-4ea...|              ENBREL|          ETANERCEPT|RHEUMATOID ARTHRITIS|                Unknown|   2020-01-16|       null|       50 MG, WEEKLY|                   50.0|                       null|                                null|\n",
      "|81bffe43-a61e-48c...|            VENTOLIN|   ALBUTEROL SULFATE|PRODUCT USED FOR ...|                Unknown|         null|       null|                 UNK|                   null|                       null|                                null|\n",
      "|81bffe43-a61e-48c...|           ABATACEPT|           ABATACEPT|RHEUMATOID ARTHRITIS|   Intravenous (not ...|   2016-07-20|       null| 750 MILLIGRAM, Q4WK|                  750.0|                       null|                                null|\n",
      "|81bffe43-a61e-48c...|               AXERT|  ALMOTRIPTAN MALATE|PRODUCT USED FOR ...|                Unknown|         null|       null|                 UNK|                   null|                       null|                                null|\n",
      "|81bffe43-a61e-48c...|          ADVAIR HFA|FLUTICASONE PROPI...|PRODUCT USED FOR ...|                Unknown|         null|       null|                 UNK|                   null|                       null|                                null|\n",
      "|81bffe43-a61e-48c...|                 ASA|             ASPIRIN|PRODUCT USED FOR ...|                Unknown|         null|       null|        80 MILLIGRAM|                   80.0|                       null|                                null|\n",
      "|81bffe43-a61e-48c...|              LYRICA|          PREGABALIN|PRODUCT USED FOR ...|                Unknown|         null|       null|                 UNK|                   null|                       null|                                null|\n",
      "|81bffe43-a61e-48c...|ELAVIL [ALLOPURINOL]|         ALLOPURINOL|PRODUCT USED FOR ...|                Unknown|         null|       null|     50 MILLIGRAM HS|                   50.0|                       null|                                null|\n",
      "|81bffe43-a61e-48c...|            DEXILANT|     DEXLANSOPRAZOLE|PRODUCT USED FOR ...|                Unknown|         null|       null|        60 MILLIGRAM|                   60.0|                       null|                                null|\n",
      "|81bffe43-a61e-48c...|             MONOCOR| BISOPROLOL FUMARATE|PRODUCT USED FOR ...|                Unknown|         null|       null|       2.5 MILLIGRAM|                    2.5|                       null|                                null|\n",
      "|81bffe43-a61e-48c...|            COUMADIN|     WARFARIN SODIUM|PRODUCT USED FOR ...|                Unknown|         null|       null|                 UNK|                   null|                       null|                                null|\n",
      "|9b80c6c5-e4b2-4c9...|         TEICOPLANIN|         TEICOPLANIN|UPPER RESPIRATORY...|   Intravenous (not ...|   2019-12-20| 2020-01-02|    0.4 MG, 1 IN 1 D|   4.000000059604645E-4|                       null|                                null|\n",
      "+--------------------+--------------------+--------------------+--------------------+-----------------------+-------------+-----------+--------------------+-----------------------+---------------------------+------------------------------------+\n",
      "only showing top 20 rows\n",
      "\n"
     ]
    },
    {
     "name": "stderr",
     "output_type": "stream",
     "text": [
      "                                                                                \r"
     ]
    }
   ],
   "source": [
    "drug.show()"
   ]
  },
  {
   "cell_type": "markdown",
   "id": "a7da2800",
   "metadata": {},
   "source": [
    "# Reaction"
   ]
  },
  {
   "cell_type": "markdown",
   "id": "a6645460",
   "metadata": {},
   "source": [
    "### Load Reaction"
   ]
  },
  {
   "cell_type": "code",
   "execution_count": 53,
   "id": "247e9171",
   "metadata": {},
   "outputs": [
    {
     "name": "stderr",
     "output_type": "stream",
     "text": [
      "                                                                                \r"
     ]
    },
    {
     "name": "stdout",
     "output_type": "stream",
     "text": [
      "root\n",
      " |-- patientid: string (nullable = true)\n",
      " |-- reactionmeddrapt: string (nullable = true)\n",
      " |-- reactionoutcome: string (nullable = true)\n",
      "\n"
     ]
    }
   ],
   "source": [
    "reaction_schema = t.StructType(\n",
    "    [\n",
    "        t.StructField('patientid',t.StringType(),True),\n",
    "        t.StructField('reactionmeddrapt',t.StringType(),True),\n",
    "        t.StructField('reactionoutcome',t.StringType(),True),\n",
    "    ]\n",
    ")\n",
    "\n",
    "reaction = (\n",
    "    spark\n",
    "    .read\n",
    "    .parquet(bucket+'reaction/*/*')\n",
    ")\n",
    "\n",
    "reaction.printSchema()"
   ]
  },
  {
   "cell_type": "code",
   "execution_count": 56,
   "id": "80b4aec5",
   "metadata": {},
   "outputs": [
    {
     "name": "stderr",
     "output_type": "stream",
     "text": [
      "[Stage 42:>                                                         (0 + 1) / 1]\r"
     ]
    },
    {
     "name": "stdout",
     "output_type": "stream",
     "text": [
      "+--------------------+--------------------+--------------------+\n",
      "|           patientid|    reactionmeddrapt|     reactionoutcome|\n",
      "+--------------------+--------------------+--------------------+\n",
      "|10294a0f-73ae-4de...|    Facial paralysis|                null|\n",
      "|9b65b922-f87b-4ec...|   Visual impairment|             Unknown|\n",
      "|9b65b922-f87b-4ec...|    Drug ineffective|             Unknown|\n",
      "|ef3225ee-9fbc-44d...|    Spinal operation|             Unknown|\n",
      "|60b37dc4-3e42-48c...|        Pancreatitis|             Unknown|\n",
      "|747908f1-b359-46d...|     Hospitalisation|             Unknown|\n",
      "|56167985-ce49-42e...|Neuropathy periph...|Not recovered/not...|\n",
      "|56167985-ce49-42e...|      Joint swelling|Not recovered/not...|\n",
      "|805e5cc4-cba0-494...|               Shock|Not recovered/not...|\n",
      "|805e5cc4-cba0-494...| Acute kidney injury|Not recovered/not...|\n",
      "|805e5cc4-cba0-494...| Acute kidney injury|Not recovered/not...|\n",
      "|805e5cc4-cba0-494...|Blood creatinine ...|Not recovered/not...|\n",
      "|97ec028d-2271-4bd...|            COVID-19|  Recovered/resolved|\n",
      "|98d778de-f8cb-459...|         Arthropathy|Not recovered/not...|\n",
      "|98d778de-f8cb-459...|             Malaise|Not recovered/not...|\n",
      "|98d778de-f8cb-459...|      Joint swelling|Not recovered/not...|\n",
      "|98d778de-f8cb-459...|Intentional produ...|Not recovered/not...|\n",
      "|98d778de-f8cb-459...|    Gait disturbance|Not recovered/not...|\n",
      "|98d778de-f8cb-459...|     Hospitalisation|Not recovered/not...|\n",
      "|98d778de-f8cb-459...|           Infection|Not recovered/not...|\n",
      "+--------------------+--------------------+--------------------+\n",
      "only showing top 20 rows\n",
      "\n"
     ]
    },
    {
     "name": "stderr",
     "output_type": "stream",
     "text": [
      "                                                                                \r"
     ]
    }
   ],
   "source": [
    "reaction.show()"
   ]
  },
  {
   "cell_type": "markdown",
   "id": "2df83e1d",
   "metadata": {},
   "source": [
    "### Perform Cast"
   ]
  },
  {
   "cell_type": "code",
   "execution_count": 58,
   "id": "41b905ae",
   "metadata": {},
   "outputs": [],
   "source": [
    "reaction = (\n",
    "    reaction\n",
    "    .withColumn(\n",
    "        \"reactionoutcome\",\n",
    "        (\n",
    "            F\n",
    "            .when(F.col(\"reactionoutcome\") == '1', \"Recovered/resolved\")\n",
    "            .when(F.col(\"reactionoutcome\") == '2', \"Recovering/resolving\")\n",
    "            .when(F.col(\"reactionoutcome\") == '3', \"Not recovered/not resolved\")\n",
    "            .when(F.col(\"reactionoutcome\") == '4', \"Recovered/resolved with sequelae (consequent health issues)\")\n",
    "            .when(F.col(\"reactionoutcome\") == '5', \"Fatal\")\n",
    "            .when(F.col(\"reactionoutcome\") == '6', \"Unknown\")\n",
    "            .otherwise(None)\n",
    "        ).cast(t.StringType())\n",
    "    )\n",
    ")"
   ]
  },
  {
   "cell_type": "code",
   "execution_count": 59,
   "id": "d371c56c",
   "metadata": {},
   "outputs": [
    {
     "name": "stdout",
     "output_type": "stream",
     "text": [
      "root\n",
      " |-- patientid: string (nullable = true)\n",
      " |-- reactionmeddrapt: string (nullable = true)\n",
      " |-- reactionoutcome: string (nullable = true)\n",
      "\n"
     ]
    }
   ],
   "source": [
    "reaction.printSchema()"
   ]
  }
 ],
 "metadata": {
  "kernelspec": {
   "display_name": "Python 3 (ipykernel)",
   "language": "python",
   "name": "python3"
  },
  "language_info": {
   "codemirror_mode": {
    "name": "ipython",
    "version": 3
   },
   "file_extension": ".py",
   "mimetype": "text/x-python",
   "name": "python",
   "nbconvert_exporter": "python",
   "pygments_lexer": "ipython3",
   "version": "3.9.2"
  }
 },
 "nbformat": 4,
 "nbformat_minor": 5
}
