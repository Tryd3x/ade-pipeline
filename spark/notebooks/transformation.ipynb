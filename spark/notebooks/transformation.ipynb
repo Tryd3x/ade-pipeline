{
 "cells": [
  {
   "cell_type": "code",
   "execution_count": 1,
   "id": "592fbdbb",
   "metadata": {},
   "outputs": [],
   "source": [
    "# spark.stop()"
   ]
  },
  {
   "cell_type": "code",
   "execution_count": 2,
   "id": "ee0abf56",
   "metadata": {},
   "outputs": [],
   "source": [
    "import os\n",
    "from pyspark.sql import SparkSession, types as t, functions as F"
   ]
  },
  {
   "cell_type": "code",
   "execution_count": 3,
   "id": "56be99cc",
   "metadata": {},
   "outputs": [
    {
     "name": "stderr",
     "output_type": "stream",
     "text": [
      "/usr/local/lib/python3.9/dist-packages/pyspark/bin/load-spark-env.sh: line 68: ps: command not found\n",
      "Setting default log level to \"WARN\".\n",
      "To adjust logging level use sc.setLogLevel(newLevel). For SparkR, use setLogLevel(newLevel).\n",
      "25/04/30 01:31:56 WARN NativeCodeLoader: Unable to load native-hadoop library for your platform... using builtin-java classes where applicable\n"
     ]
    },
    {
     "data": {
      "text/html": [
       "\n",
       "            <div>\n",
       "                <p><b>SparkSession - in-memory</b></p>\n",
       "                \n",
       "        <div>\n",
       "            <p><b>SparkContext</b></p>\n",
       "\n",
       "            <p><a href=\"http://47a8c51d637e:4040\">Spark UI</a></p>\n",
       "\n",
       "            <dl>\n",
       "              <dt>Version</dt>\n",
       "                <dd><code>v3.4.4</code></dd>\n",
       "              <dt>Master</dt>\n",
       "                <dd><code>local[*]</code></dd>\n",
       "              <dt>AppName</dt>\n",
       "                <dd><code>Testing Transformations</code></dd>\n",
       "            </dl>\n",
       "        </div>\n",
       "        \n",
       "            </div>\n",
       "        "
      ],
      "text/plain": [
       "<pyspark.sql.session.SparkSession at 0x7f0a3731e430>"
      ]
     },
     "execution_count": 3,
     "metadata": {},
     "output_type": "execute_result"
    }
   ],
   "source": [
    "# https://storage.googleapis.com/hadoop-lib/gcs/gcs-connector-hadoop3-2.2.14.jar\n",
    "\n",
    "spark = (\n",
    "    SparkSession\n",
    "    .builder\n",
    "    # .master(\"spark://spark-master:7077\")\n",
    "    .appName(\"Testing Transformations\")\n",
    "    .config(\"spark.jars\", \"https://storage.googleapis.com/hadoop-lib/gcs/gcs-connector-hadoop3-2.2.14.jar\") # GCS Connector\n",
    "    .getOrCreate()\n",
    ")\n",
    "\n",
    "# Google Cloud Service Account Credentials\n",
    "spark._jsc.hadoopConfiguration().set(\"google.cloud.auth.service.account.json.keyfile\",os.environ.get(\"GOOGLE_APPLICATION_CREDENTIALS\"))\n",
    "\n",
    "spark"
   ]
  },
  {
   "cell_type": "code",
   "execution_count": 4,
   "id": "ea544fd3",
   "metadata": {},
   "outputs": [],
   "source": [
    "drug_schema = t.StructType(\n",
    "    [\n",
    "        t.StructField('patientid',t.StringType(),True),\n",
    "        t.StructField('medicinalproduct',t.StringType(),True),\n",
    "        t.StructField('activesubstancename',t.StringType(),True),\n",
    "        t.StructField('drugadministrationroute',t.StringType(),True),\n",
    "        t.StructField('drugstartdate',t.StringType(),True),\n",
    "        t.StructField('drugenddate',t.StringType(),True),\n",
    "        t.StructField('drugdosagetext',t.StringType(),True),\n",
    "        t.StructField('drugstructuredosagenumb',t.StringType(),True),\n",
    "        t.StructField('drugstructuredosageunit',t.StringType(),True),\n",
    "        t.StructField('drugtreatmentduration',t.StringType(),True),\n",
    "        t.StructField('drugtreatmentdurationunit',t.StringType(),True),\n",
    "        t.StructField('drugrecurreadministration',t.StringType(),True),\n",
    "    ]\n",
    ")\n",
    "\n",
    "reaction_schema = t.StructType(\n",
    "    [\n",
    "        t.StructField('patientid',t.StringType(),True),\n",
    "        t.StructField('reactionmeddrapt',t.StringType(),True),\n",
    "        t.StructField('reactionoutcome',t.StringType(),True),\n",
    "    ]\n",
    ")"
   ]
  },
  {
   "cell_type": "code",
   "execution_count": 5,
   "id": "697ec698",
   "metadata": {},
   "outputs": [],
   "source": [
    "bucket='gs://zoomcamp-454219-ade-pipeline/cleaned/pq/'"
   ]
  },
  {
   "cell_type": "markdown",
   "id": "608ce347",
   "metadata": {},
   "source": [
    "# Patient"
   ]
  },
  {
   "cell_type": "markdown",
   "id": "52249037",
   "metadata": {},
   "source": [
    "### Load patient"
   ]
  },
  {
   "cell_type": "code",
   "execution_count": 6,
   "id": "e68e331e",
   "metadata": {},
   "outputs": [
    {
     "name": "stderr",
     "output_type": "stream",
     "text": [
      "                                                                                \r"
     ]
    },
    {
     "name": "stdout",
     "output_type": "stream",
     "text": [
      "Count: 214812\n",
      "root\n",
      " |-- patientid: string (nullable = true)\n",
      " |-- patientagegroup: string (nullable = true)\n",
      " |-- patientonsetage: integer (nullable = true)\n",
      " |-- patientonsetageunit: integer (nullable = true)\n",
      " |-- patientsex: integer (nullable = true)\n",
      " |-- patientweight: float (nullable = true)\n",
      " |-- serious: integer (nullable = true)\n",
      " |-- seriousnessdeath: integer (nullable = true)\n",
      " |-- seriousnesshospitalization: integer (nullable = true)\n",
      " |-- seriousnessdisabling: integer (nullable = true)\n",
      " |-- seriousnesslifethreatening: integer (nullable = true)\n",
      " |-- seriousnessother: integer (nullable = true)\n",
      " |-- receivedate: string (nullable = true)\n",
      " |-- receiptdate: string (nullable = true)\n",
      " |-- safetyreportid: string (nullable = true)\n",
      "\n",
      "None\n"
     ]
    },
    {
     "name": "stderr",
     "output_type": "stream",
     "text": [
      "[Stage 4:>                                                          (0 + 1) / 1]\r"
     ]
    },
    {
     "name": "stdout",
     "output_type": "stream",
     "text": [
      "+--------------------+---------------+---------------+-------------------+----------+-------------+-------+----------------+--------------------------+--------------------+--------------------------+----------------+-----------+-----------+--------------+\n",
      "|           patientid|patientagegroup|patientonsetage|patientonsetageunit|patientsex|patientweight|serious|seriousnessdeath|seriousnesshospitalization|seriousnessdisabling|seriousnesslifethreatening|seriousnessother|receivedate|receiptdate|safetyreportid|\n",
      "+--------------------+---------------+---------------+-------------------+----------+-------------+-------+----------------+--------------------------+--------------------+--------------------------+----------------+-----------+-----------+--------------+\n",
      "|0013f6bb-e446-4cd...|           null|           null|               null|      null|         null|   null|            null|                      null|                null|                      null|            null|       null|       null|          null|\n",
      "|d8a5f44e-6e0c-4ac...|           null|              1|                802|         2|          3.0|   null|            null|                      null|                null|                      null|            null|       null|       null|          null|\n",
      "|c2de484f-7071-40f...|           null|             50|                801|         2|      95.2554|   null|            null|                      null|                null|                      null|            null|       null|       null|          null|\n",
      "|2315a310-a81d-438...|           null|             62|                801|         2|         62.0|   null|            null|                      null|                null|                      null|            null|       null|       null|          null|\n",
      "|26ba720e-c1f5-43a...|           null|             52|                801|         2|      61.2356|   null|            null|                      null|                null|                      null|            null|       null|       null|          null|\n",
      "|fb7bab45-241a-469...|           null|             78|                801|         1|         null|   null|            null|                      null|                null|                      null|            null|       null|       null|          null|\n",
      "|8403d1ce-7ecb-474...|           null|           null|               null|         2|         null|   null|            null|                      null|                null|                      null|            null|       null|       null|          null|\n",
      "|1cfde856-c6cc-472...|           null|           null|               null|         2|        125.0|   null|            null|                      null|                null|                      null|            null|       null|       null|          null|\n",
      "|b97f3e04-ebc3-4a0...|           null|             48|                801|         2|      58.9676|   null|            null|                      null|                null|                      null|            null|       null|       null|          null|\n",
      "|5c93a5e0-571e-41a...|           null|             75|                801|         2|         null|   null|            null|                      null|                null|                      null|            null|       null|       null|          null|\n",
      "|83811f91-df99-403...|           null|           null|               null|      null|         null|   null|            null|                      null|                null|                      null|            null|       null|       null|          null|\n",
      "|8f3e41ed-47ae-402...|           null|             73|                801|         1|         null|   null|            null|                      null|                null|                      null|            null|       null|       null|          null|\n",
      "|f268ee14-003c-42d...|           null|             57|                801|         2|         55.0|   null|            null|                      null|                null|                      null|            null|       null|       null|          null|\n",
      "|92544355-478f-41f...|           null|             69|                801|         2|         null|   null|            null|                      null|                null|                      null|            null|       null|       null|          null|\n",
      "|eea3647b-5021-4ef...|           null|           null|               null|         2|         null|   null|            null|                      null|                null|                      null|            null|       null|       null|          null|\n",
      "|6cda6ebd-2095-44c...|           null|           null|               null|         2|         null|   null|            null|                      null|                null|                      null|            null|       null|       null|          null|\n",
      "|124d5c3d-2ec8-425...|           null|             23|                801|         2|         null|   null|            null|                      null|                null|                      null|            null|       null|       null|          null|\n",
      "|034b458b-d06c-429...|           null|             81|                801|         2|         54.0|   null|            null|                      null|                null|                      null|            null|       null|       null|          null|\n",
      "|1a3ee02a-9ee8-445...|           null|             26|                801|         1|         75.0|   null|            null|                      null|                null|                      null|            null|       null|       null|          null|\n",
      "|9a58a0cf-da1d-450...|           null|             55|                801|         1|         91.0|   null|            null|                      null|                null|                      null|            null|       null|       null|          null|\n",
      "+--------------------+---------------+---------------+-------------------+----------+-------------+-------+----------------+--------------------------+--------------------+--------------------------+----------------+-----------+-----------+--------------+\n",
      "only showing top 20 rows\n",
      "\n"
     ]
    },
    {
     "name": "stderr",
     "output_type": "stream",
     "text": [
      "                                                                                \r"
     ]
    }
   ],
   "source": [
    "# patient_schema = t.StructType(\n",
    "#     [\n",
    "#         t.StructField('patientid', t.StringType(),True),\n",
    "#         t.StructField('patientagegroup', t.StringType(),True),\n",
    "#         t.StructField('patientonsetage', t.StringType(),True),\n",
    "#         t.StructField('patientonsetageunit', t.StringType(),True),\n",
    "#         t.StructField('patientsex', t.StringType(),True),\n",
    "#         t.StructField('patientweight', t.StringType(),True),\n",
    "#         t.StructField('serious', t.IntegerType(), True),\n",
    "#         t.StructField('seriousnessdeath', t.IntegerType(), True),\n",
    "#         t.StructField('seriousnesshospitalization', t.IntegerType(), True),\n",
    "#         t.StructField('seriousnessdisabling', t.IntegerType(), True),\n",
    "#         t.StructField('seriousnesslifethreatening', t.IntegerType(), True),\n",
    "#         t.StructField('seriousnessother', t.IntegerType(), True),\n",
    "#         t.StructField('receivedate', t.IntegerType(), True),\n",
    "#         t.StructField('receiptdate', t.IntegerType(), True),\n",
    "#         t.StructField('safetyreportid', t.IntegerType(), True)\n",
    "#     ]\n",
    "# )\n",
    "\n",
    "patient = (\n",
    "    spark\n",
    "    .read\n",
    "    .parquet(bucket+'patient/*/*')\n",
    "    )\n",
    "print(f\"Count: {patient.count()}\")\n",
    "print(patient.printSchema())\n",
    "patient.show()"
   ]
  },
  {
   "cell_type": "markdown",
   "id": "9f227bde",
   "metadata": {},
   "source": [
    "### Perform Transformation"
   ]
  },
  {
   "cell_type": "code",
   "execution_count": 7,
   "id": "4eb666ac",
   "metadata": {},
   "outputs": [
    {
     "name": "stdout",
     "output_type": "stream",
     "text": [
      "root\n",
      " |-- patientid: string (nullable = true)\n",
      " |-- patientagegroup: string (nullable = true)\n",
      " |-- patientonsetage: integer (nullable = true)\n",
      " |-- patientonsetageunit: integer (nullable = true)\n",
      " |-- patientsex: integer (nullable = true)\n",
      " |-- patientweight: float (nullable = true)\n",
      " |-- serious: integer (nullable = true)\n",
      " |-- seriousnessdeath: integer (nullable = true)\n",
      " |-- seriousnesshospitalization: integer (nullable = true)\n",
      " |-- seriousnessdisabling: integer (nullable = true)\n",
      " |-- seriousnesslifethreatening: integer (nullable = true)\n",
      " |-- seriousnessother: integer (nullable = true)\n",
      " |-- receivedate: string (nullable = true)\n",
      " |-- receiptdate: string (nullable = true)\n",
      " |-- safetyreportid: string (nullable = true)\n",
      "\n"
     ]
    }
   ],
   "source": [
    "patient.printSchema()"
   ]
  },
  {
   "cell_type": "code",
   "execution_count": 8,
   "id": "ae0a8691",
   "metadata": {},
   "outputs": [],
   "source": [
    "# Patient Column transformations\n",
    "\n",
    "patient = patient.withColumn(\n",
    "    \"patientagegroup\",\n",
    "    (\n",
    "        F\n",
    "        .when(F.col(\"patientagegroup\") == '1', \"Neonate\")\n",
    "        .when(F.col(\"patientagegroup\") == '2', \"Infant\")\n",
    "        .when(F.col(\"patientagegroup\") == '3', \"Child\")\n",
    "        .when(F.col(\"patientagegroup\") == '4', \"Adolescent\")\n",
    "        .when(F.col(\"patientagegroup\") == '5', \"Adult\")\n",
    "        .when(F.col(\"patientagegroup\") == '6', \"Elderly\")\n",
    "        .otherwise(None)\n",
    "     )\n",
    ")\n",
    "\n",
    "# Normalize patientage\n",
    "patient = patient.withColumn(\n",
    "    \"patientage\",\n",
    "    (\n",
    "        F\n",
    "        .when(F.col(\"patientonsetageunit\") == 800, F.col(\"patientonsetage\") * 10)\n",
    "        .when(F.col(\"patientonsetageunit\") == 801, F.col(\"patientonsetage\") * 1)\n",
    "        .when(F.col(\"patientonsetageunit\") == 802, F.col(\"patientonsetage\") / 12)\n",
    "        .when(F.col(\"patientonsetageunit\") == 803, F.col(\"patientonsetage\") / 52.143)\n",
    "        .when(F.col(\"patientonsetageunit\") == 804, F.col(\"patientonsetage\") / 365.25)\n",
    "        .when(F.col(\"patientonsetageunit\") == 805, F.col(\"patientonsetage\") / 8766)\n",
    "        .otherwise(None)\n",
    "    ).cast(t.FloatType())\n",
    ").drop(\"patientonsetageunit\", \"patientonsetage\")\n",
    "\n",
    "patient = patient.withColumn(\n",
    "    \"patientsex\",\n",
    "    (\n",
    "        F\n",
    "        .when(F.col(\"patientsex\") == 1, \"Male\")\n",
    "        .when(F.col(\"patientsex\") == 2, \"Female\")\n",
    "        .otherwise(None)\n",
    "    ).cast(t.StringType())\n",
    ")\n",
    "\n",
    "patient = patient.withColumn(\n",
    "    \"patientweight\",\n",
    "    (\n",
    "        F\n",
    "        .when(\n",
    "            F.col(\"patientweight\").rlike(r\"^\\d+(\\.\\d+)?$\"),\n",
    "            F.col(\"patientweight\").cast(t.FloatType()))\n",
    "        .otherwise(None)\n",
    "     )\n",
    ")\n",
    "\n",
    "patient = patient.withColumn(\n",
    "    \"serious\",\n",
    "    (\n",
    "        F\n",
    "        .when(F.col(\"serious\") == 1, True)\n",
    "        .when(F.col(\"serious\") == 2, False)\n",
    "        .otherwise(None)\n",
    "     )\n",
    ")\n",
    "\n",
    "patient = patient.withColumn(\n",
    "    \"seriousnessdeath\",\n",
    "    (\n",
    "        F\n",
    "        .when(F.col(\"seriousnessdeath\") == 1, True)\n",
    "        .otherwise(False)\n",
    "     )\n",
    ")\n",
    "\n",
    "patient = patient.withColumn(\n",
    "    \"seriousnesshospitalization\",\n",
    "    (\n",
    "        F\n",
    "        .when(F.col(\"seriousnesshospitalization\") == 1, True)\n",
    "        .otherwise(False)\n",
    "     )\n",
    ")\n",
    "\n",
    "patient = patient.withColumn(\n",
    "    \"seriousnessdisabling\",\n",
    "    (\n",
    "        F\n",
    "        .when(F.col(\"seriousnessdisabling\") == 1, True)\n",
    "        .otherwise(False)\n",
    "     )\n",
    ")\n",
    "\n",
    "patient = patient.withColumn(\n",
    "    \"seriousnesslifethreatening\",\n",
    "    (\n",
    "        F\n",
    "        .when(F.col(\"seriousnesslifethreatening\") == 1, True)\n",
    "        .otherwise(False)\n",
    "     )\n",
    ")\n",
    "\n",
    "patient = patient.withColumn(\n",
    "    \"seriousnessother\",\n",
    "    (\n",
    "        F\n",
    "        .when(F.col(\"seriousnessother\") == 1, True)\n",
    "        .otherwise(False)\n",
    "     )\n",
    ")"
   ]
  },
  {
   "cell_type": "code",
   "execution_count": 9,
   "id": "4af28eba",
   "metadata": {},
   "outputs": [
    {
     "name": "stdout",
     "output_type": "stream",
     "text": [
      "root\n",
      " |-- patientid: string (nullable = true)\n",
      " |-- patientagegroup: string (nullable = true)\n",
      " |-- patientsex: string (nullable = true)\n",
      " |-- patientweight: float (nullable = true)\n",
      " |-- serious: boolean (nullable = true)\n",
      " |-- seriousnessdeath: boolean (nullable = false)\n",
      " |-- seriousnesshospitalization: boolean (nullable = false)\n",
      " |-- seriousnessdisabling: boolean (nullable = false)\n",
      " |-- seriousnesslifethreatening: boolean (nullable = false)\n",
      " |-- seriousnessother: boolean (nullable = false)\n",
      " |-- receivedate: string (nullable = true)\n",
      " |-- receiptdate: string (nullable = true)\n",
      " |-- safetyreportid: string (nullable = true)\n",
      " |-- patientage: float (nullable = true)\n",
      "\n"
     ]
    }
   ],
   "source": [
    "patient.printSchema()"
   ]
  },
  {
   "cell_type": "markdown",
   "id": "797ddfe8",
   "metadata": {},
   "source": [
    "### Display rows"
   ]
  },
  {
   "cell_type": "code",
   "execution_count": 10,
   "id": "d325ad94",
   "metadata": {},
   "outputs": [
    {
     "name": "stderr",
     "output_type": "stream",
     "text": [
      "[Stage 5:>                                                          (0 + 1) / 1]\r"
     ]
    },
    {
     "name": "stdout",
     "output_type": "stream",
     "text": [
      "+--------------------+---------------+----------+-------------+-------+----------------+--------------------------+--------------------+--------------------------+----------------+-----------+-----------+--------------+-----------+\n",
      "|           patientid|patientagegroup|patientsex|patientweight|serious|seriousnessdeath|seriousnesshospitalization|seriousnessdisabling|seriousnesslifethreatening|seriousnessother|receivedate|receiptdate|safetyreportid| patientage|\n",
      "+--------------------+---------------+----------+-------------+-------+----------------+--------------------------+--------------------+--------------------------+----------------+-----------+-----------+--------------+-----------+\n",
      "|0013f6bb-e446-4cd...|           null|      null|         null|   null|           false|                     false|               false|                     false|           false|       null|       null|          null|       null|\n",
      "|d8a5f44e-6e0c-4ac...|           null|    Female|          3.0|   null|           false|                     false|               false|                     false|           false|       null|       null|          null|0.083333336|\n",
      "|c2de484f-7071-40f...|           null|    Female|      95.2554|   null|           false|                     false|               false|                     false|           false|       null|       null|          null|       50.0|\n",
      "|2315a310-a81d-438...|           null|    Female|         62.0|   null|           false|                     false|               false|                     false|           false|       null|       null|          null|       62.0|\n",
      "|26ba720e-c1f5-43a...|           null|    Female|      61.2356|   null|           false|                     false|               false|                     false|           false|       null|       null|          null|       52.0|\n",
      "|fb7bab45-241a-469...|           null|      Male|         null|   null|           false|                     false|               false|                     false|           false|       null|       null|          null|       78.0|\n",
      "|8403d1ce-7ecb-474...|           null|    Female|         null|   null|           false|                     false|               false|                     false|           false|       null|       null|          null|       null|\n",
      "|1cfde856-c6cc-472...|           null|    Female|        125.0|   null|           false|                     false|               false|                     false|           false|       null|       null|          null|       null|\n",
      "|b97f3e04-ebc3-4a0...|           null|    Female|      58.9676|   null|           false|                     false|               false|                     false|           false|       null|       null|          null|       48.0|\n",
      "|5c93a5e0-571e-41a...|           null|    Female|         null|   null|           false|                     false|               false|                     false|           false|       null|       null|          null|       75.0|\n",
      "|83811f91-df99-403...|           null|      null|         null|   null|           false|                     false|               false|                     false|           false|       null|       null|          null|       null|\n",
      "|8f3e41ed-47ae-402...|           null|      Male|         null|   null|           false|                     false|               false|                     false|           false|       null|       null|          null|       73.0|\n",
      "|f268ee14-003c-42d...|           null|    Female|         55.0|   null|           false|                     false|               false|                     false|           false|       null|       null|          null|       57.0|\n",
      "|92544355-478f-41f...|           null|    Female|         null|   null|           false|                     false|               false|                     false|           false|       null|       null|          null|       69.0|\n",
      "|eea3647b-5021-4ef...|           null|    Female|         null|   null|           false|                     false|               false|                     false|           false|       null|       null|          null|       null|\n",
      "|6cda6ebd-2095-44c...|           null|    Female|         null|   null|           false|                     false|               false|                     false|           false|       null|       null|          null|       null|\n",
      "|124d5c3d-2ec8-425...|           null|    Female|         null|   null|           false|                     false|               false|                     false|           false|       null|       null|          null|       23.0|\n",
      "|034b458b-d06c-429...|           null|    Female|         54.0|   null|           false|                     false|               false|                     false|           false|       null|       null|          null|       81.0|\n",
      "|1a3ee02a-9ee8-445...|           null|      Male|         75.0|   null|           false|                     false|               false|                     false|           false|       null|       null|          null|       26.0|\n",
      "|9a58a0cf-da1d-450...|           null|      Male|         91.0|   null|           false|                     false|               false|                     false|           false|       null|       null|          null|       55.0|\n",
      "+--------------------+---------------+----------+-------------+-------+----------------+--------------------------+--------------------+--------------------------+----------------+-----------+-----------+--------------+-----------+\n",
      "only showing top 20 rows\n",
      "\n"
     ]
    },
    {
     "name": "stderr",
     "output_type": "stream",
     "text": [
      "                                                                                \r"
     ]
    }
   ],
   "source": [
    "patient.show()"
   ]
  },
  {
   "cell_type": "code",
   "execution_count": 11,
   "id": "963b3483",
   "metadata": {},
   "outputs": [
    {
     "name": "stderr",
     "output_type": "stream",
     "text": [
      "[Stage 6:===================================================>     (18 + 2) / 20]\r"
     ]
    },
    {
     "name": "stdout",
     "output_type": "stream",
     "text": [
      "+---------------+------+\n",
      "|patientagegroup| count|\n",
      "+---------------+------+\n",
      "|           null|214765|\n",
      "|          Adult|    28|\n",
      "|        Elderly|    17|\n",
      "|     Adolescent|     1|\n",
      "|          Child|     1|\n",
      "+---------------+------+\n",
      "\n"
     ]
    },
    {
     "name": "stderr",
     "output_type": "stream",
     "text": [
      "                                                                                \r"
     ]
    }
   ],
   "source": [
    "patient.groupBy(\"patientagegroup\").count().show()"
   ]
  },
  {
   "cell_type": "markdown",
   "id": "f09b01b0",
   "metadata": {},
   "source": [
    "# Drug"
   ]
  },
  {
   "cell_type": "markdown",
   "id": "4f208e32",
   "metadata": {},
   "source": [
    "### Load Drug"
   ]
  },
  {
   "cell_type": "code",
   "execution_count": 12,
   "id": "ffa071bb",
   "metadata": {},
   "outputs": [
    {
     "ename": "AnalysisException",
     "evalue": "[PATH_NOT_FOUND] Path does not exist: gs://zoomcamp-454219-ade-pipeline/cleaned/pq/drug/*/*.",
     "output_type": "error",
     "traceback": [
      "\u001b[0;31m---------------------------------------------------------------------------\u001b[0m",
      "\u001b[0;31mAnalysisException\u001b[0m                         Traceback (most recent call last)",
      "Cell \u001b[0;32mIn[12], line 2\u001b[0m\n\u001b[1;32m      1\u001b[0m drug \u001b[38;5;241m=\u001b[39m (\n\u001b[0;32m----> 2\u001b[0m     \u001b[43mspark\u001b[49m\n\u001b[1;32m      3\u001b[0m \u001b[43m    \u001b[49m\u001b[38;5;241;43m.\u001b[39;49m\u001b[43mread\u001b[49m\n\u001b[1;32m      4\u001b[0m \u001b[43m    \u001b[49m\u001b[38;5;241;43m.\u001b[39;49m\u001b[43mparquet\u001b[49m\u001b[43m(\u001b[49m\u001b[43mbucket\u001b[49m\u001b[38;5;241;43m+\u001b[39;49m\u001b[38;5;124;43m'\u001b[39;49m\u001b[38;5;124;43mdrug/*/*\u001b[39;49m\u001b[38;5;124;43m'\u001b[39;49m\u001b[43m)\u001b[49m\n\u001b[1;32m      5\u001b[0m     )\n\u001b[1;32m      7\u001b[0m drug\u001b[38;5;241m.\u001b[39mprintSchema()\n",
      "File \u001b[0;32m/usr/local/lib/python3.9/dist-packages/pyspark/sql/readwriter.py:531\u001b[0m, in \u001b[0;36mDataFrameReader.parquet\u001b[0;34m(self, *paths, **options)\u001b[0m\n\u001b[1;32m    520\u001b[0m int96RebaseMode \u001b[38;5;241m=\u001b[39m options\u001b[38;5;241m.\u001b[39mget(\u001b[38;5;124m\"\u001b[39m\u001b[38;5;124mint96RebaseMode\u001b[39m\u001b[38;5;124m\"\u001b[39m, \u001b[38;5;28;01mNone\u001b[39;00m)\n\u001b[1;32m    521\u001b[0m \u001b[38;5;28mself\u001b[39m\u001b[38;5;241m.\u001b[39m_set_opts(\n\u001b[1;32m    522\u001b[0m     mergeSchema\u001b[38;5;241m=\u001b[39mmergeSchema,\n\u001b[1;32m    523\u001b[0m     pathGlobFilter\u001b[38;5;241m=\u001b[39mpathGlobFilter,\n\u001b[0;32m   (...)\u001b[0m\n\u001b[1;32m    528\u001b[0m     int96RebaseMode\u001b[38;5;241m=\u001b[39mint96RebaseMode,\n\u001b[1;32m    529\u001b[0m )\n\u001b[0;32m--> 531\u001b[0m \u001b[38;5;28;01mreturn\u001b[39;00m \u001b[38;5;28mself\u001b[39m\u001b[38;5;241m.\u001b[39m_df(\u001b[38;5;28;43mself\u001b[39;49m\u001b[38;5;241;43m.\u001b[39;49m\u001b[43m_jreader\u001b[49m\u001b[38;5;241;43m.\u001b[39;49m\u001b[43mparquet\u001b[49m\u001b[43m(\u001b[49m\u001b[43m_to_seq\u001b[49m\u001b[43m(\u001b[49m\u001b[38;5;28;43mself\u001b[39;49m\u001b[38;5;241;43m.\u001b[39;49m\u001b[43m_spark\u001b[49m\u001b[38;5;241;43m.\u001b[39;49m\u001b[43m_sc\u001b[49m\u001b[43m,\u001b[49m\u001b[43m \u001b[49m\u001b[43mpaths\u001b[49m\u001b[43m)\u001b[49m\u001b[43m)\u001b[49m)\n",
      "File \u001b[0;32m/usr/local/lib/python3.9/dist-packages/py4j/java_gateway.py:1322\u001b[0m, in \u001b[0;36mJavaMember.__call__\u001b[0;34m(self, *args)\u001b[0m\n\u001b[1;32m   1316\u001b[0m command \u001b[38;5;241m=\u001b[39m proto\u001b[38;5;241m.\u001b[39mCALL_COMMAND_NAME \u001b[38;5;241m+\u001b[39m\\\n\u001b[1;32m   1317\u001b[0m     \u001b[38;5;28mself\u001b[39m\u001b[38;5;241m.\u001b[39mcommand_header \u001b[38;5;241m+\u001b[39m\\\n\u001b[1;32m   1318\u001b[0m     args_command \u001b[38;5;241m+\u001b[39m\\\n\u001b[1;32m   1319\u001b[0m     proto\u001b[38;5;241m.\u001b[39mEND_COMMAND_PART\n\u001b[1;32m   1321\u001b[0m answer \u001b[38;5;241m=\u001b[39m \u001b[38;5;28mself\u001b[39m\u001b[38;5;241m.\u001b[39mgateway_client\u001b[38;5;241m.\u001b[39msend_command(command)\n\u001b[0;32m-> 1322\u001b[0m return_value \u001b[38;5;241m=\u001b[39m \u001b[43mget_return_value\u001b[49m\u001b[43m(\u001b[49m\n\u001b[1;32m   1323\u001b[0m \u001b[43m    \u001b[49m\u001b[43manswer\u001b[49m\u001b[43m,\u001b[49m\u001b[43m \u001b[49m\u001b[38;5;28;43mself\u001b[39;49m\u001b[38;5;241;43m.\u001b[39;49m\u001b[43mgateway_client\u001b[49m\u001b[43m,\u001b[49m\u001b[43m \u001b[49m\u001b[38;5;28;43mself\u001b[39;49m\u001b[38;5;241;43m.\u001b[39;49m\u001b[43mtarget_id\u001b[49m\u001b[43m,\u001b[49m\u001b[43m \u001b[49m\u001b[38;5;28;43mself\u001b[39;49m\u001b[38;5;241;43m.\u001b[39;49m\u001b[43mname\u001b[49m\u001b[43m)\u001b[49m\n\u001b[1;32m   1325\u001b[0m \u001b[38;5;28;01mfor\u001b[39;00m temp_arg \u001b[38;5;129;01min\u001b[39;00m temp_args:\n\u001b[1;32m   1326\u001b[0m     \u001b[38;5;28;01mif\u001b[39;00m \u001b[38;5;28mhasattr\u001b[39m(temp_arg, \u001b[38;5;124m\"\u001b[39m\u001b[38;5;124m_detach\u001b[39m\u001b[38;5;124m\"\u001b[39m):\n",
      "File \u001b[0;32m/usr/local/lib/python3.9/dist-packages/pyspark/errors/exceptions/captured.py:175\u001b[0m, in \u001b[0;36mcapture_sql_exception.<locals>.deco\u001b[0;34m(*a, **kw)\u001b[0m\n\u001b[1;32m    171\u001b[0m converted \u001b[38;5;241m=\u001b[39m convert_exception(e\u001b[38;5;241m.\u001b[39mjava_exception)\n\u001b[1;32m    172\u001b[0m \u001b[38;5;28;01mif\u001b[39;00m \u001b[38;5;129;01mnot\u001b[39;00m \u001b[38;5;28misinstance\u001b[39m(converted, UnknownException):\n\u001b[1;32m    173\u001b[0m     \u001b[38;5;66;03m# Hide where the exception came from that shows a non-Pythonic\u001b[39;00m\n\u001b[1;32m    174\u001b[0m     \u001b[38;5;66;03m# JVM exception message.\u001b[39;00m\n\u001b[0;32m--> 175\u001b[0m     \u001b[38;5;28;01mraise\u001b[39;00m converted \u001b[38;5;28;01mfrom\u001b[39;00m\u001b[38;5;250m \u001b[39m\u001b[38;5;28;01mNone\u001b[39;00m\n\u001b[1;32m    176\u001b[0m \u001b[38;5;28;01melse\u001b[39;00m:\n\u001b[1;32m    177\u001b[0m     \u001b[38;5;28;01mraise\u001b[39;00m\n",
      "\u001b[0;31mAnalysisException\u001b[0m: [PATH_NOT_FOUND] Path does not exist: gs://zoomcamp-454219-ade-pipeline/cleaned/pq/drug/*/*."
     ]
    }
   ],
   "source": [
    "drug = (\n",
    "    spark\n",
    "    .read\n",
    "    .parquet(bucket+'drug/*/*')\n",
    "    )\n",
    "\n",
    "drug.printSchema()"
   ]
  },
  {
   "cell_type": "markdown",
   "id": "4b924604",
   "metadata": {},
   "source": [
    "### Perform Cast"
   ]
  },
  {
   "cell_type": "code",
   "execution_count": 23,
   "id": "76a79ecf",
   "metadata": {},
   "outputs": [],
   "source": [
    "# Cast\n",
    "drug = (\n",
    "    drug\n",
    "    .withColumn(\"drugstructuredosageunit\", F.col(\"drugstructuredosageunit\").cast(t.StringType()))\n",
    "    .withColumn(\"drugrecurreadministration\", F.col(\"drugrecurreadministration\").cast(t.IntegerType()))\n",
    ")"
   ]
  },
  {
   "cell_type": "markdown",
   "id": "60aea32b",
   "metadata": {},
   "source": [
    "### Perform Transformation"
   ]
  },
  {
   "cell_type": "code",
   "execution_count": 24,
   "id": "d67c4180",
   "metadata": {},
   "outputs": [],
   "source": [
    "route_mapping = {\n",
    "    \"001\": \"Auricular (otic)\",\n",
    "    \"002\": \"Buccal\",\n",
    "    \"003\": \"Cutaneous\",\n",
    "    \"004\": \"Dental\",\n",
    "    \"005\": \"Endocervical\",\n",
    "    \"006\": \"Endosinusial\",\n",
    "    \"007\": \"Endotracheal\",\n",
    "    \"008\": \"Epidural\",\n",
    "    \"009\": \"Extra-amniotic\",\n",
    "    \"010\": \"Hemodialysis\",\n",
    "    \"011\": \"Intra corpus cavernosum\",\n",
    "    \"012\": \"Intra-amniotic\",\n",
    "    \"013\": \"Intra-arterial\",\n",
    "    \"014\": \"Intra-articular\",\n",
    "    \"015\": \"Intra-uterine\",\n",
    "    \"016\": \"Intracardiac\",\n",
    "    \"017\": \"Intracavernous\",\n",
    "    \"018\": \"Intracerebral\",\n",
    "    \"019\": \"Intracervical\",\n",
    "    \"020\": \"Intracisternal\",\n",
    "    \"021\": \"Intracorneal\",\n",
    "    \"022\": \"Intracoronary\",\n",
    "    \"023\": \"Intradermal\",\n",
    "    \"024\": \"Intradiscal (intraspinal)\",\n",
    "    \"025\": \"Intrahepatic\",\n",
    "    \"026\": \"Intralesional\",\n",
    "    \"027\": \"Intralymphatic\",\n",
    "    \"028\": \"Intramedullar (bone marrow)\",\n",
    "    \"029\": \"Intrameningeal\",\n",
    "    \"030\": \"Intramuscular\",\n",
    "    \"031\": \"Intraocular\",\n",
    "    \"032\": \"Intrapericardial\",\n",
    "    \"033\": \"Intraperitoneal\",\n",
    "    \"034\": \"Intrapleural\",\n",
    "    \"035\": \"Intrasynovial\",\n",
    "    \"036\": \"Intratumor\",\n",
    "    \"037\": \"Intrathecal\",\n",
    "    \"038\": \"Intrathoracic\",\n",
    "    \"039\": \"Intratracheal\",\n",
    "    \"040\": \"Intravenous bolus\",\n",
    "    \"041\": \"Intravenous drip\",\n",
    "    \"042\": \"Intravenous (not otherwise specified)\",\n",
    "    \"043\": \"Intravesical\",\n",
    "    \"044\": \"Iontophoresis\",\n",
    "    \"045\": \"Nasal\",\n",
    "    \"046\": \"Occlusive dressing technique\",\n",
    "    \"047\": \"Ophthalmic\",\n",
    "    \"048\": \"Oral\",\n",
    "    \"049\": \"Oropharingeal\",\n",
    "    \"050\": \"Other\",\n",
    "    \"051\": \"Parenteral\",\n",
    "    \"052\": \"Periarticular\",\n",
    "    \"053\": \"Perineural\",\n",
    "    \"054\": \"Rectal\",\n",
    "    \"055\": \"Respiratory (inhalation)\",\n",
    "    \"056\": \"Retrobulbar\",\n",
    "    \"057\": \"Sunconjunctival\",\n",
    "    \"058\": \"Subcutaneous\",\n",
    "    \"059\": \"Subdermal\",\n",
    "    \"060\": \"Sublingual\",\n",
    "    \"061\": \"Topical\",\n",
    "    \"062\": \"Transdermal\",\n",
    "    \"063\": \"Transmammary\",\n",
    "    \"064\": \"Transplacental\",\n",
    "    \"065\": \"Unknown\",\n",
    "    \"066\": \"Urethral\",\n",
    "    \"067\": \"Vaginal\"\n",
    "}\n",
    "\n",
    "# Fix missing parts of the date\n",
    "drug = (\n",
    "    drug\n",
    "    .withColumn(\n",
    "        \"drugstartdate\",\n",
    "        (\n",
    "            F\n",
    "            .when(F.length(\"drugstartdate\") == 4, F.concat(\"drugstartdate\",F.lit(\"0101\")))\n",
    "            .when(F.length(\"drugstartdate\") == 6, F.concat(\"drugstartdate\",F.lit(\"01\")))\n",
    "            .otherwise(F.col(\"drugstartdate\"))\n",
    "        )\n",
    "    )\n",
    ")\n",
    "\n",
    "drug = (\n",
    "    drug\n",
    "    .withColumn(\n",
    "        \"drugstartdate\",\n",
    "        (\n",
    "            F.to_date(\"drugstartdate\",\"yyyyMMdd\")\n",
    "        )\n",
    "    )\n",
    ")\n",
    "\n",
    "drug = (\n",
    "    drug\n",
    "    .withColumn(\n",
    "        \"drugenddate\",\n",
    "        (\n",
    "            F\n",
    "            .when(F.length(\"drugenddate\") == 4, F.concat(\"drugenddate\",F.lit(\"0101\")))\n",
    "            .when(F.length(\"drugenddate\") == 6, F.concat(\"drugenddate\",F.lit(\"01\")))\n",
    "            .otherwise(F.col(\"drugenddate\"))\n",
    "        )\n",
    "    )\n",
    ")\n",
    "\n",
    "drug = (\n",
    "    drug\n",
    "    .withColumn(\n",
    "        \"drugenddate\",\n",
    "        (\n",
    "            F.to_date(\"drugenddate\",\"yyyyMMdd\")\n",
    "        )\n",
    "    )\n",
    ")\n",
    "\n",
    "map_expr = F.create_map([F.lit(i) for i in sum(route_mapping.items(),())])\n",
    "\n",
    "drug = (\n",
    "    drug\n",
    "    .withColumn(\n",
    "        \"drugadministrationroute\",\n",
    "        map_expr[F.col(\"drugadministrationroute\")]\n",
    "    )\n",
    ")"
   ]
  },
  {
   "cell_type": "code",
   "execution_count": 25,
   "id": "932056d2",
   "metadata": {},
   "outputs": [
    {
     "name": "stdout",
     "output_type": "stream",
     "text": [
      "+--------------------+--------------------+-------------------+--------------------+-----------------------+-------------+-----------+--------------------+-----------------------+-----------------------+---------------------+-------------------------+-------------------------+\n",
      "|           patientid|    medicinalproduct|activesubstancename|      drugindication|drugadministrationroute|drugstartdate|drugenddate|      drugdosagetext|drugstructuredosagenumb|drugstructuredosageunit|drugtreatmentduration|drugtreatmentdurationunit|drugrecurreadministration|\n",
      "+--------------------+--------------------+-------------------+--------------------+-----------------------+-------------+-----------+--------------------+-----------------------+-----------------------+---------------------+-------------------------+-------------------------+\n",
      "|36f3c70f-1044-423...|      ETHAMBUTOL HCL|               null|                null|                   null|         null|       null|                null|                   null|                   null|                 null|                     null|                     null|\n",
      "|4a82d7a4-908c-4b9...|       GLUCOPHAGE XR|               null|DIABETES MELLITUS...|                   Oral|         null|       null|                null|                   null|                   null|                    4|                      802|                     null|\n",
      "|3d758441-14f5-466...|             ASPIRIN|               null|                null|                   Oral|         null|       null|                null|                   null|                   null|                 null|                     null|                     null|\n",
      "|8ff7c9ff-df20-403...|   AMITRIPTYLINE HCL|               null|                null|                   null|         null|       null|                null|                   null|                   null|                 null|                     null|                     null|\n",
      "|f89e1267-9777-407...|INFLIXIMAB, RECOM...|               null|RHEUMATOID ARTHRITIS|       Intravenous drip|   2002-07-09| 2002-07-09|10 MG/KG, 1 IN 1 ...|                   null|                   null|                 null|                     null|                     null|\n",
      "|7b80784e-42ef-46d...|           ALDACTONE|               null|                null|                   null|         null|       null|                null|                   null|                   null|                 null|                     null|                     null|\n",
      "|6f683c0b-2219-4bd...|            SIMULECT|               null|                null|   Intravenous (not ...|   2003-11-05| 2003-11-10|             10 MG/D|                   null|                   null|                 8640|                     null|                     null|\n",
      "|a63d5233-7f92-426...|             ACIPHEX|               null|                null|                   null|         null|       null|                null|                   null|                   null|                 null|                     null|                     null|\n",
      "|932ead65-bbca-421...|            RAMIPRIL|               null|                null|                   null|         null|       null|                null|                   null|                   null|                 null|                     null|                     null|\n",
      "|bf86a558-e32a-439...|  CALCIUM GLUBIONATE|               null|                null|                   null|         null|       null|                null|                   null|                   null|                 null|                     null|                     null|\n",
      "|b87f405c-299d-412...|            TRACLEER|               null|PULMONARY HYPERTE...|                   Oral|   2003-10-17| 2003-12-17|      SEE IMAGE ORAL|                   null|                   null|                 null|                     null|                     null|\n",
      "|31004c9f-ee10-46e...|             AVALIDE|               null|                null|                   null|         null|       null|                null|                   null|                   null|                 null|                     null|                     null|\n",
      "|15acf3fe-c813-4cc...|             ALESION|               null|                null|                   Oral|   2004-01-26| 2004-02-01|                null|                   null|                   null|                 null|                     null|                     null|\n",
      "|e348b0d0-2348-4cb...|           SYNTHROID|               null|                null|                   null|         null|       null|                null|                   null|                   null|                 null|                     null|                     null|\n",
      "|a273792d-c65f-4cc...|             DISIPAL|               null|                null|                   null|         null|       null|                null|                   null|                   null|                 null|                     null|                     null|\n",
      "|97b5dc8e-8507-4eb...|          FUROSEMIDE|               null|                null|                   null|         null|       null|                null|                   null|                   null|                 null|                     null|                     null|\n",
      "|a9da417f-9180-4db...|             ASPIRIN|               null|                null|                   null|         null|       null|                null|                   null|                   null|                 null|                     null|                     null|\n",
      "|8b53e1cf-14c2-461...|              ENBREL|               null|RHEUMATOID ARTHRITIS|                   null|         null|       null|                null|                   null|                   null|                 null|                     null|                     null|\n",
      "|3fcae0c1-4c72-43f...|               VIOXX|               null| ISCHAEMIC LIMB PAIN|                   Oral|   2003-06-01| 2004-02-01|                null|                   null|                   null|                    8|                     null|                     null|\n",
      "|6dffc099-9b1e-4dd...| CYCLOBENZAPRINE HCL|               null|                null|                   null|         null|       null|                null|                   null|                   null|                 null|                     null|                     null|\n",
      "+--------------------+--------------------+-------------------+--------------------+-----------------------+-------------+-----------+--------------------+-----------------------+-----------------------+---------------------+-------------------------+-------------------------+\n",
      "only showing top 20 rows\n",
      "\n"
     ]
    },
    {
     "name": "stderr",
     "output_type": "stream",
     "text": [
      "                                                                                \r"
     ]
    }
   ],
   "source": [
    "drug.show()"
   ]
  },
  {
   "cell_type": "markdown",
   "id": "a7da2800",
   "metadata": {},
   "source": [
    "# Reaction"
   ]
  },
  {
   "cell_type": "markdown",
   "id": "a6645460",
   "metadata": {},
   "source": [
    "### Load Reaction"
   ]
  },
  {
   "cell_type": "code",
   "execution_count": 26,
   "id": "247e9171",
   "metadata": {},
   "outputs": [
    {
     "name": "stdout",
     "output_type": "stream",
     "text": [
      "root\n",
      " |-- patientid: string (nullable = true)\n",
      " |-- reactionmeddrapt: string (nullable = true)\n",
      " |-- reactionoutcome: string (nullable = true)\n",
      "\n"
     ]
    }
   ],
   "source": [
    "reaction = (\n",
    "    spark\n",
    "    .read\n",
    "    .parquet(bucket+'reaction/*/*')\n",
    ")\n",
    "\n",
    "reaction.printSchema()"
   ]
  },
  {
   "cell_type": "markdown",
   "id": "2df83e1d",
   "metadata": {},
   "source": [
    "### Perform Cast"
   ]
  },
  {
   "cell_type": "code",
   "execution_count": 27,
   "id": "8f6d8bda",
   "metadata": {},
   "outputs": [
    {
     "name": "stdout",
     "output_type": "stream",
     "text": [
      "root\n",
      " |-- patientid: string (nullable = true)\n",
      " |-- reactionmeddrapt: string (nullable = true)\n",
      " |-- reactionoutcome: integer (nullable = true)\n",
      "\n"
     ]
    }
   ],
   "source": [
    "# Cast\n",
    "reaction = (\n",
    "    reaction\n",
    "    .withColumn(\"reactionoutcome\", F.col(\"reactionoutcome\").cast(t.IntegerType()))\n",
    ")\n",
    "reaction.printSchema()"
   ]
  },
  {
   "cell_type": "code",
   "execution_count": null,
   "id": "41b905ae",
   "metadata": {},
   "outputs": [],
   "source": []
  }
 ],
 "metadata": {
  "kernelspec": {
   "display_name": "Python 3 (ipykernel)",
   "language": "python",
   "name": "python3"
  }
 },
 "nbformat": 4,
 "nbformat_minor": 5
}
