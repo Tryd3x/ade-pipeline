{
 "cells": [
  {
   "cell_type": "code",
   "execution_count": 4,
   "id": "592fbdbb",
   "metadata": {},
   "outputs": [],
   "source": [
    "# spark.stop()"
   ]
  },
  {
   "cell_type": "code",
   "execution_count": 2,
   "id": "ee0abf56",
   "metadata": {},
   "outputs": [],
   "source": [
    "import os\n",
    "from pyspark.sql import SparkSession, types as t, functions as F"
   ]
  },
  {
   "cell_type": "code",
   "execution_count": 3,
   "id": "56be99cc",
   "metadata": {},
   "outputs": [
    {
     "name": "stderr",
     "output_type": "stream",
     "text": [
      "WARNING: An illegal reflective access operation has occurred\n",
      "WARNING: Illegal reflective access by org.apache.spark.unsafe.Platform (file:/usr/local/lib/python3.9/dist-packages/pyspark/jars/spark-unsafe_2.12-3.0.0.jar) to constructor java.nio.DirectByteBuffer(long,int)\n",
      "WARNING: Please consider reporting this to the maintainers of org.apache.spark.unsafe.Platform\n",
      "WARNING: Use --illegal-access=warn to enable warnings of further illegal reflective access operations\n",
      "WARNING: All illegal access operations will be denied in a future release\n",
      "25/04/28 10:22:52 WARN NativeCodeLoader: Unable to load native-hadoop library for your platform... using builtin-java classes where applicable\n",
      "Using Spark's default log4j profile: org/apache/spark/log4j-defaults.properties\n",
      "Setting default log level to \"WARN\".\n",
      "To adjust logging level use sc.setLogLevel(newLevel). For SparkR, use setLogLevel(newLevel).\n"
     ]
    },
    {
     "data": {
      "text/html": [
       "\n",
       "            <div>\n",
       "                <p><b>SparkSession - in-memory</b></p>\n",
       "                \n",
       "        <div>\n",
       "            <p><b>SparkContext</b></p>\n",
       "\n",
       "            <p><a href=\"http://7f380bf339ca:4040\">Spark UI</a></p>\n",
       "\n",
       "            <dl>\n",
       "              <dt>Version</dt>\n",
       "                <dd><code>v3.0.0</code></dd>\n",
       "              <dt>Master</dt>\n",
       "                <dd><code>local[*]</code></dd>\n",
       "              <dt>AppName</dt>\n",
       "                <dd><code>Testing Transformations</code></dd>\n",
       "            </dl>\n",
       "        </div>\n",
       "        \n",
       "            </div>\n",
       "        "
      ],
      "text/plain": [
       "<pyspark.sql.session.SparkSession at 0x7f8f04395340>"
      ]
     },
     "execution_count": 3,
     "metadata": {},
     "output_type": "execute_result"
    }
   ],
   "source": [
    "# https://storage.googleapis.com/hadoop-lib/gcs/gcs-connector-hadoop3-2.2.14.jar\n",
    "\n",
    "spark = (\n",
    "    SparkSession\n",
    "    .builder\n",
    "    # .master(\"spark://spark-master:7077\")\n",
    "    .appName(\"Testing Transformations\")\n",
    "    .config(\"spark.jars\", \"https://storage.googleapis.com/hadoop-lib/gcs/gcs-connector-hadoop3-2.2.14.jar\") # GCS Connector\n",
    "    .getOrCreate()\n",
    ")\n",
    "\n",
    "# Google Cloud Service Account Credentials\n",
    "spark._jsc.hadoopConfiguration().set(\"google.cloud.auth.service.account.json.keyfile\",os.environ.get(\"GOOGLE_APPLICATION_CREDENTIALS\"))\n",
    "\n",
    "spark"
   ]
  },
  {
   "cell_type": "code",
   "execution_count": null,
   "id": "ea544fd3",
   "metadata": {},
   "outputs": [],
   "source": [
    "drug_schema = t.StructType(\n",
    "    [\n",
    "        t.StructField('patientid',t.StringType(),True),\n",
    "        t.StructField('medicinalproduct',t.StringType(),True),\n",
    "        t.StructField('activesubstancename',t.StringType(),True),\n",
    "        t.StructField('drugadministrationroute',t.StringType(),True),\n",
    "        t.StructField('drugstartdate',t.StringType(),True),\n",
    "        t.StructField('drugenddate',t.StringType(),True),\n",
    "        t.StructField('drugdosagetext',t.StringType(),True),\n",
    "        t.StructField('drugstructuredosagenumb',t.StringType(),True),\n",
    "        t.StructField('drugstructuredosageunit',t.StringType(),True),\n",
    "        t.StructField('drugtreatmentduration',t.StringType(),True),\n",
    "        t.StructField('drugtreatmentdurationunit',t.StringType(),True),\n",
    "        t.StructField('drugrecurreadministration',t.StringType(),True),\n",
    "    ]\n",
    ")\n",
    "\n",
    "reaction_schema = t.StructType(\n",
    "    [\n",
    "        t.StructField('patientid',t.StringType(),True),\n",
    "        t.StructField('reactionmeddrapt',t.StringType(),True),\n",
    "        t.StructField('reactionoutcome',t.StringType(),True),\n",
    "    ]\n",
    ")"
   ]
  },
  {
   "cell_type": "code",
   "execution_count": 3,
   "id": "697ec698",
   "metadata": {},
   "outputs": [],
   "source": [
    "bucket='gs://zoomcamp-454219-ade-pipeline/processed/pq/'"
   ]
  },
  {
   "cell_type": "markdown",
   "id": "608ce347",
   "metadata": {},
   "source": [
    "# Patient"
   ]
  },
  {
   "cell_type": "markdown",
   "id": "52249037",
   "metadata": {},
   "source": [
    "### Load patient"
   ]
  },
  {
   "cell_type": "code",
   "execution_count": 4,
   "id": "e68e331e",
   "metadata": {},
   "outputs": [
    {
     "ename": "Py4JJavaError",
     "evalue": "An error occurred while calling o41.parquet.\n: java.io.IOException: No FileSystem for scheme: gs\n\tat org.apache.hadoop.fs.FileSystem.getFileSystemClass(FileSystem.java:2660)\n\tat org.apache.hadoop.fs.FileSystem.createFileSystem(FileSystem.java:2667)\n\tat org.apache.hadoop.fs.FileSystem.access$200(FileSystem.java:94)\n\tat org.apache.hadoop.fs.FileSystem$Cache.getInternal(FileSystem.java:2703)\n\tat org.apache.hadoop.fs.FileSystem$Cache.get(FileSystem.java:2685)\n\tat org.apache.hadoop.fs.FileSystem.get(FileSystem.java:373)\n\tat org.apache.hadoop.fs.Path.getFileSystem(Path.java:295)\n\tat org.apache.spark.sql.execution.streaming.FileStreamSink$.hasMetadata(FileStreamSink.scala:46)\n\tat org.apache.spark.sql.execution.datasources.DataSource.resolveRelation(DataSource.scala:361)\n\tat org.apache.spark.sql.DataFrameReader.loadV1Source(DataFrameReader.scala:279)\n\tat org.apache.spark.sql.DataFrameReader.$anonfun$load$2(DataFrameReader.scala:268)\n\tat scala.Option.getOrElse(Option.scala:189)\n\tat org.apache.spark.sql.DataFrameReader.load(DataFrameReader.scala:268)\n\tat org.apache.spark.sql.DataFrameReader.parquet(DataFrameReader.scala:737)\n\tat sun.reflect.NativeMethodAccessorImpl.invoke0(Native Method)\n\tat sun.reflect.NativeMethodAccessorImpl.invoke(NativeMethodAccessorImpl.java:62)\n\tat sun.reflect.DelegatingMethodAccessorImpl.invoke(DelegatingMethodAccessorImpl.java:43)\n\tat java.lang.reflect.Method.invoke(Method.java:498)\n\tat py4j.reflection.MethodInvoker.invoke(MethodInvoker.java:244)\n\tat py4j.reflection.ReflectionEngine.invoke(ReflectionEngine.java:357)\n\tat py4j.Gateway.invoke(Gateway.java:282)\n\tat py4j.commands.AbstractCommand.invokeMethod(AbstractCommand.java:132)\n\tat py4j.commands.CallCommand.execute(CallCommand.java:79)\n\tat py4j.GatewayConnection.run(GatewayConnection.java:238)\n\tat java.lang.Thread.run(Thread.java:750)\n",
     "output_type": "error",
     "traceback": [
      "\u001b[0;31m---------------------------------------------------------------------------\u001b[0m",
      "\u001b[0;31mPy4JJavaError\u001b[0m                             Traceback (most recent call last)",
      "Cell \u001b[0;32mIn[4], line 22\u001b[0m\n\u001b[1;32m      1\u001b[0m patient_schema \u001b[38;5;241m=\u001b[39m t\u001b[38;5;241m.\u001b[39mStructType(\n\u001b[1;32m      2\u001b[0m     [\n\u001b[1;32m      3\u001b[0m         t\u001b[38;5;241m.\u001b[39mStructField(\u001b[38;5;124m'\u001b[39m\u001b[38;5;124mpatientid\u001b[39m\u001b[38;5;124m'\u001b[39m, t\u001b[38;5;241m.\u001b[39mStringType(),\u001b[38;5;28;01mTrue\u001b[39;00m),\n\u001b[0;32m   (...)\u001b[0m\n\u001b[1;32m     18\u001b[0m     ]\n\u001b[1;32m     19\u001b[0m )\n\u001b[1;32m     21\u001b[0m patient \u001b[38;5;241m=\u001b[39m (\n\u001b[0;32m---> 22\u001b[0m     \u001b[43mspark\u001b[49m\n\u001b[1;32m     23\u001b[0m \u001b[43m    \u001b[49m\u001b[38;5;241;43m.\u001b[39;49m\u001b[43mread\u001b[49m\n\u001b[1;32m     24\u001b[0m \u001b[43m    \u001b[49m\u001b[38;5;241;43m.\u001b[39;49m\u001b[43mschema\u001b[49m\u001b[43m(\u001b[49m\u001b[43mpatient_schema\u001b[49m\u001b[43m)\u001b[49m\n\u001b[1;32m     25\u001b[0m \u001b[43m    \u001b[49m\u001b[38;5;241;43m.\u001b[39;49m\u001b[43mparquet\u001b[49m\u001b[43m(\u001b[49m\u001b[43mbucket\u001b[49m\u001b[38;5;241;43m+\u001b[39;49m\u001b[38;5;124;43m'\u001b[39;49m\u001b[38;5;124;43mpatient/*/*\u001b[39;49m\u001b[38;5;124;43m'\u001b[39;49m\u001b[43m)\u001b[49m\n\u001b[1;32m     26\u001b[0m     )\n\u001b[1;32m     27\u001b[0m \u001b[38;5;28mprint\u001b[39m(\u001b[38;5;124mf\u001b[39m\u001b[38;5;124m\"\u001b[39m\u001b[38;5;124mCount: \u001b[39m\u001b[38;5;132;01m{\u001b[39;00mpatient\u001b[38;5;241m.\u001b[39mcount()\u001b[38;5;132;01m}\u001b[39;00m\u001b[38;5;124m\"\u001b[39m)\n\u001b[1;32m     28\u001b[0m \u001b[38;5;28mprint\u001b[39m(patient\u001b[38;5;241m.\u001b[39mprintSchema())\n",
      "File \u001b[0;32m/usr/local/lib/python3.9/dist-packages/pyspark/sql/readwriter.py:353\u001b[0m, in \u001b[0;36mDataFrameReader.parquet\u001b[0;34m(self, *paths, **options)\u001b[0m\n\u001b[1;32m    350\u001b[0m recursiveFileLookup \u001b[38;5;241m=\u001b[39m options\u001b[38;5;241m.\u001b[39mget(\u001b[38;5;124m'\u001b[39m\u001b[38;5;124mrecursiveFileLookup\u001b[39m\u001b[38;5;124m'\u001b[39m, \u001b[38;5;28;01mNone\u001b[39;00m)\n\u001b[1;32m    351\u001b[0m \u001b[38;5;28mself\u001b[39m\u001b[38;5;241m.\u001b[39m_set_opts(mergeSchema\u001b[38;5;241m=\u001b[39mmergeSchema, pathGlobFilter\u001b[38;5;241m=\u001b[39mpathGlobFilter,\n\u001b[1;32m    352\u001b[0m                recursiveFileLookup\u001b[38;5;241m=\u001b[39mrecursiveFileLookup)\n\u001b[0;32m--> 353\u001b[0m \u001b[38;5;28;01mreturn\u001b[39;00m \u001b[38;5;28mself\u001b[39m\u001b[38;5;241m.\u001b[39m_df(\u001b[38;5;28;43mself\u001b[39;49m\u001b[38;5;241;43m.\u001b[39;49m\u001b[43m_jreader\u001b[49m\u001b[38;5;241;43m.\u001b[39;49m\u001b[43mparquet\u001b[49m\u001b[43m(\u001b[49m\u001b[43m_to_seq\u001b[49m\u001b[43m(\u001b[49m\u001b[38;5;28;43mself\u001b[39;49m\u001b[38;5;241;43m.\u001b[39;49m\u001b[43m_spark\u001b[49m\u001b[38;5;241;43m.\u001b[39;49m\u001b[43m_sc\u001b[49m\u001b[43m,\u001b[49m\u001b[43m \u001b[49m\u001b[43mpaths\u001b[49m\u001b[43m)\u001b[49m\u001b[43m)\u001b[49m)\n",
      "File \u001b[0;32m/usr/local/lib/python3.9/dist-packages/py4j/java_gateway.py:1304\u001b[0m, in \u001b[0;36mJavaMember.__call__\u001b[0;34m(self, *args)\u001b[0m\n\u001b[1;32m   1298\u001b[0m command \u001b[38;5;241m=\u001b[39m proto\u001b[38;5;241m.\u001b[39mCALL_COMMAND_NAME \u001b[38;5;241m+\u001b[39m\\\n\u001b[1;32m   1299\u001b[0m     \u001b[38;5;28mself\u001b[39m\u001b[38;5;241m.\u001b[39mcommand_header \u001b[38;5;241m+\u001b[39m\\\n\u001b[1;32m   1300\u001b[0m     args_command \u001b[38;5;241m+\u001b[39m\\\n\u001b[1;32m   1301\u001b[0m     proto\u001b[38;5;241m.\u001b[39mEND_COMMAND_PART\n\u001b[1;32m   1303\u001b[0m answer \u001b[38;5;241m=\u001b[39m \u001b[38;5;28mself\u001b[39m\u001b[38;5;241m.\u001b[39mgateway_client\u001b[38;5;241m.\u001b[39msend_command(command)\n\u001b[0;32m-> 1304\u001b[0m return_value \u001b[38;5;241m=\u001b[39m \u001b[43mget_return_value\u001b[49m\u001b[43m(\u001b[49m\n\u001b[1;32m   1305\u001b[0m \u001b[43m    \u001b[49m\u001b[43manswer\u001b[49m\u001b[43m,\u001b[49m\u001b[43m \u001b[49m\u001b[38;5;28;43mself\u001b[39;49m\u001b[38;5;241;43m.\u001b[39;49m\u001b[43mgateway_client\u001b[49m\u001b[43m,\u001b[49m\u001b[43m \u001b[49m\u001b[38;5;28;43mself\u001b[39;49m\u001b[38;5;241;43m.\u001b[39;49m\u001b[43mtarget_id\u001b[49m\u001b[43m,\u001b[49m\u001b[43m \u001b[49m\u001b[38;5;28;43mself\u001b[39;49m\u001b[38;5;241;43m.\u001b[39;49m\u001b[43mname\u001b[49m\u001b[43m)\u001b[49m\n\u001b[1;32m   1307\u001b[0m \u001b[38;5;28;01mfor\u001b[39;00m temp_arg \u001b[38;5;129;01min\u001b[39;00m temp_args:\n\u001b[1;32m   1308\u001b[0m     temp_arg\u001b[38;5;241m.\u001b[39m_detach()\n",
      "File \u001b[0;32m/usr/local/lib/python3.9/dist-packages/pyspark/sql/utils.py:131\u001b[0m, in \u001b[0;36mcapture_sql_exception.<locals>.deco\u001b[0;34m(*a, **kw)\u001b[0m\n\u001b[1;32m    129\u001b[0m \u001b[38;5;28;01mdef\u001b[39;00m\u001b[38;5;250m \u001b[39m\u001b[38;5;21mdeco\u001b[39m(\u001b[38;5;241m*\u001b[39ma, \u001b[38;5;241m*\u001b[39m\u001b[38;5;241m*\u001b[39mkw):\n\u001b[1;32m    130\u001b[0m     \u001b[38;5;28;01mtry\u001b[39;00m:\n\u001b[0;32m--> 131\u001b[0m         \u001b[38;5;28;01mreturn\u001b[39;00m \u001b[43mf\u001b[49m\u001b[43m(\u001b[49m\u001b[38;5;241;43m*\u001b[39;49m\u001b[43ma\u001b[49m\u001b[43m,\u001b[49m\u001b[43m \u001b[49m\u001b[38;5;241;43m*\u001b[39;49m\u001b[38;5;241;43m*\u001b[39;49m\u001b[43mkw\u001b[49m\u001b[43m)\u001b[49m\n\u001b[1;32m    132\u001b[0m     \u001b[38;5;28;01mexcept\u001b[39;00m py4j\u001b[38;5;241m.\u001b[39mprotocol\u001b[38;5;241m.\u001b[39mPy4JJavaError \u001b[38;5;28;01mas\u001b[39;00m e:\n\u001b[1;32m    133\u001b[0m         converted \u001b[38;5;241m=\u001b[39m convert_exception(e\u001b[38;5;241m.\u001b[39mjava_exception)\n",
      "File \u001b[0;32m/usr/local/lib/python3.9/dist-packages/py4j/protocol.py:326\u001b[0m, in \u001b[0;36mget_return_value\u001b[0;34m(answer, gateway_client, target_id, name)\u001b[0m\n\u001b[1;32m    324\u001b[0m value \u001b[38;5;241m=\u001b[39m OUTPUT_CONVERTER[\u001b[38;5;28mtype\u001b[39m](answer[\u001b[38;5;241m2\u001b[39m:], gateway_client)\n\u001b[1;32m    325\u001b[0m \u001b[38;5;28;01mif\u001b[39;00m answer[\u001b[38;5;241m1\u001b[39m] \u001b[38;5;241m==\u001b[39m REFERENCE_TYPE:\n\u001b[0;32m--> 326\u001b[0m     \u001b[38;5;28;01mraise\u001b[39;00m Py4JJavaError(\n\u001b[1;32m    327\u001b[0m         \u001b[38;5;124m\"\u001b[39m\u001b[38;5;124mAn error occurred while calling \u001b[39m\u001b[38;5;132;01m{0}\u001b[39;00m\u001b[38;5;132;01m{1}\u001b[39;00m\u001b[38;5;132;01m{2}\u001b[39;00m\u001b[38;5;124m.\u001b[39m\u001b[38;5;130;01m\\n\u001b[39;00m\u001b[38;5;124m\"\u001b[39m\u001b[38;5;241m.\u001b[39m\n\u001b[1;32m    328\u001b[0m         \u001b[38;5;28mformat\u001b[39m(target_id, \u001b[38;5;124m\"\u001b[39m\u001b[38;5;124m.\u001b[39m\u001b[38;5;124m\"\u001b[39m, name), value)\n\u001b[1;32m    329\u001b[0m \u001b[38;5;28;01melse\u001b[39;00m:\n\u001b[1;32m    330\u001b[0m     \u001b[38;5;28;01mraise\u001b[39;00m Py4JError(\n\u001b[1;32m    331\u001b[0m         \u001b[38;5;124m\"\u001b[39m\u001b[38;5;124mAn error occurred while calling \u001b[39m\u001b[38;5;132;01m{0}\u001b[39;00m\u001b[38;5;132;01m{1}\u001b[39;00m\u001b[38;5;132;01m{2}\u001b[39;00m\u001b[38;5;124m. Trace:\u001b[39m\u001b[38;5;130;01m\\n\u001b[39;00m\u001b[38;5;132;01m{3}\u001b[39;00m\u001b[38;5;130;01m\\n\u001b[39;00m\u001b[38;5;124m\"\u001b[39m\u001b[38;5;241m.\u001b[39m\n\u001b[1;32m    332\u001b[0m         \u001b[38;5;28mformat\u001b[39m(target_id, \u001b[38;5;124m\"\u001b[39m\u001b[38;5;124m.\u001b[39m\u001b[38;5;124m\"\u001b[39m, name, value))\n",
      "\u001b[0;31mPy4JJavaError\u001b[0m: An error occurred while calling o41.parquet.\n: java.io.IOException: No FileSystem for scheme: gs\n\tat org.apache.hadoop.fs.FileSystem.getFileSystemClass(FileSystem.java:2660)\n\tat org.apache.hadoop.fs.FileSystem.createFileSystem(FileSystem.java:2667)\n\tat org.apache.hadoop.fs.FileSystem.access$200(FileSystem.java:94)\n\tat org.apache.hadoop.fs.FileSystem$Cache.getInternal(FileSystem.java:2703)\n\tat org.apache.hadoop.fs.FileSystem$Cache.get(FileSystem.java:2685)\n\tat org.apache.hadoop.fs.FileSystem.get(FileSystem.java:373)\n\tat org.apache.hadoop.fs.Path.getFileSystem(Path.java:295)\n\tat org.apache.spark.sql.execution.streaming.FileStreamSink$.hasMetadata(FileStreamSink.scala:46)\n\tat org.apache.spark.sql.execution.datasources.DataSource.resolveRelation(DataSource.scala:361)\n\tat org.apache.spark.sql.DataFrameReader.loadV1Source(DataFrameReader.scala:279)\n\tat org.apache.spark.sql.DataFrameReader.$anonfun$load$2(DataFrameReader.scala:268)\n\tat scala.Option.getOrElse(Option.scala:189)\n\tat org.apache.spark.sql.DataFrameReader.load(DataFrameReader.scala:268)\n\tat org.apache.spark.sql.DataFrameReader.parquet(DataFrameReader.scala:737)\n\tat sun.reflect.NativeMethodAccessorImpl.invoke0(Native Method)\n\tat sun.reflect.NativeMethodAccessorImpl.invoke(NativeMethodAccessorImpl.java:62)\n\tat sun.reflect.DelegatingMethodAccessorImpl.invoke(DelegatingMethodAccessorImpl.java:43)\n\tat java.lang.reflect.Method.invoke(Method.java:498)\n\tat py4j.reflection.MethodInvoker.invoke(MethodInvoker.java:244)\n\tat py4j.reflection.ReflectionEngine.invoke(ReflectionEngine.java:357)\n\tat py4j.Gateway.invoke(Gateway.java:282)\n\tat py4j.commands.AbstractCommand.invokeMethod(AbstractCommand.java:132)\n\tat py4j.commands.CallCommand.execute(CallCommand.java:79)\n\tat py4j.GatewayConnection.run(GatewayConnection.java:238)\n\tat java.lang.Thread.run(Thread.java:750)\n"
     ]
    }
   ],
   "source": [
    "patient_schema = t.StructType(\n",
    "    [\n",
    "        t.StructField('patientid', t.StringType(),True),\n",
    "        t.StructField('patientagegroup', t.StringType(),True),\n",
    "        t.StructField('patientonsetage', t.StringType(),True),\n",
    "        t.StructField('patientonsetageunit', t.StringType(),True),\n",
    "        t.StructField('patientsex', t.StringType(),True),\n",
    "        t.StructField('patientweight', t.StringType(),True),\n",
    "        t.StructField('serious', t.IntegerType(), True),\n",
    "        t.StructField('seriousnessdeath', t.IntegerType(), True),\n",
    "        t.StructField('seriousnesshospitalization', t.IntegerType(), True),\n",
    "        t.StructField('seriousnessdisabling', t.IntegerType(), True),\n",
    "        t.StructField('seriousnesslifethreatening', t.IntegerType(), True),\n",
    "        t.StructField('seriousnessother', t.IntegerType(), True),\n",
    "        t.StructField('receivedate', t.IntegerType(), True),\n",
    "        t.StructField('receiptdate', t.IntegerType(), True),\n",
    "        t.StructField('safetyreportid', t.IntegerType(), True)\n",
    "    ]\n",
    ")\n",
    "\n",
    "patient = (\n",
    "    spark\n",
    "    .read\n",
    "    .schema(patient_schema)\n",
    "    .parquet(bucket+'patient/*/*')\n",
    "    )\n",
    "print(f\"Count: {patient.count()}\")\n",
    "print(patient.printSchema())\n",
    "patient.show()"
   ]
  },
  {
   "cell_type": "code",
   "execution_count": 59,
   "id": "cfb89263",
   "metadata": {},
   "outputs": [
    {
     "name": "stdout",
     "output_type": "stream",
     "text": [
      "25/04/27 10:01:30 ERROR Executor: Exception in task 3.0 in stage 84.0 (TID 2637)\n",
      "org.apache.spark.sql.execution.QueryExecutionException: Parquet column cannot be converted in file gs://zoomcamp-454219-ade-pipeline/data/pq/patient/2004/drug-event-part-8-of-20.parquet. Column: [patientagegroup], Expected: string, Found: INT32\n",
      "\tat org.apache.spark.sql.errors.QueryExecutionErrors$.unsupportedSchemaColumnConvertError(QueryExecutionErrors.scala:724)\n",
      "\tat org.apache.spark.sql.execution.datasources.FileScanRDD$$anon$1.nextIterator(FileScanRDD.scala:278)\n",
      "\tat org.apache.spark.sql.execution.datasources.FileScanRDD$$anon$1.hasNext(FileScanRDD.scala:116)\n",
      "\tat org.apache.spark.sql.execution.FileSourceScanExec$$anon$1.hasNext(DataSourceScanExec.scala:554)\n",
      "\tat org.apache.spark.sql.catalyst.expressions.GeneratedClass$GeneratedIteratorForCodegenStage1.columnartorow_nextBatch_0$(Unknown Source)\n",
      "\tat org.apache.spark.sql.catalyst.expressions.GeneratedClass$GeneratedIteratorForCodegenStage1.hashAgg_doAggregateWithKeys_0$(Unknown Source)\n",
      "\tat org.apache.spark.sql.catalyst.expressions.GeneratedClass$GeneratedIteratorForCodegenStage1.processNext(Unknown Source)\n",
      "\tat org.apache.spark.sql.execution.BufferedRowIterator.hasNext(BufferedRowIterator.java:43)\n",
      "\tat org.apache.spark.sql.execution.WholeStageCodegenExec$$anon$1.hasNext(WholeStageCodegenExec.scala:760)\n",
      "\tat scala.collection.Iterator$$anon$10.hasNext(Iterator.scala:460)\n",
      "\tat org.apache.spark.shuffle.sort.BypassMergeSortShuffleWriter.write(BypassMergeSortShuffleWriter.java:140)\n",
      "\tat org.apache.spark.shuffle.ShuffleWriteProcessor.write(ShuffleWriteProcessor.scala:59)\n",
      "\tat org.apache.spark.scheduler.ShuffleMapTask.runTask(ShuffleMapTask.scala:99)\n",
      "\tat org.apache.spark.scheduler.ShuffleMapTask.runTask(ShuffleMapTask.scala:52)\n",
      "\tat org.apache.spark.scheduler.Task.run(Task.scala:136)\n",
      "\tat org.apache.spark.executor.Executor$TaskRunner.$anonfun$run$3(Executor.scala:548)\n",
      "\tat org.apache.spark.util.Utils$.tryWithSafeFinally(Utils.scala:1504)\n",
      "\tat org.apache.spark.executor.Executor$TaskRunner.run(Executor.scala:551)\n",
      "\tat java.base/java.util.concurrent.ThreadPoolExecutor.runWorker(Unknown Source)\n",
      "\tat java.base/java.util.concurrent.ThreadPoolExecutor$Worker.run(Unknown Source)\n",
      "\tat java.base/java.lang.Thread.run(Unknown Source)\n",
      "Caused by: org.apache.spark.sql.execution.datasources.SchemaColumnConvertNotSupportedException\n",
      "\tat org.apache.spark.sql.execution.datasources.parquet.ParquetVectorUpdaterFactory.constructConvertNotSupportedException(ParquetVectorUpdaterFactory.java:1125)\n",
      "\tat org.apache.spark.sql.execution.datasources.parquet.ParquetVectorUpdaterFactory.getUpdater(ParquetVectorUpdaterFactory.java:187)\n",
      "\tat org.apache.spark.sql.execution.datasources.parquet.VectorizedColumnReader.readBatch(VectorizedColumnReader.java:175)\n",
      "\tat org.apache.spark.sql.execution.datasources.parquet.VectorizedParquetRecordReader.nextBatch(VectorizedParquetRecordReader.java:316)\n",
      "\tat org.apache.spark.sql.execution.datasources.parquet.VectorizedParquetRecordReader.nextKeyValue(VectorizedParquetRecordReader.java:212)\n",
      "\tat org.apache.spark.sql.execution.datasources.RecordReaderIterator.hasNext(RecordReaderIterator.scala:39)\n",
      "\tat org.apache.spark.sql.execution.datasources.FileScanRDD$$anon$1.hasNext(FileScanRDD.scala:116)\n",
      "\tat org.apache.spark.sql.execution.datasources.FileScanRDD$$anon$1.nextIterator(FileScanRDD.scala:274)\n",
      "\t... 19 more\n",
      "25/04/27 10:01:30 WARN TaskSetManager: Lost task 3.0 in stage 84.0 (TID 2637) (d8fd851c15c0 executor driver): org.apache.spark.sql.execution.QueryExecutionException: Parquet column cannot be converted in file gs://zoomcamp-454219-ade-pipeline/data/pq/patient/2004/drug-event-part-8-of-20.parquet. Column: [patientagegroup], Expected: string, Found: INT32\n",
      "\tat org.apache.spark.sql.errors.QueryExecutionErrors$.unsupportedSchemaColumnConvertError(QueryExecutionErrors.scala:724)\n",
      "\tat org.apache.spark.sql.execution.datasources.FileScanRDD$$anon$1.nextIterator(FileScanRDD.scala:278)\n",
      "\tat org.apache.spark.sql.execution.datasources.FileScanRDD$$anon$1.hasNext(FileScanRDD.scala:116)\n",
      "\tat org.apache.spark.sql.execution.FileSourceScanExec$$anon$1.hasNext(DataSourceScanExec.scala:554)\n",
      "\tat org.apache.spark.sql.catalyst.expressions.GeneratedClass$GeneratedIteratorForCodegenStage1.columnartorow_nextBatch_0$(Unknown Source)\n",
      "\tat org.apache.spark.sql.catalyst.expressions.GeneratedClass$GeneratedIteratorForCodegenStage1.hashAgg_doAggregateWithKeys_0$(Unknown Source)\n",
      "\tat org.apache.spark.sql.catalyst.expressions.GeneratedClass$GeneratedIteratorForCodegenStage1.processNext(Unknown Source)\n",
      "\tat org.apache.spark.sql.execution.BufferedRowIterator.hasNext(BufferedRowIterator.java:43)\n",
      "\tat org.apache.spark.sql.execution.WholeStageCodegenExec$$anon$1.hasNext(WholeStageCodegenExec.scala:760)\n",
      "\tat scala.collection.Iterator$$anon$10.hasNext(Iterator.scala:460)\n",
      "\tat org.apache.spark.shuffle.sort.BypassMergeSortShuffleWriter.write(BypassMergeSortShuffleWriter.java:140)\n",
      "\tat org.apache.spark.shuffle.ShuffleWriteProcessor.write(ShuffleWriteProcessor.scala:59)\n",
      "\tat org.apache.spark.scheduler.ShuffleMapTask.runTask(ShuffleMapTask.scala:99)\n",
      "\tat org.apache.spark.scheduler.ShuffleMapTask.runTask(ShuffleMapTask.scala:52)\n",
      "\tat org.apache.spark.scheduler.Task.run(Task.scala:136)\n",
      "\tat org.apache.spark.executor.Executor$TaskRunner.$anonfun$run$3(Executor.scala:548)\n",
      "\tat org.apache.spark.util.Utils$.tryWithSafeFinally(Utils.scala:1504)\n",
      "\tat org.apache.spark.executor.Executor$TaskRunner.run(Executor.scala:551)\n",
      "\tat java.base/java.util.concurrent.ThreadPoolExecutor.runWorker(Unknown Source)\n",
      "\tat java.base/java.util.concurrent.ThreadPoolExecutor$Worker.run(Unknown Source)\n",
      "\tat java.base/java.lang.Thread.run(Unknown Source)\n",
      "Caused by: org.apache.spark.sql.execution.datasources.SchemaColumnConvertNotSupportedException\n",
      "\tat org.apache.spark.sql.execution.datasources.parquet.ParquetVectorUpdaterFactory.constructConvertNotSupportedException(ParquetVectorUpdaterFactory.java:1125)\n",
      "\tat org.apache.spark.sql.execution.datasources.parquet.ParquetVectorUpdaterFactory.getUpdater(ParquetVectorUpdaterFactory.java:187)\n",
      "\tat org.apache.spark.sql.execution.datasources.parquet.VectorizedColumnReader.readBatch(VectorizedColumnReader.java:175)\n",
      "\tat org.apache.spark.sql.execution.datasources.parquet.VectorizedParquetRecordReader.nextBatch(VectorizedParquetRecordReader.java:316)\n",
      "\tat org.apache.spark.sql.execution.datasources.parquet.VectorizedParquetRecordReader.nextKeyValue(VectorizedParquetRecordReader.java:212)\n",
      "\tat org.apache.spark.sql.execution.datasources.RecordReaderIterator.hasNext(RecordReaderIterator.scala:39)\n",
      "\tat org.apache.spark.sql.execution.datasources.FileScanRDD$$anon$1.hasNext(FileScanRDD.scala:116)\n",
      "\tat org.apache.spark.sql.execution.datasources.FileScanRDD$$anon$1.nextIterator(FileScanRDD.scala:274)\n",
      "\t... 19 more\n",
      "\n",
      "25/04/27 10:01:30 ERROR TaskSetManager: Task 3 in stage 84.0 failed 1 times; aborting job\n"
     ]
    },
    {
     "name": "stderr",
     "output_type": "stream",
     "text": [
      "[Stage 84:>                                                       (0 + 20) / 20]\r"
     ]
    },
    {
     "ename": "Py4JJavaError",
     "evalue": "An error occurred while calling o1059.showString.\n: org.apache.spark.SparkException: Job aborted due to stage failure: Task 3 in stage 84.0 failed 1 times, most recent failure: Lost task 3.0 in stage 84.0 (TID 2637) (d8fd851c15c0 executor driver): org.apache.spark.sql.execution.QueryExecutionException: Parquet column cannot be converted in file gs://zoomcamp-454219-ade-pipeline/data/pq/patient/2004/drug-event-part-8-of-20.parquet. Column: [patientagegroup], Expected: string, Found: INT32\n\tat org.apache.spark.sql.errors.QueryExecutionErrors$.unsupportedSchemaColumnConvertError(QueryExecutionErrors.scala:724)\n\tat org.apache.spark.sql.execution.datasources.FileScanRDD$$anon$1.nextIterator(FileScanRDD.scala:278)\n\tat org.apache.spark.sql.execution.datasources.FileScanRDD$$anon$1.hasNext(FileScanRDD.scala:116)\n\tat org.apache.spark.sql.execution.FileSourceScanExec$$anon$1.hasNext(DataSourceScanExec.scala:554)\n\tat org.apache.spark.sql.catalyst.expressions.GeneratedClass$GeneratedIteratorForCodegenStage1.columnartorow_nextBatch_0$(Unknown Source)\n\tat org.apache.spark.sql.catalyst.expressions.GeneratedClass$GeneratedIteratorForCodegenStage1.hashAgg_doAggregateWithKeys_0$(Unknown Source)\n\tat org.apache.spark.sql.catalyst.expressions.GeneratedClass$GeneratedIteratorForCodegenStage1.processNext(Unknown Source)\n\tat org.apache.spark.sql.execution.BufferedRowIterator.hasNext(BufferedRowIterator.java:43)\n\tat org.apache.spark.sql.execution.WholeStageCodegenExec$$anon$1.hasNext(WholeStageCodegenExec.scala:760)\n\tat scala.collection.Iterator$$anon$10.hasNext(Iterator.scala:460)\n\tat org.apache.spark.shuffle.sort.BypassMergeSortShuffleWriter.write(BypassMergeSortShuffleWriter.java:140)\n\tat org.apache.spark.shuffle.ShuffleWriteProcessor.write(ShuffleWriteProcessor.scala:59)\n\tat org.apache.spark.scheduler.ShuffleMapTask.runTask(ShuffleMapTask.scala:99)\n\tat org.apache.spark.scheduler.ShuffleMapTask.runTask(ShuffleMapTask.scala:52)\n\tat org.apache.spark.scheduler.Task.run(Task.scala:136)\n\tat org.apache.spark.executor.Executor$TaskRunner.$anonfun$run$3(Executor.scala:548)\n\tat org.apache.spark.util.Utils$.tryWithSafeFinally(Utils.scala:1504)\n\tat org.apache.spark.executor.Executor$TaskRunner.run(Executor.scala:551)\n\tat java.base/java.util.concurrent.ThreadPoolExecutor.runWorker(Unknown Source)\n\tat java.base/java.util.concurrent.ThreadPoolExecutor$Worker.run(Unknown Source)\n\tat java.base/java.lang.Thread.run(Unknown Source)\nCaused by: org.apache.spark.sql.execution.datasources.SchemaColumnConvertNotSupportedException\n\tat org.apache.spark.sql.execution.datasources.parquet.ParquetVectorUpdaterFactory.constructConvertNotSupportedException(ParquetVectorUpdaterFactory.java:1125)\n\tat org.apache.spark.sql.execution.datasources.parquet.ParquetVectorUpdaterFactory.getUpdater(ParquetVectorUpdaterFactory.java:187)\n\tat org.apache.spark.sql.execution.datasources.parquet.VectorizedColumnReader.readBatch(VectorizedColumnReader.java:175)\n\tat org.apache.spark.sql.execution.datasources.parquet.VectorizedParquetRecordReader.nextBatch(VectorizedParquetRecordReader.java:316)\n\tat org.apache.spark.sql.execution.datasources.parquet.VectorizedParquetRecordReader.nextKeyValue(VectorizedParquetRecordReader.java:212)\n\tat org.apache.spark.sql.execution.datasources.RecordReaderIterator.hasNext(RecordReaderIterator.scala:39)\n\tat org.apache.spark.sql.execution.datasources.FileScanRDD$$anon$1.hasNext(FileScanRDD.scala:116)\n\tat org.apache.spark.sql.execution.datasources.FileScanRDD$$anon$1.nextIterator(FileScanRDD.scala:274)\n\t... 19 more\n\nDriver stacktrace:\n\tat org.apache.spark.scheduler.DAGScheduler.failJobAndIndependentStages(DAGScheduler.scala:2672)\n\tat org.apache.spark.scheduler.DAGScheduler.$anonfun$abortStage$2(DAGScheduler.scala:2608)\n\tat org.apache.spark.scheduler.DAGScheduler.$anonfun$abortStage$2$adapted(DAGScheduler.scala:2607)\n\tat scala.collection.mutable.ResizableArray.foreach(ResizableArray.scala:62)\n\tat scala.collection.mutable.ResizableArray.foreach$(ResizableArray.scala:55)\n\tat scala.collection.mutable.ArrayBuffer.foreach(ArrayBuffer.scala:49)\n\tat org.apache.spark.scheduler.DAGScheduler.abortStage(DAGScheduler.scala:2607)\n\tat org.apache.spark.scheduler.DAGScheduler.$anonfun$handleTaskSetFailed$1(DAGScheduler.scala:1182)\n\tat org.apache.spark.scheduler.DAGScheduler.$anonfun$handleTaskSetFailed$1$adapted(DAGScheduler.scala:1182)\n\tat scala.Option.foreach(Option.scala:407)\n\tat org.apache.spark.scheduler.DAGScheduler.handleTaskSetFailed(DAGScheduler.scala:1182)\n\tat org.apache.spark.scheduler.DAGSchedulerEventProcessLoop.doOnReceive(DAGScheduler.scala:2860)\n\tat org.apache.spark.scheduler.DAGSchedulerEventProcessLoop.onReceive(DAGScheduler.scala:2802)\n\tat org.apache.spark.scheduler.DAGSchedulerEventProcessLoop.onReceive(DAGScheduler.scala:2791)\n\tat org.apache.spark.util.EventLoop$$anon$1.run(EventLoop.scala:49)\nCaused by: org.apache.spark.sql.execution.QueryExecutionException: Parquet column cannot be converted in file gs://zoomcamp-454219-ade-pipeline/data/pq/patient/2004/drug-event-part-8-of-20.parquet. Column: [patientagegroup], Expected: string, Found: INT32\n\tat org.apache.spark.sql.errors.QueryExecutionErrors$.unsupportedSchemaColumnConvertError(QueryExecutionErrors.scala:724)\n\tat org.apache.spark.sql.execution.datasources.FileScanRDD$$anon$1.nextIterator(FileScanRDD.scala:278)\n\tat org.apache.spark.sql.execution.datasources.FileScanRDD$$anon$1.hasNext(FileScanRDD.scala:116)\n\tat org.apache.spark.sql.execution.FileSourceScanExec$$anon$1.hasNext(DataSourceScanExec.scala:554)\n\tat org.apache.spark.sql.catalyst.expressions.GeneratedClass$GeneratedIteratorForCodegenStage1.columnartorow_nextBatch_0$(Unknown Source)\n\tat org.apache.spark.sql.catalyst.expressions.GeneratedClass$GeneratedIteratorForCodegenStage1.hashAgg_doAggregateWithKeys_0$(Unknown Source)\n\tat org.apache.spark.sql.catalyst.expressions.GeneratedClass$GeneratedIteratorForCodegenStage1.processNext(Unknown Source)\n\tat org.apache.spark.sql.execution.BufferedRowIterator.hasNext(BufferedRowIterator.java:43)\n\tat org.apache.spark.sql.execution.WholeStageCodegenExec$$anon$1.hasNext(WholeStageCodegenExec.scala:760)\n\tat scala.collection.Iterator$$anon$10.hasNext(Iterator.scala:460)\n\tat org.apache.spark.shuffle.sort.BypassMergeSortShuffleWriter.write(BypassMergeSortShuffleWriter.java:140)\n\tat org.apache.spark.shuffle.ShuffleWriteProcessor.write(ShuffleWriteProcessor.scala:59)\n\tat org.apache.spark.scheduler.ShuffleMapTask.runTask(ShuffleMapTask.scala:99)\n\tat org.apache.spark.scheduler.ShuffleMapTask.runTask(ShuffleMapTask.scala:52)\n\tat org.apache.spark.scheduler.Task.run(Task.scala:136)\n\tat org.apache.spark.executor.Executor$TaskRunner.$anonfun$run$3(Executor.scala:548)\n\tat org.apache.spark.util.Utils$.tryWithSafeFinally(Utils.scala:1504)\n\tat org.apache.spark.executor.Executor$TaskRunner.run(Executor.scala:551)\n\tat java.base/java.util.concurrent.ThreadPoolExecutor.runWorker(Unknown Source)\n\tat java.base/java.util.concurrent.ThreadPoolExecutor$Worker.run(Unknown Source)\n\tat java.base/java.lang.Thread.run(Unknown Source)\nCaused by: org.apache.spark.sql.execution.datasources.SchemaColumnConvertNotSupportedException\n\tat org.apache.spark.sql.execution.datasources.parquet.ParquetVectorUpdaterFactory.constructConvertNotSupportedException(ParquetVectorUpdaterFactory.java:1125)\n\tat org.apache.spark.sql.execution.datasources.parquet.ParquetVectorUpdaterFactory.getUpdater(ParquetVectorUpdaterFactory.java:187)\n\tat org.apache.spark.sql.execution.datasources.parquet.VectorizedColumnReader.readBatch(VectorizedColumnReader.java:175)\n\tat org.apache.spark.sql.execution.datasources.parquet.VectorizedParquetRecordReader.nextBatch(VectorizedParquetRecordReader.java:316)\n\tat org.apache.spark.sql.execution.datasources.parquet.VectorizedParquetRecordReader.nextKeyValue(VectorizedParquetRecordReader.java:212)\n\tat org.apache.spark.sql.execution.datasources.RecordReaderIterator.hasNext(RecordReaderIterator.scala:39)\n\tat org.apache.spark.sql.execution.datasources.FileScanRDD$$anon$1.hasNext(FileScanRDD.scala:116)\n\tat org.apache.spark.sql.execution.datasources.FileScanRDD$$anon$1.nextIterator(FileScanRDD.scala:274)\n\t... 19 more\n",
     "output_type": "error",
     "traceback": [
      "\u001b[31m---------------------------------------------------------------------------\u001b[39m",
      "\u001b[31mPy4JJavaError\u001b[39m                             Traceback (most recent call last)",
      "\u001b[36mCell\u001b[39m\u001b[36m \u001b[39m\u001b[32mIn[59]\u001b[39m\u001b[32m, line 1\u001b[39m\n\u001b[32m----> \u001b[39m\u001b[32m1\u001b[39m \u001b[43mpatient\u001b[49m\u001b[43m.\u001b[49m\u001b[43mselect\u001b[49m\u001b[43m(\u001b[49m\u001b[33;43m\"\u001b[39;49m\u001b[33;43mpatientagegroup\u001b[39;49m\u001b[33;43m\"\u001b[39;49m\u001b[43m)\u001b[49m\u001b[43m.\u001b[49m\u001b[43mdistinct\u001b[49m\u001b[43m(\u001b[49m\u001b[43m)\u001b[49m\u001b[43m.\u001b[49m\u001b[43mshow\u001b[49m\u001b[43m(\u001b[49m\u001b[43m)\u001b[49m\n",
      "\u001b[36mFile \u001b[39m\u001b[32m/env/lib/python3.12/site-packages/pyspark/sql/dataframe.py:606\u001b[39m, in \u001b[36mDataFrame.show\u001b[39m\u001b[34m(self, n, truncate, vertical)\u001b[39m\n\u001b[32m    603\u001b[39m     \u001b[38;5;28;01mraise\u001b[39;00m \u001b[38;5;167;01mTypeError\u001b[39;00m(\u001b[33m\"\u001b[39m\u001b[33mParameter \u001b[39m\u001b[33m'\u001b[39m\u001b[33mvertical\u001b[39m\u001b[33m'\u001b[39m\u001b[33m must be a bool\u001b[39m\u001b[33m\"\u001b[39m)\n\u001b[32m    605\u001b[39m \u001b[38;5;28;01mif\u001b[39;00m \u001b[38;5;28misinstance\u001b[39m(truncate, \u001b[38;5;28mbool\u001b[39m) \u001b[38;5;129;01mand\u001b[39;00m truncate:\n\u001b[32m--> \u001b[39m\u001b[32m606\u001b[39m     \u001b[38;5;28mprint\u001b[39m(\u001b[38;5;28;43mself\u001b[39;49m\u001b[43m.\u001b[49m\u001b[43m_jdf\u001b[49m\u001b[43m.\u001b[49m\u001b[43mshowString\u001b[49m\u001b[43m(\u001b[49m\u001b[43mn\u001b[49m\u001b[43m,\u001b[49m\u001b[43m \u001b[49m\u001b[32;43m20\u001b[39;49m\u001b[43m,\u001b[49m\u001b[43m \u001b[49m\u001b[43mvertical\u001b[49m\u001b[43m)\u001b[49m)\n\u001b[32m    607\u001b[39m \u001b[38;5;28;01melse\u001b[39;00m:\n\u001b[32m    608\u001b[39m     \u001b[38;5;28;01mtry\u001b[39;00m:\n",
      "\u001b[36mFile \u001b[39m\u001b[32m/env/lib/python3.12/site-packages/py4j/java_gateway.py:1321\u001b[39m, in \u001b[36mJavaMember.__call__\u001b[39m\u001b[34m(self, *args)\u001b[39m\n\u001b[32m   1315\u001b[39m command = proto.CALL_COMMAND_NAME +\\\n\u001b[32m   1316\u001b[39m     \u001b[38;5;28mself\u001b[39m.command_header +\\\n\u001b[32m   1317\u001b[39m     args_command +\\\n\u001b[32m   1318\u001b[39m     proto.END_COMMAND_PART\n\u001b[32m   1320\u001b[39m answer = \u001b[38;5;28mself\u001b[39m.gateway_client.send_command(command)\n\u001b[32m-> \u001b[39m\u001b[32m1321\u001b[39m return_value = \u001b[43mget_return_value\u001b[49m\u001b[43m(\u001b[49m\n\u001b[32m   1322\u001b[39m \u001b[43m    \u001b[49m\u001b[43manswer\u001b[49m\u001b[43m,\u001b[49m\u001b[43m \u001b[49m\u001b[38;5;28;43mself\u001b[39;49m\u001b[43m.\u001b[49m\u001b[43mgateway_client\u001b[49m\u001b[43m,\u001b[49m\u001b[43m \u001b[49m\u001b[38;5;28;43mself\u001b[39;49m\u001b[43m.\u001b[49m\u001b[43mtarget_id\u001b[49m\u001b[43m,\u001b[49m\u001b[43m \u001b[49m\u001b[38;5;28;43mself\u001b[39;49m\u001b[43m.\u001b[49m\u001b[43mname\u001b[49m\u001b[43m)\u001b[49m\n\u001b[32m   1324\u001b[39m \u001b[38;5;28;01mfor\u001b[39;00m temp_arg \u001b[38;5;129;01min\u001b[39;00m temp_args:\n\u001b[32m   1325\u001b[39m     temp_arg._detach()\n",
      "\u001b[36mFile \u001b[39m\u001b[32m/env/lib/python3.12/site-packages/pyspark/sql/utils.py:190\u001b[39m, in \u001b[36mcapture_sql_exception.<locals>.deco\u001b[39m\u001b[34m(*a, **kw)\u001b[39m\n\u001b[32m    188\u001b[39m \u001b[38;5;28;01mdef\u001b[39;00m\u001b[38;5;250m \u001b[39m\u001b[34mdeco\u001b[39m(*a: Any, **kw: Any) -> Any:\n\u001b[32m    189\u001b[39m     \u001b[38;5;28;01mtry\u001b[39;00m:\n\u001b[32m--> \u001b[39m\u001b[32m190\u001b[39m         \u001b[38;5;28;01mreturn\u001b[39;00m \u001b[43mf\u001b[49m\u001b[43m(\u001b[49m\u001b[43m*\u001b[49m\u001b[43ma\u001b[49m\u001b[43m,\u001b[49m\u001b[43m \u001b[49m\u001b[43m*\u001b[49m\u001b[43m*\u001b[49m\u001b[43mkw\u001b[49m\u001b[43m)\u001b[49m\n\u001b[32m    191\u001b[39m     \u001b[38;5;28;01mexcept\u001b[39;00m Py4JJavaError \u001b[38;5;28;01mas\u001b[39;00m e:\n\u001b[32m    192\u001b[39m         converted = convert_exception(e.java_exception)\n",
      "\u001b[36mFile \u001b[39m\u001b[32m/env/lib/python3.12/site-packages/py4j/protocol.py:326\u001b[39m, in \u001b[36mget_return_value\u001b[39m\u001b[34m(answer, gateway_client, target_id, name)\u001b[39m\n\u001b[32m    324\u001b[39m value = OUTPUT_CONVERTER[\u001b[38;5;28mtype\u001b[39m](answer[\u001b[32m2\u001b[39m:], gateway_client)\n\u001b[32m    325\u001b[39m \u001b[38;5;28;01mif\u001b[39;00m answer[\u001b[32m1\u001b[39m] == REFERENCE_TYPE:\n\u001b[32m--> \u001b[39m\u001b[32m326\u001b[39m     \u001b[38;5;28;01mraise\u001b[39;00m Py4JJavaError(\n\u001b[32m    327\u001b[39m         \u001b[33m\"\u001b[39m\u001b[33mAn error occurred while calling \u001b[39m\u001b[38;5;132;01m{0}\u001b[39;00m\u001b[38;5;132;01m{1}\u001b[39;00m\u001b[38;5;132;01m{2}\u001b[39;00m\u001b[33m.\u001b[39m\u001b[38;5;130;01m\\n\u001b[39;00m\u001b[33m\"\u001b[39m.\n\u001b[32m    328\u001b[39m         \u001b[38;5;28mformat\u001b[39m(target_id, \u001b[33m\"\u001b[39m\u001b[33m.\u001b[39m\u001b[33m\"\u001b[39m, name), value)\n\u001b[32m    329\u001b[39m \u001b[38;5;28;01melse\u001b[39;00m:\n\u001b[32m    330\u001b[39m     \u001b[38;5;28;01mraise\u001b[39;00m Py4JError(\n\u001b[32m    331\u001b[39m         \u001b[33m\"\u001b[39m\u001b[33mAn error occurred while calling \u001b[39m\u001b[38;5;132;01m{0}\u001b[39;00m\u001b[38;5;132;01m{1}\u001b[39;00m\u001b[38;5;132;01m{2}\u001b[39;00m\u001b[33m. Trace:\u001b[39m\u001b[38;5;130;01m\\n\u001b[39;00m\u001b[38;5;132;01m{3}\u001b[39;00m\u001b[38;5;130;01m\\n\u001b[39;00m\u001b[33m\"\u001b[39m.\n\u001b[32m    332\u001b[39m         \u001b[38;5;28mformat\u001b[39m(target_id, \u001b[33m\"\u001b[39m\u001b[33m.\u001b[39m\u001b[33m\"\u001b[39m, name, value))\n",
      "\u001b[31mPy4JJavaError\u001b[39m: An error occurred while calling o1059.showString.\n: org.apache.spark.SparkException: Job aborted due to stage failure: Task 3 in stage 84.0 failed 1 times, most recent failure: Lost task 3.0 in stage 84.0 (TID 2637) (d8fd851c15c0 executor driver): org.apache.spark.sql.execution.QueryExecutionException: Parquet column cannot be converted in file gs://zoomcamp-454219-ade-pipeline/data/pq/patient/2004/drug-event-part-8-of-20.parquet. Column: [patientagegroup], Expected: string, Found: INT32\n\tat org.apache.spark.sql.errors.QueryExecutionErrors$.unsupportedSchemaColumnConvertError(QueryExecutionErrors.scala:724)\n\tat org.apache.spark.sql.execution.datasources.FileScanRDD$$anon$1.nextIterator(FileScanRDD.scala:278)\n\tat org.apache.spark.sql.execution.datasources.FileScanRDD$$anon$1.hasNext(FileScanRDD.scala:116)\n\tat org.apache.spark.sql.execution.FileSourceScanExec$$anon$1.hasNext(DataSourceScanExec.scala:554)\n\tat org.apache.spark.sql.catalyst.expressions.GeneratedClass$GeneratedIteratorForCodegenStage1.columnartorow_nextBatch_0$(Unknown Source)\n\tat org.apache.spark.sql.catalyst.expressions.GeneratedClass$GeneratedIteratorForCodegenStage1.hashAgg_doAggregateWithKeys_0$(Unknown Source)\n\tat org.apache.spark.sql.catalyst.expressions.GeneratedClass$GeneratedIteratorForCodegenStage1.processNext(Unknown Source)\n\tat org.apache.spark.sql.execution.BufferedRowIterator.hasNext(BufferedRowIterator.java:43)\n\tat org.apache.spark.sql.execution.WholeStageCodegenExec$$anon$1.hasNext(WholeStageCodegenExec.scala:760)\n\tat scala.collection.Iterator$$anon$10.hasNext(Iterator.scala:460)\n\tat org.apache.spark.shuffle.sort.BypassMergeSortShuffleWriter.write(BypassMergeSortShuffleWriter.java:140)\n\tat org.apache.spark.shuffle.ShuffleWriteProcessor.write(ShuffleWriteProcessor.scala:59)\n\tat org.apache.spark.scheduler.ShuffleMapTask.runTask(ShuffleMapTask.scala:99)\n\tat org.apache.spark.scheduler.ShuffleMapTask.runTask(ShuffleMapTask.scala:52)\n\tat org.apache.spark.scheduler.Task.run(Task.scala:136)\n\tat org.apache.spark.executor.Executor$TaskRunner.$anonfun$run$3(Executor.scala:548)\n\tat org.apache.spark.util.Utils$.tryWithSafeFinally(Utils.scala:1504)\n\tat org.apache.spark.executor.Executor$TaskRunner.run(Executor.scala:551)\n\tat java.base/java.util.concurrent.ThreadPoolExecutor.runWorker(Unknown Source)\n\tat java.base/java.util.concurrent.ThreadPoolExecutor$Worker.run(Unknown Source)\n\tat java.base/java.lang.Thread.run(Unknown Source)\nCaused by: org.apache.spark.sql.execution.datasources.SchemaColumnConvertNotSupportedException\n\tat org.apache.spark.sql.execution.datasources.parquet.ParquetVectorUpdaterFactory.constructConvertNotSupportedException(ParquetVectorUpdaterFactory.java:1125)\n\tat org.apache.spark.sql.execution.datasources.parquet.ParquetVectorUpdaterFactory.getUpdater(ParquetVectorUpdaterFactory.java:187)\n\tat org.apache.spark.sql.execution.datasources.parquet.VectorizedColumnReader.readBatch(VectorizedColumnReader.java:175)\n\tat org.apache.spark.sql.execution.datasources.parquet.VectorizedParquetRecordReader.nextBatch(VectorizedParquetRecordReader.java:316)\n\tat org.apache.spark.sql.execution.datasources.parquet.VectorizedParquetRecordReader.nextKeyValue(VectorizedParquetRecordReader.java:212)\n\tat org.apache.spark.sql.execution.datasources.RecordReaderIterator.hasNext(RecordReaderIterator.scala:39)\n\tat org.apache.spark.sql.execution.datasources.FileScanRDD$$anon$1.hasNext(FileScanRDD.scala:116)\n\tat org.apache.spark.sql.execution.datasources.FileScanRDD$$anon$1.nextIterator(FileScanRDD.scala:274)\n\t... 19 more\n\nDriver stacktrace:\n\tat org.apache.spark.scheduler.DAGScheduler.failJobAndIndependentStages(DAGScheduler.scala:2672)\n\tat org.apache.spark.scheduler.DAGScheduler.$anonfun$abortStage$2(DAGScheduler.scala:2608)\n\tat org.apache.spark.scheduler.DAGScheduler.$anonfun$abortStage$2$adapted(DAGScheduler.scala:2607)\n\tat scala.collection.mutable.ResizableArray.foreach(ResizableArray.scala:62)\n\tat scala.collection.mutable.ResizableArray.foreach$(ResizableArray.scala:55)\n\tat scala.collection.mutable.ArrayBuffer.foreach(ArrayBuffer.scala:49)\n\tat org.apache.spark.scheduler.DAGScheduler.abortStage(DAGScheduler.scala:2607)\n\tat org.apache.spark.scheduler.DAGScheduler.$anonfun$handleTaskSetFailed$1(DAGScheduler.scala:1182)\n\tat org.apache.spark.scheduler.DAGScheduler.$anonfun$handleTaskSetFailed$1$adapted(DAGScheduler.scala:1182)\n\tat scala.Option.foreach(Option.scala:407)\n\tat org.apache.spark.scheduler.DAGScheduler.handleTaskSetFailed(DAGScheduler.scala:1182)\n\tat org.apache.spark.scheduler.DAGSchedulerEventProcessLoop.doOnReceive(DAGScheduler.scala:2860)\n\tat org.apache.spark.scheduler.DAGSchedulerEventProcessLoop.onReceive(DAGScheduler.scala:2802)\n\tat org.apache.spark.scheduler.DAGSchedulerEventProcessLoop.onReceive(DAGScheduler.scala:2791)\n\tat org.apache.spark.util.EventLoop$$anon$1.run(EventLoop.scala:49)\nCaused by: org.apache.spark.sql.execution.QueryExecutionException: Parquet column cannot be converted in file gs://zoomcamp-454219-ade-pipeline/data/pq/patient/2004/drug-event-part-8-of-20.parquet. Column: [patientagegroup], Expected: string, Found: INT32\n\tat org.apache.spark.sql.errors.QueryExecutionErrors$.unsupportedSchemaColumnConvertError(QueryExecutionErrors.scala:724)\n\tat org.apache.spark.sql.execution.datasources.FileScanRDD$$anon$1.nextIterator(FileScanRDD.scala:278)\n\tat org.apache.spark.sql.execution.datasources.FileScanRDD$$anon$1.hasNext(FileScanRDD.scala:116)\n\tat org.apache.spark.sql.execution.FileSourceScanExec$$anon$1.hasNext(DataSourceScanExec.scala:554)\n\tat org.apache.spark.sql.catalyst.expressions.GeneratedClass$GeneratedIteratorForCodegenStage1.columnartorow_nextBatch_0$(Unknown Source)\n\tat org.apache.spark.sql.catalyst.expressions.GeneratedClass$GeneratedIteratorForCodegenStage1.hashAgg_doAggregateWithKeys_0$(Unknown Source)\n\tat org.apache.spark.sql.catalyst.expressions.GeneratedClass$GeneratedIteratorForCodegenStage1.processNext(Unknown Source)\n\tat org.apache.spark.sql.execution.BufferedRowIterator.hasNext(BufferedRowIterator.java:43)\n\tat org.apache.spark.sql.execution.WholeStageCodegenExec$$anon$1.hasNext(WholeStageCodegenExec.scala:760)\n\tat scala.collection.Iterator$$anon$10.hasNext(Iterator.scala:460)\n\tat org.apache.spark.shuffle.sort.BypassMergeSortShuffleWriter.write(BypassMergeSortShuffleWriter.java:140)\n\tat org.apache.spark.shuffle.ShuffleWriteProcessor.write(ShuffleWriteProcessor.scala:59)\n\tat org.apache.spark.scheduler.ShuffleMapTask.runTask(ShuffleMapTask.scala:99)\n\tat org.apache.spark.scheduler.ShuffleMapTask.runTask(ShuffleMapTask.scala:52)\n\tat org.apache.spark.scheduler.Task.run(Task.scala:136)\n\tat org.apache.spark.executor.Executor$TaskRunner.$anonfun$run$3(Executor.scala:548)\n\tat org.apache.spark.util.Utils$.tryWithSafeFinally(Utils.scala:1504)\n\tat org.apache.spark.executor.Executor$TaskRunner.run(Executor.scala:551)\n\tat java.base/java.util.concurrent.ThreadPoolExecutor.runWorker(Unknown Source)\n\tat java.base/java.util.concurrent.ThreadPoolExecutor$Worker.run(Unknown Source)\n\tat java.base/java.lang.Thread.run(Unknown Source)\nCaused by: org.apache.spark.sql.execution.datasources.SchemaColumnConvertNotSupportedException\n\tat org.apache.spark.sql.execution.datasources.parquet.ParquetVectorUpdaterFactory.constructConvertNotSupportedException(ParquetVectorUpdaterFactory.java:1125)\n\tat org.apache.spark.sql.execution.datasources.parquet.ParquetVectorUpdaterFactory.getUpdater(ParquetVectorUpdaterFactory.java:187)\n\tat org.apache.spark.sql.execution.datasources.parquet.VectorizedColumnReader.readBatch(VectorizedColumnReader.java:175)\n\tat org.apache.spark.sql.execution.datasources.parquet.VectorizedParquetRecordReader.nextBatch(VectorizedParquetRecordReader.java:316)\n\tat org.apache.spark.sql.execution.datasources.parquet.VectorizedParquetRecordReader.nextKeyValue(VectorizedParquetRecordReader.java:212)\n\tat org.apache.spark.sql.execution.datasources.RecordReaderIterator.hasNext(RecordReaderIterator.scala:39)\n\tat org.apache.spark.sql.execution.datasources.FileScanRDD$$anon$1.hasNext(FileScanRDD.scala:116)\n\tat org.apache.spark.sql.execution.datasources.FileScanRDD$$anon$1.nextIterator(FileScanRDD.scala:274)\n\t... 19 more\n"
     ]
    },
    {
     "name": "stdout",
     "output_type": "stream",
     "text": [
      "25/04/27 10:01:30 WARN TaskSetManager: Lost task 12.0 in stage 84.0 (TID 2646) (d8fd851c15c0 executor driver): TaskKilled (Stage cancelled)\n"
     ]
    },
    {
     "name": "stderr",
     "output_type": "stream",
     "text": [
      "[Stage 84:>                                                       (0 + 18) / 20]\r"
     ]
    },
    {
     "name": "stdout",
     "output_type": "stream",
     "text": [
      "25/04/27 10:01:30 WARN TaskSetManager: Lost task 7.0 in stage 84.0 (TID 2641) (d8fd851c15c0 executor driver): TaskKilled (Stage cancelled)\n",
      "25/04/27 10:01:30 WARN TaskSetManager: Lost task 9.0 in stage 84.0 (TID 2643) (d8fd851c15c0 executor driver): TaskKilled (Stage cancelled)\n",
      "25/04/27 10:01:30 WARN TaskSetManager: Lost task 4.0 in stage 84.0 (TID 2638) (d8fd851c15c0 executor driver): TaskKilled (Stage cancelled)\n",
      "25/04/27 10:01:30 WARN TaskSetManager: Lost task 16.0 in stage 84.0 (TID 2650) (d8fd851c15c0 executor driver): TaskKilled (Stage cancelled)\n",
      "25/04/27 10:01:30 WARN TaskSetManager: Lost task 6.0 in stage 84.0 (TID 2640) (d8fd851c15c0 executor driver): TaskKilled (Stage cancelled)\n",
      "25/04/27 10:01:30 WARN TaskSetManager: Lost task 19.0 in stage 84.0 (TID 2653) (d8fd851c15c0 executor driver): TaskKilled (Stage cancelled)\n",
      "25/04/27 10:01:30 WARN TaskSetManager: Lost task 15.0 in stage 84.0 (TID 2649) (d8fd851c15c0 executor driver): TaskKilled (Stage cancelled)\n",
      "25/04/27 10:01:30 WARN TaskSetManager: Lost task 11.0 in stage 84.0 (TID 2645) (d8fd851c15c0 executor driver): TaskKilled (Stage cancelled)\n",
      "25/04/27 10:01:30 WARN TaskSetManager: Lost task 8.0 in stage 84.0 (TID 2642) (d8fd851c15c0 executor driver): TaskKilled (Stage cancelled)\n",
      "25/04/27 10:01:30 WARN TaskSetManager: Lost task 10.0 in stage 84.0 (TID 2644) (d8fd851c15c0 executor driver): TaskKilled (Stage cancelled)\n",
      "25/04/27 10:01:30 WARN TaskSetManager: Lost task 0.0 in stage 84.0 (TID 2634) (d8fd851c15c0 executor driver): TaskKilled (Stage cancelled)\n",
      "25/04/27 10:01:30 WARN TaskSetManager: Lost task 2.0 in stage 84.0 (TID 2636) (d8fd851c15c0 executor driver): TaskKilled (Stage cancelled)\n",
      "25/04/27 10:01:30 WARN TaskSetManager: Lost task 14.0 in stage 84.0 (TID 2648) (d8fd851c15c0 executor driver): TaskKilled (Stage cancelled)\n",
      "25/04/27 10:01:30 WARN TaskSetManager: Lost task 18.0 in stage 84.0 (TID 2652) (d8fd851c15c0 executor driver): TaskKilled (Stage cancelled)\n",
      "25/04/27 10:01:30 WARN TaskSetManager: Lost task 17.0 in stage 84.0 (TID 2651) (d8fd851c15c0 executor driver): TaskKilled (Stage cancelled)\n",
      "25/04/27 10:01:30 WARN TaskSetManager: Lost task 1.0 in stage 84.0 (TID 2635) (d8fd851c15c0 executor driver): TaskKilled (Stage cancelled)\n"
     ]
    },
    {
     "name": "stderr",
     "output_type": "stream",
     "text": [
      "[Stage 84:>                                                        (0 + 2) / 20]\r"
     ]
    },
    {
     "name": "stdout",
     "output_type": "stream",
     "text": [
      "25/04/27 10:01:30 WARN TaskSetManager: Lost task 13.0 in stage 84.0 (TID 2647) (d8fd851c15c0 executor driver): TaskKilled (Stage cancelled)\n",
      "25/04/27 10:01:30 WARN TaskSetManager: Lost task 5.0 in stage 84.0 (TID 2639) (d8fd851c15c0 executor driver): TaskKilled (Stage cancelled)\n"
     ]
    }
   ],
   "source": [
    "patient.select(\"patientagegroup\").distinct().show()\n"
   ]
  },
  {
   "cell_type": "markdown",
   "id": "592281ab",
   "metadata": {},
   "source": [
    "### Perform Cast"
   ]
  },
  {
   "cell_type": "code",
   "execution_count": 52,
   "id": "c77aaf61",
   "metadata": {},
   "outputs": [],
   "source": [
    "# Cast\n",
    "patient = (\n",
    "    patient\n",
    "    .withColumn(\"patientonsetage\", F.col('patientonsetage').cast(t.IntegerType()))\n",
    "    .withColumn(\"patientonsetageunit\", F.col('patientonsetageunit').cast(t.IntegerType()))\n",
    "    .withColumn(\"patientsex\", F.col('patientsex').cast(t.IntegerType()))\n",
    "    # .withColumn(\"patientweight\", F.col('patientweight').cast(t.FloatType()))\n",
    ")"
   ]
  },
  {
   "cell_type": "markdown",
   "id": "9f227bde",
   "metadata": {},
   "source": [
    "### Perform Transformation"
   ]
  },
  {
   "cell_type": "code",
   "execution_count": 53,
   "id": "4eb666ac",
   "metadata": {},
   "outputs": [
    {
     "name": "stdout",
     "output_type": "stream",
     "text": [
      "root\n",
      " |-- patientid: string (nullable = true)\n",
      " |-- patientagegroup: string (nullable = true)\n",
      " |-- patientonsetage: integer (nullable = true)\n",
      " |-- patientonsetageunit: integer (nullable = true)\n",
      " |-- patientsex: integer (nullable = true)\n",
      " |-- patientweight: string (nullable = true)\n",
      " |-- serious: integer (nullable = true)\n",
      " |-- seriousnessdeath: integer (nullable = true)\n",
      " |-- seriousnesshospitalization: integer (nullable = true)\n",
      " |-- seriousnessdisabling: integer (nullable = true)\n",
      " |-- seriousnesslifethreatening: integer (nullable = true)\n",
      " |-- seriousnessother: integer (nullable = true)\n",
      " |-- receivedate: integer (nullable = true)\n",
      " |-- receiptdate: integer (nullable = true)\n",
      " |-- safetyreportid: integer (nullable = true)\n",
      "\n"
     ]
    }
   ],
   "source": [
    "patient.printSchema()"
   ]
  },
  {
   "cell_type": "code",
   "execution_count": 54,
   "id": "ae0a8691",
   "metadata": {},
   "outputs": [],
   "source": [
    "# Patient Column transformations\n",
    "\n",
    "patient = patient.withColumn(\n",
    "    \"patientagegroup\",\n",
    "    (\n",
    "        F\n",
    "        .when(F.col(\"patientagegroup\") == '1', \"Neonate\")\n",
    "        .when(F.col(\"patientagegroup\") == '2', \"Infant\")\n",
    "        .when(F.col(\"patientagegroup\") == '3', \"Child\")\n",
    "        .when(F.col(\"patientagegroup\") == '4', \"Adolescent\")\n",
    "        .when(F.col(\"patientagegroup\") == '5', \"Adult\")\n",
    "        .when(F.col(\"patientagegroup\") == '6', \"Elderly\")\n",
    "        .otherwise(None)\n",
    "     ).cast(t.StringType())\n",
    ")\n",
    "\n",
    "# Normalize patientage\n",
    "patient = patient.withColumn(\n",
    "    \"patientage\",\n",
    "    (\n",
    "        F\n",
    "        .when(F.col(\"patientonsetageunit\") == 800, F.col(\"patientonsetage\") * 10)\n",
    "        .when(F.col(\"patientonsetageunit\") == 801, F.col(\"patientonsetage\") * 1)\n",
    "        .when(F.col(\"patientonsetageunit\") == 802, F.col(\"patientonsetage\") / 12)\n",
    "        .when(F.col(\"patientonsetageunit\") == 803, F.col(\"patientonsetage\") / 52.143)\n",
    "        .when(F.col(\"patientonsetageunit\") == 804, F.col(\"patientonsetage\") / 365.25)\n",
    "        .when(F.col(\"patientonsetageunit\") == 805, F.col(\"patientonsetage\") / 8766)\n",
    "        .otherwise(None)\n",
    "    ).cast(t.FloatType())\n",
    ").drop(\"patientonsetageunit\", \"patientonsetage\")\n",
    "\n",
    "patient = patient.withColumn(\n",
    "    \"patientsex\",\n",
    "    (\n",
    "        F\n",
    "        .when(F.col(\"patientsex\") == 1, \"Male\")\n",
    "        .when(F.col(\"patientsex\") == 2, \"Female\")\n",
    "        .otherwise(None)\n",
    "    ).cast(t.StringType())\n",
    ")\n",
    "\n",
    "# patient = patient.withColumn(\n",
    "#     \"patientweight\",\n",
    "#     (\n",
    "#         F\n",
    "#         .when(\n",
    "#             F.col(\"patientweight\").rlike(r\"^\\d+(\\.\\d+)?$\"),\n",
    "#             F.col(\"patientweight\").cast(t.FloatType()))\n",
    "#         .otherwise(None)\n",
    "#      )\n",
    "# )\n",
    "\n",
    "# patient = patient.withColumn(\n",
    "#     \"serious\",\n",
    "#     (\n",
    "#         F\n",
    "#         .when(F.col(\"serious\") == 1, True)\n",
    "#         .when(F.col(\"serious\") == 2, False)\n",
    "#         .otherwise(None)\n",
    "#      )\n",
    "# )\n",
    "\n",
    "# patient = patient.withColumn(\n",
    "#     \"seriousnessdeath\",\n",
    "#     (\n",
    "#         F\n",
    "#         .when(F.col(\"seriousnessdeath\") == 1, True)\n",
    "#         .otherwise(False)\n",
    "#      )\n",
    "# )\n",
    "\n",
    "# patient = patient.withColumn(\n",
    "#     \"seriousnesshospitalization\",\n",
    "#     (\n",
    "#         F\n",
    "#         .when(F.col(\"seriousnesshospitalization\") == 1, True)\n",
    "#         .otherwise(False)\n",
    "#      )\n",
    "# )\n",
    "\n",
    "# patient = patient.withColumn(\n",
    "#     \"seriousnessdisabling\",\n",
    "#     (\n",
    "#         F\n",
    "#         .when(F.col(\"seriousnessdisabling\") == 1, True)\n",
    "#         .otherwise(False)\n",
    "#      )\n",
    "# )\n",
    "\n",
    "# patient = patient.withColumn(\n",
    "#     \"seriousnesslifethreatening\",\n",
    "#     (\n",
    "#         F\n",
    "#         .when(F.col(\"seriousnesslifethreatening\") == 1, True)\n",
    "#         .otherwise(False)\n",
    "#      )\n",
    "# )\n",
    "\n",
    "# patient = patient.withColumn(\n",
    "#     \"seriousnessother\",\n",
    "#     (\n",
    "#         F\n",
    "#         .when(F.col(\"seriousnessother\") == 1, True)\n",
    "#         .otherwise(False)\n",
    "#      )\n",
    "# )"
   ]
  },
  {
   "cell_type": "code",
   "execution_count": 55,
   "id": "4af28eba",
   "metadata": {},
   "outputs": [
    {
     "name": "stdout",
     "output_type": "stream",
     "text": [
      "root\n",
      " |-- patientid: string (nullable = true)\n",
      " |-- patientagegroup: string (nullable = true)\n",
      " |-- patientsex: string (nullable = true)\n",
      " |-- patientweight: string (nullable = true)\n",
      " |-- serious: integer (nullable = true)\n",
      " |-- seriousnessdeath: integer (nullable = true)\n",
      " |-- seriousnesshospitalization: integer (nullable = true)\n",
      " |-- seriousnessdisabling: integer (nullable = true)\n",
      " |-- seriousnesslifethreatening: integer (nullable = true)\n",
      " |-- seriousnessother: integer (nullable = true)\n",
      " |-- receivedate: integer (nullable = true)\n",
      " |-- receiptdate: integer (nullable = true)\n",
      " |-- safetyreportid: integer (nullable = true)\n",
      " |-- patientage: float (nullable = true)\n",
      "\n"
     ]
    }
   ],
   "source": [
    "patient.printSchema()"
   ]
  },
  {
   "cell_type": "markdown",
   "id": "797ddfe8",
   "metadata": {},
   "source": [
    "### Display rows"
   ]
  },
  {
   "cell_type": "code",
   "execution_count": 56,
   "id": "d325ad94",
   "metadata": {},
   "outputs": [
    {
     "name": "stdout",
     "output_type": "stream",
     "text": [
      "+--------------------+---------------+----------+-------------+-------+----------------+--------------------------+--------------------+--------------------------+----------------+-----------+-----------+--------------+----------+\n",
      "|           patientid|patientagegroup|patientsex|patientweight|serious|seriousnessdeath|seriousnesshospitalization|seriousnessdisabling|seriousnesslifethreatening|seriousnessother|receivedate|receiptdate|safetyreportid|patientage|\n",
      "+--------------------+---------------+----------+-------------+-------+----------------+--------------------------+--------------------+--------------------------+----------------+-----------+-----------+--------------+----------+\n",
      "|c03ef5e8-17e8-4b0...|           null|    Female|         null|   null|            null|                      null|                null|                      null|            null|       null|       null|          null|      null|\n",
      "|be397b97-b8c8-42a...|           null|      Male|         null|   null|            null|                      null|                null|                      null|            null|       null|       null|          null|      24.0|\n",
      "|6677299a-53fb-4fb...|           null|      Male|        99.88|   null|            null|                      null|                null|                      null|            null|       null|       null|          null|      70.0|\n",
      "|5e3b557d-99cc-47f...|           null|    Female|         null|   null|            null|                      null|                null|                      null|            null|       null|       null|          null|      null|\n",
      "|796e8764-4d53-40f...|           null|    Female|         null|   null|            null|                      null|                null|                      null|            null|       null|       null|          null|      30.0|\n",
      "|74c636e6-c276-487...|           null|    Female|         null|   null|            null|                      null|                null|                      null|            null|       null|       null|          null|      36.0|\n",
      "|c2444bf5-8fe5-44b...|           null|      Male|         null|   null|            null|                      null|                null|                      null|            null|       null|       null|          null|      63.0|\n",
      "|31ea0f9f-0ed2-426...|        Elderly|    Female|         null|   null|            null|                      null|                null|                      null|            null|       null|       null|          null|      92.0|\n",
      "|6a4fb232-08a9-455...|           null|    Female|         null|   null|            null|                      null|                null|                      null|            null|       null|       null|          null|      57.0|\n",
      "|b4bb967f-a395-4a3...|           null|      Male|         null|   null|            null|                      null|                null|                      null|            null|       null|       null|          null|      55.0|\n",
      "|81e2ff2c-5b7c-4fb...|           null|    Female|         null|   null|            null|                      null|                null|                      null|            null|       null|       null|          null|      80.0|\n",
      "|a677d8b6-c5af-41f...|           null|      null|         null|   null|            null|                      null|                null|                      null|            null|       null|       null|          null|      null|\n",
      "|e92c1e60-7407-41c...|           null|      null|         null|   null|            null|                      null|                null|                      null|            null|       null|       null|          null|      null|\n",
      "|2b61a694-42c7-4c5...|           null|    Female|           72|   null|            null|                      null|                null|                      null|            null|       null|       null|          null|      64.0|\n",
      "|fab6123f-ac03-481...|           null|      Male|         null|   null|            null|                      null|                null|                      null|            null|       null|       null|          null|      46.0|\n",
      "|b6741aef-f2cf-48e...|           null|      Male|         null|   null|            null|                      null|                null|                      null|            null|       null|       null|          null|      72.0|\n",
      "|811ee04d-fbf1-452...|           null|    Female|         73.6|   null|            null|                      null|                null|                      null|            null|       null|       null|          null|      54.0|\n",
      "|ca3a2a9a-06d4-413...|           null|      Male|         null|   null|            null|                      null|                null|                      null|            null|       null|       null|          null|      48.0|\n",
      "|55c7408b-0f7f-468...|           null|    Female|           63|   null|            null|                      null|                null|                      null|            null|       null|       null|          null|      76.0|\n",
      "|6acc9f37-e396-4c6...|           null|    Female|         86.2|   null|            null|                      null|                null|                      null|            null|       null|       null|          null|      null|\n",
      "+--------------------+---------------+----------+-------------+-------+----------------+--------------------------+--------------------+--------------------------+----------------+-----------+-----------+--------------+----------+\n",
      "only showing top 20 rows\n",
      "\n"
     ]
    },
    {
     "name": "stderr",
     "output_type": "stream",
     "text": [
      "                                                                                \r"
     ]
    }
   ],
   "source": [
    "patient.show()"
   ]
  },
  {
   "cell_type": "code",
   "execution_count": 57,
   "id": "963b3483",
   "metadata": {},
   "outputs": [
    {
     "name": "stderr",
     "output_type": "stream",
     "text": [
      "[Stage 78:>                                                       (0 + 20) / 20]\r"
     ]
    },
    {
     "name": "stdout",
     "output_type": "stream",
     "text": [
      "25/04/27 10:01:00 ERROR Executor: Exception in task 2.0 in stage 78.0 (TID 2453)\n",
      "org.apache.spark.sql.execution.QueryExecutionException: Parquet column cannot be converted in file gs://zoomcamp-454219-ade-pipeline/data/pq/patient/2004/drug-event-part-19-of-20.parquet. Column: [patientagegroup], Expected: string, Found: INT32\n",
      "\tat org.apache.spark.sql.errors.QueryExecutionErrors$.unsupportedSchemaColumnConvertError(QueryExecutionErrors.scala:724)\n",
      "\tat org.apache.spark.sql.execution.datasources.FileScanRDD$$anon$1.nextIterator(FileScanRDD.scala:278)\n",
      "\tat org.apache.spark.sql.execution.datasources.FileScanRDD$$anon$1.hasNext(FileScanRDD.scala:116)\n",
      "\tat org.apache.spark.sql.execution.FileSourceScanExec$$anon$1.hasNext(DataSourceScanExec.scala:554)\n",
      "\tat org.apache.spark.sql.catalyst.expressions.GeneratedClass$GeneratedIteratorForCodegenStage1.columnartorow_nextBatch_0$(Unknown Source)\n",
      "\tat org.apache.spark.sql.catalyst.expressions.GeneratedClass$GeneratedIteratorForCodegenStage1.hashAgg_doAggregateWithKeys_0$(Unknown Source)\n",
      "\tat org.apache.spark.sql.catalyst.expressions.GeneratedClass$GeneratedIteratorForCodegenStage1.processNext(Unknown Source)\n",
      "\tat org.apache.spark.sql.execution.BufferedRowIterator.hasNext(BufferedRowIterator.java:43)\n",
      "\tat org.apache.spark.sql.execution.WholeStageCodegenExec$$anon$1.hasNext(WholeStageCodegenExec.scala:760)\n",
      "\tat scala.collection.Iterator$$anon$10.hasNext(Iterator.scala:460)\n",
      "\tat org.apache.spark.shuffle.sort.BypassMergeSortShuffleWriter.write(BypassMergeSortShuffleWriter.java:140)\n",
      "\tat org.apache.spark.shuffle.ShuffleWriteProcessor.write(ShuffleWriteProcessor.scala:59)\n",
      "\tat org.apache.spark.scheduler.ShuffleMapTask.runTask(ShuffleMapTask.scala:99)\n",
      "\tat org.apache.spark.scheduler.ShuffleMapTask.runTask(ShuffleMapTask.scala:52)\n",
      "\tat org.apache.spark.scheduler.Task.run(Task.scala:136)\n",
      "\tat org.apache.spark.executor.Executor$TaskRunner.$anonfun$run$3(Executor.scala:548)\n",
      "\tat org.apache.spark.util.Utils$.tryWithSafeFinally(Utils.scala:1504)\n",
      "\tat org.apache.spark.executor.Executor$TaskRunner.run(Executor.scala:551)\n",
      "\tat java.base/java.util.concurrent.ThreadPoolExecutor.runWorker(Unknown Source)\n",
      "\tat java.base/java.util.concurrent.ThreadPoolExecutor$Worker.run(Unknown Source)\n",
      "\tat java.base/java.lang.Thread.run(Unknown Source)\n",
      "Caused by: org.apache.spark.sql.execution.datasources.SchemaColumnConvertNotSupportedException\n",
      "\tat org.apache.spark.sql.execution.datasources.parquet.ParquetVectorUpdaterFactory.constructConvertNotSupportedException(ParquetVectorUpdaterFactory.java:1125)\n",
      "\tat org.apache.spark.sql.execution.datasources.parquet.ParquetVectorUpdaterFactory.getUpdater(ParquetVectorUpdaterFactory.java:187)\n",
      "\tat org.apache.spark.sql.execution.datasources.parquet.VectorizedColumnReader.readBatch(VectorizedColumnReader.java:175)\n",
      "\tat org.apache.spark.sql.execution.datasources.parquet.VectorizedParquetRecordReader.nextBatch(VectorizedParquetRecordReader.java:316)\n",
      "\tat org.apache.spark.sql.execution.datasources.parquet.VectorizedParquetRecordReader.nextKeyValue(VectorizedParquetRecordReader.java:212)\n",
      "\tat org.apache.spark.sql.execution.datasources.RecordReaderIterator.hasNext(RecordReaderIterator.scala:39)\n",
      "\tat org.apache.spark.sql.execution.datasources.FileScanRDD$$anon$1.hasNext(FileScanRDD.scala:116)\n",
      "\tat org.apache.spark.sql.execution.datasources.FileScanRDD$$anon$1.nextIterator(FileScanRDD.scala:274)\n",
      "\t... 19 more\n",
      "25/04/27 10:01:00 WARN TaskSetManager: Lost task 2.0 in stage 78.0 (TID 2453) (d8fd851c15c0 executor driver): org.apache.spark.sql.execution.QueryExecutionException: Parquet column cannot be converted in file gs://zoomcamp-454219-ade-pipeline/data/pq/patient/2004/drug-event-part-19-of-20.parquet. Column: [patientagegroup], Expected: string, Found: INT32\n",
      "\tat org.apache.spark.sql.errors.QueryExecutionErrors$.unsupportedSchemaColumnConvertError(QueryExecutionErrors.scala:724)\n",
      "\tat org.apache.spark.sql.execution.datasources.FileScanRDD$$anon$1.nextIterator(FileScanRDD.scala:278)\n",
      "\tat org.apache.spark.sql.execution.datasources.FileScanRDD$$anon$1.hasNext(FileScanRDD.scala:116)\n",
      "\tat org.apache.spark.sql.execution.FileSourceScanExec$$anon$1.hasNext(DataSourceScanExec.scala:554)\n",
      "\tat org.apache.spark.sql.catalyst.expressions.GeneratedClass$GeneratedIteratorForCodegenStage1.columnartorow_nextBatch_0$(Unknown Source)\n",
      "\tat org.apache.spark.sql.catalyst.expressions.GeneratedClass$GeneratedIteratorForCodegenStage1.hashAgg_doAggregateWithKeys_0$(Unknown Source)\n",
      "\tat org.apache.spark.sql.catalyst.expressions.GeneratedClass$GeneratedIteratorForCodegenStage1.processNext(Unknown Source)\n",
      "\tat org.apache.spark.sql.execution.BufferedRowIterator.hasNext(BufferedRowIterator.java:43)\n",
      "\tat org.apache.spark.sql.execution.WholeStageCodegenExec$$anon$1.hasNext(WholeStageCodegenExec.scala:760)\n",
      "\tat scala.collection.Iterator$$anon$10.hasNext(Iterator.scala:460)\n",
      "\tat org.apache.spark.shuffle.sort.BypassMergeSortShuffleWriter.write(BypassMergeSortShuffleWriter.java:140)\n",
      "\tat org.apache.spark.shuffle.ShuffleWriteProcessor.write(ShuffleWriteProcessor.scala:59)\n",
      "\tat org.apache.spark.scheduler.ShuffleMapTask.runTask(ShuffleMapTask.scala:99)\n",
      "\tat org.apache.spark.scheduler.ShuffleMapTask.runTask(ShuffleMapTask.scala:52)\n",
      "\tat org.apache.spark.scheduler.Task.run(Task.scala:136)\n",
      "\tat org.apache.spark.executor.Executor$TaskRunner.$anonfun$run$3(Executor.scala:548)\n",
      "\tat org.apache.spark.util.Utils$.tryWithSafeFinally(Utils.scala:1504)\n",
      "\tat org.apache.spark.executor.Executor$TaskRunner.run(Executor.scala:551)\n",
      "\tat java.base/java.util.concurrent.ThreadPoolExecutor.runWorker(Unknown Source)\n",
      "\tat java.base/java.util.concurrent.ThreadPoolExecutor$Worker.run(Unknown Source)\n",
      "\tat java.base/java.lang.Thread.run(Unknown Source)\n",
      "Caused by: org.apache.spark.sql.execution.datasources.SchemaColumnConvertNotSupportedException\n",
      "\tat org.apache.spark.sql.execution.datasources.parquet.ParquetVectorUpdaterFactory.constructConvertNotSupportedException(ParquetVectorUpdaterFactory.java:1125)\n",
      "\tat org.apache.spark.sql.execution.datasources.parquet.ParquetVectorUpdaterFactory.getUpdater(ParquetVectorUpdaterFactory.java:187)\n",
      "\tat org.apache.spark.sql.execution.datasources.parquet.VectorizedColumnReader.readBatch(VectorizedColumnReader.java:175)\n",
      "\tat org.apache.spark.sql.execution.datasources.parquet.VectorizedParquetRecordReader.nextBatch(VectorizedParquetRecordReader.java:316)\n",
      "\tat org.apache.spark.sql.execution.datasources.parquet.VectorizedParquetRecordReader.nextKeyValue(VectorizedParquetRecordReader.java:212)\n",
      "\tat org.apache.spark.sql.execution.datasources.RecordReaderIterator.hasNext(RecordReaderIterator.scala:39)\n",
      "\tat org.apache.spark.sql.execution.datasources.FileScanRDD$$anon$1.hasNext(FileScanRDD.scala:116)\n",
      "\tat org.apache.spark.sql.execution.datasources.FileScanRDD$$anon$1.nextIterator(FileScanRDD.scala:274)\n",
      "\t... 19 more\n",
      "\n",
      "25/04/27 10:01:00 ERROR TaskSetManager: Task 2 in stage 78.0 failed 1 times; aborting job\n",
      "25/04/27 10:01:00 WARN TaskSetManager: Lost task 15.0 in stage 78.0 (TID 2466) (d8fd851c15c0 executor driver): TaskKilled (Stage cancelled)\n",
      "25/04/27 10:01:00 WARN TaskSetManager: Lost task 6.0 in stage 78.0 (TID 2457) (d8fd851c15c0 executor driver): TaskKilled (Stage cancelled)\n",
      "25/04/27 10:01:00 WARN TaskSetManager: Lost task 9.0 in stage 78.0 (TID 2460) (d8fd851c15c0 executor driver): TaskKilled (Stage cancelled)\n",
      "25/04/27 10:01:00 WARN TaskSetManager: Lost task 10.0 in stage 78.0 (TID 2461) (d8fd851c15c0 executor driver): TaskKilled (Stage cancelled)\n",
      "25/04/27 10:01:00 WARN TaskSetManager: Lost task 1.0 in stage 78.0 (TID 2452) (d8fd851c15c0 executor driver): TaskKilled (Stage cancelled)\n",
      "25/04/27 10:01:00 WARN TaskSetManager: Lost task 7.0 in stage 78.0 (TID 2458) (d8fd851c15c0 executor driver): TaskKilled (Stage cancelled)\n",
      "25/04/27 10:01:00 WARN TaskSetManager: Lost task 17.0 in stage 78.0 (TID 2468) (d8fd851c15c0 executor driver): TaskKilled (Stage cancelled)\n",
      "25/04/27 10:01:00 WARN TaskSetManager: Lost task 4.0 in stage 78.0 (TID 2455) (d8fd851c15c0 executor driver): TaskKilled (Stage cancelled)\n",
      "25/04/27 10:01:00 WARN TaskSetManager: Lost task 11.0 in stage 78.0 (TID 2462) (d8fd851c15c0 executor driver): TaskKilled (Stage cancelled)\n",
      "25/04/27 10:01:00 WARN TaskSetManager: Lost task 0.0 in stage 78.0 (TID 2451) (d8fd851c15c0 executor driver): TaskKilled (Stage cancelled)\n",
      "25/04/27 10:01:00 WARN TaskSetManager: Lost task 3.0 in stage 78.0 (TID 2454) (d8fd851c15c0 executor driver): TaskKilled (Stage cancelled)\n"
     ]
    },
    {
     "ename": "Py4JJavaError",
     "evalue": "An error occurred while calling o1038.showString.\n: org.apache.spark.SparkException: Job aborted due to stage failure: Task 2 in stage 78.0 failed 1 times, most recent failure: Lost task 2.0 in stage 78.0 (TID 2453) (d8fd851c15c0 executor driver): org.apache.spark.sql.execution.QueryExecutionException: Parquet column cannot be converted in file gs://zoomcamp-454219-ade-pipeline/data/pq/patient/2004/drug-event-part-19-of-20.parquet. Column: [patientagegroup], Expected: string, Found: INT32\n\tat org.apache.spark.sql.errors.QueryExecutionErrors$.unsupportedSchemaColumnConvertError(QueryExecutionErrors.scala:724)\n\tat org.apache.spark.sql.execution.datasources.FileScanRDD$$anon$1.nextIterator(FileScanRDD.scala:278)\n\tat org.apache.spark.sql.execution.datasources.FileScanRDD$$anon$1.hasNext(FileScanRDD.scala:116)\n\tat org.apache.spark.sql.execution.FileSourceScanExec$$anon$1.hasNext(DataSourceScanExec.scala:554)\n\tat org.apache.spark.sql.catalyst.expressions.GeneratedClass$GeneratedIteratorForCodegenStage1.columnartorow_nextBatch_0$(Unknown Source)\n\tat org.apache.spark.sql.catalyst.expressions.GeneratedClass$GeneratedIteratorForCodegenStage1.hashAgg_doAggregateWithKeys_0$(Unknown Source)\n\tat org.apache.spark.sql.catalyst.expressions.GeneratedClass$GeneratedIteratorForCodegenStage1.processNext(Unknown Source)\n\tat org.apache.spark.sql.execution.BufferedRowIterator.hasNext(BufferedRowIterator.java:43)\n\tat org.apache.spark.sql.execution.WholeStageCodegenExec$$anon$1.hasNext(WholeStageCodegenExec.scala:760)\n\tat scala.collection.Iterator$$anon$10.hasNext(Iterator.scala:460)\n\tat org.apache.spark.shuffle.sort.BypassMergeSortShuffleWriter.write(BypassMergeSortShuffleWriter.java:140)\n\tat org.apache.spark.shuffle.ShuffleWriteProcessor.write(ShuffleWriteProcessor.scala:59)\n\tat org.apache.spark.scheduler.ShuffleMapTask.runTask(ShuffleMapTask.scala:99)\n\tat org.apache.spark.scheduler.ShuffleMapTask.runTask(ShuffleMapTask.scala:52)\n\tat org.apache.spark.scheduler.Task.run(Task.scala:136)\n\tat org.apache.spark.executor.Executor$TaskRunner.$anonfun$run$3(Executor.scala:548)\n\tat org.apache.spark.util.Utils$.tryWithSafeFinally(Utils.scala:1504)\n\tat org.apache.spark.executor.Executor$TaskRunner.run(Executor.scala:551)\n\tat java.base/java.util.concurrent.ThreadPoolExecutor.runWorker(Unknown Source)\n\tat java.base/java.util.concurrent.ThreadPoolExecutor$Worker.run(Unknown Source)\n\tat java.base/java.lang.Thread.run(Unknown Source)\nCaused by: org.apache.spark.sql.execution.datasources.SchemaColumnConvertNotSupportedException\n\tat org.apache.spark.sql.execution.datasources.parquet.ParquetVectorUpdaterFactory.constructConvertNotSupportedException(ParquetVectorUpdaterFactory.java:1125)\n\tat org.apache.spark.sql.execution.datasources.parquet.ParquetVectorUpdaterFactory.getUpdater(ParquetVectorUpdaterFactory.java:187)\n\tat org.apache.spark.sql.execution.datasources.parquet.VectorizedColumnReader.readBatch(VectorizedColumnReader.java:175)\n\tat org.apache.spark.sql.execution.datasources.parquet.VectorizedParquetRecordReader.nextBatch(VectorizedParquetRecordReader.java:316)\n\tat org.apache.spark.sql.execution.datasources.parquet.VectorizedParquetRecordReader.nextKeyValue(VectorizedParquetRecordReader.java:212)\n\tat org.apache.spark.sql.execution.datasources.RecordReaderIterator.hasNext(RecordReaderIterator.scala:39)\n\tat org.apache.spark.sql.execution.datasources.FileScanRDD$$anon$1.hasNext(FileScanRDD.scala:116)\n\tat org.apache.spark.sql.execution.datasources.FileScanRDD$$anon$1.nextIterator(FileScanRDD.scala:274)\n\t... 19 more\n\nDriver stacktrace:\n\tat org.apache.spark.scheduler.DAGScheduler.failJobAndIndependentStages(DAGScheduler.scala:2672)\n\tat org.apache.spark.scheduler.DAGScheduler.$anonfun$abortStage$2(DAGScheduler.scala:2608)\n\tat org.apache.spark.scheduler.DAGScheduler.$anonfun$abortStage$2$adapted(DAGScheduler.scala:2607)\n\tat scala.collection.mutable.ResizableArray.foreach(ResizableArray.scala:62)\n\tat scala.collection.mutable.ResizableArray.foreach$(ResizableArray.scala:55)\n\tat scala.collection.mutable.ArrayBuffer.foreach(ArrayBuffer.scala:49)\n\tat org.apache.spark.scheduler.DAGScheduler.abortStage(DAGScheduler.scala:2607)\n\tat org.apache.spark.scheduler.DAGScheduler.$anonfun$handleTaskSetFailed$1(DAGScheduler.scala:1182)\n\tat org.apache.spark.scheduler.DAGScheduler.$anonfun$handleTaskSetFailed$1$adapted(DAGScheduler.scala:1182)\n\tat scala.Option.foreach(Option.scala:407)\n\tat org.apache.spark.scheduler.DAGScheduler.handleTaskSetFailed(DAGScheduler.scala:1182)\n\tat org.apache.spark.scheduler.DAGSchedulerEventProcessLoop.doOnReceive(DAGScheduler.scala:2860)\n\tat org.apache.spark.scheduler.DAGSchedulerEventProcessLoop.onReceive(DAGScheduler.scala:2802)\n\tat org.apache.spark.scheduler.DAGSchedulerEventProcessLoop.onReceive(DAGScheduler.scala:2791)\n\tat org.apache.spark.util.EventLoop$$anon$1.run(EventLoop.scala:49)\nCaused by: org.apache.spark.sql.execution.QueryExecutionException: Parquet column cannot be converted in file gs://zoomcamp-454219-ade-pipeline/data/pq/patient/2004/drug-event-part-19-of-20.parquet. Column: [patientagegroup], Expected: string, Found: INT32\n\tat org.apache.spark.sql.errors.QueryExecutionErrors$.unsupportedSchemaColumnConvertError(QueryExecutionErrors.scala:724)\n\tat org.apache.spark.sql.execution.datasources.FileScanRDD$$anon$1.nextIterator(FileScanRDD.scala:278)\n\tat org.apache.spark.sql.execution.datasources.FileScanRDD$$anon$1.hasNext(FileScanRDD.scala:116)\n\tat org.apache.spark.sql.execution.FileSourceScanExec$$anon$1.hasNext(DataSourceScanExec.scala:554)\n\tat org.apache.spark.sql.catalyst.expressions.GeneratedClass$GeneratedIteratorForCodegenStage1.columnartorow_nextBatch_0$(Unknown Source)\n\tat org.apache.spark.sql.catalyst.expressions.GeneratedClass$GeneratedIteratorForCodegenStage1.hashAgg_doAggregateWithKeys_0$(Unknown Source)\n\tat org.apache.spark.sql.catalyst.expressions.GeneratedClass$GeneratedIteratorForCodegenStage1.processNext(Unknown Source)\n\tat org.apache.spark.sql.execution.BufferedRowIterator.hasNext(BufferedRowIterator.java:43)\n\tat org.apache.spark.sql.execution.WholeStageCodegenExec$$anon$1.hasNext(WholeStageCodegenExec.scala:760)\n\tat scala.collection.Iterator$$anon$10.hasNext(Iterator.scala:460)\n\tat org.apache.spark.shuffle.sort.BypassMergeSortShuffleWriter.write(BypassMergeSortShuffleWriter.java:140)\n\tat org.apache.spark.shuffle.ShuffleWriteProcessor.write(ShuffleWriteProcessor.scala:59)\n\tat org.apache.spark.scheduler.ShuffleMapTask.runTask(ShuffleMapTask.scala:99)\n\tat org.apache.spark.scheduler.ShuffleMapTask.runTask(ShuffleMapTask.scala:52)\n\tat org.apache.spark.scheduler.Task.run(Task.scala:136)\n\tat org.apache.spark.executor.Executor$TaskRunner.$anonfun$run$3(Executor.scala:548)\n\tat org.apache.spark.util.Utils$.tryWithSafeFinally(Utils.scala:1504)\n\tat org.apache.spark.executor.Executor$TaskRunner.run(Executor.scala:551)\n\tat java.base/java.util.concurrent.ThreadPoolExecutor.runWorker(Unknown Source)\n\tat java.base/java.util.concurrent.ThreadPoolExecutor$Worker.run(Unknown Source)\n\tat java.base/java.lang.Thread.run(Unknown Source)\nCaused by: org.apache.spark.sql.execution.datasources.SchemaColumnConvertNotSupportedException\n\tat org.apache.spark.sql.execution.datasources.parquet.ParquetVectorUpdaterFactory.constructConvertNotSupportedException(ParquetVectorUpdaterFactory.java:1125)\n\tat org.apache.spark.sql.execution.datasources.parquet.ParquetVectorUpdaterFactory.getUpdater(ParquetVectorUpdaterFactory.java:187)\n\tat org.apache.spark.sql.execution.datasources.parquet.VectorizedColumnReader.readBatch(VectorizedColumnReader.java:175)\n\tat org.apache.spark.sql.execution.datasources.parquet.VectorizedParquetRecordReader.nextBatch(VectorizedParquetRecordReader.java:316)\n\tat org.apache.spark.sql.execution.datasources.parquet.VectorizedParquetRecordReader.nextKeyValue(VectorizedParquetRecordReader.java:212)\n\tat org.apache.spark.sql.execution.datasources.RecordReaderIterator.hasNext(RecordReaderIterator.scala:39)\n\tat org.apache.spark.sql.execution.datasources.FileScanRDD$$anon$1.hasNext(FileScanRDD.scala:116)\n\tat org.apache.spark.sql.execution.datasources.FileScanRDD$$anon$1.nextIterator(FileScanRDD.scala:274)\n\t... 19 more\n",
     "output_type": "error",
     "traceback": [
      "\u001b[31m---------------------------------------------------------------------------\u001b[39m",
      "\u001b[31mPy4JJavaError\u001b[39m                             Traceback (most recent call last)",
      "\u001b[36mCell\u001b[39m\u001b[36m \u001b[39m\u001b[32mIn[57]\u001b[39m\u001b[32m, line 1\u001b[39m\n\u001b[32m----> \u001b[39m\u001b[32m1\u001b[39m \u001b[43mpatient\u001b[49m\u001b[43m.\u001b[49m\u001b[43mgroupBy\u001b[49m\u001b[43m(\u001b[49m\u001b[33;43m\"\u001b[39;49m\u001b[33;43mpatientagegroup\u001b[39;49m\u001b[33;43m\"\u001b[39;49m\u001b[43m)\u001b[49m\u001b[43m.\u001b[49m\u001b[43mcount\u001b[49m\u001b[43m(\u001b[49m\u001b[43m)\u001b[49m\u001b[43m.\u001b[49m\u001b[43mshow\u001b[49m\u001b[43m(\u001b[49m\u001b[43m)\u001b[49m\n",
      "\u001b[36mFile \u001b[39m\u001b[32m/env/lib/python3.12/site-packages/pyspark/sql/dataframe.py:606\u001b[39m, in \u001b[36mDataFrame.show\u001b[39m\u001b[34m(self, n, truncate, vertical)\u001b[39m\n\u001b[32m    603\u001b[39m     \u001b[38;5;28;01mraise\u001b[39;00m \u001b[38;5;167;01mTypeError\u001b[39;00m(\u001b[33m\"\u001b[39m\u001b[33mParameter \u001b[39m\u001b[33m'\u001b[39m\u001b[33mvertical\u001b[39m\u001b[33m'\u001b[39m\u001b[33m must be a bool\u001b[39m\u001b[33m\"\u001b[39m)\n\u001b[32m    605\u001b[39m \u001b[38;5;28;01mif\u001b[39;00m \u001b[38;5;28misinstance\u001b[39m(truncate, \u001b[38;5;28mbool\u001b[39m) \u001b[38;5;129;01mand\u001b[39;00m truncate:\n\u001b[32m--> \u001b[39m\u001b[32m606\u001b[39m     \u001b[38;5;28mprint\u001b[39m(\u001b[38;5;28;43mself\u001b[39;49m\u001b[43m.\u001b[49m\u001b[43m_jdf\u001b[49m\u001b[43m.\u001b[49m\u001b[43mshowString\u001b[49m\u001b[43m(\u001b[49m\u001b[43mn\u001b[49m\u001b[43m,\u001b[49m\u001b[43m \u001b[49m\u001b[32;43m20\u001b[39;49m\u001b[43m,\u001b[49m\u001b[43m \u001b[49m\u001b[43mvertical\u001b[49m\u001b[43m)\u001b[49m)\n\u001b[32m    607\u001b[39m \u001b[38;5;28;01melse\u001b[39;00m:\n\u001b[32m    608\u001b[39m     \u001b[38;5;28;01mtry\u001b[39;00m:\n",
      "\u001b[36mFile \u001b[39m\u001b[32m/env/lib/python3.12/site-packages/py4j/java_gateway.py:1321\u001b[39m, in \u001b[36mJavaMember.__call__\u001b[39m\u001b[34m(self, *args)\u001b[39m\n\u001b[32m   1315\u001b[39m command = proto.CALL_COMMAND_NAME +\\\n\u001b[32m   1316\u001b[39m     \u001b[38;5;28mself\u001b[39m.command_header +\\\n\u001b[32m   1317\u001b[39m     args_command +\\\n\u001b[32m   1318\u001b[39m     proto.END_COMMAND_PART\n\u001b[32m   1320\u001b[39m answer = \u001b[38;5;28mself\u001b[39m.gateway_client.send_command(command)\n\u001b[32m-> \u001b[39m\u001b[32m1321\u001b[39m return_value = \u001b[43mget_return_value\u001b[49m\u001b[43m(\u001b[49m\n\u001b[32m   1322\u001b[39m \u001b[43m    \u001b[49m\u001b[43manswer\u001b[49m\u001b[43m,\u001b[49m\u001b[43m \u001b[49m\u001b[38;5;28;43mself\u001b[39;49m\u001b[43m.\u001b[49m\u001b[43mgateway_client\u001b[49m\u001b[43m,\u001b[49m\u001b[43m \u001b[49m\u001b[38;5;28;43mself\u001b[39;49m\u001b[43m.\u001b[49m\u001b[43mtarget_id\u001b[49m\u001b[43m,\u001b[49m\u001b[43m \u001b[49m\u001b[38;5;28;43mself\u001b[39;49m\u001b[43m.\u001b[49m\u001b[43mname\u001b[49m\u001b[43m)\u001b[49m\n\u001b[32m   1324\u001b[39m \u001b[38;5;28;01mfor\u001b[39;00m temp_arg \u001b[38;5;129;01min\u001b[39;00m temp_args:\n\u001b[32m   1325\u001b[39m     temp_arg._detach()\n",
      "\u001b[36mFile \u001b[39m\u001b[32m/env/lib/python3.12/site-packages/pyspark/sql/utils.py:190\u001b[39m, in \u001b[36mcapture_sql_exception.<locals>.deco\u001b[39m\u001b[34m(*a, **kw)\u001b[39m\n\u001b[32m    188\u001b[39m \u001b[38;5;28;01mdef\u001b[39;00m\u001b[38;5;250m \u001b[39m\u001b[34mdeco\u001b[39m(*a: Any, **kw: Any) -> Any:\n\u001b[32m    189\u001b[39m     \u001b[38;5;28;01mtry\u001b[39;00m:\n\u001b[32m--> \u001b[39m\u001b[32m190\u001b[39m         \u001b[38;5;28;01mreturn\u001b[39;00m \u001b[43mf\u001b[49m\u001b[43m(\u001b[49m\u001b[43m*\u001b[49m\u001b[43ma\u001b[49m\u001b[43m,\u001b[49m\u001b[43m \u001b[49m\u001b[43m*\u001b[49m\u001b[43m*\u001b[49m\u001b[43mkw\u001b[49m\u001b[43m)\u001b[49m\n\u001b[32m    191\u001b[39m     \u001b[38;5;28;01mexcept\u001b[39;00m Py4JJavaError \u001b[38;5;28;01mas\u001b[39;00m e:\n\u001b[32m    192\u001b[39m         converted = convert_exception(e.java_exception)\n",
      "\u001b[36mFile \u001b[39m\u001b[32m/env/lib/python3.12/site-packages/py4j/protocol.py:326\u001b[39m, in \u001b[36mget_return_value\u001b[39m\u001b[34m(answer, gateway_client, target_id, name)\u001b[39m\n\u001b[32m    324\u001b[39m value = OUTPUT_CONVERTER[\u001b[38;5;28mtype\u001b[39m](answer[\u001b[32m2\u001b[39m:], gateway_client)\n\u001b[32m    325\u001b[39m \u001b[38;5;28;01mif\u001b[39;00m answer[\u001b[32m1\u001b[39m] == REFERENCE_TYPE:\n\u001b[32m--> \u001b[39m\u001b[32m326\u001b[39m     \u001b[38;5;28;01mraise\u001b[39;00m Py4JJavaError(\n\u001b[32m    327\u001b[39m         \u001b[33m\"\u001b[39m\u001b[33mAn error occurred while calling \u001b[39m\u001b[38;5;132;01m{0}\u001b[39;00m\u001b[38;5;132;01m{1}\u001b[39;00m\u001b[38;5;132;01m{2}\u001b[39;00m\u001b[33m.\u001b[39m\u001b[38;5;130;01m\\n\u001b[39;00m\u001b[33m\"\u001b[39m.\n\u001b[32m    328\u001b[39m         \u001b[38;5;28mformat\u001b[39m(target_id, \u001b[33m\"\u001b[39m\u001b[33m.\u001b[39m\u001b[33m\"\u001b[39m, name), value)\n\u001b[32m    329\u001b[39m \u001b[38;5;28;01melse\u001b[39;00m:\n\u001b[32m    330\u001b[39m     \u001b[38;5;28;01mraise\u001b[39;00m Py4JError(\n\u001b[32m    331\u001b[39m         \u001b[33m\"\u001b[39m\u001b[33mAn error occurred while calling \u001b[39m\u001b[38;5;132;01m{0}\u001b[39;00m\u001b[38;5;132;01m{1}\u001b[39;00m\u001b[38;5;132;01m{2}\u001b[39;00m\u001b[33m. Trace:\u001b[39m\u001b[38;5;130;01m\\n\u001b[39;00m\u001b[38;5;132;01m{3}\u001b[39;00m\u001b[38;5;130;01m\\n\u001b[39;00m\u001b[33m\"\u001b[39m.\n\u001b[32m    332\u001b[39m         \u001b[38;5;28mformat\u001b[39m(target_id, \u001b[33m\"\u001b[39m\u001b[33m.\u001b[39m\u001b[33m\"\u001b[39m, name, value))\n",
      "\u001b[31mPy4JJavaError\u001b[39m: An error occurred while calling o1038.showString.\n: org.apache.spark.SparkException: Job aborted due to stage failure: Task 2 in stage 78.0 failed 1 times, most recent failure: Lost task 2.0 in stage 78.0 (TID 2453) (d8fd851c15c0 executor driver): org.apache.spark.sql.execution.QueryExecutionException: Parquet column cannot be converted in file gs://zoomcamp-454219-ade-pipeline/data/pq/patient/2004/drug-event-part-19-of-20.parquet. Column: [patientagegroup], Expected: string, Found: INT32\n\tat org.apache.spark.sql.errors.QueryExecutionErrors$.unsupportedSchemaColumnConvertError(QueryExecutionErrors.scala:724)\n\tat org.apache.spark.sql.execution.datasources.FileScanRDD$$anon$1.nextIterator(FileScanRDD.scala:278)\n\tat org.apache.spark.sql.execution.datasources.FileScanRDD$$anon$1.hasNext(FileScanRDD.scala:116)\n\tat org.apache.spark.sql.execution.FileSourceScanExec$$anon$1.hasNext(DataSourceScanExec.scala:554)\n\tat org.apache.spark.sql.catalyst.expressions.GeneratedClass$GeneratedIteratorForCodegenStage1.columnartorow_nextBatch_0$(Unknown Source)\n\tat org.apache.spark.sql.catalyst.expressions.GeneratedClass$GeneratedIteratorForCodegenStage1.hashAgg_doAggregateWithKeys_0$(Unknown Source)\n\tat org.apache.spark.sql.catalyst.expressions.GeneratedClass$GeneratedIteratorForCodegenStage1.processNext(Unknown Source)\n\tat org.apache.spark.sql.execution.BufferedRowIterator.hasNext(BufferedRowIterator.java:43)\n\tat org.apache.spark.sql.execution.WholeStageCodegenExec$$anon$1.hasNext(WholeStageCodegenExec.scala:760)\n\tat scala.collection.Iterator$$anon$10.hasNext(Iterator.scala:460)\n\tat org.apache.spark.shuffle.sort.BypassMergeSortShuffleWriter.write(BypassMergeSortShuffleWriter.java:140)\n\tat org.apache.spark.shuffle.ShuffleWriteProcessor.write(ShuffleWriteProcessor.scala:59)\n\tat org.apache.spark.scheduler.ShuffleMapTask.runTask(ShuffleMapTask.scala:99)\n\tat org.apache.spark.scheduler.ShuffleMapTask.runTask(ShuffleMapTask.scala:52)\n\tat org.apache.spark.scheduler.Task.run(Task.scala:136)\n\tat org.apache.spark.executor.Executor$TaskRunner.$anonfun$run$3(Executor.scala:548)\n\tat org.apache.spark.util.Utils$.tryWithSafeFinally(Utils.scala:1504)\n\tat org.apache.spark.executor.Executor$TaskRunner.run(Executor.scala:551)\n\tat java.base/java.util.concurrent.ThreadPoolExecutor.runWorker(Unknown Source)\n\tat java.base/java.util.concurrent.ThreadPoolExecutor$Worker.run(Unknown Source)\n\tat java.base/java.lang.Thread.run(Unknown Source)\nCaused by: org.apache.spark.sql.execution.datasources.SchemaColumnConvertNotSupportedException\n\tat org.apache.spark.sql.execution.datasources.parquet.ParquetVectorUpdaterFactory.constructConvertNotSupportedException(ParquetVectorUpdaterFactory.java:1125)\n\tat org.apache.spark.sql.execution.datasources.parquet.ParquetVectorUpdaterFactory.getUpdater(ParquetVectorUpdaterFactory.java:187)\n\tat org.apache.spark.sql.execution.datasources.parquet.VectorizedColumnReader.readBatch(VectorizedColumnReader.java:175)\n\tat org.apache.spark.sql.execution.datasources.parquet.VectorizedParquetRecordReader.nextBatch(VectorizedParquetRecordReader.java:316)\n\tat org.apache.spark.sql.execution.datasources.parquet.VectorizedParquetRecordReader.nextKeyValue(VectorizedParquetRecordReader.java:212)\n\tat org.apache.spark.sql.execution.datasources.RecordReaderIterator.hasNext(RecordReaderIterator.scala:39)\n\tat org.apache.spark.sql.execution.datasources.FileScanRDD$$anon$1.hasNext(FileScanRDD.scala:116)\n\tat org.apache.spark.sql.execution.datasources.FileScanRDD$$anon$1.nextIterator(FileScanRDD.scala:274)\n\t... 19 more\n\nDriver stacktrace:\n\tat org.apache.spark.scheduler.DAGScheduler.failJobAndIndependentStages(DAGScheduler.scala:2672)\n\tat org.apache.spark.scheduler.DAGScheduler.$anonfun$abortStage$2(DAGScheduler.scala:2608)\n\tat org.apache.spark.scheduler.DAGScheduler.$anonfun$abortStage$2$adapted(DAGScheduler.scala:2607)\n\tat scala.collection.mutable.ResizableArray.foreach(ResizableArray.scala:62)\n\tat scala.collection.mutable.ResizableArray.foreach$(ResizableArray.scala:55)\n\tat scala.collection.mutable.ArrayBuffer.foreach(ArrayBuffer.scala:49)\n\tat org.apache.spark.scheduler.DAGScheduler.abortStage(DAGScheduler.scala:2607)\n\tat org.apache.spark.scheduler.DAGScheduler.$anonfun$handleTaskSetFailed$1(DAGScheduler.scala:1182)\n\tat org.apache.spark.scheduler.DAGScheduler.$anonfun$handleTaskSetFailed$1$adapted(DAGScheduler.scala:1182)\n\tat scala.Option.foreach(Option.scala:407)\n\tat org.apache.spark.scheduler.DAGScheduler.handleTaskSetFailed(DAGScheduler.scala:1182)\n\tat org.apache.spark.scheduler.DAGSchedulerEventProcessLoop.doOnReceive(DAGScheduler.scala:2860)\n\tat org.apache.spark.scheduler.DAGSchedulerEventProcessLoop.onReceive(DAGScheduler.scala:2802)\n\tat org.apache.spark.scheduler.DAGSchedulerEventProcessLoop.onReceive(DAGScheduler.scala:2791)\n\tat org.apache.spark.util.EventLoop$$anon$1.run(EventLoop.scala:49)\nCaused by: org.apache.spark.sql.execution.QueryExecutionException: Parquet column cannot be converted in file gs://zoomcamp-454219-ade-pipeline/data/pq/patient/2004/drug-event-part-19-of-20.parquet. Column: [patientagegroup], Expected: string, Found: INT32\n\tat org.apache.spark.sql.errors.QueryExecutionErrors$.unsupportedSchemaColumnConvertError(QueryExecutionErrors.scala:724)\n\tat org.apache.spark.sql.execution.datasources.FileScanRDD$$anon$1.nextIterator(FileScanRDD.scala:278)\n\tat org.apache.spark.sql.execution.datasources.FileScanRDD$$anon$1.hasNext(FileScanRDD.scala:116)\n\tat org.apache.spark.sql.execution.FileSourceScanExec$$anon$1.hasNext(DataSourceScanExec.scala:554)\n\tat org.apache.spark.sql.catalyst.expressions.GeneratedClass$GeneratedIteratorForCodegenStage1.columnartorow_nextBatch_0$(Unknown Source)\n\tat org.apache.spark.sql.catalyst.expressions.GeneratedClass$GeneratedIteratorForCodegenStage1.hashAgg_doAggregateWithKeys_0$(Unknown Source)\n\tat org.apache.spark.sql.catalyst.expressions.GeneratedClass$GeneratedIteratorForCodegenStage1.processNext(Unknown Source)\n\tat org.apache.spark.sql.execution.BufferedRowIterator.hasNext(BufferedRowIterator.java:43)\n\tat org.apache.spark.sql.execution.WholeStageCodegenExec$$anon$1.hasNext(WholeStageCodegenExec.scala:760)\n\tat scala.collection.Iterator$$anon$10.hasNext(Iterator.scala:460)\n\tat org.apache.spark.shuffle.sort.BypassMergeSortShuffleWriter.write(BypassMergeSortShuffleWriter.java:140)\n\tat org.apache.spark.shuffle.ShuffleWriteProcessor.write(ShuffleWriteProcessor.scala:59)\n\tat org.apache.spark.scheduler.ShuffleMapTask.runTask(ShuffleMapTask.scala:99)\n\tat org.apache.spark.scheduler.ShuffleMapTask.runTask(ShuffleMapTask.scala:52)\n\tat org.apache.spark.scheduler.Task.run(Task.scala:136)\n\tat org.apache.spark.executor.Executor$TaskRunner.$anonfun$run$3(Executor.scala:548)\n\tat org.apache.spark.util.Utils$.tryWithSafeFinally(Utils.scala:1504)\n\tat org.apache.spark.executor.Executor$TaskRunner.run(Executor.scala:551)\n\tat java.base/java.util.concurrent.ThreadPoolExecutor.runWorker(Unknown Source)\n\tat java.base/java.util.concurrent.ThreadPoolExecutor$Worker.run(Unknown Source)\n\tat java.base/java.lang.Thread.run(Unknown Source)\nCaused by: org.apache.spark.sql.execution.datasources.SchemaColumnConvertNotSupportedException\n\tat org.apache.spark.sql.execution.datasources.parquet.ParquetVectorUpdaterFactory.constructConvertNotSupportedException(ParquetVectorUpdaterFactory.java:1125)\n\tat org.apache.spark.sql.execution.datasources.parquet.ParquetVectorUpdaterFactory.getUpdater(ParquetVectorUpdaterFactory.java:187)\n\tat org.apache.spark.sql.execution.datasources.parquet.VectorizedColumnReader.readBatch(VectorizedColumnReader.java:175)\n\tat org.apache.spark.sql.execution.datasources.parquet.VectorizedParquetRecordReader.nextBatch(VectorizedParquetRecordReader.java:316)\n\tat org.apache.spark.sql.execution.datasources.parquet.VectorizedParquetRecordReader.nextKeyValue(VectorizedParquetRecordReader.java:212)\n\tat org.apache.spark.sql.execution.datasources.RecordReaderIterator.hasNext(RecordReaderIterator.scala:39)\n\tat org.apache.spark.sql.execution.datasources.FileScanRDD$$anon$1.hasNext(FileScanRDD.scala:116)\n\tat org.apache.spark.sql.execution.datasources.FileScanRDD$$anon$1.nextIterator(FileScanRDD.scala:274)\n\t... 19 more\n"
     ]
    },
    {
     "name": "stdout",
     "output_type": "stream",
     "text": [
      "25/04/27 10:01:00 WARN TaskSetManager: Lost task 5.0 in stage 78.0 (TID 2456) (d8fd851c15c0 executor driver): TaskKilled (Stage cancelled)\n"
     ]
    },
    {
     "name": "stderr",
     "output_type": "stream",
     "text": [
      "[Stage 78:>                                                        (0 + 8) / 20]\r"
     ]
    },
    {
     "name": "stderr",
     "output_type": "stream",
     "text": [
      "[Stage 78:>                                                        (0 + 7) / 20]\r"
     ]
    },
    {
     "name": "stdout",
     "output_type": "stream",
     "text": [
      "25/04/27 10:01:00 WARN TaskSetManager: Lost task 12.0 in stage 78.0 (TID 2463) (d8fd851c15c0 executor driver): TaskKilled (Stage cancelled)\n",
      "25/04/27 10:01:00 WARN TaskSetManager: Lost task 18.0 in stage 78.0 (TID 2469) (d8fd851c15c0 executor driver): TaskKilled (Stage cancelled)\n",
      "25/04/27 10:01:00 WARN TaskSetManager: Lost task 19.0 in stage 78.0 (TID 2470) (d8fd851c15c0 executor driver): TaskKilled (Stage cancelled)\n",
      "25/04/27 10:01:01 WARN TaskSetManager: Lost task 13.0 in stage 78.0 (TID 2464) (d8fd851c15c0 executor driver): TaskKilled (Stage cancelled)\n",
      "25/04/27 10:01:01 WARN TaskSetManager: Lost task 8.0 in stage 78.0 (TID 2459) (d8fd851c15c0 executor driver): TaskKilled (Stage cancelled)\n",
      "25/04/27 10:01:01 WARN TaskSetManager: Lost task 16.0 in stage 78.0 (TID 2467) (d8fd851c15c0 executor driver): TaskKilled (Stage cancelled)\n"
     ]
    },
    {
     "name": "stderr",
     "output_type": "stream",
     "text": [
      "[Stage 78:>                                                        (0 + 4) / 20]\r"
     ]
    },
    {
     "name": "stdout",
     "output_type": "stream",
     "text": [
      "25/04/27 10:01:01 WARN TaskSetManager: Lost task 14.0 in stage 78.0 (TID 2465) (d8fd851c15c0 executor driver): TaskKilled (Stage cancelled)\n"
     ]
    }
   ],
   "source": [
    "patient.groupBy(\"patientagegroup\").count().show()"
   ]
  },
  {
   "cell_type": "markdown",
   "id": "f09b01b0",
   "metadata": {},
   "source": [
    "# Drug"
   ]
  },
  {
   "cell_type": "markdown",
   "id": "4f208e32",
   "metadata": {},
   "source": [
    "### Load Drug"
   ]
  },
  {
   "cell_type": "code",
   "execution_count": 11,
   "id": "ffa071bb",
   "metadata": {},
   "outputs": [
    {
     "name": "stderr",
     "output_type": "stream",
     "text": [
      "                                                                                \r"
     ]
    },
    {
     "name": "stdout",
     "output_type": "stream",
     "text": [
      "root\n",
      " |-- patientid: string (nullable = true)\n",
      " |-- medicinalproduct: string (nullable = true)\n",
      " |-- activesubstancename: string (nullable = true)\n",
      " |-- drugindication: string (nullable = true)\n",
      " |-- drugadministrationroute: string (nullable = true)\n",
      " |-- drugstartdate: string (nullable = true)\n",
      " |-- drugenddate: string (nullable = true)\n",
      " |-- drugdosagetext: string (nullable = true)\n",
      " |-- drugstructuredosagenumb: string (nullable = true)\n",
      " |-- drugstructuredosageunit: string (nullable = true)\n",
      " |-- drugtreatmentduration: string (nullable = true)\n",
      " |-- drugtreatmentdurationunit: string (nullable = true)\n",
      " |-- drugrecurreadministration: string (nullable = true)\n",
      "\n"
     ]
    }
   ],
   "source": [
    "drug = (\n",
    "    spark\n",
    "    .read\n",
    "    .parquet(bucket+'drug/*/*')\n",
    "    )\n",
    "\n",
    "drug.printSchema()"
   ]
  },
  {
   "cell_type": "markdown",
   "id": "4b924604",
   "metadata": {},
   "source": [
    "### Perform Cast"
   ]
  },
  {
   "cell_type": "code",
   "execution_count": 12,
   "id": "76a79ecf",
   "metadata": {},
   "outputs": [],
   "source": [
    "# Cast\n",
    "drug = (\n",
    "    drug\n",
    "    .withColumn(\"drugstructuredosageunit\", F.col(\"drugstructuredosageunit\").cast(t.StringType()))\n",
    "    .withColumn(\"drugrecurreadministration\", F.col(\"drugrecurreadministration\").cast(t.IntegerType()))\n",
    ")"
   ]
  },
  {
   "cell_type": "markdown",
   "id": "60aea32b",
   "metadata": {},
   "source": [
    "### Perform Transformation"
   ]
  },
  {
   "cell_type": "code",
   "execution_count": 13,
   "id": "d67c4180",
   "metadata": {},
   "outputs": [],
   "source": [
    "route_mapping = {\n",
    "    \"001\": \"Auricular (otic)\",\n",
    "    \"002\": \"Buccal\",\n",
    "    \"003\": \"Cutaneous\",\n",
    "    \"004\": \"Dental\",\n",
    "    \"005\": \"Endocervical\",\n",
    "    \"006\": \"Endosinusial\",\n",
    "    \"007\": \"Endotracheal\",\n",
    "    \"008\": \"Epidural\",\n",
    "    \"009\": \"Extra-amniotic\",\n",
    "    \"010\": \"Hemodialysis\",\n",
    "    \"011\": \"Intra corpus cavernosum\",\n",
    "    \"012\": \"Intra-amniotic\",\n",
    "    \"013\": \"Intra-arterial\",\n",
    "    \"014\": \"Intra-articular\",\n",
    "    \"015\": \"Intra-uterine\",\n",
    "    \"016\": \"Intracardiac\",\n",
    "    \"017\": \"Intracavernous\",\n",
    "    \"018\": \"Intracerebral\",\n",
    "    \"019\": \"Intracervical\",\n",
    "    \"020\": \"Intracisternal\",\n",
    "    \"021\": \"Intracorneal\",\n",
    "    \"022\": \"Intracoronary\",\n",
    "    \"023\": \"Intradermal\",\n",
    "    \"024\": \"Intradiscal (intraspinal)\",\n",
    "    \"025\": \"Intrahepatic\",\n",
    "    \"026\": \"Intralesional\",\n",
    "    \"027\": \"Intralymphatic\",\n",
    "    \"028\": \"Intramedullar (bone marrow)\",\n",
    "    \"029\": \"Intrameningeal\",\n",
    "    \"030\": \"Intramuscular\",\n",
    "    \"031\": \"Intraocular\",\n",
    "    \"032\": \"Intrapericardial\",\n",
    "    \"033\": \"Intraperitoneal\",\n",
    "    \"034\": \"Intrapleural\",\n",
    "    \"035\": \"Intrasynovial\",\n",
    "    \"036\": \"Intratumor\",\n",
    "    \"037\": \"Intrathecal\",\n",
    "    \"038\": \"Intrathoracic\",\n",
    "    \"039\": \"Intratracheal\",\n",
    "    \"040\": \"Intravenous bolus\",\n",
    "    \"041\": \"Intravenous drip\",\n",
    "    \"042\": \"Intravenous (not otherwise specified)\",\n",
    "    \"043\": \"Intravesical\",\n",
    "    \"044\": \"Iontophoresis\",\n",
    "    \"045\": \"Nasal\",\n",
    "    \"046\": \"Occlusive dressing technique\",\n",
    "    \"047\": \"Ophthalmic\",\n",
    "    \"048\": \"Oral\",\n",
    "    \"049\": \"Oropharingeal\",\n",
    "    \"050\": \"Other\",\n",
    "    \"051\": \"Parenteral\",\n",
    "    \"052\": \"Periarticular\",\n",
    "    \"053\": \"Perineural\",\n",
    "    \"054\": \"Rectal\",\n",
    "    \"055\": \"Respiratory (inhalation)\",\n",
    "    \"056\": \"Retrobulbar\",\n",
    "    \"057\": \"Sunconjunctival\",\n",
    "    \"058\": \"Subcutaneous\",\n",
    "    \"059\": \"Subdermal\",\n",
    "    \"060\": \"Sublingual\",\n",
    "    \"061\": \"Topical\",\n",
    "    \"062\": \"Transdermal\",\n",
    "    \"063\": \"Transmammary\",\n",
    "    \"064\": \"Transplacental\",\n",
    "    \"065\": \"Unknown\",\n",
    "    \"066\": \"Urethral\",\n",
    "    \"067\": \"Vaginal\"\n",
    "}\n",
    "\n",
    "# Fix missing parts of the date\n",
    "drug = (\n",
    "    drug\n",
    "    .withColumn(\n",
    "        \"drugstartdate\",\n",
    "        (\n",
    "            F\n",
    "            .when(F.length(\"drugstartdate\") == 4, F.concat(\"drugstartdate\",F.lit(\"0101\")))\n",
    "            .when(F.length(\"drugstartdate\") == 6, F.concat(\"drugstartdate\",F.lit(\"01\")))\n",
    "            .otherwise(F.col(\"drugstartdate\"))\n",
    "        )\n",
    "    )\n",
    ")\n",
    "\n",
    "drug = (\n",
    "    drug\n",
    "    .withColumn(\n",
    "        \"drugstartdate\",\n",
    "        (\n",
    "            F.to_date(\"drugstartdate\",\"yyyyMMdd\")\n",
    "        )\n",
    "    )\n",
    ")\n",
    "\n",
    "drug = (\n",
    "    drug\n",
    "    .withColumn(\n",
    "        \"drugenddate\",\n",
    "        (\n",
    "            F\n",
    "            .when(F.length(\"drugenddate\") == 4, F.concat(\"drugenddate\",F.lit(\"0101\")))\n",
    "            .when(F.length(\"drugenddate\") == 6, F.concat(\"drugenddate\",F.lit(\"01\")))\n",
    "            .otherwise(F.col(\"drugenddate\"))\n",
    "        )\n",
    "    )\n",
    ")\n",
    "\n",
    "drug = (\n",
    "    drug\n",
    "    .withColumn(\n",
    "        \"drugenddate\",\n",
    "        (\n",
    "            F.to_date(\"drugenddate\",\"yyyyMMdd\")\n",
    "        )\n",
    "    )\n",
    ")\n",
    "\n",
    "map_expr = F.create_map([F.lit(i) for i in sum(route_mapping.items(),())])\n",
    "\n",
    "drug = (\n",
    "    drug\n",
    "    .withColumn(\n",
    "        \"drugadministrationroute\",\n",
    "        map_expr[F.col(\"drugadministrationroute\")]\n",
    "    )\n",
    ")"
   ]
  },
  {
   "cell_type": "code",
   "execution_count": 14,
   "id": "932056d2",
   "metadata": {},
   "outputs": [
    {
     "name": "stderr",
     "output_type": "stream",
     "text": [
      "[Stage 8:>                                                          (0 + 1) / 1]\r"
     ]
    },
    {
     "name": "stdout",
     "output_type": "stream",
     "text": [
      "+--------------------+--------------------+--------------------+--------------------+-----------------------+-------------+-----------+--------------------+-----------------------+-----------------------+---------------------+-------------------------+-------------------------+\n",
      "|           patientid|    medicinalproduct| activesubstancename|      drugindication|drugadministrationroute|drugstartdate|drugenddate|      drugdosagetext|drugstructuredosagenumb|drugstructuredosageunit|drugtreatmentduration|drugtreatmentdurationunit|drugrecurreadministration|\n",
      "+--------------------+--------------------+--------------------+--------------------+-----------------------+-------------+-----------+--------------------+-----------------------+-----------------------+---------------------+-------------------------+-------------------------+\n",
      "|070ec3d6-9b34-412...|            ENTRESTO|SACUBITRIL\\VALSARTAN|                null|                   Oral|         null|       null|50 MG, BID (24/26...|                     50|                    003|                 null|                     null|                        3|\n",
      "|070ec3d6-9b34-412...|            ENTRESTO|SACUBITRIL\\VALSARTAN|     CARDIAC FAILURE|                   Oral|   2019-10-01|       null|1 DF (24 MG SACUB...|                      1|                    032|                 null|                     null|                        3|\n",
      "|f4e47a4e-8e8f-438...|             GILENYA|FINGOLIMOD HYDROC...|                null|                   Oral|         null|       null|          0.5 MG, QD|                     .5|                    003|                 null|                     null|                        3|\n",
      "|f4e47a4e-8e8f-438...|             GILENYA|FINGOLIMOD HYDROC...|  MULTIPLE SCLEROSIS|                   Oral|   2018-02-28| 2019-11-22|          0.5 MG, QD|                     .5|                    003|                 null|                     null|                        3|\n",
      "|f4e47a4e-8e8f-438...|             GILENYA|FINGOLIMOD HYDROC...|                null|                   Oral|   2020-05-12|       null|          0.5 MG, QD|                     .5|                    003|                 null|                     null|                        3|\n",
      "|cec841d3-d560-41d...|               EYLEA|         AFLIBERCEPT|PRODUCT USED FOR ...|                   null|         null|       null|                 UNK|                   null|                   null|                 null|                     null|                        3|\n",
      "|f18303e8-7582-410...|           ABATACEPT|           ABATACEPT|RHEUMATOID ARTHRITIS|           Subcutaneous|         null|       null|  125 MILLIGRAM, QWK|                    125|                    003|                 null|                     null|                     null|\n",
      "|f18303e8-7582-410...|           ABATACEPT|           ABATACEPT|RHEUMATOID ARTHRITIS|           Subcutaneous|         null|       null|  125 MILLIGRAM, QWK|                    125|                    003|                 null|                     null|                     null|\n",
      "|95b1f63a-ee06-4ea...|              ENBREL|          ETANERCEPT|RHEUMATOID ARTHRITIS|                Unknown|   2020-01-16|       null|       50 MG, WEEKLY|                     50|                    003|                 null|                     null|                     null|\n",
      "|81bffe43-a61e-48c...|            VENTOLIN|   ALBUTEROL SULFATE|PRODUCT USED FOR ...|                Unknown|         null|       null|                 UNK|                   null|                   null|                 null|                     null|                     null|\n",
      "|81bffe43-a61e-48c...|           ABATACEPT|           ABATACEPT|RHEUMATOID ARTHRITIS|   Intravenous (not ...|   2016-07-20|       null| 750 MILLIGRAM, Q4WK|                    750|                    003|                 null|                     null|                     null|\n",
      "|81bffe43-a61e-48c...|               AXERT|  ALMOTRIPTAN MALATE|PRODUCT USED FOR ...|                Unknown|         null|       null|                 UNK|                   null|                   null|                 null|                     null|                     null|\n",
      "|81bffe43-a61e-48c...|          ADVAIR HFA|FLUTICASONE PROPI...|PRODUCT USED FOR ...|                Unknown|         null|       null|                 UNK|                   null|                   null|                 null|                     null|                     null|\n",
      "|81bffe43-a61e-48c...|                 ASA|             ASPIRIN|PRODUCT USED FOR ...|                Unknown|         null|       null|        80 MILLIGRAM|                     80|                    003|                 null|                     null|                     null|\n",
      "|81bffe43-a61e-48c...|              LYRICA|          PREGABALIN|PRODUCT USED FOR ...|                Unknown|         null|       null|                 UNK|                   null|                   null|                 null|                     null|                     null|\n",
      "|81bffe43-a61e-48c...|ELAVIL [ALLOPURINOL]|         ALLOPURINOL|PRODUCT USED FOR ...|                Unknown|         null|       null|     50 MILLIGRAM HS|                     50|                    003|                 null|                     null|                     null|\n",
      "|81bffe43-a61e-48c...|            DEXILANT|     DEXLANSOPRAZOLE|PRODUCT USED FOR ...|                Unknown|         null|       null|        60 MILLIGRAM|                     60|                    003|                 null|                     null|                     null|\n",
      "|81bffe43-a61e-48c...|             MONOCOR| BISOPROLOL FUMARATE|PRODUCT USED FOR ...|                Unknown|         null|       null|       2.5 MILLIGRAM|                    2.5|                    003|                 null|                     null|                     null|\n",
      "|81bffe43-a61e-48c...|            COUMADIN|     WARFARIN SODIUM|PRODUCT USED FOR ...|                Unknown|         null|       null|                 UNK|                   null|                   null|                 null|                     null|                     null|\n",
      "|9b80c6c5-e4b2-4c9...|         TEICOPLANIN|         TEICOPLANIN|UPPER RESPIRATORY...|   Intravenous (not ...|   2019-12-20| 2020-01-02|    0.4 MG, 1 IN 1 D|                     .4|                    002|                 null|                     null|                     null|\n",
      "+--------------------+--------------------+--------------------+--------------------+-----------------------+-------------+-----------+--------------------+-----------------------+-----------------------+---------------------+-------------------------+-------------------------+\n",
      "only showing top 20 rows\n",
      "\n"
     ]
    },
    {
     "name": "stderr",
     "output_type": "stream",
     "text": [
      "                                                                                \r"
     ]
    }
   ],
   "source": [
    "drug.show()"
   ]
  },
  {
   "cell_type": "markdown",
   "id": "a7da2800",
   "metadata": {},
   "source": [
    "# Reaction"
   ]
  },
  {
   "cell_type": "markdown",
   "id": "a6645460",
   "metadata": {},
   "source": [
    "### Load Reaction"
   ]
  },
  {
   "cell_type": "code",
   "execution_count": 15,
   "id": "247e9171",
   "metadata": {},
   "outputs": [
    {
     "name": "stderr",
     "output_type": "stream",
     "text": [
      "                                                                                \r"
     ]
    },
    {
     "name": "stdout",
     "output_type": "stream",
     "text": [
      "root\n",
      " |-- patientid: string (nullable = true)\n",
      " |-- reactionmeddrapt: string (nullable = true)\n",
      " |-- reactionoutcome: string (nullable = true)\n",
      "\n"
     ]
    }
   ],
   "source": [
    "reaction = (\n",
    "    spark\n",
    "    .read\n",
    "    .parquet(bucket+'reaction/*/*')\n",
    ")\n",
    "\n",
    "reaction.printSchema()"
   ]
  },
  {
   "cell_type": "markdown",
   "id": "2df83e1d",
   "metadata": {},
   "source": [
    "### Perform Cast"
   ]
  },
  {
   "cell_type": "code",
   "execution_count": 16,
   "id": "8f6d8bda",
   "metadata": {},
   "outputs": [
    {
     "name": "stdout",
     "output_type": "stream",
     "text": [
      "root\n",
      " |-- patientid: string (nullable = true)\n",
      " |-- reactionmeddrapt: string (nullable = true)\n",
      " |-- reactionoutcome: integer (nullable = true)\n",
      "\n"
     ]
    }
   ],
   "source": [
    "# Cast\n",
    "reaction = (\n",
    "    reaction\n",
    "    .withColumn(\"reactionoutcome\", F.col(\"reactionoutcome\").cast(t.IntegerType()))\n",
    ")\n",
    "reaction.printSchema()"
   ]
  }
 ],
 "metadata": {
  "kernelspec": {
   "display_name": "Python 3 (ipykernel)",
   "language": "python",
   "name": "python3"
  }
 },
 "nbformat": 4,
 "nbformat_minor": 5
}
