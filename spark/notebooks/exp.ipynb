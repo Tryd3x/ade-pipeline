{
 "cells": [
  {
   "cell_type": "code",
   "execution_count": 10,
   "id": "592fbdbb",
   "metadata": {},
   "outputs": [],
   "source": [
    "# spark.stop()"
   ]
  },
  {
   "cell_type": "code",
   "execution_count": 1,
   "id": "ee0abf56",
   "metadata": {},
   "outputs": [],
   "source": [
    "import os\n",
    "from pyspark.sql import SparkSession, types as t, functions as F"
   ]
  },
  {
   "cell_type": "code",
   "execution_count": 2,
   "id": "56be99cc",
   "metadata": {},
   "outputs": [
    {
     "name": "stderr",
     "output_type": "stream",
     "text": [
      "Setting default log level to \"WARN\".\n",
      "To adjust logging level use sc.setLogLevel(newLevel). For SparkR, use setLogLevel(newLevel).\n"
     ]
    },
    {
     "name": "stdout",
     "output_type": "stream",
     "text": [
      "25/04/27 03:47:32 WARN NativeCodeLoader: Unable to load native-hadoop library for your platform... using builtin-java classes where applicable\n"
     ]
    },
    {
     "data": {
      "text/html": [
       "\n",
       "            <div>\n",
       "                <p><b>SparkSession - in-memory</b></p>\n",
       "                \n",
       "        <div>\n",
       "            <p><b>SparkContext</b></p>\n",
       "\n",
       "            <p><a href=\"http://4ded6d591527:4040\">Spark UI</a></p>\n",
       "\n",
       "            <dl>\n",
       "              <dt>Version</dt>\n",
       "                <dd><code>v3.3.1</code></dd>\n",
       "              <dt>Master</dt>\n",
       "                <dd><code>spark://spark-master:7077</code></dd>\n",
       "              <dt>AppName</dt>\n",
       "                <dd><code>Testing Transformations</code></dd>\n",
       "            </dl>\n",
       "        </div>\n",
       "        \n",
       "            </div>\n",
       "        "
      ],
      "text/plain": [
       "<pyspark.sql.session.SparkSession at 0x7f03cb586f60>"
      ]
     },
     "execution_count": 2,
     "metadata": {},
     "output_type": "execute_result"
    }
   ],
   "source": [
    "spark = (\n",
    "    SparkSession\n",
    "    .builder\n",
    "    .master(\"spark://spark-master:7077\")\n",
    "    .appName(\"Testing Transformations\")\n",
    "    .config(\"spark.jars\", \"https://storage.googleapis.com/hadoop-lib/gcs/gcs-connector-hadoop3-latest.jar\") # GCS Connector\n",
    "    .getOrCreate()\n",
    ")\n",
    "\n",
    "# Google Cloud Service Account Credentials\n",
    "spark._jsc.hadoopConfiguration().set(\"google.cloud.auth.service.account.json.keyfile\",os.environ.get(\"GOOGLE_APPLICATION_CREDENTIALS\"))\n",
    "\n",
    "spark"
   ]
  },
  {
   "cell_type": "code",
   "execution_count": 13,
   "id": "ea544fd3",
   "metadata": {},
   "outputs": [],
   "source": [
    "# patient_schema = t.StructType(\n",
    "#     [\n",
    "#         t.StructField('patientid',t.StringType(),True),\n",
    "#         t.StructField('patientagegroup',t.IntegerType(),True),\n",
    "#         t.StructField('patientonsetage',t.IntegerType(),True),\n",
    "#         t.StructField('patientonsetageunit',t.IntegerType(),True),\n",
    "#         t.StructField('patientsex',t.IntegerType(),True),\n",
    "#         t.StructField('patientweight',t.FloatType(),True),\n",
    "#         t.StructField('serious',t.IntegerType(),True),\n",
    "#         t.StructField('seriousnessdeath',t.IntegerType(),True),\n",
    "#         t.StructField('seriousnesshospitalization',t.StringType(),True),\n",
    "#         t.StructField('seriousnessdisabling',t.StringType(),True),\n",
    "#         t.StructField('seriousnesslifethreatening',t.StringType(),True),\n",
    "#         t.StructField('seriousnessother',t.StringType(),True),\n",
    "#         t.StructField('receivedate',t.StringType(),True),\n",
    "#         t.StructField('receiptdate',t.StringType(),True),\n",
    "#         t.StructField('safetyreportid',t.StringType(),True)\n",
    "#     ]\n",
    "# )\n",
    "\n",
    "\n",
    "# drug_schema = t.StructType(\n",
    "#     [\n",
    "#         t.StructField('patientid',t.StringType(),True),\n",
    "#         t.StructField('medicinalproduct',t.StringType(),True),\n",
    "#         t.StructField('activesubstancename',t.StringType(),True),\n",
    "#         t.StructField('drugadministrationroute',t.StringType(),True),\n",
    "#         t.StructField('drugstartdate',t.StringType(),True),\n",
    "#         t.StructField('drugenddate',t.StringType(),True),\n",
    "#         t.StructField('drugdosagetext',t.StringType(),True),\n",
    "#         t.StructField('drugstructuredosagenumb',t.StringType(),True),\n",
    "#         t.StructField('drugstructuredosageunit',t.StringType(),True),\n",
    "#         t.StructField('drugtreatmentduration',t.StringType(),True),\n",
    "#         t.StructField('drugtreatmentdurationunit',t.StringType(),True),\n",
    "#         t.StructField('drugrecurreadministration',t.IntegerType(),True),\n",
    "#     ]\n",
    "# )\n",
    "\n",
    "# reaction_schema = t.StructType(\n",
    "#     [\n",
    "#         t.StructField('patientid',t.StringType(),True),\n",
    "#         t.StructField('reactionmeddrapt',t.StringType(),True),\n",
    "#         t.StructField('reactionoutcome',t.IntegerType(),True),\n",
    "#     ]\n",
    "# )"
   ]
  },
  {
   "cell_type": "code",
   "execution_count": 4,
   "id": "697ec698",
   "metadata": {},
   "outputs": [],
   "source": [
    "bucket='gs://zoomcamp-454219-ade-pipeline/data/pq/'"
   ]
  },
  {
   "cell_type": "markdown",
   "id": "608ce347",
   "metadata": {},
   "source": [
    "# Patient"
   ]
  },
  {
   "cell_type": "markdown",
   "id": "52249037",
   "metadata": {},
   "source": [
    "### Load patient"
   ]
  },
  {
   "cell_type": "code",
   "execution_count": 5,
   "id": "e68e331e",
   "metadata": {},
   "outputs": [
    {
     "name": "stderr",
     "output_type": "stream",
     "text": [
      "[Stage 2:===============================================>           (4 + 1) / 5]\r"
     ]
    },
    {
     "name": "stdout",
     "output_type": "stream",
     "text": [
      "Count: 1643038\n",
      "root\n",
      " |-- patientid: string (nullable = true)\n",
      " |-- patientagegroup: string (nullable = true)\n",
      " |-- patientonsetage: string (nullable = true)\n",
      " |-- patientonsetageunit: string (nullable = true)\n",
      " |-- patientsex: string (nullable = true)\n",
      " |-- patientweight: string (nullable = true)\n",
      " |-- serious: integer (nullable = true)\n",
      " |-- seriousnessdeath: integer (nullable = true)\n",
      " |-- seriousnesshospitalization: integer (nullable = true)\n",
      " |-- seriousnessdisabling: integer (nullable = true)\n",
      " |-- seriousnesslifethreatening: integer (nullable = true)\n",
      " |-- seriousnessother: integer (nullable = true)\n",
      " |-- receivedate: integer (nullable = true)\n",
      " |-- receiptdate: integer (nullable = true)\n",
      " |-- safetyreportid: integer (nullable = true)\n",
      "\n"
     ]
    },
    {
     "name": "stderr",
     "output_type": "stream",
     "text": [
      "                                                                                \r"
     ]
    }
   ],
   "source": [
    "patient = (\n",
    "    spark\n",
    "    .read\n",
    "    .parquet(bucket+'patient/*/*')\n",
    "    )\n",
    "print(f\"Count: {patient.count()}\")\n",
    "patient.printSchema()"
   ]
  },
  {
   "cell_type": "markdown",
   "id": "f66c79e3",
   "metadata": {},
   "source": [
    "We can add data quality checks:  \n",
    "- `number of failed casts`  \n",
    "- `Data usability like null value count`  "
   ]
  },
  {
   "cell_type": "code",
   "execution_count": 6,
   "id": "8fe61ed3",
   "metadata": {},
   "outputs": [],
   "source": [
    "# Will work on failed casts later"
   ]
  },
  {
   "cell_type": "markdown",
   "id": "f5d12148",
   "metadata": {},
   "source": [
    "### Perform Cast"
   ]
  },
  {
   "cell_type": "code",
   "execution_count": 7,
   "id": "d1480e21",
   "metadata": {},
   "outputs": [
    {
     "name": "stdout",
     "output_type": "stream",
     "text": [
      "root\n",
      " |-- patientid: string (nullable = true)\n",
      " |-- patientagegroup: integer (nullable = true)\n",
      " |-- patientonsetage: integer (nullable = true)\n",
      " |-- patientonsetageunit: integer (nullable = true)\n",
      " |-- patientsex: integer (nullable = true)\n",
      " |-- patientweight: float (nullable = true)\n",
      " |-- serious: integer (nullable = true)\n",
      " |-- seriousnessdeath: integer (nullable = true)\n",
      " |-- seriousnesshospitalization: integer (nullable = true)\n",
      " |-- seriousnessdisabling: integer (nullable = true)\n",
      " |-- seriousnesslifethreatening: integer (nullable = true)\n",
      " |-- seriousnessother: integer (nullable = true)\n",
      " |-- receivedate: integer (nullable = true)\n",
      " |-- receiptdate: integer (nullable = true)\n",
      " |-- safetyreportid: integer (nullable = true)\n",
      "\n"
     ]
    }
   ],
   "source": [
    "# Cast\n",
    "patient = (\n",
    "    patient\n",
    "    .withColumn(\"patientagegroup\", F.col('patientagegroup').cast(t.IntegerType()))\n",
    "    .withColumn(\"patientonsetage\", F.col('patientonsetage').cast(t.IntegerType()))\n",
    "    .withColumn(\"patientonsetageunit\", F.col('patientonsetageunit').cast(t.IntegerType()))\n",
    "    .withColumn(\"patientsex\", F.col('patientsex').cast(t.IntegerType()))\n",
    "    .withColumn(\"patientweight\", F.col('patientweight').cast(t.FloatType()))\n",
    "    )\n",
    "patient.printSchema()"
   ]
  },
  {
   "cell_type": "markdown",
   "id": "9f227bde",
   "metadata": {},
   "source": [
    "### Perform Transformation"
   ]
  },
  {
   "cell_type": "code",
   "execution_count": 8,
   "id": "ae0a8691",
   "metadata": {},
   "outputs": [],
   "source": [
    "# Patient Column transformations\n",
    "\n",
    "patient = patient.withColumn(\n",
    "    \"patientagegroup\",\n",
    "    (\n",
    "        F\n",
    "        .when(F.col(\"patientagegroup\") == 1, \"Neonate\")\n",
    "        .when(F.col(\"patientagegroup\") == 2, \"Infant\")\n",
    "        .when(F.col(\"patientagegroup\") == 3, \"Child\")\n",
    "        .when(F.col(\"patientagegroup\") == 4, \"Adolescent\")\n",
    "        .when(F.col(\"patientagegroup\") == 5, \"Adult\")\n",
    "        .when(F.col(\"patientagegroup\") == 6, \"Elderly\")\n",
    "        .otherwise(None)\n",
    "     )\n",
    ")\n",
    "\n",
    "# Normalize patientage\n",
    "patient = patient.withColumn(\n",
    "    \"patientage\",\n",
    "    (\n",
    "        F\n",
    "        .when(F.col(\"patientonsetageunit\") == 800, F.col(\"patientonsetage\") * 10)\n",
    "        .when(F.col(\"patientonsetageunit\") == 801, F.col(\"patientonsetage\") * 1)\n",
    "        .when(F.col(\"patientonsetageunit\") == 802, F.col(\"patientonsetage\") / 12)\n",
    "        .when(F.col(\"patientonsetageunit\") == 803, F.col(\"patientonsetage\") / 52.143)\n",
    "        .when(F.col(\"patientonsetageunit\") == 804, F.col(\"patientonsetage\") / 365.25)\n",
    "        .when(F.col(\"patientonsetageunit\") == 805, F.col(\"patientonsetage\") / 8766)\n",
    "        .otherwise(None)\n",
    "    )\n",
    ").drop(\"patientonsetageunit\", \"patientonsetage\")\n",
    "\n",
    "patient = patient.withColumn(\n",
    "    \"patientsex\",\n",
    "    (\n",
    "        F\n",
    "        .when(F.col(\"patientsex\") == 1, \"Male\")\n",
    "        .when(F.col(\"patientsex\") == 2, \"Female\")\n",
    "        .otherwise(None)\n",
    "     )\n",
    ")\n",
    "\n",
    "patient = patient.withColumn(\n",
    "    \"serious\",\n",
    "    (\n",
    "        F\n",
    "        .when(F.col(\"serious\") == 1, True)\n",
    "        .when(F.col(\"serious\") == 2, False)\n",
    "        .otherwise(None)\n",
    "     )\n",
    ")\n",
    "\n",
    "patient = patient.withColumn(\n",
    "    \"seriousnessdeath\",\n",
    "    (\n",
    "        F\n",
    "        .when(F.col(\"seriousnessdeath\") == 1, True)\n",
    "        .otherwise(False)\n",
    "     )\n",
    ")\n",
    "\n",
    "patient = patient.withColumn(\n",
    "    \"seriousnesshospitalization\",\n",
    "    (\n",
    "        F\n",
    "        .when(F.col(\"seriousnesshospitalization\") == 1, True)\n",
    "        .otherwise(False)\n",
    "     )\n",
    ")\n",
    "\n",
    "patient = patient.withColumn(\n",
    "    \"seriousnessdisabling\",\n",
    "    (\n",
    "        F\n",
    "        .when(F.col(\"seriousnessdisabling\") == 1, True)\n",
    "        .otherwise(False)\n",
    "     )\n",
    ")\n",
    "\n",
    "patient = patient.withColumn(\n",
    "    \"seriousnesslifethreatening\",\n",
    "    (\n",
    "        F\n",
    "        .when(F.col(\"seriousnesslifethreatening\") == 1, True)\n",
    "        .otherwise(False)\n",
    "     )\n",
    ")\n",
    "\n",
    "patient = patient.withColumn(\n",
    "    \"seriousnessother\",\n",
    "    (\n",
    "        F\n",
    "        .when(F.col(\"seriousnessother\") == 1, True)\n",
    "        .otherwise(False)\n",
    "     )\n",
    ")"
   ]
  },
  {
   "cell_type": "markdown",
   "id": "797ddfe8",
   "metadata": {},
   "source": [
    "### Display rows"
   ]
  },
  {
   "cell_type": "code",
   "execution_count": 9,
   "id": "d325ad94",
   "metadata": {},
   "outputs": [
    {
     "name": "stdout",
     "output_type": "stream",
     "text": [
      "+--------------------+---------------+----------+-------------+-------+----------------+--------------------------+--------------------+--------------------------+----------------+-----------+-----------+--------------+----------+\n",
      "|           patientid|patientagegroup|patientsex|patientweight|serious|seriousnessdeath|seriousnesshospitalization|seriousnessdisabling|seriousnesslifethreatening|seriousnessother|receivedate|receiptdate|safetyreportid|patientage|\n",
      "+--------------------+---------------+----------+-------------+-------+----------------+--------------------------+--------------------+--------------------------+----------------+-----------+-----------+--------------+----------+\n",
      "|c03ef5e8-17e8-4b0...|           null|    Female|         null|   null|           false|                     false|               false|                     false|           false|       null|       null|          null|      null|\n",
      "|be397b97-b8c8-42a...|           null|      Male|         null|   null|           false|                     false|               false|                     false|           false|       null|       null|          null|      24.0|\n",
      "|6677299a-53fb-4fb...|           null|      Male|        99.88|   null|           false|                     false|               false|                     false|           false|       null|       null|          null|      70.0|\n",
      "|5e3b557d-99cc-47f...|           null|    Female|         null|   null|           false|                     false|               false|                     false|           false|       null|       null|          null|      null|\n",
      "|796e8764-4d53-40f...|           null|    Female|         null|   null|           false|                     false|               false|                     false|           false|       null|       null|          null|      30.0|\n",
      "|74c636e6-c276-487...|           null|    Female|         null|   null|           false|                     false|               false|                     false|           false|       null|       null|          null|      36.0|\n",
      "|c2444bf5-8fe5-44b...|           null|      Male|         null|   null|           false|                     false|               false|                     false|           false|       null|       null|          null|      63.0|\n",
      "|31ea0f9f-0ed2-426...|        Elderly|    Female|         null|   null|           false|                     false|               false|                     false|           false|       null|       null|          null|      92.0|\n",
      "|6a4fb232-08a9-455...|           null|    Female|         null|   null|           false|                     false|               false|                     false|           false|       null|       null|          null|      57.0|\n",
      "|b4bb967f-a395-4a3...|           null|      Male|         null|   null|           false|                     false|               false|                     false|           false|       null|       null|          null|      55.0|\n",
      "|81e2ff2c-5b7c-4fb...|           null|    Female|         null|   null|           false|                     false|               false|                     false|           false|       null|       null|          null|      80.0|\n",
      "|a677d8b6-c5af-41f...|           null|      null|         null|   null|           false|                     false|               false|                     false|           false|       null|       null|          null|      null|\n",
      "|e92c1e60-7407-41c...|           null|      null|         null|   null|           false|                     false|               false|                     false|           false|       null|       null|          null|      null|\n",
      "|2b61a694-42c7-4c5...|           null|    Female|         72.0|   null|           false|                     false|               false|                     false|           false|       null|       null|          null|      64.0|\n",
      "|fab6123f-ac03-481...|           null|      Male|         null|   null|           false|                     false|               false|                     false|           false|       null|       null|          null|      46.0|\n",
      "|b6741aef-f2cf-48e...|           null|      Male|         null|   null|           false|                     false|               false|                     false|           false|       null|       null|          null|      72.0|\n",
      "|811ee04d-fbf1-452...|           null|    Female|         73.6|   null|           false|                     false|               false|                     false|           false|       null|       null|          null|      54.0|\n",
      "|ca3a2a9a-06d4-413...|           null|      Male|         null|   null|           false|                     false|               false|                     false|           false|       null|       null|          null|      48.0|\n",
      "|55c7408b-0f7f-468...|           null|    Female|         63.0|   null|           false|                     false|               false|                     false|           false|       null|       null|          null|      76.0|\n",
      "|6acc9f37-e396-4c6...|           null|    Female|         86.2|   null|           false|                     false|               false|                     false|           false|       null|       null|          null|      null|\n",
      "+--------------------+---------------+----------+-------------+-------+----------------+--------------------------+--------------------+--------------------------+----------------+-----------+-----------+--------------+----------+\n",
      "only showing top 20 rows\n",
      "\n"
     ]
    },
    {
     "name": "stderr",
     "output_type": "stream",
     "text": [
      "                                                                                \r"
     ]
    }
   ],
   "source": [
    "patient.show()"
   ]
  },
  {
   "cell_type": "markdown",
   "id": "f09b01b0",
   "metadata": {},
   "source": [
    "# Drug"
   ]
  },
  {
   "cell_type": "markdown",
   "id": "4f208e32",
   "metadata": {},
   "source": [
    "### Load Drug"
   ]
  },
  {
   "cell_type": "code",
   "execution_count": 10,
   "id": "ffa071bb",
   "metadata": {},
   "outputs": [
    {
     "name": "stderr",
     "output_type": "stream",
     "text": [
      "                                                                                \r"
     ]
    },
    {
     "name": "stdout",
     "output_type": "stream",
     "text": [
      "root\n",
      " |-- patientid: string (nullable = true)\n",
      " |-- medicinalproduct: string (nullable = true)\n",
      " |-- activesubstancename: string (nullable = true)\n",
      " |-- drugindication: string (nullable = true)\n",
      " |-- drugadministrationroute: string (nullable = true)\n",
      " |-- drugstartdate: string (nullable = true)\n",
      " |-- drugenddate: string (nullable = true)\n",
      " |-- drugdosagetext: string (nullable = true)\n",
      " |-- drugstructuredosagenumb: string (nullable = true)\n",
      " |-- drugstructuredosageunit: string (nullable = true)\n",
      " |-- drugtreatmentduration: string (nullable = true)\n",
      " |-- drugtreatmentdurationunit: string (nullable = true)\n",
      " |-- drugrecurreadministration: string (nullable = true)\n",
      "\n"
     ]
    }
   ],
   "source": [
    "drug = (\n",
    "    spark\n",
    "    .read\n",
    "    .parquet(bucket+'drug/*/*')\n",
    "    )\n",
    "\n",
    "drug.printSchema()"
   ]
  },
  {
   "cell_type": "markdown",
   "id": "4b924604",
   "metadata": {},
   "source": [
    "### Perform Cast"
   ]
  },
  {
   "cell_type": "code",
   "execution_count": 11,
   "id": "76a79ecf",
   "metadata": {},
   "outputs": [],
   "source": [
    "# Cast\n",
    "drug = (\n",
    "    drug\n",
    "    .withColumn(\"drugstructuredosageunit\", F.col(\"drugstructuredosageunit\").cast(t.StringType()))\n",
    "    .withColumn(\"drugrecurreadministration\", F.col(\"drugrecurreadministration\").cast(t.IntegerType()))\n",
    ")"
   ]
  },
  {
   "cell_type": "markdown",
   "id": "60aea32b",
   "metadata": {},
   "source": [
    "### Perform Transformation"
   ]
  },
  {
   "cell_type": "code",
   "execution_count": 12,
   "id": "d67c4180",
   "metadata": {},
   "outputs": [],
   "source": [
    "route_mapping = {\n",
    "    \"001\": \"Auricular (otic)\",\n",
    "    \"002\": \"Buccal\",\n",
    "    \"003\": \"Cutaneous\",\n",
    "    \"004\": \"Dental\",\n",
    "    \"005\": \"Endocervical\",\n",
    "    \"006\": \"Endosinusial\",\n",
    "    \"007\": \"Endotracheal\",\n",
    "    \"008\": \"Epidural\",\n",
    "    \"009\": \"Extra-amniotic\",\n",
    "    \"010\": \"Hemodialysis\",\n",
    "    \"011\": \"Intra corpus cavernosum\",\n",
    "    \"012\": \"Intra-amniotic\",\n",
    "    \"013\": \"Intra-arterial\",\n",
    "    \"014\": \"Intra-articular\",\n",
    "    \"015\": \"Intra-uterine\",\n",
    "    \"016\": \"Intracardiac\",\n",
    "    \"017\": \"Intracavernous\",\n",
    "    \"018\": \"Intracerebral\",\n",
    "    \"019\": \"Intracervical\",\n",
    "    \"020\": \"Intracisternal\",\n",
    "    \"021\": \"Intracorneal\",\n",
    "    \"022\": \"Intracoronary\",\n",
    "    \"023\": \"Intradermal\",\n",
    "    \"024\": \"Intradiscal (intraspinal)\",\n",
    "    \"025\": \"Intrahepatic\",\n",
    "    \"026\": \"Intralesional\",\n",
    "    \"027\": \"Intralymphatic\",\n",
    "    \"028\": \"Intramedullar (bone marrow)\",\n",
    "    \"029\": \"Intrameningeal\",\n",
    "    \"030\": \"Intramuscular\",\n",
    "    \"031\": \"Intraocular\",\n",
    "    \"032\": \"Intrapericardial\",\n",
    "    \"033\": \"Intraperitoneal\",\n",
    "    \"034\": \"Intrapleural\",\n",
    "    \"035\": \"Intrasynovial\",\n",
    "    \"036\": \"Intratumor\",\n",
    "    \"037\": \"Intrathecal\",\n",
    "    \"038\": \"Intrathoracic\",\n",
    "    \"039\": \"Intratracheal\",\n",
    "    \"040\": \"Intravenous bolus\",\n",
    "    \"041\": \"Intravenous drip\",\n",
    "    \"042\": \"Intravenous (not otherwise specified)\",\n",
    "    \"043\": \"Intravesical\",\n",
    "    \"044\": \"Iontophoresis\",\n",
    "    \"045\": \"Nasal\",\n",
    "    \"046\": \"Occlusive dressing technique\",\n",
    "    \"047\": \"Ophthalmic\",\n",
    "    \"048\": \"Oral\",\n",
    "    \"049\": \"Oropharingeal\",\n",
    "    \"050\": \"Other\",\n",
    "    \"051\": \"Parenteral\",\n",
    "    \"052\": \"Periarticular\",\n",
    "    \"053\": \"Perineural\",\n",
    "    \"054\": \"Rectal\",\n",
    "    \"055\": \"Respiratory (inhalation)\",\n",
    "    \"056\": \"Retrobulbar\",\n",
    "    \"057\": \"Sunconjunctival\",\n",
    "    \"058\": \"Subcutaneous\",\n",
    "    \"059\": \"Subdermal\",\n",
    "    \"060\": \"Sublingual\",\n",
    "    \"061\": \"Topical\",\n",
    "    \"062\": \"Transdermal\",\n",
    "    \"063\": \"Transmammary\",\n",
    "    \"064\": \"Transplacental\",\n",
    "    \"065\": \"Unknown\",\n",
    "    \"066\": \"Urethral\",\n",
    "    \"067\": \"Vaginal\"\n",
    "}\n",
    "\n",
    "# Fix missing parts of the date\n",
    "drug = (\n",
    "    drug\n",
    "    .withColumn(\n",
    "        \"drugstartdate\",\n",
    "        (\n",
    "            F\n",
    "            .when(F.length(\"drugstartdate\") == 4, F.concat(\"drugstartdate\",F.lit(\"0101\")))\n",
    "            .when(F.length(\"drugstartdate\") == 6, F.concat(\"drugstartdate\",F.lit(\"01\")))\n",
    "            .otherwise(F.col(\"drugstartdate\"))\n",
    "        )\n",
    "    )\n",
    ")\n",
    "\n",
    "drug = (\n",
    "    drug\n",
    "    .withColumn(\n",
    "        \"drugstartdate\",\n",
    "        (\n",
    "            F.to_date(\"drugstartdate\",\"yyyyMMdd\")\n",
    "        )\n",
    "    )\n",
    ")\n",
    "\n",
    "drug = (\n",
    "    drug\n",
    "    .withColumn(\n",
    "        \"drugenddate\",\n",
    "        (\n",
    "            F\n",
    "            .when(F.length(\"drugenddate\") == 4, F.concat(\"drugenddate\",F.lit(\"0101\")))\n",
    "            .when(F.length(\"drugenddate\") == 6, F.concat(\"drugenddate\",F.lit(\"01\")))\n",
    "            .otherwise(F.col(\"drugenddate\"))\n",
    "        )\n",
    "    )\n",
    ")\n",
    "\n",
    "drug = (\n",
    "    drug\n",
    "    .withColumn(\n",
    "        \"drugenddate\",\n",
    "        (\n",
    "            F.to_date(\"drugenddate\",\"yyyyMMdd\")\n",
    "        )\n",
    "    )\n",
    ")\n",
    "\n",
    "map_expr = F.create_map([F.lit(i) for i in sum(route_mapping.items(),())])\n",
    "\n",
    "drug = (\n",
    "    drug\n",
    "    .withColumn(\n",
    "        \"drugadministrationroute\",\n",
    "        map_expr[F.col(\"drugadministrationroute\")]\n",
    "    )\n",
    ")"
   ]
  },
  {
   "cell_type": "code",
   "execution_count": 13,
   "id": "932056d2",
   "metadata": {},
   "outputs": [
    {
     "name": "stdout",
     "output_type": "stream",
     "text": [
      "+--------------------+--------------------+--------------------+--------------------+-----------------------+-------------+-----------+--------------------+-----------------------+-----------------------+---------------------+-------------------------+-------------------------+\n",
      "|           patientid|    medicinalproduct| activesubstancename|      drugindication|drugadministrationroute|drugstartdate|drugenddate|      drugdosagetext|drugstructuredosagenumb|drugstructuredosageunit|drugtreatmentduration|drugtreatmentdurationunit|drugrecurreadministration|\n",
      "+--------------------+--------------------+--------------------+--------------------+-----------------------+-------------+-----------+--------------------+-----------------------+-----------------------+---------------------+-------------------------+-------------------------+\n",
      "|070ec3d6-9b34-412...|            ENTRESTO|SACUBITRIL\\VALSARTAN|                null|                   Oral|         null|       null|50 MG, BID (24/26...|                     50|                    003|                 null|                     null|                        3|\n",
      "|070ec3d6-9b34-412...|            ENTRESTO|SACUBITRIL\\VALSARTAN|     CARDIAC FAILURE|                   Oral|   2019-10-01|       null|1 DF (24 MG SACUB...|                      1|                    032|                 null|                     null|                        3|\n",
      "|f4e47a4e-8e8f-438...|             GILENYA|FINGOLIMOD HYDROC...|                null|                   Oral|         null|       null|          0.5 MG, QD|                     .5|                    003|                 null|                     null|                        3|\n",
      "|f4e47a4e-8e8f-438...|             GILENYA|FINGOLIMOD HYDROC...|  MULTIPLE SCLEROSIS|                   Oral|   2018-02-28| 2019-11-22|          0.5 MG, QD|                     .5|                    003|                 null|                     null|                        3|\n",
      "|f4e47a4e-8e8f-438...|             GILENYA|FINGOLIMOD HYDROC...|                null|                   Oral|   2020-05-12|       null|          0.5 MG, QD|                     .5|                    003|                 null|                     null|                        3|\n",
      "|cec841d3-d560-41d...|               EYLEA|         AFLIBERCEPT|PRODUCT USED FOR ...|                   null|         null|       null|                 UNK|                   null|                   null|                 null|                     null|                        3|\n",
      "|f18303e8-7582-410...|           ABATACEPT|           ABATACEPT|RHEUMATOID ARTHRITIS|           Subcutaneous|         null|       null|  125 MILLIGRAM, QWK|                    125|                    003|                 null|                     null|                     null|\n",
      "|f18303e8-7582-410...|           ABATACEPT|           ABATACEPT|RHEUMATOID ARTHRITIS|           Subcutaneous|         null|       null|  125 MILLIGRAM, QWK|                    125|                    003|                 null|                     null|                     null|\n",
      "|95b1f63a-ee06-4ea...|              ENBREL|          ETANERCEPT|RHEUMATOID ARTHRITIS|                Unknown|   2020-01-16|       null|       50 MG, WEEKLY|                     50|                    003|                 null|                     null|                     null|\n",
      "|81bffe43-a61e-48c...|            VENTOLIN|   ALBUTEROL SULFATE|PRODUCT USED FOR ...|                Unknown|         null|       null|                 UNK|                   null|                   null|                 null|                     null|                     null|\n",
      "|81bffe43-a61e-48c...|           ABATACEPT|           ABATACEPT|RHEUMATOID ARTHRITIS|   Intravenous (not ...|   2016-07-20|       null| 750 MILLIGRAM, Q4WK|                    750|                    003|                 null|                     null|                     null|\n",
      "|81bffe43-a61e-48c...|               AXERT|  ALMOTRIPTAN MALATE|PRODUCT USED FOR ...|                Unknown|         null|       null|                 UNK|                   null|                   null|                 null|                     null|                     null|\n",
      "|81bffe43-a61e-48c...|          ADVAIR HFA|FLUTICASONE PROPI...|PRODUCT USED FOR ...|                Unknown|         null|       null|                 UNK|                   null|                   null|                 null|                     null|                     null|\n",
      "|81bffe43-a61e-48c...|                 ASA|             ASPIRIN|PRODUCT USED FOR ...|                Unknown|         null|       null|        80 MILLIGRAM|                     80|                    003|                 null|                     null|                     null|\n",
      "|81bffe43-a61e-48c...|              LYRICA|          PREGABALIN|PRODUCT USED FOR ...|                Unknown|         null|       null|                 UNK|                   null|                   null|                 null|                     null|                     null|\n",
      "|81bffe43-a61e-48c...|ELAVIL [ALLOPURINOL]|         ALLOPURINOL|PRODUCT USED FOR ...|                Unknown|         null|       null|     50 MILLIGRAM HS|                     50|                    003|                 null|                     null|                     null|\n",
      "|81bffe43-a61e-48c...|            DEXILANT|     DEXLANSOPRAZOLE|PRODUCT USED FOR ...|                Unknown|         null|       null|        60 MILLIGRAM|                     60|                    003|                 null|                     null|                     null|\n",
      "|81bffe43-a61e-48c...|             MONOCOR| BISOPROLOL FUMARATE|PRODUCT USED FOR ...|                Unknown|         null|       null|       2.5 MILLIGRAM|                    2.5|                    003|                 null|                     null|                     null|\n",
      "|81bffe43-a61e-48c...|            COUMADIN|     WARFARIN SODIUM|PRODUCT USED FOR ...|                Unknown|         null|       null|                 UNK|                   null|                   null|                 null|                     null|                     null|\n",
      "|9b80c6c5-e4b2-4c9...|         TEICOPLANIN|         TEICOPLANIN|UPPER RESPIRATORY...|   Intravenous (not ...|   2019-12-20| 2020-01-02|    0.4 MG, 1 IN 1 D|                     .4|                    002|                 null|                     null|                     null|\n",
      "+--------------------+--------------------+--------------------+--------------------+-----------------------+-------------+-----------+--------------------+-----------------------+-----------------------+---------------------+-------------------------+-------------------------+\n",
      "only showing top 20 rows\n",
      "\n"
     ]
    },
    {
     "name": "stderr",
     "output_type": "stream",
     "text": [
      "                                                                                \r"
     ]
    }
   ],
   "source": [
    "drug.show()"
   ]
  },
  {
   "cell_type": "markdown",
   "id": "a7da2800",
   "metadata": {},
   "source": [
    "# Reaction"
   ]
  },
  {
   "cell_type": "markdown",
   "id": "a6645460",
   "metadata": {},
   "source": [
    "### Load Reaction"
   ]
  },
  {
   "cell_type": "code",
   "execution_count": null,
   "id": "247e9171",
   "metadata": {},
   "outputs": [
    {
     "name": "stderr",
     "output_type": "stream",
     "text": [
      "                                                                                \r"
     ]
    },
    {
     "name": "stdout",
     "output_type": "stream",
     "text": [
      "root\n",
      " |-- patientid: string (nullable = true)\n",
      " |-- reactionmeddrapt: string (nullable = true)\n",
      " |-- reactionoutcome: string (nullable = true)\n",
      "\n"
     ]
    }
   ],
   "source": [
    "reaction = (\n",
    "    spark\n",
    "    .read\n",
    "    .parquet(bucket+'reaction/*/*')\n",
    ")\n",
    "\n",
    "reaction.printSchema()"
   ]
  },
  {
   "cell_type": "markdown",
   "id": "2df83e1d",
   "metadata": {},
   "source": [
    "### Perform Cast"
   ]
  },
  {
   "cell_type": "code",
   "execution_count": null,
   "id": "8f6d8bda",
   "metadata": {},
   "outputs": [
    {
     "name": "stdout",
     "output_type": "stream",
     "text": [
      "root\n",
      " |-- patientid: string (nullable = true)\n",
      " |-- reactionmeddrapt: string (nullable = true)\n",
      " |-- reactionoutcome: integer (nullable = true)\n",
      "\n"
     ]
    }
   ],
   "source": [
    "# Cast\n",
    "reaction = (\n",
    "    reaction\n",
    "    .withColumn(\"reactionoutcome\", F.col(\"reactionoutcome\").cast(t.IntegerType()))\n",
    ")\n",
    "reaction.printSchema()"
   ]
  }
 ],
 "metadata": {
  "kernelspec": {
   "display_name": "Python 3 (ipykernel)",
   "language": "python",
   "name": "python3"
  },
  "language_info": {
   "codemirror_mode": {
    "name": "ipython",
    "version": 3
   },
   "file_extension": ".py",
   "mimetype": "text/x-python",
   "name": "python",
   "nbconvert_exporter": "python",
   "pygments_lexer": "ipython3",
   "version": "3.12.3"
  }
 },
 "nbformat": 4,
 "nbformat_minor": 5
}
