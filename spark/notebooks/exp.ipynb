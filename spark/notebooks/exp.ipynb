{
 "cells": [
  {
   "cell_type": "code",
   "execution_count": 133,
   "id": "592fbdbb",
   "metadata": {},
   "outputs": [],
   "source": [
    "# spark.stop()"
   ]
  },
  {
   "cell_type": "code",
   "execution_count": 134,
   "id": "ee0abf56",
   "metadata": {},
   "outputs": [],
   "source": [
    "import os\n",
    "from pyspark.sql import SparkSession, types as t, functions as F"
   ]
  },
  {
   "cell_type": "code",
   "execution_count": 135,
   "id": "56be99cc",
   "metadata": {},
   "outputs": [
    {
     "data": {
      "text/html": [
       "\n",
       "            <div>\n",
       "                <p><b>SparkSession - in-memory</b></p>\n",
       "                \n",
       "        <div>\n",
       "            <p><b>SparkContext</b></p>\n",
       "\n",
       "            <p><a href=\"http://52cdd0ac16cd:4040\">Spark UI</a></p>\n",
       "\n",
       "            <dl>\n",
       "              <dt>Version</dt>\n",
       "                <dd><code>v3.3.1</code></dd>\n",
       "              <dt>Master</dt>\n",
       "                <dd><code>local[*]</code></dd>\n",
       "              <dt>AppName</dt>\n",
       "                <dd><code>Testing Transformations</code></dd>\n",
       "            </dl>\n",
       "        </div>\n",
       "        \n",
       "            </div>\n",
       "        "
      ],
      "text/plain": [
       "<pyspark.sql.session.SparkSession at 0x7f64c1d2a780>"
      ]
     },
     "execution_count": 135,
     "metadata": {},
     "output_type": "execute_result"
    }
   ],
   "source": [
    "spark = (\n",
    "    SparkSession\n",
    "    .builder\n",
    "    .appName(\"Testing Transformations\")\n",
    "    .config(\"spark.jars\", \"https://storage.googleapis.com/hadoop-lib/gcs/gcs-connector-hadoop3-latest.jar\") # GCS Connector\n",
    "    .getOrCreate()\n",
    ")\n",
    "\n",
    "# Google Cloud Service Account Credentials\n",
    "spark._jsc.hadoopConfiguration().set(\"google.cloud.auth.service.account.json.keyfile\",os.environ.get(\"GOOGLE_APPLICATION_CREDENTIALS\"))\n",
    "\n",
    "spark"
   ]
  },
  {
   "cell_type": "code",
   "execution_count": 136,
   "id": "ea544fd3",
   "metadata": {},
   "outputs": [],
   "source": [
    "patient_schema = t.StructType(\n",
    "    [\n",
    "        t.StructField('patientid',t.StringType(),True),\n",
    "        t.StructField('patientagegroup',t.IntegerType(),True),\n",
    "        t.StructField('patientonsetage',t.IntegerType(),True),\n",
    "        t.StructField('patientonsetageunit',t.IntegerType(),True),\n",
    "        t.StructField('patientsex',t.IntegerType(),True),\n",
    "        t.StructField('patientweight',t.FloatType(),True),\n",
    "        t.StructField('serious',t.IntegerType(),True),\n",
    "        t.StructField('seriousnessdeath',t.IntegerType(),True),\n",
    "        t.StructField('seriousnesshospitalization',t.StringType(),True),\n",
    "        t.StructField('seriousnessdisabling',t.StringType(),True),\n",
    "        t.StructField('seriousnesslifethreatening',t.StringType(),True),\n",
    "        t.StructField('seriousnessother',t.StringType(),True),\n",
    "        t.StructField('receivedate',t.StringType(),True),\n",
    "        t.StructField('receiptdate',t.StringType(),True),\n",
    "        t.StructField('safetyreportid',t.StringType(),True)\n",
    "    ]\n",
    ")\n",
    "\n",
    "\n",
    "drug_schema = t.StructType(\n",
    "    [\n",
    "        t.StructField('patientid',t.StringType(),True),\n",
    "        t.StructField('medicinalproduct',t.StringType(),True),\n",
    "        t.StructField('activesubstancename',t.StringType(),True),\n",
    "        t.StructField('drugadministrationroute',t.StringType(),True),\n",
    "        t.StructField('drugstartdate',t.StringType(),True),\n",
    "        t.StructField('drugenddate',t.StringType(),True),\n",
    "        t.StructField('drugdosagetext',t.StringType(),True),\n",
    "        t.StructField('drugstructuredosagenumb',t.StringType(),True),\n",
    "        t.StructField('drugstructuredosageunit',t.StringType(),True),\n",
    "        t.StructField('drugtreatmentduration',t.StringType(),True),\n",
    "        t.StructField('drugtreatmentdurationunit',t.StringType(),True),\n",
    "        t.StructField('drugrecurreadministration',t.IntegerType(),True),\n",
    "    ]\n",
    ")\n",
    "\n",
    "reaction_schema = t.StructType(\n",
    "    [\n",
    "        t.StructField('patientid',t.StringType(),True),\n",
    "        t.StructField('reactionmeddrapt',t.StringType(),True),\n",
    "        t.StructField('reactionoutcome',t.IntegerType(),True),\n",
    "    ]\n",
    ")"
   ]
  },
  {
   "cell_type": "code",
   "execution_count": 137,
   "id": "697ec698",
   "metadata": {},
   "outputs": [],
   "source": [
    "bucket='gs://zoomcamp-454219-ade-pipeline/data/pq/'"
   ]
  },
  {
   "cell_type": "code",
   "execution_count": 138,
   "id": "e68e331e",
   "metadata": {},
   "outputs": [
    {
     "name": "stdout",
     "output_type": "stream",
     "text": [
      "root\n",
      " |-- patientid: string (nullable = true)\n",
      " |-- patientagegroup: string (nullable = true)\n",
      " |-- patientonsetage: string (nullable = true)\n",
      " |-- patientonsetageunit: string (nullable = true)\n",
      " |-- patientsex: string (nullable = true)\n",
      " |-- patientweight: string (nullable = true)\n",
      " |-- serious: integer (nullable = true)\n",
      " |-- seriousnessdeath: integer (nullable = true)\n",
      " |-- seriousnesshospitalization: integer (nullable = true)\n",
      " |-- seriousnessdisabling: integer (nullable = true)\n",
      " |-- seriousnesslifethreatening: integer (nullable = true)\n",
      " |-- seriousnessother: integer (nullable = true)\n",
      " |-- receivedate: integer (nullable = true)\n",
      " |-- receiptdate: integer (nullable = true)\n",
      " |-- safetyreportid: integer (nullable = true)\n",
      "\n"
     ]
    }
   ],
   "source": [
    "patient = (\n",
    "    spark\n",
    "    .read\n",
    "    .parquet(bucket+'patient/*')\n",
    "    )\n",
    "patient.printSchema()"
   ]
  },
  {
   "cell_type": "markdown",
   "id": "f66c79e3",
   "metadata": {},
   "source": [
    "We can add data quality checks:  \n",
    "- `number of failed casts`  \n",
    "- `Data usability like null value count`  "
   ]
  },
  {
   "cell_type": "code",
   "execution_count": 139,
   "id": "8fe61ed3",
   "metadata": {},
   "outputs": [],
   "source": [
    "# Will work on failed casts later"
   ]
  },
  {
   "cell_type": "code",
   "execution_count": 140,
   "id": "d1480e21",
   "metadata": {},
   "outputs": [
    {
     "name": "stdout",
     "output_type": "stream",
     "text": [
      "root\n",
      " |-- patientid: string (nullable = true)\n",
      " |-- patientagegroup: integer (nullable = true)\n",
      " |-- patientonsetage: integer (nullable = true)\n",
      " |-- patientonsetageunit: integer (nullable = true)\n",
      " |-- patientsex: integer (nullable = true)\n",
      " |-- patientweight: float (nullable = true)\n",
      " |-- serious: integer (nullable = true)\n",
      " |-- seriousnessdeath: integer (nullable = true)\n",
      " |-- seriousnesshospitalization: integer (nullable = true)\n",
      " |-- seriousnessdisabling: integer (nullable = true)\n",
      " |-- seriousnesslifethreatening: integer (nullable = true)\n",
      " |-- seriousnessother: integer (nullable = true)\n",
      " |-- receivedate: integer (nullable = true)\n",
      " |-- receiptdate: integer (nullable = true)\n",
      " |-- safetyreportid: integer (nullable = true)\n",
      "\n"
     ]
    }
   ],
   "source": [
    "# Cast\n",
    "patient = (\n",
    "    patient\n",
    "    .withColumn(\"patientagegroup\", F.col('patientagegroup').cast(t.IntegerType()))\n",
    "    .withColumn(\"patientonsetage\", F.col('patientonsetage').cast(t.IntegerType()))\n",
    "    .withColumn(\"patientonsetageunit\", F.col('patientonsetageunit').cast(t.IntegerType()))\n",
    "    .withColumn(\"patientsex\", F.col('patientsex').cast(t.IntegerType()))\n",
    "    .withColumn(\"patientweight\", F.col('patientweight').cast(t.FloatType()))\n",
    "    )\n",
    "patient.printSchema()"
   ]
  },
  {
   "cell_type": "code",
   "execution_count": 141,
   "id": "ffa071bb",
   "metadata": {},
   "outputs": [
    {
     "name": "stdout",
     "output_type": "stream",
     "text": [
      "root\n",
      " |-- patientid: string (nullable = true)\n",
      " |-- medicinalproduct: string (nullable = true)\n",
      " |-- activesubstancename: string (nullable = true)\n",
      " |-- drugindication: string (nullable = true)\n",
      " |-- drugadministrationroute: string (nullable = true)\n",
      " |-- drugstartdate: string (nullable = true)\n",
      " |-- drugenddate: string (nullable = true)\n",
      " |-- drugdosagetext: string (nullable = true)\n",
      " |-- drugstructuredosagenumb: string (nullable = true)\n",
      " |-- drugstructuredosageunit: string (nullable = true)\n",
      " |-- drugtreatmentduration: string (nullable = true)\n",
      " |-- drugtreatmentdurationunit: string (nullable = true)\n",
      " |-- drugrecurreadministration: string (nullable = true)\n",
      "\n"
     ]
    }
   ],
   "source": [
    "drug = (\n",
    "    spark\n",
    "    .read\n",
    "    .parquet(bucket+'drug/*')\n",
    "    )\n",
    "\n",
    "drug.printSchema()"
   ]
  },
  {
   "cell_type": "code",
   "execution_count": 142,
   "id": "76a79ecf",
   "metadata": {},
   "outputs": [
    {
     "name": "stdout",
     "output_type": "stream",
     "text": [
      "root\n",
      " |-- patientid: string (nullable = true)\n",
      " |-- medicinalproduct: string (nullable = true)\n",
      " |-- activesubstancename: string (nullable = true)\n",
      " |-- drugindication: string (nullable = true)\n",
      " |-- drugadministrationroute: string (nullable = true)\n",
      " |-- drugstartdate: string (nullable = true)\n",
      " |-- drugenddate: string (nullable = true)\n",
      " |-- drugdosagetext: string (nullable = true)\n",
      " |-- drugstructuredosagenumb: string (nullable = true)\n",
      " |-- drugstructuredosageunit: string (nullable = true)\n",
      " |-- drugtreatmentduration: string (nullable = true)\n",
      " |-- drugtreatmentdurationunit: string (nullable = true)\n",
      " |-- drugrecurreadministration: integer (nullable = true)\n",
      "\n"
     ]
    }
   ],
   "source": [
    "# Cast\n",
    "drug = (\n",
    "    drug\n",
    "    .withColumn(\"drugrecurreadministration\", F.col(\"drugrecurreadministration\").cast(t.IntegerType()))\n",
    ")\n",
    "drug.printSchema()"
   ]
  },
  {
   "cell_type": "code",
   "execution_count": 143,
   "id": "247e9171",
   "metadata": {},
   "outputs": [
    {
     "name": "stdout",
     "output_type": "stream",
     "text": [
      "root\n",
      " |-- patientid: string (nullable = true)\n",
      " |-- reactionmeddrapt: string (nullable = true)\n",
      " |-- reactionoutcome: string (nullable = true)\n",
      "\n"
     ]
    }
   ],
   "source": [
    "reaction = (\n",
    "    spark\n",
    "    .read\n",
    "    .parquet(bucket+'reaction/*')\n",
    ")\n",
    "\n",
    "reaction.printSchema()"
   ]
  },
  {
   "cell_type": "code",
   "execution_count": 144,
   "id": "8f6d8bda",
   "metadata": {},
   "outputs": [
    {
     "name": "stdout",
     "output_type": "stream",
     "text": [
      "root\n",
      " |-- patientid: string (nullable = true)\n",
      " |-- reactionmeddrapt: string (nullable = true)\n",
      " |-- reactionoutcome: integer (nullable = true)\n",
      "\n"
     ]
    }
   ],
   "source": [
    "# Cast\n",
    "reaction = (\n",
    "    reaction\n",
    "    .withColumn(\"reactionoutcome\", F.col(\"reactionoutcome\").cast(t.IntegerType()))\n",
    ")\n",
    "reaction.printSchema()"
   ]
  },
  {
   "cell_type": "markdown",
   "id": "cd23a0d6",
   "metadata": {},
   "source": [
    "### Transformations"
   ]
  },
  {
   "cell_type": "code",
   "execution_count": null,
   "id": "29b45e43",
   "metadata": {},
   "outputs": [],
   "source": [
    "# Patient Column transformations\n",
    "\n",
    "patient = patient.withColumn(\n",
    "    \"patientagegroup\",\n",
    "    (\n",
    "        F\n",
    "        .when(F.col(\"patientagegroup\") == 1, \"Neonate\")\n",
    "        .when(F.col(\"patientagegroup\") == 2, \"Infant\")\n",
    "        .when(F.col(\"patientagegroup\") == 3, \"Child\")\n",
    "        .when(F.col(\"patientagegroup\") == 4, \"Adolescent\")\n",
    "        .when(F.col(\"patientagegroup\") == 5, \"Adult\")\n",
    "        .when(F.col(\"patientagegroup\") == 6, \"Elderly\")\n",
    "        .otherwise(None)\n",
    "     )\n",
    ")\n",
    "\n",
    "# Normalize patientage\n",
    "patient = patient.withColumn(\n",
    "    \"patientage\",\n",
    "    (\n",
    "        F\n",
    "        .when(F.col(\"patientonsetageunit\") == 800, F.col(\"patientonsetage\") * 10)\n",
    "        .when(F.col(\"patientonsetageunit\") == 801, F.col(\"patientonsetage\") * 1)\n",
    "        .when(F.col(\"patientonsetageunit\") == 802, F.col(\"patientonsetage\") / 12)\n",
    "        .when(F.col(\"patientonsetageunit\") == 803, F.col(\"patientonsetage\") / 52.143)\n",
    "        .when(F.col(\"patientonsetageunit\") == 804, F.col(\"patientonsetage\") / 365.25)\n",
    "        .when(F.col(\"patientonsetageunit\") == 805, F.col(\"patientonsetage\") / 8766)\n",
    "        .otherwise(None)\n",
    "    )\n",
    ").drop(\"patientonsetageunit\", \"patientonsetage\")\n",
    "\n"
   ]
  },
  {
   "cell_type": "code",
   "execution_count": null,
   "id": "951f228e",
   "metadata": {},
   "outputs": [],
   "source": []
  },
  {
   "cell_type": "code",
   "execution_count": null,
   "id": "4971ea65",
   "metadata": {},
   "outputs": [
    {
     "name": "stderr",
     "output_type": "stream",
     "text": [
      "[Stage 27:============================================>           (16 + 4) / 20]\r"
     ]
    },
    {
     "name": "stdout",
     "output_type": "stream",
     "text": [
      "+-------------------+-----+\n",
      "|         patientage|count|\n",
      "+-------------------+-----+\n",
      "| 62.704996577686515|    1|\n",
      "|  0.594518919126249|    6|\n",
      "|  52.42436687200548|    1|\n",
      "|              16.75|    3|\n",
      "|  47.75359342915811|    1|\n",
      "|  78.76522929500342|    1|\n",
      "|  68.80492813141684|    1|\n",
      "| 0.4166666666666667|  329|\n",
      "|              14.75|    2|\n",
      "|               70.0|20335|\n",
      "|  72.12594113620807|    1|\n",
      "|  54.98973305954826|    1|\n",
      "|  69.99863107460644|    1|\n",
      "|               67.0|18478|\n",
      "|                8.0| 2124|\n",
      "| 59.833333333333336|    6|\n",
      "|  64.88432580424367|    1|\n",
      "|0.19178029649233838|   16|\n",
      "| 63.553730321697465|    1|\n",
      "|               56.5|    5|\n",
      "+-------------------+-----+\n",
      "only showing top 20 rows\n",
      "\n"
     ]
    },
    {
     "name": "stderr",
     "output_type": "stream",
     "text": [
      "                                                                                \r"
     ]
    }
   ],
   "source": [
    "patient.groupBy('patientage').()"
   ]
  },
  {
   "cell_type": "code",
   "execution_count": 160,
   "id": "64bb5284",
   "metadata": {},
   "outputs": [
    {
     "name": "stderr",
     "output_type": "stream",
     "text": [
      "[Stage 24:=====================================================>  (19 + 1) / 20]\r"
     ]
    },
    {
     "name": "stdout",
     "output_type": "stream",
     "text": [
      "+--------------+\n",
      "|safetyreportid|\n",
      "+--------------+\n",
      "|          null|\n",
      "+--------------+\n",
      "\n"
     ]
    },
    {
     "name": "stderr",
     "output_type": "stream",
     "text": [
      "                                                                                \r"
     ]
    }
   ],
   "source": [
    "spark.sql(\n",
    "\"\"\"\n",
    "SELECT safetyreportid\n",
    "FROM patient\n",
    "GROUP BY safetyreportid\n",
    "\"\"\").show()"
   ]
  },
  {
   "cell_type": "code",
   "execution_count": null,
   "id": "0fd575d7",
   "metadata": {},
   "outputs": [
    {
     "name": "stderr",
     "output_type": "stream",
     "text": [
      "[Stage 33:=====================================================>  (19 + 1) / 20]\r"
     ]
    },
    {
     "name": "stdout",
     "output_type": "stream",
     "text": [
      "+----------+------+\n",
      "|patientage| count|\n",
      "+----------+------+\n",
      "|        31|  7316|\n",
      "|        85|  6666|\n",
      "|        65| 20134|\n",
      "|        53| 14620|\n",
      "|        78| 13706|\n",
      "|        34|  8380|\n",
      "|       101|    43|\n",
      "|        81| 10257|\n",
      "|        28|  7148|\n",
      "|        76| 15335|\n",
      "|        27|  6780|\n",
      "|        26|  6681|\n",
      "|        44| 10049|\n",
      "|       103|    24|\n",
      "|        12|  3954|\n",
      "|        91|  2250|\n",
      "|        22|  5961|\n",
      "|        93|  1394|\n",
      "|        47| 11099|\n",
      "|      null|705732|\n",
      "+----------+------+\n",
      "only showing top 20 rows\n",
      "\n"
     ]
    },
    {
     "name": "stderr",
     "output_type": "stream",
     "text": [
      "                                                                                \r"
     ]
    },
    {
     "name": "stdout",
     "output_type": "stream",
     "text": [
      "25/04/26 02:43:19 WARN JavaUtils: Attempt to delete using native Unix OS command failed for path = /tmp/blockmgr-9a92fc5f-cada-44e0-8913-dcec057c82e0. Falling back to Java IO way\n",
      "java.io.IOException: Failed to delete: /tmp/blockmgr-9a92fc5f-cada-44e0-8913-dcec057c82e0\n",
      "\tat org.apache.spark.network.util.JavaUtils.deleteRecursivelyUsingUnixNative(JavaUtils.java:171)\n",
      "\tat org.apache.spark.network.util.JavaUtils.deleteRecursively(JavaUtils.java:110)\n",
      "\tat org.apache.spark.network.util.JavaUtils.deleteRecursively(JavaUtils.java:91)\n",
      "\tat org.apache.spark.util.Utils$.deleteRecursively(Utils.scala:1206)\n",
      "\tat org.apache.spark.storage.DiskBlockManager.$anonfun$doStop$1(DiskBlockManager.scala:374)\n",
      "\tat org.apache.spark.storage.DiskBlockManager.$anonfun$doStop$1$adapted(DiskBlockManager.scala:370)\n",
      "\tat scala.collection.IndexedSeqOptimized.foreach(IndexedSeqOptimized.scala:36)\n",
      "\tat scala.collection.IndexedSeqOptimized.foreach$(IndexedSeqOptimized.scala:33)\n",
      "\tat scala.collection.mutable.ArrayOps$ofRef.foreach(ArrayOps.scala:198)\n",
      "\tat org.apache.spark.storage.DiskBlockManager.doStop(DiskBlockManager.scala:370)\n",
      "\tat org.apache.spark.storage.DiskBlockManager.stop(DiskBlockManager.scala:365)\n",
      "\tat org.apache.spark.storage.BlockManager.stop(BlockManager.scala:2026)\n",
      "\tat org.apache.spark.SparkEnv.stop(SparkEnv.scala:95)\n",
      "\tat org.apache.spark.SparkContext.$anonfun$stop$23(SparkContext.scala:2140)\n",
      "\tat org.apache.spark.util.Utils$.tryLogNonFatalError(Utils.scala:1484)\n",
      "\tat org.apache.spark.SparkContext.stop(SparkContext.scala:2140)\n",
      "\tat org.apache.spark.SparkContext.$anonfun$new$35(SparkContext.scala:660)\n",
      "\tat org.apache.spark.util.SparkShutdownHook.run(ShutdownHookManager.scala:214)\n",
      "\tat org.apache.spark.util.SparkShutdownHookManager.$anonfun$runAll$2(ShutdownHookManager.scala:188)\n",
      "\tat scala.runtime.java8.JFunction0$mcV$sp.apply(JFunction0$mcV$sp.java:23)\n",
      "\tat org.apache.spark.util.Utils$.logUncaughtExceptions(Utils.scala:2066)\n",
      "\tat org.apache.spark.util.SparkShutdownHookManager.$anonfun$runAll$1(ShutdownHookManager.scala:188)\n",
      "\tat scala.runtime.java8.JFunction0$mcV$sp.apply(JFunction0$mcV$sp.java:23)\n",
      "\tat scala.util.Try$.apply(Try.scala:213)\n",
      "\tat org.apache.spark.util.SparkShutdownHookManager.runAll(ShutdownHookManager.scala:188)\n",
      "\tat org.apache.spark.util.SparkShutdownHookManager$$anon$2.run(ShutdownHookManager.scala:178)\n",
      "\tat java.base/java.util.concurrent.Executors$RunnableAdapter.call(Unknown Source)\n",
      "\tat java.base/java.util.concurrent.FutureTask.run(Unknown Source)\n",
      "\tat java.base/java.util.concurrent.ThreadPoolExecutor.runWorker(Unknown Source)\n",
      "\tat java.base/java.util.concurrent.ThreadPoolExecutor$Worker.run(Unknown Source)\n",
      "\tat java.base/java.lang.Thread.run(Unknown Source)\n"
     ]
    }
   ],
   "source": [
    "patient.groupBy((F.round(F.col('patientage')).cast(t.IntegerType())).alias(\"patientage\")).count().show()"
   ]
  }
 ],
 "metadata": {
  "kernelspec": {
   "display_name": "Python 3 (ipykernel)",
   "language": "python",
   "name": "python3"
  },
  "language_info": {
   "codemirror_mode": {
    "name": "ipython",
    "version": 3
   },
   "file_extension": ".py",
   "mimetype": "text/x-python",
   "name": "python",
   "nbconvert_exporter": "python",
   "pygments_lexer": "ipython3",
   "version": "3.12.3"
  }
 },
 "nbformat": 4,
 "nbformat_minor": 5
}
